{
  "nbformat": 4,
  "nbformat_minor": 0,
  "metadata": {
    "colab": {
      "provenance": []
    },
    "kernelspec": {
      "name": "python3",
      "display_name": "Python 3"
    },
    "language_info": {
      "name": "python"
    }
  },
  "cells": [
    {
      "cell_type": "code",
      "execution_count": 96,
      "metadata": {
        "id": "daaE6ThEoq47"
      },
      "outputs": [],
      "source": [
        "import numpy as np\n",
        "import random\n",
        "from numpy.random import randn"
      ]
    },
    {
      "cell_type": "code",
      "source": [
        "# constants\n",
        "NUM_EPOCHS = 10000\n",
        "PRINT_EVERY = 100"
      ],
      "metadata": {
        "id": "EfBqQ5Vyo0XH"
      },
      "execution_count": 97,
      "outputs": []
    },
    {
      "cell_type": "markdown",
      "source": [
        "## Data"
      ],
      "metadata": {
        "id": "LWsuOxaZo7u4"
      }
    },
    {
      "cell_type": "code",
      "source": [
        "train_data = {\n",
        "  'good': True,\n",
        "  'bad': False,\n",
        "  'happy': True,\n",
        "  'sad': False,\n",
        "  'not good': False,\n",
        "  'not bad': True,\n",
        "  'not happy': False,\n",
        "  'not sad': True,\n",
        "  'very good': True,\n",
        "  'very bad': False,\n",
        "  'very happy': True,\n",
        "  'very sad': False,\n",
        "  'i am happy': True,\n",
        "  'this is good': True,\n",
        "  'i am bad': False,\n",
        "  'this is bad': False,\n",
        "  'i am sad': False,\n",
        "  'this is sad': False,\n",
        "  'i am not happy': False,\n",
        "  'this is not good': False,\n",
        "  'i am not bad': True,\n",
        "  'this is not sad': True,\n",
        "  'i am very happy': True,\n",
        "  'this is very good': True,\n",
        "  'i am very bad': False,\n",
        "  'this is very sad': False,\n",
        "  'this is very happy': True,\n",
        "  'i am good not bad': True,\n",
        "  'this is good not bad': True,\n",
        "  'i am bad not good': False,\n",
        "  'i am good and happy': True,\n",
        "  'this is not good and not happy': False,\n",
        "  'i am not at all good': False,\n",
        "  'i am not at all bad': True,\n",
        "  'i am not at all happy': False,\n",
        "  'this is not at all sad': True,\n",
        "  'this is not at all happy': False,\n",
        "  'i am good right now': True,\n",
        "  'i am bad right now': False,\n",
        "  'this is bad right now': False,\n",
        "  'i am sad right now': False,\n",
        "  'i was good earlier': True,\n",
        "  'i was happy earlier': True,\n",
        "  'i was bad earlier': False,\n",
        "  'i was sad earlier': False,\n",
        "  'i am very bad right now': False,\n",
        "  'this is very good right now': True,\n",
        "  'this is very sad right now': False,\n",
        "  'this was bad earlier': False,\n",
        "  'this was very good earlier': True,\n",
        "  'this was very bad earlier': False,\n",
        "  'this was very happy earlier': True,\n",
        "  'this was very sad earlier': False,\n",
        "  'i was good and not bad earlier': True,\n",
        "  'i was not good and not happy earlier': False,\n",
        "  'i am not at all bad or sad right now': True,\n",
        "  'i am not at all good or happy right now': False,\n",
        "  'this was not happy and not good earlier': False,\n",
        "}\n",
        "\n",
        "test_data = {\n",
        "  'this is happy': True,\n",
        "  'i am good': True,\n",
        "  'this is not happy': False,\n",
        "  'i am not good': False,\n",
        "  'this is not bad': True,\n",
        "  'i am not sad': True,\n",
        "  'i am very good': True,\n",
        "  'this is very bad': False,\n",
        "  'i am very sad': False,\n",
        "  'this is bad not good': False,\n",
        "  'this is good and happy': True,\n",
        "  'i am not good and not happy': False,\n",
        "  'i am not at all sad': True,\n",
        "  'this is not at all good': False,\n",
        "  'this is not at all bad': True,\n",
        "  'this is good right now': True,\n",
        "  'this is sad right now': False,\n",
        "  'this is very bad right now': False,\n",
        "  'this was good earlier': True,\n",
        "  'i was not happy and not good earlier': False,\n",
        "}"
      ],
      "metadata": {
        "id": "mk1W2v6do616"
      },
      "execution_count": 98,
      "outputs": []
    },
    {
      "cell_type": "code",
      "source": [
        "# Additional training data\n",
        "additional_train_data = {\n",
        "    'i love this': True,\n",
        "    'this is amazing': True,\n",
        "    'great job': True,\n",
        "    'fantastic': True,\n",
        "    'awesome': True,\n",
        "    'horrible': False,\n",
        "    'terrible': False,\n",
        "    'awful': False,\n",
        "    'not good': False,\n",
        "    'not happy': False,\n",
        "    'not great': False,\n",
        "    'not amazing': False,\n",
        "    'not terrible': True,\n",
        "    'not fantastic': True,\n",
        "    'not awesome': True,\n",
        "    'not horrible': True,\n",
        "}\n",
        "\n",
        "\n",
        "# Add the additional data to the existing data dictionaries\n",
        "train_data.update(additional_train_data)\n",
        "\n"
      ],
      "metadata": {
        "id": "Uk3Q2ch61WQg"
      },
      "execution_count": 99,
      "outputs": []
    },
    {
      "cell_type": "markdown",
      "source": [
        "# Define the RNN CLASS"
      ],
      "metadata": {
        "id": "uOYil4cipHYj"
      }
    },
    {
      "cell_type": "code",
      "source": [
        "class RNN:\n",
        "  # A many-to-one Vanilla Recurrent Neural Network.\n",
        "\n",
        "  def __init__(self, input_size, output_size, hidden_size=64):\n",
        "    # Weights\n",
        "    self.Whh = randn(hidden_size, hidden_size) / 1000\n",
        "    self.Wxh = randn(hidden_size, input_size) / 1000\n",
        "    self.Why = randn(output_size, hidden_size) / 1000\n",
        "\n",
        "    # Biases\n",
        "    self.bh = np.zeros((hidden_size, 1))\n",
        "    self.by = np.zeros((output_size, 1))\n",
        "\n",
        "  def forward(self, inputs):\n",
        "    '''\n",
        "    Perform a forward pass of the RNN using the given inputs.\n",
        "    Returns the final output and hidden state.\n",
        "    - inputs is an array of one hot vectors with shape (input_size, 1).\n",
        "    '''\n",
        "    h = np.zeros((self.Whh.shape[0], 1))\n",
        "\n",
        "    self.last_inputs = inputs\n",
        "    self.last_hs = { 0: h }\n",
        "\n",
        "    # Perform each step of the RNN\n",
        "    for i, x in enumerate(inputs):\n",
        "      h = np.tanh(self.Wxh @ x + self.Whh @ h + self.bh)\n",
        "      self.last_hs[i + 1] = h\n",
        "\n",
        "    # Compute the output\n",
        "    y = self.Why @ h + self.by\n",
        "\n",
        "    return y, h\n",
        "\n",
        "  def backprop(self, d_y, learn_rate=2e-2):\n",
        "    '''\n",
        "    Perform a backward pass of the RNN.\n",
        "    - d_y (dL/dy) has shape (output_size, 1).\n",
        "    - learn_rate is a float.\n",
        "    '''\n",
        "    n = len(self.last_inputs)\n",
        "\n",
        "    # Calculate dL/dWhy and dL/dby.\n",
        "    d_Why = d_y @ self.last_hs[n].T\n",
        "    d_by = d_y\n",
        "\n",
        "    # Initialize dL/dWhh, dL/dWxh, and dL/dbh to zero.\n",
        "    d_Whh = np.zeros(self.Whh.shape)\n",
        "    d_Wxh = np.zeros(self.Wxh.shape)\n",
        "    d_bh = np.zeros(self.bh.shape)\n",
        "\n",
        "    # Calculate dL/dh for the last h.\n",
        "    # dL/dh = dL/dy * dy/dh\n",
        "    d_h = self.Why.T @ d_y\n",
        "\n",
        "    # Backpropagate through time.\n",
        "    for t in reversed(range(n)):\n",
        "      # An intermediate value: dL/dh * (1 - h^2)\n",
        "      temp = ((1 - self.last_hs[t + 1] ** 2) * d_h)\n",
        "\n",
        "      # dL/db = dL/dh * (1 - h^2)\n",
        "      d_bh += temp\n",
        "\n",
        "      # dL/dWhh = dL/dh * (1 - h^2) * h_{t-1}\n",
        "      d_Whh += temp @ self.last_hs[t].T\n",
        "\n",
        "      # dL/dWxh = dL/dh * (1 - h^2) * x\n",
        "      d_Wxh += temp @ self.last_inputs[t].T\n",
        "\n",
        "      # Next dL/dh = dL/dh * (1 - h^2) * Whh\n",
        "      d_h = self.Whh @ temp\n",
        "\n",
        "    # Clip to prevent exploding gradients.\n",
        "    for d in [d_Wxh, d_Whh, d_Why, d_bh, d_by]:\n",
        "      np.clip(d, -1, 1, out=d)\n",
        "\n",
        "    # Update weights and biases using gradient descent.\n",
        "    self.Whh -= learn_rate * d_Whh\n",
        "    self.Wxh -= learn_rate * d_Wxh\n",
        "    self.Why -= learn_rate * d_Why\n",
        "    self.bh -= learn_rate * d_bh\n",
        "    self.by -= learn_rate * d_by"
      ],
      "metadata": {
        "id": "tSFA44_iqIRS"
      },
      "execution_count": 100,
      "outputs": []
    },
    {
      "cell_type": "code",
      "source": [
        "# creating the vocabulary\n",
        "vocab = list(set([w for text in train_data.keys() for w in text.split(' ')]))\n",
        "vocab_size = len(vocab)\n",
        "print('%d unique words found' % vocab_size)"
      ],
      "metadata": {
        "colab": {
          "base_uri": "https://localhost:8080/"
        },
        "id": "xI47bXlwo6Bu",
        "outputId": "635642a8-957c-4028-c3b1-13f7f08311b2"
      },
      "execution_count": 101,
      "outputs": [
        {
          "output_type": "stream",
          "name": "stdout",
          "text": [
            "27 unique words found\n"
          ]
        }
      ]
    },
    {
      "cell_type": "code",
      "source": [
        "# Assign indices to each word.\n",
        "word_to_idx = { w: i for i, w in enumerate(vocab) }\n",
        "idx_to_word = { i: w for i, w in enumerate(vocab) }\n",
        "print(word_to_idx['good'])\n",
        "print(idx_to_word[0])"
      ],
      "metadata": {
        "colab": {
          "base_uri": "https://localhost:8080/"
        },
        "id": "evkOb9bGyBIE",
        "outputId": "aca1bcbb-857f-43c8-8f66-5a34fcfb1fd8"
      },
      "execution_count": 102,
      "outputs": [
        {
          "output_type": "stream",
          "name": "stdout",
          "text": [
            "20\n",
            "or\n"
          ]
        }
      ]
    },
    {
      "cell_type": "code",
      "source": [
        "def createInputs(text):\n",
        "  '''\n",
        "  Returns an array of one-hot vectors representing the words in the input text string.\n",
        "  - text is a string\n",
        "  - Each one-hot vector has shape (vocab_size, 1)\n",
        "  '''\n",
        "  inputs = []\n",
        "  for w in text.split(' '):\n",
        "    v = np.zeros((vocab_size, 1))\n",
        "    v[word_to_idx[w]] = 1\n",
        "    inputs.append(v)\n",
        "  return inputs"
      ],
      "metadata": {
        "id": "MaPAocw8yDSm"
      },
      "execution_count": 103,
      "outputs": []
    },
    {
      "cell_type": "code",
      "source": [
        "def softmax(xs):\n",
        "  # Applies the Softmax Function to the input array.\n",
        "  return np.exp(xs) / sum(np.exp(xs))\n"
      ],
      "metadata": {
        "id": "m4AWFYT50L8A"
      },
      "execution_count": 104,
      "outputs": []
    },
    {
      "cell_type": "code",
      "source": [
        "# initialize RNN\n",
        "rnn = RNN(vocab_size, 2)\n"
      ],
      "metadata": {
        "id": "bKEXgg560Nr6"
      },
      "execution_count": 105,
      "outputs": []
    },
    {
      "cell_type": "code",
      "source": [
        "def processData(data, backprop=True):\n",
        "  '''\n",
        "  Returns the RNN's loss and accuracy for the given data.\n",
        "  - data is a dictionary mapping text to True or False.\n",
        "  - backprop determines if the backward phase should be run.\n",
        "  '''\n",
        "  items = list(data.items())\n",
        "  random.shuffle(items)\n",
        "\n",
        "  loss = 0\n",
        "  num_correct = 0\n",
        "\n",
        "  for x, y in items:\n",
        "    inputs = createInputs(x)\n",
        "    target = int(y)\n",
        "\n",
        "    # Forward\n",
        "    out, _ = rnn.forward(inputs)\n",
        "    probs = softmax(out)\n",
        "\n",
        "    # Calculate loss / accuracy\n",
        "    loss -= np.log(probs[target])\n",
        "    num_correct += int(np.argmax(probs) == target)\n",
        "\n",
        "    if backprop:\n",
        "      # Build dL/dy\n",
        "      d_L_d_y = probs\n",
        "      d_L_d_y[target] -= 1\n",
        "\n",
        "      # Backward\n",
        "      rnn.backprop(d_L_d_y)\n",
        "\n",
        "  return loss / len(data), num_correct / len(data)"
      ],
      "metadata": {
        "id": "8CsVhr_L0SNR"
      },
      "execution_count": 106,
      "outputs": []
    },
    {
      "cell_type": "code",
      "source": [
        "# Training loop\n",
        "for epoch in range(1000):\n",
        "  train_loss, train_acc = processData(train_data)\n",
        "\n",
        "  if epoch % 100 == 99:\n",
        "    print('--- Epoch %d' % (epoch + 1))\n",
        "    print('Train:\\tLoss %.3f | Accuracy: %.3f' % (train_loss, train_acc))\n",
        "\n",
        "    test_loss, test_acc = processData(test_data, backprop=False)\n",
        "    print('Test:\\tLoss %.3f | Accuracy: %.3f' % (test_loss, test_acc))"
      ],
      "metadata": {
        "colab": {
          "base_uri": "https://localhost:8080/"
        },
        "id": "aHiiqqv00WU0",
        "outputId": "6e7c8f54-705e-4c45-a2fa-1649070b4800"
      },
      "execution_count": 107,
      "outputs": [
        {
          "output_type": "stream",
          "name": "stdout",
          "text": [
            "--- Epoch 100\n",
            "Train:\tLoss 0.652 | Accuracy: 0.625\n",
            "Test:\tLoss 0.709 | Accuracy: 0.450\n",
            "--- Epoch 200\n",
            "Train:\tLoss 0.618 | Accuracy: 0.597\n",
            "Test:\tLoss 0.771 | Accuracy: 0.500\n",
            "--- Epoch 300\n",
            "Train:\tLoss 0.616 | Accuracy: 0.667\n",
            "Test:\tLoss 0.740 | Accuracy: 0.400\n",
            "--- Epoch 400\n",
            "Train:\tLoss 0.604 | Accuracy: 0.583\n",
            "Test:\tLoss 0.749 | Accuracy: 0.450\n",
            "--- Epoch 500\n",
            "Train:\tLoss 0.586 | Accuracy: 0.681\n",
            "Test:\tLoss 0.774 | Accuracy: 0.450\n",
            "--- Epoch 600\n",
            "Train:\tLoss 0.589 | Accuracy: 0.653\n",
            "Test:\tLoss 0.754 | Accuracy: 0.550\n",
            "--- Epoch 700\n",
            "Train:\tLoss 0.587 | Accuracy: 0.625\n",
            "Test:\tLoss 0.748 | Accuracy: 0.550\n",
            "--- Epoch 800\n",
            "Train:\tLoss 0.594 | Accuracy: 0.625\n",
            "Test:\tLoss 0.717 | Accuracy: 0.500\n",
            "--- Epoch 900\n",
            "Train:\tLoss 0.531 | Accuracy: 0.819\n",
            "Test:\tLoss 0.215 | Accuracy: 0.900\n",
            "--- Epoch 1000\n",
            "Train:\tLoss 0.329 | Accuracy: 0.847\n",
            "Test:\tLoss 0.404 | Accuracy: 0.750\n"
          ]
        }
      ]
    },
    {
      "cell_type": "code",
      "source": [],
      "metadata": {
        "id": "inivsWdY0YnB"
      },
      "execution_count": 107,
      "outputs": []
    }
  ]
}