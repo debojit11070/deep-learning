{
  "nbformat": 4,
  "nbformat_minor": 0,
  "metadata": {
    "colab": {
      "provenance": [],
      "mount_file_id": "1E1MvL6vuqj8MLx80wwGv5v2JpZMiKTw9",
      "authorship_tag": "ABX9TyPB6BG7quIx6365hePtcbiE",
      "include_colab_link": true
    },
    "kernelspec": {
      "name": "python3",
      "display_name": "Python 3"
    },
    "language_info": {
      "name": "python"
    }
  },
  "cells": [
    {
      "cell_type": "markdown",
      "metadata": {
        "id": "view-in-github",
        "colab_type": "text"
      },
      "source": [
        "<a href=\"https://colab.research.google.com/github/debojit11070/deep-learning/blob/main/brain_tumor_classification.ipynb\" target=\"_parent\"><img src=\"https://colab.research.google.com/assets/colab-badge.svg\" alt=\"Open In Colab\"/></a>"
      ]
    },
    {
      "cell_type": "markdown",
      "source": [
        "Here I am gonna use two methods.\n",
        "\n",
        "Firstly, I am gonna train only the images that has tumor and see the result.\n",
        "\n",
        "Then I am gonna combine all the images and train the model.\n"
      ],
      "metadata": {
        "id": "qv5InsjkX5VR"
      }
    },
    {
      "cell_type": "code",
      "source": [
        "import os\n",
        "import tensorflow as tf\n",
        "from tensorflow.keras import layers, models\n",
        "from tensorflow.keras.preprocessing.image import ImageDataGenerator"
      ],
      "metadata": {
        "id": "1qQuw2ENbPFN"
      },
      "execution_count": 11,
      "outputs": []
    },
    {
      "cell_type": "code",
      "source": [
        "data = '/content/drive/MyDrive/datasets/brain_tumor_dataset/yes'"
      ],
      "metadata": {
        "id": "d_8knU1bbp0B"
      },
      "execution_count": 13,
      "outputs": []
    },
    {
      "cell_type": "code",
      "source": [
        "image_names = os.listdir(data)\n",
        "print(image_names[:10])"
      ],
      "metadata": {
        "colab": {
          "base_uri": "https://localhost:8080/"
        },
        "id": "cB_-Pssmb51x",
        "outputId": "a8d0aecc-aaa6-41d8-8ffb-9a7453b1cec6"
      },
      "execution_count": 14,
      "outputs": [
        {
          "output_type": "stream",
          "name": "stdout",
          "text": [
            "['Y58.JPG', 'Y92.jpg', 'Y100.JPG', 'Y1.jpg', 'Y185.jpg', 'Y248.JPG', 'Y89.JPG', 'Y105.jpg', 'Y252.jpg', 'Y50.JPG']\n"
          ]
        }
      ]
    },
    {
      "cell_type": "code",
      "source": [
        "len(image_names)"
      ],
      "metadata": {
        "colab": {
          "base_uri": "https://localhost:8080/"
        },
        "id": "VJYqZghIb_xs",
        "outputId": "d34eb50d-ba23-4347-8b17-4f6a6448f0ce"
      },
      "execution_count": 15,
      "outputs": [
        {
          "output_type": "execute_result",
          "data": {
            "text/plain": [
              "155"
            ]
          },
          "metadata": {},
          "execution_count": 15
        }
      ]
    },
    {
      "cell_type": "code",
      "source": [
        "data = '/content/drive/MyDrive/datasets/brain_tumor_dataset'\n",
        "yes = data + '/yes'\n",
        "no = data + '/no'"
      ],
      "metadata": {
        "id": "fvrGcyHzbXSr"
      },
      "execution_count": 16,
      "outputs": []
    },
    {
      "cell_type": "code",
      "source": [
        "image_width, image_height = 128 ,128\n",
        "batch_size = 32"
      ],
      "metadata": {
        "id": "rguekzoncCbr"
      },
      "execution_count": 17,
      "outputs": []
    },
    {
      "cell_type": "code",
      "source": [
        "# Data augmentation and normalization for training and testing images\n",
        "datagen = ImageDataGenerator(\n",
        "    rescale=1.0/255.0,\n",
        "    rotation_range=20,\n",
        "    width_shift_range=0.2,\n",
        "    height_shift_range=0.2,\n",
        "    shear_range=0.2,\n",
        "    zoom_range=0.2,\n",
        "    horizontal_flip=True,\n",
        "    fill_mode='nearest',\n",
        "    validation_split=0.2  # Split the data into 80% training and 20% validation\n",
        ")"
      ],
      "metadata": {
        "id": "Q79UsANkcS-a"
      },
      "execution_count": 18,
      "outputs": []
    },
    {
      "cell_type": "code",
      "source": [
        "train_generator = datagen.flow_from_directory(\n",
        "    data,\n",
        "    target_size = (128,128),\n",
        "    batch_size = batch_size,\n",
        "    class_mode = 'binary',\n",
        "    classes = ['no', 'yes']\n",
        ")"
      ],
      "metadata": {
        "colab": {
          "base_uri": "https://localhost:8080/"
        },
        "id": "kl0Oi0XxcsL1",
        "outputId": "a66f8e18-7ca9-4fe7-c52e-c01354bf6086"
      },
      "execution_count": 20,
      "outputs": [
        {
          "output_type": "stream",
          "name": "stdout",
          "text": [
            "Found 253 images belonging to 2 classes.\n"
          ]
        }
      ]
    },
    {
      "cell_type": "markdown",
      "source": [
        "# model"
      ],
      "metadata": {
        "id": "3DX5O2jpdK_i"
      }
    },
    {
      "cell_type": "code",
      "source": [
        "model = models.Sequential()\n",
        "model.add(layers.Conv2D(32, (3, 3), activation='relu', input_shape=(image_width, image_height, 3)))\n",
        "model.add(layers.MaxPooling2D((2, 2)))\n",
        "model.add(layers.Conv2D(64, (3, 3), activation='relu'))\n",
        "model.add(layers.MaxPooling2D((2, 2)))\n",
        "model.add(layers.Conv2D(128, (3, 3), activation='relu'))\n",
        "model.add(layers.MaxPooling2D((2, 2)))\n",
        "model.add(layers.Flatten())\n",
        "model.add(layers.Dense(64, activation='relu'))\n",
        "model.add(layers.Dense(1, activation='sigmoid'))"
      ],
      "metadata": {
        "id": "UrmPi5ZKdJPr"
      },
      "execution_count": 21,
      "outputs": []
    },
    {
      "cell_type": "code",
      "source": [
        "model.compile(optimizer='adam',\n",
        "              loss='binary_crossentropy',\n",
        "              metrics=['accuracy'])"
      ],
      "metadata": {
        "id": "WztNqL9pc_o0"
      },
      "execution_count": 22,
      "outputs": []
    },
    {
      "cell_type": "code",
      "source": [
        "model.fit(train_generator, epochs = 100)"
      ],
      "metadata": {
        "colab": {
          "base_uri": "https://localhost:8080/"
        },
        "id": "AAF9yVqUdStS",
        "outputId": "4de9697c-e6cd-4316-c954-e6e5f0accfff"
      },
      "execution_count": 23,
      "outputs": [
        {
          "output_type": "stream",
          "name": "stdout",
          "text": [
            "Epoch 1/100\n",
            "8/8 [==============================] - 25s 3s/step - loss: 0.6600 - accuracy: 0.5810\n",
            "Epoch 2/100\n",
            "8/8 [==============================] - 11s 1s/step - loss: 0.6210 - accuracy: 0.6126\n",
            "Epoch 3/100\n",
            "8/8 [==============================] - 12s 1s/step - loss: 0.6116 - accuracy: 0.6877\n",
            "Epoch 4/100\n",
            "8/8 [==============================] - 12s 1s/step - loss: 0.5818 - accuracy: 0.7115\n",
            "Epoch 5/100\n",
            "8/8 [==============================] - 11s 1s/step - loss: 0.5723 - accuracy: 0.7352\n",
            "Epoch 6/100\n",
            "8/8 [==============================] - 11s 1s/step - loss: 0.6145 - accuracy: 0.6759\n",
            "Epoch 7/100\n",
            "8/8 [==============================] - 11s 1s/step - loss: 0.5732 - accuracy: 0.7194\n",
            "Epoch 8/100\n",
            "8/8 [==============================] - 11s 1s/step - loss: 0.5497 - accuracy: 0.7352\n",
            "Epoch 9/100\n",
            "8/8 [==============================] - 11s 1s/step - loss: 0.5588 - accuracy: 0.7312\n",
            "Epoch 10/100\n",
            "8/8 [==============================] - 11s 1s/step - loss: 0.5905 - accuracy: 0.7352\n",
            "Epoch 11/100\n",
            "8/8 [==============================] - 10s 1s/step - loss: 0.5751 - accuracy: 0.7431\n",
            "Epoch 12/100\n",
            "8/8 [==============================] - 10s 1s/step - loss: 0.5308 - accuracy: 0.7431\n",
            "Epoch 13/100\n",
            "8/8 [==============================] - 11s 1s/step - loss: 0.5613 - accuracy: 0.7470\n",
            "Epoch 14/100\n",
            "8/8 [==============================] - 9s 1s/step - loss: 0.5404 - accuracy: 0.7352\n",
            "Epoch 15/100\n",
            "8/8 [==============================] - 11s 1s/step - loss: 0.5286 - accuracy: 0.7312\n",
            "Epoch 16/100\n",
            "8/8 [==============================] - 12s 1s/step - loss: 0.5281 - accuracy: 0.7431\n",
            "Epoch 17/100\n",
            "8/8 [==============================] - 11s 1s/step - loss: 0.5088 - accuracy: 0.7470\n",
            "Epoch 18/100\n",
            "8/8 [==============================] - 11s 1s/step - loss: 0.5168 - accuracy: 0.7628\n",
            "Epoch 19/100\n",
            "8/8 [==============================] - 11s 1s/step - loss: 0.5172 - accuracy: 0.7628\n",
            "Epoch 20/100\n",
            "8/8 [==============================] - 10s 1s/step - loss: 0.5034 - accuracy: 0.7589\n",
            "Epoch 21/100\n",
            "8/8 [==============================] - 12s 1s/step - loss: 0.4858 - accuracy: 0.7668\n",
            "Epoch 22/100\n",
            "8/8 [==============================] - 9s 1s/step - loss: 0.5473 - accuracy: 0.7668\n",
            "Epoch 23/100\n",
            "8/8 [==============================] - 10s 1s/step - loss: 0.5566 - accuracy: 0.7194\n",
            "Epoch 24/100\n",
            "8/8 [==============================] - 11s 1s/step - loss: 0.5314 - accuracy: 0.7668\n",
            "Epoch 25/100\n",
            "8/8 [==============================] - 11s 1s/step - loss: 0.5178 - accuracy: 0.7905\n",
            "Epoch 26/100\n",
            "8/8 [==============================] - 11s 1s/step - loss: 0.5224 - accuracy: 0.7470\n",
            "Epoch 27/100\n",
            "8/8 [==============================] - 12s 1s/step - loss: 0.5166 - accuracy: 0.7905\n",
            "Epoch 28/100\n",
            "8/8 [==============================] - 12s 1s/step - loss: 0.5011 - accuracy: 0.7708\n",
            "Epoch 29/100\n",
            "8/8 [==============================] - 10s 1s/step - loss: 0.4762 - accuracy: 0.7826\n",
            "Epoch 30/100\n",
            "8/8 [==============================] - 11s 1s/step - loss: 0.4945 - accuracy: 0.7628\n",
            "Epoch 31/100\n",
            "8/8 [==============================] - 10s 1s/step - loss: 0.4889 - accuracy: 0.7510\n",
            "Epoch 32/100\n",
            "8/8 [==============================] - 11s 1s/step - loss: 0.4519 - accuracy: 0.7708\n",
            "Epoch 33/100\n",
            "8/8 [==============================] - 11s 1s/step - loss: 0.5107 - accuracy: 0.7470\n",
            "Epoch 34/100\n",
            "8/8 [==============================] - 12s 1s/step - loss: 0.4921 - accuracy: 0.7628\n",
            "Epoch 35/100\n",
            "8/8 [==============================] - 11s 1s/step - loss: 0.4799 - accuracy: 0.7866\n",
            "Epoch 36/100\n",
            "8/8 [==============================] - 11s 1s/step - loss: 0.4967 - accuracy: 0.7312\n",
            "Epoch 37/100\n",
            "8/8 [==============================] - 11s 1s/step - loss: 0.5078 - accuracy: 0.7668\n",
            "Epoch 38/100\n",
            "8/8 [==============================] - 11s 1s/step - loss: 0.4825 - accuracy: 0.7747\n",
            "Epoch 39/100\n",
            "8/8 [==============================] - 15s 2s/step - loss: 0.4768 - accuracy: 0.7905\n",
            "Epoch 40/100\n",
            "8/8 [==============================] - 10s 1s/step - loss: 0.4889 - accuracy: 0.7787\n",
            "Epoch 41/100\n",
            "8/8 [==============================] - 12s 1s/step - loss: 0.4756 - accuracy: 0.7787\n",
            "Epoch 42/100\n",
            "8/8 [==============================] - 11s 1s/step - loss: 0.5173 - accuracy: 0.7273\n",
            "Epoch 43/100\n",
            "8/8 [==============================] - 11s 1s/step - loss: 0.4810 - accuracy: 0.7668\n",
            "Epoch 44/100\n",
            "8/8 [==============================] - 11s 1s/step - loss: 0.4726 - accuracy: 0.7747\n",
            "Epoch 45/100\n",
            "8/8 [==============================] - 11s 1s/step - loss: 0.4594 - accuracy: 0.7905\n",
            "Epoch 46/100\n",
            "8/8 [==============================] - 11s 1s/step - loss: 0.4810 - accuracy: 0.7708\n",
            "Epoch 47/100\n",
            "8/8 [==============================] - 11s 1s/step - loss: 0.4789 - accuracy: 0.7747\n",
            "Epoch 48/100\n",
            "8/8 [==============================] - 10s 1s/step - loss: 0.4437 - accuracy: 0.8103\n",
            "Epoch 49/100\n",
            "8/8 [==============================] - 11s 1s/step - loss: 0.4371 - accuracy: 0.7905\n",
            "Epoch 50/100\n",
            "8/8 [==============================] - 12s 1s/step - loss: 0.4941 - accuracy: 0.7549\n",
            "Epoch 51/100\n",
            "8/8 [==============================] - 11s 1s/step - loss: 0.5010 - accuracy: 0.7589\n",
            "Epoch 52/100\n",
            "8/8 [==============================] - 11s 1s/step - loss: 0.4742 - accuracy: 0.7905\n",
            "Epoch 53/100\n",
            "8/8 [==============================] - 9s 1s/step - loss: 0.4461 - accuracy: 0.8103\n",
            "Epoch 54/100\n",
            "8/8 [==============================] - 11s 1s/step - loss: 0.4717 - accuracy: 0.7549\n",
            "Epoch 55/100\n",
            "8/8 [==============================] - 11s 1s/step - loss: 0.4511 - accuracy: 0.8142\n",
            "Epoch 56/100\n",
            "8/8 [==============================] - 10s 1s/step - loss: 0.4389 - accuracy: 0.7826\n",
            "Epoch 57/100\n",
            "8/8 [==============================] - 11s 1s/step - loss: 0.4328 - accuracy: 0.8103\n",
            "Epoch 58/100\n",
            "8/8 [==============================] - 10s 1s/step - loss: 0.4405 - accuracy: 0.8182\n",
            "Epoch 59/100\n",
            "8/8 [==============================] - 11s 1s/step - loss: 0.4447 - accuracy: 0.7905\n",
            "Epoch 60/100\n",
            "8/8 [==============================] - 13s 2s/step - loss: 0.4552 - accuracy: 0.7589\n",
            "Epoch 61/100\n",
            "8/8 [==============================] - 12s 1s/step - loss: 0.4543 - accuracy: 0.7905\n",
            "Epoch 62/100\n",
            "8/8 [==============================] - 11s 1s/step - loss: 0.4405 - accuracy: 0.8221\n",
            "Epoch 63/100\n",
            "8/8 [==============================] - 10s 1s/step - loss: 0.4267 - accuracy: 0.7984\n",
            "Epoch 64/100\n",
            "8/8 [==============================] - 12s 1s/step - loss: 0.4310 - accuracy: 0.7945\n",
            "Epoch 65/100\n",
            "8/8 [==============================] - 10s 1s/step - loss: 0.3925 - accuracy: 0.8261\n",
            "Epoch 66/100\n",
            "8/8 [==============================] - 12s 1s/step - loss: 0.4409 - accuracy: 0.7984\n",
            "Epoch 67/100\n",
            "8/8 [==============================] - 9s 1s/step - loss: 0.4037 - accuracy: 0.8142\n",
            "Epoch 68/100\n",
            "8/8 [==============================] - 11s 1s/step - loss: 0.4153 - accuracy: 0.7945\n",
            "Epoch 69/100\n",
            "8/8 [==============================] - 11s 1s/step - loss: 0.4085 - accuracy: 0.7984\n",
            "Epoch 70/100\n",
            "8/8 [==============================] - 11s 1s/step - loss: 0.4401 - accuracy: 0.7984\n",
            "Epoch 71/100\n",
            "8/8 [==============================] - 11s 1s/step - loss: 0.4689 - accuracy: 0.7866\n",
            "Epoch 72/100\n",
            "8/8 [==============================] - 10s 1s/step - loss: 0.4106 - accuracy: 0.8142\n",
            "Epoch 73/100\n",
            "8/8 [==============================] - 11s 1s/step - loss: 0.4093 - accuracy: 0.8103\n",
            "Epoch 74/100\n",
            "8/8 [==============================] - 11s 1s/step - loss: 0.4050 - accuracy: 0.8142\n",
            "Epoch 75/100\n",
            "8/8 [==============================] - 11s 1s/step - loss: 0.4013 - accuracy: 0.8261\n",
            "Epoch 76/100\n",
            "8/8 [==============================] - 12s 1s/step - loss: 0.3994 - accuracy: 0.8142\n",
            "Epoch 77/100\n",
            "8/8 [==============================] - 11s 1s/step - loss: 0.4160 - accuracy: 0.8103\n",
            "Epoch 78/100\n",
            "8/8 [==============================] - 11s 1s/step - loss: 0.3685 - accuracy: 0.8300\n",
            "Epoch 79/100\n",
            "8/8 [==============================] - 9s 1s/step - loss: 0.3372 - accuracy: 0.8538\n",
            "Epoch 80/100\n",
            "8/8 [==============================] - 11s 1s/step - loss: 0.3886 - accuracy: 0.8182\n",
            "Epoch 81/100\n",
            "8/8 [==============================] - 10s 1s/step - loss: 0.3421 - accuracy: 0.8419\n",
            "Epoch 82/100\n",
            "8/8 [==============================] - 11s 1s/step - loss: 0.3571 - accuracy: 0.8182\n",
            "Epoch 83/100\n",
            "8/8 [==============================] - 12s 1s/step - loss: 0.3881 - accuracy: 0.8340\n",
            "Epoch 84/100\n",
            "8/8 [==============================] - 12s 1s/step - loss: 0.3262 - accuracy: 0.8458\n",
            "Epoch 85/100\n",
            "8/8 [==============================] - 9s 1s/step - loss: 0.3452 - accuracy: 0.8538\n",
            "Epoch 86/100\n",
            "8/8 [==============================] - 11s 1s/step - loss: 0.3685 - accuracy: 0.8142\n",
            "Epoch 87/100\n",
            "8/8 [==============================] - 11s 1s/step - loss: 0.3749 - accuracy: 0.8300\n",
            "Epoch 88/100\n",
            "8/8 [==============================] - 9s 1s/step - loss: 0.3548 - accuracy: 0.8063\n",
            "Epoch 89/100\n",
            "8/8 [==============================] - 11s 1s/step - loss: 0.3884 - accuracy: 0.8261\n",
            "Epoch 90/100\n",
            "8/8 [==============================] - 10s 1s/step - loss: 0.4406 - accuracy: 0.8103\n",
            "Epoch 91/100\n",
            "8/8 [==============================] - 10s 1s/step - loss: 0.4254 - accuracy: 0.7866\n",
            "Epoch 92/100\n",
            "8/8 [==============================] - 12s 1s/step - loss: 0.3495 - accuracy: 0.8617\n",
            "Epoch 93/100\n",
            "8/8 [==============================] - 11s 1s/step - loss: 0.3616 - accuracy: 0.8458\n",
            "Epoch 94/100\n",
            "8/8 [==============================] - 9s 1s/step - loss: 0.3256 - accuracy: 0.8577\n",
            "Epoch 95/100\n",
            "8/8 [==============================] - 11s 1s/step - loss: 0.3194 - accuracy: 0.8379\n",
            "Epoch 96/100\n",
            "8/8 [==============================] - 11s 1s/step - loss: 0.2992 - accuracy: 0.8775\n",
            "Epoch 97/100\n",
            "8/8 [==============================] - 11s 1s/step - loss: 0.3468 - accuracy: 0.8458\n",
            "Epoch 98/100\n",
            "8/8 [==============================] - 11s 1s/step - loss: 0.3115 - accuracy: 0.8498\n",
            "Epoch 99/100\n",
            "8/8 [==============================] - 12s 1s/step - loss: 0.3506 - accuracy: 0.8617\n",
            "Epoch 100/100\n",
            "8/8 [==============================] - 10s 1s/step - loss: 0.4383 - accuracy: 0.8103\n"
          ]
        },
        {
          "output_type": "execute_result",
          "data": {
            "text/plain": [
              "<keras.callbacks.History at 0x7823a0bb74c0>"
            ]
          },
          "metadata": {},
          "execution_count": 23
        }
      ]
    },
    {
      "cell_type": "markdown",
      "source": [
        "Now we will use two subsets training and validation"
      ],
      "metadata": {
        "id": "R5mqiyngg51f"
      }
    },
    {
      "cell_type": "code",
      "source": [
        "train_datagen = ImageDataGenerator(rescale=1./255, validation_split=0.2)"
      ],
      "metadata": {
        "id": "pBMvlfV7dXJw"
      },
      "execution_count": 24,
      "outputs": []
    },
    {
      "cell_type": "code",
      "source": [
        "train_generator = train_datagen.flow_from_directory(\n",
        "    data,\n",
        "    target_size=(image_width, image_height),\n",
        "    batch_size=batch_size,\n",
        "    class_mode='binary',\n",
        "    classes=['no', 'yes'],\n",
        "    subset='training'\n",
        ")"
      ],
      "metadata": {
        "colab": {
          "base_uri": "https://localhost:8080/"
        },
        "id": "Q8SgLbt3hEXN",
        "outputId": "43bf46fb-4dd9-4d91-ba63-25589fa395db"
      },
      "execution_count": 25,
      "outputs": [
        {
          "output_type": "stream",
          "name": "stdout",
          "text": [
            "Found 203 images belonging to 2 classes.\n"
          ]
        }
      ]
    },
    {
      "cell_type": "code",
      "source": [
        "validation_generator = train_datagen.flow_from_directory(\n",
        "    data,\n",
        "    target_size=(image_width, image_height),\n",
        "    batch_size=batch_size,\n",
        "    class_mode='binary',\n",
        "    classes=['no', 'yes'],\n",
        "    subset='validation'\n",
        ")"
      ],
      "metadata": {
        "colab": {
          "base_uri": "https://localhost:8080/"
        },
        "id": "xpOFXKsLhI90",
        "outputId": "297fbee1-986f-4f88-ccce-ec35a6e6d24f"
      },
      "execution_count": 26,
      "outputs": [
        {
          "output_type": "stream",
          "name": "stdout",
          "text": [
            "Found 50 images belonging to 2 classes.\n"
          ]
        }
      ]
    },
    {
      "cell_type": "code",
      "source": [
        "model = models.Sequential()\n",
        "model.add(layers.Conv2D(32, (3, 3), activation='relu', input_shape=(image_width, image_height, 3)))\n",
        "model.add(layers.MaxPooling2D((2, 2)))\n",
        "model.add(layers.Conv2D(64, (3, 3), activation='relu'))\n",
        "model.add(layers.MaxPooling2D((2, 2)))\n",
        "model.add(layers.Conv2D(128, (3, 3), activation='relu'))\n",
        "model.add(layers.MaxPooling2D((2, 2)))\n",
        "model.add(layers.Flatten())\n",
        "model.add(layers.Dense(64, activation='relu'))\n",
        "model.add(layers.Dropout(0.5))\n",
        "model.add(layers.Dense(1, activation='sigmoid'))"
      ],
      "metadata": {
        "id": "ZX1fM3rYhMLR"
      },
      "execution_count": 27,
      "outputs": []
    },
    {
      "cell_type": "code",
      "source": [
        "model.compile(optimizer='adam',\n",
        "              loss='binary_crossentropy',\n",
        "              metrics=['accuracy'])"
      ],
      "metadata": {
        "id": "jinZ7DX4hQB1"
      },
      "execution_count": 30,
      "outputs": []
    },
    {
      "cell_type": "code",
      "source": [
        "history = model.fit(train_generator, epochs=100, validation_data=validation_generator)"
      ],
      "metadata": {
        "colab": {
          "base_uri": "https://localhost:8080/"
        },
        "id": "erY0x8RPhSuJ",
        "outputId": "ceff48a6-47d7-4bcf-ac38-cb9dc6cde565"
      },
      "execution_count": 31,
      "outputs": [
        {
          "output_type": "stream",
          "name": "stdout",
          "text": [
            "Epoch 1/100\n",
            "7/7 [==============================] - 9s 1s/step - loss: 0.5435 - accuracy: 0.7488 - val_loss: 0.6129 - val_accuracy: 0.7200\n",
            "Epoch 2/100\n",
            "7/7 [==============================] - 7s 1s/step - loss: 0.5662 - accuracy: 0.7833 - val_loss: 0.5366 - val_accuracy: 0.7400\n",
            "Epoch 3/100\n",
            "7/7 [==============================] - 10s 1s/step - loss: 0.4692 - accuracy: 0.7833 - val_loss: 0.5981 - val_accuracy: 0.7400\n",
            "Epoch 4/100\n",
            "7/7 [==============================] - 13s 2s/step - loss: 0.4513 - accuracy: 0.8325 - val_loss: 0.5363 - val_accuracy: 0.7600\n",
            "Epoch 5/100\n",
            "7/7 [==============================] - 11s 1s/step - loss: 0.4196 - accuracy: 0.8473 - val_loss: 0.5701 - val_accuracy: 0.7400\n",
            "Epoch 6/100\n",
            "7/7 [==============================] - 10s 1s/step - loss: 0.3925 - accuracy: 0.8325 - val_loss: 0.5492 - val_accuracy: 0.7400\n",
            "Epoch 7/100\n",
            "7/7 [==============================] - 9s 1s/step - loss: 0.3812 - accuracy: 0.8621 - val_loss: 0.5442 - val_accuracy: 0.7800\n",
            "Epoch 8/100\n",
            "7/7 [==============================] - 8s 1s/step - loss: 0.3410 - accuracy: 0.8571 - val_loss: 0.4884 - val_accuracy: 0.7200\n",
            "Epoch 9/100\n",
            "7/7 [==============================] - 10s 1s/step - loss: 0.2778 - accuracy: 0.8621 - val_loss: 0.5117 - val_accuracy: 0.7800\n",
            "Epoch 10/100\n",
            "7/7 [==============================] - 8s 1s/step - loss: 0.2436 - accuracy: 0.8867 - val_loss: 0.4257 - val_accuracy: 0.8000\n",
            "Epoch 11/100\n",
            "7/7 [==============================] - 9s 1s/step - loss: 0.2292 - accuracy: 0.9064 - val_loss: 0.5425 - val_accuracy: 0.8000\n",
            "Epoch 12/100\n",
            "7/7 [==============================] - 9s 1s/step - loss: 0.2072 - accuracy: 0.9113 - val_loss: 0.5203 - val_accuracy: 0.7800\n",
            "Epoch 13/100\n",
            "7/7 [==============================] - 8s 1s/step - loss: 0.2021 - accuracy: 0.9212 - val_loss: 0.4537 - val_accuracy: 0.8200\n",
            "Epoch 14/100\n",
            "7/7 [==============================] - 8s 1s/step - loss: 0.1338 - accuracy: 0.9507 - val_loss: 0.5189 - val_accuracy: 0.8000\n",
            "Epoch 15/100\n",
            "7/7 [==============================] - 10s 1s/step - loss: 0.1315 - accuracy: 0.9458 - val_loss: 0.8059 - val_accuracy: 0.7800\n",
            "Epoch 16/100\n",
            "7/7 [==============================] - 9s 1s/step - loss: 0.1375 - accuracy: 0.9606 - val_loss: 0.4480 - val_accuracy: 0.8000\n",
            "Epoch 17/100\n",
            "7/7 [==============================] - 8s 1s/step - loss: 0.0962 - accuracy: 0.9803 - val_loss: 0.5696 - val_accuracy: 0.8200\n",
            "Epoch 18/100\n",
            "7/7 [==============================] - 10s 1s/step - loss: 0.0772 - accuracy: 0.9704 - val_loss: 0.4998 - val_accuracy: 0.8600\n",
            "Epoch 19/100\n",
            "7/7 [==============================] - 7s 1s/step - loss: 0.0588 - accuracy: 0.9803 - val_loss: 0.5878 - val_accuracy: 0.8200\n",
            "Epoch 20/100\n",
            "7/7 [==============================] - 8s 1s/step - loss: 0.0297 - accuracy: 0.9951 - val_loss: 0.7193 - val_accuracy: 0.8800\n",
            "Epoch 21/100\n",
            "7/7 [==============================] - 10s 1s/step - loss: 0.0375 - accuracy: 0.9852 - val_loss: 0.7373 - val_accuracy: 0.8400\n",
            "Epoch 22/100\n",
            "7/7 [==============================] - 9s 1s/step - loss: 0.0358 - accuracy: 0.9951 - val_loss: 0.8647 - val_accuracy: 0.8200\n",
            "Epoch 23/100\n",
            "7/7 [==============================] - 8s 1s/step - loss: 0.1229 - accuracy: 0.9360 - val_loss: 0.4632 - val_accuracy: 0.8400\n",
            "Epoch 24/100\n",
            "7/7 [==============================] - 10s 1s/step - loss: 0.0987 - accuracy: 0.9754 - val_loss: 0.4636 - val_accuracy: 0.8200\n",
            "Epoch 25/100\n",
            "7/7 [==============================] - 7s 1s/step - loss: 0.0689 - accuracy: 0.9852 - val_loss: 0.6757 - val_accuracy: 0.8000\n",
            "Epoch 26/100\n",
            "7/7 [==============================] - 8s 1s/step - loss: 0.0377 - accuracy: 0.9901 - val_loss: 0.6537 - val_accuracy: 0.8200\n",
            "Epoch 27/100\n",
            "7/7 [==============================] - 10s 1s/step - loss: 0.0584 - accuracy: 0.9803 - val_loss: 0.7459 - val_accuracy: 0.8000\n",
            "Epoch 28/100\n",
            "7/7 [==============================] - 7s 1s/step - loss: 0.0587 - accuracy: 0.9803 - val_loss: 0.6853 - val_accuracy: 0.8200\n",
            "Epoch 29/100\n",
            "7/7 [==============================] - 10s 1s/step - loss: 0.0315 - accuracy: 0.9951 - val_loss: 0.7041 - val_accuracy: 0.8200\n",
            "Epoch 30/100\n",
            "7/7 [==============================] - 10s 1s/step - loss: 0.0323 - accuracy: 0.9951 - val_loss: 0.6921 - val_accuracy: 0.8600\n",
            "Epoch 31/100\n",
            "7/7 [==============================] - 7s 1s/step - loss: 0.0194 - accuracy: 0.9951 - val_loss: 0.6872 - val_accuracy: 0.8400\n",
            "Epoch 32/100\n",
            "7/7 [==============================] - 9s 1s/step - loss: 0.0160 - accuracy: 0.9951 - val_loss: 0.7285 - val_accuracy: 0.8400\n",
            "Epoch 33/100\n",
            "7/7 [==============================] - 10s 1s/step - loss: 0.0094 - accuracy: 1.0000 - val_loss: 0.7495 - val_accuracy: 0.8200\n",
            "Epoch 34/100\n",
            "7/7 [==============================] - 7s 1s/step - loss: 0.0238 - accuracy: 0.9951 - val_loss: 0.7601 - val_accuracy: 0.8600\n",
            "Epoch 35/100\n",
            "7/7 [==============================] - 9s 1s/step - loss: 0.0199 - accuracy: 0.9901 - val_loss: 0.8384 - val_accuracy: 0.8000\n",
            "Epoch 36/100\n",
            "7/7 [==============================] - 10s 2s/step - loss: 0.0214 - accuracy: 0.9901 - val_loss: 0.7351 - val_accuracy: 0.8600\n",
            "Epoch 37/100\n",
            "7/7 [==============================] - 7s 1s/step - loss: 0.0179 - accuracy: 1.0000 - val_loss: 0.7871 - val_accuracy: 0.8200\n",
            "Epoch 38/100\n",
            "7/7 [==============================] - 8s 1s/step - loss: 0.0250 - accuracy: 0.9901 - val_loss: 0.8867 - val_accuracy: 0.8000\n",
            "Epoch 39/100\n",
            "7/7 [==============================] - 10s 1s/step - loss: 0.0203 - accuracy: 0.9951 - val_loss: 0.8205 - val_accuracy: 0.8400\n",
            "Epoch 40/100\n",
            "7/7 [==============================] - 9s 1s/step - loss: 0.0151 - accuracy: 1.0000 - val_loss: 0.7294 - val_accuracy: 0.8400\n",
            "Epoch 41/100\n",
            "7/7 [==============================] - 8s 1s/step - loss: 0.0156 - accuracy: 0.9951 - val_loss: 0.8047 - val_accuracy: 0.8200\n",
            "Epoch 42/100\n",
            "7/7 [==============================] - 10s 1s/step - loss: 0.0137 - accuracy: 0.9951 - val_loss: 0.8639 - val_accuracy: 0.8400\n",
            "Epoch 43/100\n",
            "7/7 [==============================] - 7s 1s/step - loss: 0.0076 - accuracy: 1.0000 - val_loss: 0.8881 - val_accuracy: 0.8400\n",
            "Epoch 44/100\n",
            "7/7 [==============================] - 10s 1s/step - loss: 0.0220 - accuracy: 0.9951 - val_loss: 0.9185 - val_accuracy: 0.8400\n",
            "Epoch 45/100\n",
            "7/7 [==============================] - 9s 1s/step - loss: 0.0037 - accuracy: 1.0000 - val_loss: 0.9731 - val_accuracy: 0.8400\n",
            "Epoch 46/100\n",
            "7/7 [==============================] - 7s 1s/step - loss: 0.0285 - accuracy: 0.9901 - val_loss: 1.0436 - val_accuracy: 0.8400\n",
            "Epoch 47/100\n",
            "7/7 [==============================] - 10s 1s/step - loss: 0.0033 - accuracy: 1.0000 - val_loss: 1.0942 - val_accuracy: 0.8400\n",
            "Epoch 48/100\n",
            "7/7 [==============================] - 8s 1s/step - loss: 0.0240 - accuracy: 0.9852 - val_loss: 1.0273 - val_accuracy: 0.7800\n",
            "Epoch 49/100\n",
            "7/7 [==============================] - 7s 1s/step - loss: 0.0180 - accuracy: 0.9951 - val_loss: 0.7982 - val_accuracy: 0.8600\n",
            "Epoch 50/100\n",
            "7/7 [==============================] - 9s 1s/step - loss: 0.0077 - accuracy: 1.0000 - val_loss: 0.7824 - val_accuracy: 0.8400\n",
            "Epoch 51/100\n",
            "7/7 [==============================] - 10s 1s/step - loss: 0.0075 - accuracy: 1.0000 - val_loss: 0.8504 - val_accuracy: 0.8600\n",
            "Epoch 52/100\n",
            "7/7 [==============================] - 7s 1s/step - loss: 0.0144 - accuracy: 0.9951 - val_loss: 0.9294 - val_accuracy: 0.8600\n",
            "Epoch 53/100\n",
            "7/7 [==============================] - 10s 1s/step - loss: 0.0050 - accuracy: 1.0000 - val_loss: 1.0031 - val_accuracy: 0.8200\n",
            "Epoch 54/100\n",
            "7/7 [==============================] - 8s 1s/step - loss: 0.0144 - accuracy: 1.0000 - val_loss: 1.0816 - val_accuracy: 0.8200\n",
            "Epoch 55/100\n",
            "7/7 [==============================] - 9s 1s/step - loss: 0.0024 - accuracy: 1.0000 - val_loss: 1.1475 - val_accuracy: 0.8200\n",
            "Epoch 56/100\n",
            "7/7 [==============================] - 10s 1s/step - loss: 0.0113 - accuracy: 1.0000 - val_loss: 1.2254 - val_accuracy: 0.8400\n",
            "Epoch 57/100\n",
            "7/7 [==============================] - 7s 1s/step - loss: 9.9816e-04 - accuracy: 1.0000 - val_loss: 1.3090 - val_accuracy: 0.8400\n",
            "Epoch 58/100\n",
            "7/7 [==============================] - 9s 1s/step - loss: 0.0229 - accuracy: 0.9901 - val_loss: 1.1487 - val_accuracy: 0.8200\n",
            "Epoch 59/100\n",
            "7/7 [==============================] - 10s 1s/step - loss: 0.0056 - accuracy: 0.9951 - val_loss: 1.1248 - val_accuracy: 0.8200\n",
            "Epoch 60/100\n",
            "7/7 [==============================] - 7s 1s/step - loss: 0.0175 - accuracy: 0.9951 - val_loss: 1.0517 - val_accuracy: 0.8600\n",
            "Epoch 61/100\n",
            "7/7 [==============================] - 8s 1s/step - loss: 0.0074 - accuracy: 1.0000 - val_loss: 1.0800 - val_accuracy: 0.8600\n",
            "Epoch 62/100\n",
            "7/7 [==============================] - 10s 1s/step - loss: 0.0023 - accuracy: 1.0000 - val_loss: 1.1482 - val_accuracy: 0.8600\n",
            "Epoch 63/100\n",
            "7/7 [==============================] - 7s 1s/step - loss: 0.0186 - accuracy: 0.9901 - val_loss: 1.5202 - val_accuracy: 0.8600\n",
            "Epoch 64/100\n",
            "7/7 [==============================] - 10s 2s/step - loss: 0.0061 - accuracy: 1.0000 - val_loss: 1.3707 - val_accuracy: 0.8400\n",
            "Epoch 65/100\n",
            "7/7 [==============================] - 9s 1s/step - loss: 0.0153 - accuracy: 0.9951 - val_loss: 1.1958 - val_accuracy: 0.8600\n",
            "Epoch 66/100\n",
            "7/7 [==============================] - 8s 1s/step - loss: 0.0043 - accuracy: 1.0000 - val_loss: 1.1398 - val_accuracy: 0.8400\n",
            "Epoch 67/100\n",
            "7/7 [==============================] - 10s 1s/step - loss: 0.0168 - accuracy: 0.9901 - val_loss: 1.2609 - val_accuracy: 0.8400\n",
            "Epoch 68/100\n",
            "7/7 [==============================] - 7s 1s/step - loss: 0.0144 - accuracy: 0.9901 - val_loss: 0.9783 - val_accuracy: 0.8600\n",
            "Epoch 69/100\n",
            "7/7 [==============================] - 8s 1s/step - loss: 0.0248 - accuracy: 0.9951 - val_loss: 0.7706 - val_accuracy: 0.8600\n",
            "Epoch 70/100\n",
            "7/7 [==============================] - 10s 1s/step - loss: 0.0151 - accuracy: 0.9951 - val_loss: 0.7882 - val_accuracy: 0.8800\n",
            "Epoch 71/100\n",
            "7/7 [==============================] - 7s 1s/step - loss: 0.0108 - accuracy: 1.0000 - val_loss: 0.9401 - val_accuracy: 0.8800\n",
            "Epoch 72/100\n",
            "7/7 [==============================] - 8s 1s/step - loss: 0.0117 - accuracy: 0.9951 - val_loss: 0.8549 - val_accuracy: 0.9000\n",
            "Epoch 73/100\n",
            "7/7 [==============================] - 10s 1s/step - loss: 0.0388 - accuracy: 0.9901 - val_loss: 0.5587 - val_accuracy: 0.9000\n",
            "Epoch 74/100\n",
            "7/7 [==============================] - 8s 1s/step - loss: 0.0148 - accuracy: 1.0000 - val_loss: 0.6299 - val_accuracy: 0.8400\n",
            "Epoch 75/100\n",
            "7/7 [==============================] - 8s 1s/step - loss: 0.0112 - accuracy: 0.9951 - val_loss: 0.8601 - val_accuracy: 0.8600\n",
            "Epoch 76/100\n",
            "7/7 [==============================] - 10s 1s/step - loss: 0.0199 - accuracy: 0.9951 - val_loss: 0.7150 - val_accuracy: 0.8200\n",
            "Epoch 77/100\n",
            "7/7 [==============================] - 7s 1s/step - loss: 0.0268 - accuracy: 0.9901 - val_loss: 0.7662 - val_accuracy: 0.9000\n",
            "Epoch 78/100\n",
            "7/7 [==============================] - 7s 1s/step - loss: 0.0252 - accuracy: 0.9852 - val_loss: 0.7298 - val_accuracy: 0.8600\n",
            "Epoch 79/100\n",
            "7/7 [==============================] - 9s 1s/step - loss: 0.0185 - accuracy: 0.9951 - val_loss: 0.9545 - val_accuracy: 0.8600\n",
            "Epoch 80/100\n",
            "7/7 [==============================] - 10s 1s/step - loss: 0.0337 - accuracy: 0.9901 - val_loss: 0.9364 - val_accuracy: 0.8600\n",
            "Epoch 81/100\n",
            "7/7 [==============================] - 7s 1s/step - loss: 0.0208 - accuracy: 1.0000 - val_loss: 0.9110 - val_accuracy: 0.8600\n",
            "Epoch 82/100\n",
            "7/7 [==============================] - 9s 1s/step - loss: 0.0087 - accuracy: 1.0000 - val_loss: 0.9315 - val_accuracy: 0.8600\n",
            "Epoch 83/100\n",
            "7/7 [==============================] - 10s 1s/step - loss: 0.0088 - accuracy: 1.0000 - val_loss: 0.9730 - val_accuracy: 0.8400\n",
            "Epoch 84/100\n",
            "7/7 [==============================] - 7s 1s/step - loss: 0.0088 - accuracy: 0.9951 - val_loss: 1.0422 - val_accuracy: 0.8600\n",
            "Epoch 85/100\n",
            "7/7 [==============================] - 10s 1s/step - loss: 0.0182 - accuracy: 0.9951 - val_loss: 0.9893 - val_accuracy: 0.8800\n",
            "Epoch 86/100\n",
            "7/7 [==============================] - 9s 1s/step - loss: 0.0390 - accuracy: 0.9852 - val_loss: 0.7028 - val_accuracy: 0.8400\n",
            "Epoch 87/100\n",
            "7/7 [==============================] - 7s 1s/step - loss: 0.0141 - accuracy: 0.9951 - val_loss: 0.6967 - val_accuracy: 0.8600\n",
            "Epoch 88/100\n",
            "7/7 [==============================] - 10s 1s/step - loss: 0.0171 - accuracy: 0.9951 - val_loss: 0.8216 - val_accuracy: 0.9000\n",
            "Epoch 89/100\n",
            "7/7 [==============================] - 7s 1s/step - loss: 0.0141 - accuracy: 0.9901 - val_loss: 0.8504 - val_accuracy: 0.9000\n",
            "Epoch 90/100\n",
            "7/7 [==============================] - 7s 1s/step - loss: 0.0245 - accuracy: 0.9901 - val_loss: 0.8512 - val_accuracy: 0.8600\n",
            "Epoch 91/100\n",
            "7/7 [==============================] - 9s 1s/step - loss: 0.0018 - accuracy: 1.0000 - val_loss: 0.9490 - val_accuracy: 0.8200\n",
            "Epoch 92/100\n",
            "7/7 [==============================] - 10s 1s/step - loss: 0.0152 - accuracy: 0.9901 - val_loss: 1.0841 - val_accuracy: 0.9000\n",
            "Epoch 93/100\n",
            "7/7 [==============================] - 7s 1s/step - loss: 0.0138 - accuracy: 0.9951 - val_loss: 1.1410 - val_accuracy: 0.8200\n",
            "Epoch 94/100\n",
            "7/7 [==============================] - 9s 1s/step - loss: 0.0013 - accuracy: 1.0000 - val_loss: 1.3041 - val_accuracy: 0.8200\n",
            "Epoch 95/100\n",
            "7/7 [==============================] - 10s 1s/step - loss: 0.0071 - accuracy: 1.0000 - val_loss: 1.2625 - val_accuracy: 0.9000\n",
            "Epoch 96/100\n",
            "7/7 [==============================] - 7s 1s/step - loss: 0.0136 - accuracy: 0.9901 - val_loss: 1.2286 - val_accuracy: 0.9000\n",
            "Epoch 97/100\n",
            "7/7 [==============================] - 9s 1s/step - loss: 0.0095 - accuracy: 0.9951 - val_loss: 1.0220 - val_accuracy: 0.8400\n",
            "Epoch 98/100\n",
            "7/7 [==============================] - 10s 2s/step - loss: 0.0045 - accuracy: 1.0000 - val_loss: 1.0145 - val_accuracy: 0.8200\n",
            "Epoch 99/100\n",
            "7/7 [==============================] - 7s 1s/step - loss: 0.0029 - accuracy: 1.0000 - val_loss: 1.0250 - val_accuracy: 0.8400\n",
            "Epoch 100/100\n",
            "7/7 [==============================] - 10s 1s/step - loss: 0.0024 - accuracy: 1.0000 - val_loss: 1.0485 - val_accuracy: 0.8400\n"
          ]
        }
      ]
    },
    {
      "cell_type": "code",
      "source": [],
      "metadata": {
        "id": "N5dH6kJdjjhC"
      },
      "execution_count": null,
      "outputs": []
    },
    {
      "cell_type": "markdown",
      "source": [
        "# we can see that the second method got better accuracy.\n"
      ],
      "metadata": {
        "id": "69kuzE-PoCeI"
      }
    },
    {
      "cell_type": "code",
      "source": [],
      "metadata": {
        "id": "DTs2APu8oFkl"
      },
      "execution_count": null,
      "outputs": []
    }
  ]
}