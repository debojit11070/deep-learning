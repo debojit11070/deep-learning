{
 "cells": [
  {
   "cell_type": "code",
   "execution_count": 1,
   "id": "c02a2b94",
   "metadata": {
    "_cell_guid": "b1076dfc-b9ad-4769-8c92-a6c4dae69d19",
    "_uuid": "8f2839f25d086af736a60e9eeb907d3b93b6e0e5",
    "execution": {
     "iopub.execute_input": "2023-07-28T05:05:03.100272Z",
     "iopub.status.busy": "2023-07-28T05:05:03.099851Z",
     "iopub.status.idle": "2023-07-28T05:05:13.935050Z",
     "shell.execute_reply": "2023-07-28T05:05:13.933376Z"
    },
    "papermill": {
     "duration": 10.845644,
     "end_time": "2023-07-28T05:05:13.938020",
     "exception": false,
     "start_time": "2023-07-28T05:05:03.092376",
     "status": "completed"
    },
    "tags": []
   },
   "outputs": [
    {
     "name": "stderr",
     "output_type": "stream",
     "text": [
      "/opt/conda/lib/python3.10/site-packages/scipy/__init__.py:146: UserWarning: A NumPy version >=1.16.5 and <1.23.0 is required for this version of SciPy (detected version 1.23.5\n",
      "  warnings.warn(f\"A NumPy version >={np_minversion} and <{np_maxversion}\"\n",
      "/opt/conda/lib/python3.10/site-packages/tensorflow_io/python/ops/__init__.py:98: UserWarning: unable to load libtensorflow_io_plugins.so: unable to open file: libtensorflow_io_plugins.so, from paths: ['/opt/conda/lib/python3.10/site-packages/tensorflow_io/python/ops/libtensorflow_io_plugins.so']\n",
      "caused by: ['/opt/conda/lib/python3.10/site-packages/tensorflow_io/python/ops/libtensorflow_io_plugins.so: undefined symbol: _ZN3tsl6StatusC1EN10tensorflow5error4CodeESt17basic_string_viewIcSt11char_traitsIcEENS_14SourceLocationE']\n",
      "  warnings.warn(f\"unable to load libtensorflow_io_plugins.so: {e}\")\n",
      "/opt/conda/lib/python3.10/site-packages/tensorflow_io/python/ops/__init__.py:104: UserWarning: file system plugins are not loaded: unable to open file: libtensorflow_io.so, from paths: ['/opt/conda/lib/python3.10/site-packages/tensorflow_io/python/ops/libtensorflow_io.so']\n",
      "caused by: ['/opt/conda/lib/python3.10/site-packages/tensorflow_io/python/ops/libtensorflow_io.so: undefined symbol: _ZTVN10tensorflow13GcsFileSystemE']\n",
      "  warnings.warn(f\"file system plugins are not loaded: {e}\")\n"
     ]
    }
   ],
   "source": [
    "import tensorflow as tf\n",
    "import tensorflow_decision_forests as tfdf\n",
    "import pandas as pd\n",
    "import numpy as np\n",
    "import seaborn as sns\n",
    "import matplotlib.pyplot as plt\n",
    "\n",
    "from sklearn.model_selection import KFold"
   ]
  },
  {
   "cell_type": "code",
   "execution_count": 2,
   "id": "1dff4207",
   "metadata": {
    "execution": {
     "iopub.execute_input": "2023-07-28T05:05:13.951558Z",
     "iopub.status.busy": "2023-07-28T05:05:13.950923Z",
     "iopub.status.idle": "2023-07-28T05:05:13.984692Z",
     "shell.execute_reply": "2023-07-28T05:05:13.983559Z"
    },
    "papermill": {
     "duration": 0.043284,
     "end_time": "2023-07-28T05:05:13.987555",
     "exception": false,
     "start_time": "2023-07-28T05:05:13.944271",
     "status": "completed"
    },
    "tags": []
   },
   "outputs": [],
   "source": [
    "dataset_df = pd.read_csv('/kaggle/input/icr-identify-age-related-conditions/train.csv')"
   ]
  },
  {
   "cell_type": "code",
   "execution_count": 3,
   "id": "31fc85f2",
   "metadata": {
    "execution": {
     "iopub.execute_input": "2023-07-28T05:05:14.000526Z",
     "iopub.status.busy": "2023-07-28T05:05:14.000179Z",
     "iopub.status.idle": "2023-07-28T05:05:14.006763Z",
     "shell.execute_reply": "2023-07-28T05:05:14.005869Z"
    },
    "papermill": {
     "duration": 0.015058,
     "end_time": "2023-07-28T05:05:14.008590",
     "exception": false,
     "start_time": "2023-07-28T05:05:13.993532",
     "status": "completed"
    },
    "tags": []
   },
   "outputs": [
    {
     "data": {
      "text/plain": [
       "(617, 58)"
      ]
     },
     "execution_count": 3,
     "metadata": {},
     "output_type": "execute_result"
    }
   ],
   "source": [
    "dataset_df.shape"
   ]
  },
  {
   "cell_type": "code",
   "execution_count": 4,
   "id": "3e9100f9",
   "metadata": {
    "execution": {
     "iopub.execute_input": "2023-07-28T05:05:14.022493Z",
     "iopub.status.busy": "2023-07-28T05:05:14.021441Z",
     "iopub.status.idle": "2023-07-28T05:05:14.061527Z",
     "shell.execute_reply": "2023-07-28T05:05:14.060722Z"
    },
    "papermill": {
     "duration": 0.049252,
     "end_time": "2023-07-28T05:05:14.063738",
     "exception": false,
     "start_time": "2023-07-28T05:05:14.014486",
     "status": "completed"
    },
    "tags": []
   },
   "outputs": [
    {
     "data": {
      "text/html": [
       "<div>\n",
       "<style scoped>\n",
       "    .dataframe tbody tr th:only-of-type {\n",
       "        vertical-align: middle;\n",
       "    }\n",
       "\n",
       "    .dataframe tbody tr th {\n",
       "        vertical-align: top;\n",
       "    }\n",
       "\n",
       "    .dataframe thead th {\n",
       "        text-align: right;\n",
       "    }\n",
       "</style>\n",
       "<table border=\"1\" class=\"dataframe\">\n",
       "  <thead>\n",
       "    <tr style=\"text-align: right;\">\n",
       "      <th></th>\n",
       "      <th>Id</th>\n",
       "      <th>AB</th>\n",
       "      <th>AF</th>\n",
       "      <th>AH</th>\n",
       "      <th>AM</th>\n",
       "      <th>AR</th>\n",
       "      <th>AX</th>\n",
       "      <th>AY</th>\n",
       "      <th>AZ</th>\n",
       "      <th>BC</th>\n",
       "      <th>...</th>\n",
       "      <th>FL</th>\n",
       "      <th>FR</th>\n",
       "      <th>FS</th>\n",
       "      <th>GB</th>\n",
       "      <th>GE</th>\n",
       "      <th>GF</th>\n",
       "      <th>GH</th>\n",
       "      <th>GI</th>\n",
       "      <th>GL</th>\n",
       "      <th>Class</th>\n",
       "    </tr>\n",
       "  </thead>\n",
       "  <tbody>\n",
       "    <tr>\n",
       "      <th>0</th>\n",
       "      <td>000ff2bfdfe9</td>\n",
       "      <td>0.209377</td>\n",
       "      <td>3109.03329</td>\n",
       "      <td>85.200147</td>\n",
       "      <td>22.394407</td>\n",
       "      <td>8.138688</td>\n",
       "      <td>0.699861</td>\n",
       "      <td>0.025578</td>\n",
       "      <td>9.812214</td>\n",
       "      <td>5.555634</td>\n",
       "      <td>...</td>\n",
       "      <td>7.298162</td>\n",
       "      <td>1.73855</td>\n",
       "      <td>0.094822</td>\n",
       "      <td>11.339138</td>\n",
       "      <td>72.611063</td>\n",
       "      <td>2003.810319</td>\n",
       "      <td>22.136229</td>\n",
       "      <td>69.834944</td>\n",
       "      <td>0.120343</td>\n",
       "      <td>1</td>\n",
       "    </tr>\n",
       "    <tr>\n",
       "      <th>1</th>\n",
       "      <td>007255e47698</td>\n",
       "      <td>0.145282</td>\n",
       "      <td>978.76416</td>\n",
       "      <td>85.200147</td>\n",
       "      <td>36.968889</td>\n",
       "      <td>8.138688</td>\n",
       "      <td>3.632190</td>\n",
       "      <td>0.025578</td>\n",
       "      <td>13.517790</td>\n",
       "      <td>1.229900</td>\n",
       "      <td>...</td>\n",
       "      <td>0.173229</td>\n",
       "      <td>0.49706</td>\n",
       "      <td>0.568932</td>\n",
       "      <td>9.292698</td>\n",
       "      <td>72.611063</td>\n",
       "      <td>27981.562750</td>\n",
       "      <td>29.135430</td>\n",
       "      <td>32.131996</td>\n",
       "      <td>21.978000</td>\n",
       "      <td>0</td>\n",
       "    </tr>\n",
       "    <tr>\n",
       "      <th>2</th>\n",
       "      <td>013f2bd269f5</td>\n",
       "      <td>0.470030</td>\n",
       "      <td>2635.10654</td>\n",
       "      <td>85.200147</td>\n",
       "      <td>32.360553</td>\n",
       "      <td>8.138688</td>\n",
       "      <td>6.732840</td>\n",
       "      <td>0.025578</td>\n",
       "      <td>12.824570</td>\n",
       "      <td>1.229900</td>\n",
       "      <td>...</td>\n",
       "      <td>7.709560</td>\n",
       "      <td>0.97556</td>\n",
       "      <td>1.198821</td>\n",
       "      <td>37.077772</td>\n",
       "      <td>88.609437</td>\n",
       "      <td>13676.957810</td>\n",
       "      <td>28.022851</td>\n",
       "      <td>35.192676</td>\n",
       "      <td>0.196941</td>\n",
       "      <td>0</td>\n",
       "    </tr>\n",
       "    <tr>\n",
       "      <th>3</th>\n",
       "      <td>043ac50845d5</td>\n",
       "      <td>0.252107</td>\n",
       "      <td>3819.65177</td>\n",
       "      <td>120.201618</td>\n",
       "      <td>77.112203</td>\n",
       "      <td>8.138688</td>\n",
       "      <td>3.685344</td>\n",
       "      <td>0.025578</td>\n",
       "      <td>11.053708</td>\n",
       "      <td>1.229900</td>\n",
       "      <td>...</td>\n",
       "      <td>6.122162</td>\n",
       "      <td>0.49706</td>\n",
       "      <td>0.284466</td>\n",
       "      <td>18.529584</td>\n",
       "      <td>82.416803</td>\n",
       "      <td>2094.262452</td>\n",
       "      <td>39.948656</td>\n",
       "      <td>90.493248</td>\n",
       "      <td>0.155829</td>\n",
       "      <td>0</td>\n",
       "    </tr>\n",
       "    <tr>\n",
       "      <th>4</th>\n",
       "      <td>044fb8a146ec</td>\n",
       "      <td>0.380297</td>\n",
       "      <td>3733.04844</td>\n",
       "      <td>85.200147</td>\n",
       "      <td>14.103738</td>\n",
       "      <td>8.138688</td>\n",
       "      <td>3.942255</td>\n",
       "      <td>0.054810</td>\n",
       "      <td>3.396778</td>\n",
       "      <td>102.151980</td>\n",
       "      <td>...</td>\n",
       "      <td>8.153058</td>\n",
       "      <td>48.50134</td>\n",
       "      <td>0.121914</td>\n",
       "      <td>16.408728</td>\n",
       "      <td>146.109943</td>\n",
       "      <td>8524.370502</td>\n",
       "      <td>45.381316</td>\n",
       "      <td>36.262628</td>\n",
       "      <td>0.096614</td>\n",
       "      <td>1</td>\n",
       "    </tr>\n",
       "  </tbody>\n",
       "</table>\n",
       "<p>5 rows × 58 columns</p>\n",
       "</div>"
      ],
      "text/plain": [
       "             Id        AB          AF          AH         AM        AR  \\\n",
       "0  000ff2bfdfe9  0.209377  3109.03329   85.200147  22.394407  8.138688   \n",
       "1  007255e47698  0.145282   978.76416   85.200147  36.968889  8.138688   \n",
       "2  013f2bd269f5  0.470030  2635.10654   85.200147  32.360553  8.138688   \n",
       "3  043ac50845d5  0.252107  3819.65177  120.201618  77.112203  8.138688   \n",
       "4  044fb8a146ec  0.380297  3733.04844   85.200147  14.103738  8.138688   \n",
       "\n",
       "         AX        AY         AZ          BC  ...        FL        FR  \\\n",
       "0  0.699861  0.025578   9.812214    5.555634  ...  7.298162   1.73855   \n",
       "1  3.632190  0.025578  13.517790    1.229900  ...  0.173229   0.49706   \n",
       "2  6.732840  0.025578  12.824570    1.229900  ...  7.709560   0.97556   \n",
       "3  3.685344  0.025578  11.053708    1.229900  ...  6.122162   0.49706   \n",
       "4  3.942255  0.054810   3.396778  102.151980  ...  8.153058  48.50134   \n",
       "\n",
       "         FS         GB          GE            GF         GH         GI  \\\n",
       "0  0.094822  11.339138   72.611063   2003.810319  22.136229  69.834944   \n",
       "1  0.568932   9.292698   72.611063  27981.562750  29.135430  32.131996   \n",
       "2  1.198821  37.077772   88.609437  13676.957810  28.022851  35.192676   \n",
       "3  0.284466  18.529584   82.416803   2094.262452  39.948656  90.493248   \n",
       "4  0.121914  16.408728  146.109943   8524.370502  45.381316  36.262628   \n",
       "\n",
       "          GL  Class  \n",
       "0   0.120343      1  \n",
       "1  21.978000      0  \n",
       "2   0.196941      0  \n",
       "3   0.155829      0  \n",
       "4   0.096614      1  \n",
       "\n",
       "[5 rows x 58 columns]"
      ]
     },
     "execution_count": 4,
     "metadata": {},
     "output_type": "execute_result"
    }
   ],
   "source": [
    "dataset_df.head()"
   ]
  },
  {
   "cell_type": "code",
   "execution_count": 5,
   "id": "413d8ca1",
   "metadata": {
    "execution": {
     "iopub.execute_input": "2023-07-28T05:05:14.079698Z",
     "iopub.status.busy": "2023-07-28T05:05:14.078861Z",
     "iopub.status.idle": "2023-07-28T05:05:14.199173Z",
     "shell.execute_reply": "2023-07-28T05:05:14.198235Z"
    },
    "papermill": {
     "duration": 0.12948,
     "end_time": "2023-07-28T05:05:14.201146",
     "exception": false,
     "start_time": "2023-07-28T05:05:14.071666",
     "status": "completed"
    },
    "tags": []
   },
   "outputs": [
    {
     "data": {
      "text/html": [
       "<div>\n",
       "<style scoped>\n",
       "    .dataframe tbody tr th:only-of-type {\n",
       "        vertical-align: middle;\n",
       "    }\n",
       "\n",
       "    .dataframe tbody tr th {\n",
       "        vertical-align: top;\n",
       "    }\n",
       "\n",
       "    .dataframe thead th {\n",
       "        text-align: right;\n",
       "    }\n",
       "</style>\n",
       "<table border=\"1\" class=\"dataframe\">\n",
       "  <thead>\n",
       "    <tr style=\"text-align: right;\">\n",
       "      <th></th>\n",
       "      <th>AB</th>\n",
       "      <th>AF</th>\n",
       "      <th>AH</th>\n",
       "      <th>AM</th>\n",
       "      <th>AR</th>\n",
       "      <th>AX</th>\n",
       "      <th>AY</th>\n",
       "      <th>AZ</th>\n",
       "      <th>BC</th>\n",
       "      <th>BD</th>\n",
       "      <th>...</th>\n",
       "      <th>FL</th>\n",
       "      <th>FR</th>\n",
       "      <th>FS</th>\n",
       "      <th>GB</th>\n",
       "      <th>GE</th>\n",
       "      <th>GF</th>\n",
       "      <th>GH</th>\n",
       "      <th>GI</th>\n",
       "      <th>GL</th>\n",
       "      <th>Class</th>\n",
       "    </tr>\n",
       "  </thead>\n",
       "  <tbody>\n",
       "    <tr>\n",
       "      <th>count</th>\n",
       "      <td>617.000000</td>\n",
       "      <td>617.000000</td>\n",
       "      <td>617.000000</td>\n",
       "      <td>617.000000</td>\n",
       "      <td>617.000000</td>\n",
       "      <td>617.000000</td>\n",
       "      <td>617.000000</td>\n",
       "      <td>617.000000</td>\n",
       "      <td>617.000000</td>\n",
       "      <td>617.000000</td>\n",
       "      <td>...</td>\n",
       "      <td>616.000000</td>\n",
       "      <td>617.000000</td>\n",
       "      <td>615.000000</td>\n",
       "      <td>617.000000</td>\n",
       "      <td>617.000000</td>\n",
       "      <td>617.000000</td>\n",
       "      <td>617.000000</td>\n",
       "      <td>617.000000</td>\n",
       "      <td>616.000000</td>\n",
       "      <td>617.000000</td>\n",
       "    </tr>\n",
       "    <tr>\n",
       "      <th>mean</th>\n",
       "      <td>0.477149</td>\n",
       "      <td>3502.013221</td>\n",
       "      <td>118.624513</td>\n",
       "      <td>38.968552</td>\n",
       "      <td>10.128242</td>\n",
       "      <td>5.545576</td>\n",
       "      <td>0.060320</td>\n",
       "      <td>10.566447</td>\n",
       "      <td>8.053012</td>\n",
       "      <td>5350.388655</td>\n",
       "      <td>...</td>\n",
       "      <td>5.433199</td>\n",
       "      <td>3.533905</td>\n",
       "      <td>0.421501</td>\n",
       "      <td>20.724856</td>\n",
       "      <td>131.714987</td>\n",
       "      <td>14679.595398</td>\n",
       "      <td>31.489716</td>\n",
       "      <td>50.584437</td>\n",
       "      <td>8.530961</td>\n",
       "      <td>0.175041</td>\n",
       "    </tr>\n",
       "    <tr>\n",
       "      <th>std</th>\n",
       "      <td>0.468388</td>\n",
       "      <td>2300.322717</td>\n",
       "      <td>127.838950</td>\n",
       "      <td>69.728226</td>\n",
       "      <td>10.518877</td>\n",
       "      <td>2.551696</td>\n",
       "      <td>0.416817</td>\n",
       "      <td>4.350645</td>\n",
       "      <td>65.166943</td>\n",
       "      <td>3021.326641</td>\n",
       "      <td>...</td>\n",
       "      <td>11.496257</td>\n",
       "      <td>50.181948</td>\n",
       "      <td>1.305365</td>\n",
       "      <td>9.991907</td>\n",
       "      <td>144.181524</td>\n",
       "      <td>19352.959387</td>\n",
       "      <td>9.864239</td>\n",
       "      <td>36.266251</td>\n",
       "      <td>10.327010</td>\n",
       "      <td>0.380310</td>\n",
       "    </tr>\n",
       "    <tr>\n",
       "      <th>min</th>\n",
       "      <td>0.081187</td>\n",
       "      <td>192.593280</td>\n",
       "      <td>85.200147</td>\n",
       "      <td>3.177522</td>\n",
       "      <td>8.138688</td>\n",
       "      <td>0.699861</td>\n",
       "      <td>0.025578</td>\n",
       "      <td>3.396778</td>\n",
       "      <td>1.229900</td>\n",
       "      <td>1693.624320</td>\n",
       "      <td>...</td>\n",
       "      <td>0.173229</td>\n",
       "      <td>0.497060</td>\n",
       "      <td>0.067730</td>\n",
       "      <td>4.102182</td>\n",
       "      <td>72.611063</td>\n",
       "      <td>13.038894</td>\n",
       "      <td>9.432735</td>\n",
       "      <td>0.897628</td>\n",
       "      <td>0.001129</td>\n",
       "      <td>0.000000</td>\n",
       "    </tr>\n",
       "    <tr>\n",
       "      <th>25%</th>\n",
       "      <td>0.252107</td>\n",
       "      <td>2197.345480</td>\n",
       "      <td>85.200147</td>\n",
       "      <td>12.270314</td>\n",
       "      <td>8.138688</td>\n",
       "      <td>4.128294</td>\n",
       "      <td>0.025578</td>\n",
       "      <td>8.129580</td>\n",
       "      <td>1.229900</td>\n",
       "      <td>4155.702870</td>\n",
       "      <td>...</td>\n",
       "      <td>0.173229</td>\n",
       "      <td>0.497060</td>\n",
       "      <td>0.067730</td>\n",
       "      <td>14.036718</td>\n",
       "      <td>72.611063</td>\n",
       "      <td>2798.992584</td>\n",
       "      <td>25.034888</td>\n",
       "      <td>23.011684</td>\n",
       "      <td>0.124392</td>\n",
       "      <td>0.000000</td>\n",
       "    </tr>\n",
       "    <tr>\n",
       "      <th>50%</th>\n",
       "      <td>0.354659</td>\n",
       "      <td>3120.318960</td>\n",
       "      <td>85.200147</td>\n",
       "      <td>20.533110</td>\n",
       "      <td>8.138688</td>\n",
       "      <td>5.031912</td>\n",
       "      <td>0.025578</td>\n",
       "      <td>10.461320</td>\n",
       "      <td>1.229900</td>\n",
       "      <td>4997.960730</td>\n",
       "      <td>...</td>\n",
       "      <td>3.028141</td>\n",
       "      <td>1.131000</td>\n",
       "      <td>0.250601</td>\n",
       "      <td>18.771436</td>\n",
       "      <td>72.611063</td>\n",
       "      <td>7838.273610</td>\n",
       "      <td>30.608946</td>\n",
       "      <td>41.007968</td>\n",
       "      <td>0.337827</td>\n",
       "      <td>0.000000</td>\n",
       "    </tr>\n",
       "    <tr>\n",
       "      <th>75%</th>\n",
       "      <td>0.559763</td>\n",
       "      <td>4361.637390</td>\n",
       "      <td>113.739540</td>\n",
       "      <td>39.139886</td>\n",
       "      <td>8.138688</td>\n",
       "      <td>6.431634</td>\n",
       "      <td>0.036845</td>\n",
       "      <td>12.969516</td>\n",
       "      <td>5.081244</td>\n",
       "      <td>6035.885700</td>\n",
       "      <td>...</td>\n",
       "      <td>6.238814</td>\n",
       "      <td>1.512060</td>\n",
       "      <td>0.535067</td>\n",
       "      <td>25.608406</td>\n",
       "      <td>127.591671</td>\n",
       "      <td>19035.709240</td>\n",
       "      <td>36.863947</td>\n",
       "      <td>67.931664</td>\n",
       "      <td>21.978000</td>\n",
       "      <td>0.000000</td>\n",
       "    </tr>\n",
       "    <tr>\n",
       "      <th>max</th>\n",
       "      <td>6.161666</td>\n",
       "      <td>28688.187660</td>\n",
       "      <td>1910.123198</td>\n",
       "      <td>630.518230</td>\n",
       "      <td>178.943634</td>\n",
       "      <td>38.270880</td>\n",
       "      <td>10.315851</td>\n",
       "      <td>38.971568</td>\n",
       "      <td>1463.693448</td>\n",
       "      <td>53060.599240</td>\n",
       "      <td>...</td>\n",
       "      <td>137.932739</td>\n",
       "      <td>1244.227020</td>\n",
       "      <td>31.365763</td>\n",
       "      <td>135.781294</td>\n",
       "      <td>1497.351958</td>\n",
       "      <td>143790.071200</td>\n",
       "      <td>81.210825</td>\n",
       "      <td>191.194764</td>\n",
       "      <td>21.978000</td>\n",
       "      <td>1.000000</td>\n",
       "    </tr>\n",
       "  </tbody>\n",
       "</table>\n",
       "<p>8 rows × 56 columns</p>\n",
       "</div>"
      ],
      "text/plain": [
       "               AB            AF           AH          AM          AR  \\\n",
       "count  617.000000    617.000000   617.000000  617.000000  617.000000   \n",
       "mean     0.477149   3502.013221   118.624513   38.968552   10.128242   \n",
       "std      0.468388   2300.322717   127.838950   69.728226   10.518877   \n",
       "min      0.081187    192.593280    85.200147    3.177522    8.138688   \n",
       "25%      0.252107   2197.345480    85.200147   12.270314    8.138688   \n",
       "50%      0.354659   3120.318960    85.200147   20.533110    8.138688   \n",
       "75%      0.559763   4361.637390   113.739540   39.139886    8.138688   \n",
       "max      6.161666  28688.187660  1910.123198  630.518230  178.943634   \n",
       "\n",
       "               AX          AY          AZ           BC           BD   ...  \\\n",
       "count  617.000000  617.000000  617.000000   617.000000    617.000000  ...   \n",
       "mean     5.545576    0.060320   10.566447     8.053012   5350.388655  ...   \n",
       "std      2.551696    0.416817    4.350645    65.166943   3021.326641  ...   \n",
       "min      0.699861    0.025578    3.396778     1.229900   1693.624320  ...   \n",
       "25%      4.128294    0.025578    8.129580     1.229900   4155.702870  ...   \n",
       "50%      5.031912    0.025578   10.461320     1.229900   4997.960730  ...   \n",
       "75%      6.431634    0.036845   12.969516     5.081244   6035.885700  ...   \n",
       "max     38.270880   10.315851   38.971568  1463.693448  53060.599240  ...   \n",
       "\n",
       "               FL           FR          FS          GB           GE  \\\n",
       "count  616.000000   617.000000  615.000000  617.000000   617.000000   \n",
       "mean     5.433199     3.533905    0.421501   20.724856   131.714987   \n",
       "std     11.496257    50.181948    1.305365    9.991907   144.181524   \n",
       "min      0.173229     0.497060    0.067730    4.102182    72.611063   \n",
       "25%      0.173229     0.497060    0.067730   14.036718    72.611063   \n",
       "50%      3.028141     1.131000    0.250601   18.771436    72.611063   \n",
       "75%      6.238814     1.512060    0.535067   25.608406   127.591671   \n",
       "max    137.932739  1244.227020   31.365763  135.781294  1497.351958   \n",
       "\n",
       "                  GF          GH          GI          GL       Class  \n",
       "count     617.000000  617.000000  617.000000  616.000000  617.000000  \n",
       "mean    14679.595398   31.489716   50.584437    8.530961    0.175041  \n",
       "std     19352.959387    9.864239   36.266251   10.327010    0.380310  \n",
       "min        13.038894    9.432735    0.897628    0.001129    0.000000  \n",
       "25%      2798.992584   25.034888   23.011684    0.124392    0.000000  \n",
       "50%      7838.273610   30.608946   41.007968    0.337827    0.000000  \n",
       "75%     19035.709240   36.863947   67.931664   21.978000    0.000000  \n",
       "max    143790.071200   81.210825  191.194764   21.978000    1.000000  \n",
       "\n",
       "[8 rows x 56 columns]"
      ]
     },
     "execution_count": 5,
     "metadata": {},
     "output_type": "execute_result"
    }
   ],
   "source": [
    "dataset_df.describe()"
   ]
  },
  {
   "cell_type": "code",
   "execution_count": 6,
   "id": "6412caa4",
   "metadata": {
    "execution": {
     "iopub.execute_input": "2023-07-28T05:05:14.214664Z",
     "iopub.status.busy": "2023-07-28T05:05:14.214357Z",
     "iopub.status.idle": "2023-07-28T05:05:14.367322Z",
     "shell.execute_reply": "2023-07-28T05:05:14.366232Z"
    },
    "papermill": {
     "duration": 0.162857,
     "end_time": "2023-07-28T05:05:14.370225",
     "exception": false,
     "start_time": "2023-07-28T05:05:14.207368",
     "status": "completed"
    },
    "tags": []
   },
   "outputs": [
    {
     "data": {
      "text/plain": [
       "<Axes: ylabel='Class'>"
      ]
     },
     "execution_count": 6,
     "metadata": {},
     "output_type": "execute_result"
    },
    {
     "data": {
      "image/png": "[encoded data removed]",
      "text/plain": [
       "<Figure size 640x480 with 1 Axes>"
      ]
     },
     "metadata": {},
     "output_type": "display_data"
    }
   ],
   "source": [
    "plot = dataset_df.Class.value_counts()\n",
    "plot.plot(kind='pie')"
   ]
  },
  {
   "cell_type": "code",
   "execution_count": 7,
   "id": "1e864490",
   "metadata": {
    "execution": {
     "iopub.execute_input": "2023-07-28T05:05:14.385808Z",
     "iopub.status.busy": "2023-07-28T05:05:14.384674Z",
     "iopub.status.idle": "2023-07-28T05:05:14.389527Z",
     "shell.execute_reply": "2023-07-28T05:05:14.388769Z"
    },
    "papermill": {
     "duration": 0.014365,
     "end_time": "2023-07-28T05:05:14.391375",
     "exception": false,
     "start_time": "2023-07-28T05:05:14.377010",
     "status": "completed"
    },
    "tags": []
   },
   "outputs": [],
   "source": [
    "NUM_FEATURE_COLUMNS = [i for i in dataset_df.columns if i not in ['Id','EJ', 'Class' ]]"
   ]
  },
  {
   "cell_type": "code",
   "execution_count": 8,
   "id": "d98a5583",
   "metadata": {
    "execution": {
     "iopub.execute_input": "2023-07-28T05:05:14.406858Z",
     "iopub.status.busy": "2023-07-28T05:05:14.406021Z",
     "iopub.status.idle": "2023-07-28T05:05:41.142132Z",
     "shell.execute_reply": "2023-07-28T05:05:41.141226Z"
    },
    "papermill": {
     "duration": 26.745686,
     "end_time": "2023-07-28T05:05:41.144014",
     "exception": false,
     "start_time": "2023-07-28T05:05:14.398328",
     "status": "completed"
    },
    "tags": []
   },
   "outputs": [
    {
     "data": {
      "image/png": "[encoded data removed]",
      "text/plain": [
       "<Figure size 1500x1500 with 6 Axes>"
      ]
     },
     "metadata": {},
     "output_type": "display_data"
    }
   ],
   "source": [
    "figure, axis = plt.subplots(3,2, figsize=(15,15))\n",
    "plt.subplots_adjust(hspace=0.25, wspace=0.3)\n",
    "\n",
    "for i, column_name in enumerate(NUM_FEATURE_COLUMNS[:6]):\n",
    "    row = i//2\n",
    "    col = i%2\n",
    "    bp = sns.barplot(ax=axis[row, col], x=dataset_df['Id'], y = dataset_df[column_name])\n",
    "    axis[row, col].set_title(column_name)\n",
    "plt.show()"
   ]
  },
  {
   "cell_type": "code",
   "execution_count": 9,
   "id": "15bceb81",
   "metadata": {
    "execution": {
     "iopub.execute_input": "2023-07-28T05:05:41.160468Z",
     "iopub.status.busy": "2023-07-28T05:05:41.160058Z",
     "iopub.status.idle": "2023-07-28T05:05:41.164388Z",
     "shell.execute_reply": "2023-07-28T05:05:41.163688Z"
    },
    "papermill": {
     "duration": 0.014574,
     "end_time": "2023-07-28T05:05:41.166048",
     "exception": false,
     "start_time": "2023-07-28T05:05:41.151474",
     "status": "completed"
    },
    "tags": []
   },
   "outputs": [],
   "source": [
    "FEATURE_COLUMNS = [i for i in dataset_df.columns if i not in [\"Id\"]]"
   ]
  },
  {
   "cell_type": "markdown",
   "id": "d099a8be",
   "metadata": {
    "papermill": {
     "duration": 0.00703,
     "end_time": "2023-07-28T05:05:41.180629",
     "exception": false,
     "start_time": "2023-07-28T05:05:41.173599",
     "status": "completed"
    },
    "tags": []
   },
   "source": [
    "# KFold validation\n"
   ]
  },
  {
   "cell_type": "code",
   "execution_count": 10,
   "id": "832adbc7",
   "metadata": {
    "execution": {
     "iopub.execute_input": "2023-07-28T05:05:41.196862Z",
     "iopub.status.busy": "2023-07-28T05:05:41.195984Z",
     "iopub.status.idle": "2023-07-28T05:05:41.201621Z",
     "shell.execute_reply": "2023-07-28T05:05:41.200552Z"
    },
    "papermill": {
     "duration": 0.016265,
     "end_time": "2023-07-28T05:05:41.203951",
     "exception": false,
     "start_time": "2023-07-28T05:05:41.187686",
     "status": "completed"
    },
    "tags": []
   },
   "outputs": [],
   "source": [
    "kf = KFold(n_splits=5)"
   ]
  },
  {
   "cell_type": "code",
   "execution_count": 11,
   "id": "5d29a74a",
   "metadata": {
    "execution": {
     "iopub.execute_input": "2023-07-28T05:05:41.220527Z",
     "iopub.status.busy": "2023-07-28T05:05:41.220200Z",
     "iopub.status.idle": "2023-07-28T05:05:41.224808Z",
     "shell.execute_reply": "2023-07-28T05:05:41.223723Z"
    },
    "papermill": {
     "duration": 0.015339,
     "end_time": "2023-07-28T05:05:41.226979",
     "exception": false,
     "start_time": "2023-07-28T05:05:41.211640",
     "status": "completed"
    },
    "tags": []
   },
   "outputs": [],
   "source": [
    "ID_LIST = dataset_df.index"
   ]
  },
  {
   "cell_type": "code",
   "execution_count": 12,
   "id": "7434cdf6",
   "metadata": {
    "execution": {
     "iopub.execute_input": "2023-07-28T05:05:41.243864Z",
     "iopub.status.busy": "2023-07-28T05:05:41.243504Z",
     "iopub.status.idle": "2023-07-28T05:05:41.248951Z",
     "shell.execute_reply": "2023-07-28T05:05:41.247541Z"
    },
    "papermill": {
     "duration": 0.017356,
     "end_time": "2023-07-28T05:05:41.251697",
     "exception": false,
     "start_time": "2023-07-28T05:05:41.234341",
     "status": "completed"
    },
    "tags": []
   },
   "outputs": [],
   "source": [
    "# Create a dataframe of required size with zero values.\n",
    "oof = pd.DataFrame(data=np.zeros((len(ID_LIST),1)), index=ID_LIST)\n"
   ]
  },
  {
   "cell_type": "code",
   "execution_count": 13,
   "id": "8df2294b",
   "metadata": {
    "execution": {
     "iopub.execute_input": "2023-07-28T05:05:41.268182Z",
     "iopub.status.busy": "2023-07-28T05:05:41.267816Z",
     "iopub.status.idle": "2023-07-28T05:05:41.272642Z",
     "shell.execute_reply": "2023-07-28T05:05:41.271377Z"
    },
    "papermill": {
     "duration": 0.015956,
     "end_time": "2023-07-28T05:05:41.275252",
     "exception": false,
     "start_time": "2023-07-28T05:05:41.259296",
     "status": "completed"
    },
    "tags": []
   },
   "outputs": [],
   "source": [
    "# Create an empty dictionary to store the models trained for each fold.\n",
    "models = {}\n",
    "\n",
    "# Create empty dict to save metircs for the models trained for each fold.\n",
    "accuracy = {}\n",
    "cross_entropy = {}\n",
    "\n",
    "# Save the name of the label column to a variable.\n",
    "label = \"Class\""
   ]
  },
  {
   "cell_type": "code",
   "execution_count": 14,
   "id": "21ae7768",
   "metadata": {
    "execution": {
     "iopub.execute_input": "2023-07-28T05:05:41.293882Z",
     "iopub.status.busy": "2023-07-28T05:05:41.292624Z",
     "iopub.status.idle": "2023-07-28T05:05:41.300251Z",
     "shell.execute_reply": "2023-07-28T05:05:41.298776Z"
    },
    "papermill": {
     "duration": 0.019024,
     "end_time": "2023-07-28T05:05:41.302744",
     "exception": false,
     "start_time": "2023-07-28T05:05:41.283720",
     "status": "completed"
    },
    "tags": []
   },
   "outputs": [
    {
     "data": {
      "text/plain": [
       "[tensorflow_decision_forests.keras.RandomForestModel,\n",
       " tensorflow_decision_forests.keras.GradientBoostedTreesModel,\n",
       " tensorflow_decision_forests.keras.CartModel,\n",
       " tensorflow_decision_forests.keras.DistributedGradientBoostedTreesModel]"
      ]
     },
     "execution_count": 14,
     "metadata": {},
     "output_type": "execute_result"
    }
   ],
   "source": [
    "tfdf.keras.get_all_models()\n"
   ]
  },
  {
   "cell_type": "code",
   "execution_count": 15,
   "id": "401fc70f",
   "metadata": {
    "execution": {
     "iopub.execute_input": "2023-07-28T05:05:41.319825Z",
     "iopub.status.busy": "2023-07-28T05:05:41.318572Z",
     "iopub.status.idle": "2023-07-28T05:05:41.325295Z",
     "shell.execute_reply": "2023-07-28T05:05:41.324057Z"
    },
    "papermill": {
     "duration": 0.016858,
     "end_time": "2023-07-28T05:05:41.327072",
     "exception": false,
     "start_time": "2023-07-28T05:05:41.310214",
     "status": "completed"
    },
    "tags": []
   },
   "outputs": [
    {
     "name": "stdout",
     "output_type": "stream",
     "text": [
      "Examples:\n",
      "    Total: 617\n",
      "    Positive: 108 (17.50% of total)\n",
      "\n"
     ]
    }
   ],
   "source": [
    "# Calculate the number of negative and positive values in `Class` column\n",
    "neg, pos = np.bincount(dataset_df['Class'])\n",
    "# Calculate total samples\n",
    "total = neg + pos\n",
    "print('Examples:\\n    Total: {}\\n    Positive: {} ({:.2f}% of total)\\n'.format(\n",
    "    total, pos, 100 * pos / total))"
   ]
  },
  {
   "cell_type": "code",
   "execution_count": 16,
   "id": "0ae8f076",
   "metadata": {
    "execution": {
     "iopub.execute_input": "2023-07-28T05:05:41.343383Z",
     "iopub.status.busy": "2023-07-28T05:05:41.342979Z",
     "iopub.status.idle": "2023-07-28T05:05:41.350238Z",
     "shell.execute_reply": "2023-07-28T05:05:41.348759Z"
    },
    "papermill": {
     "duration": 0.017969,
     "end_time": "2023-07-28T05:05:41.352401",
     "exception": false,
     "start_time": "2023-07-28T05:05:41.334432",
     "status": "completed"
    },
    "tags": []
   },
   "outputs": [
    {
     "name": "stdout",
     "output_type": "stream",
     "text": [
      "Weight for class 0: 0.61\n",
      "Weight for class 1: 2.86\n"
     ]
    }
   ],
   "source": [
    "# Calculate the number of samples for each label.\n",
    "neg, pos = np.bincount(dataset_df['Class'])\n",
    "\n",
    "# Calculate total samples.\n",
    "total = neg + pos\n",
    "\n",
    "# Calculate the weight for each label.\n",
    "weight_for_0 = (1 / neg) * (total / 2.0)\n",
    "weight_for_1 = (1 / pos) * (total / 2.0)\n",
    "\n",
    "class_weight = {0: weight_for_0, 1: weight_for_1}\n",
    "\n",
    "print('Weight for class 0: {:.2f}'.format(weight_for_0))\n",
    "print('Weight for class 1: {:.2f}'.format(weight_for_1))"
   ]
  },
  {
   "cell_type": "code",
   "execution_count": 17,
   "id": "0cfea4c8",
   "metadata": {
    "execution": {
     "iopub.execute_input": "2023-07-28T05:05:41.370065Z",
     "iopub.status.busy": "2023-07-28T05:05:41.369148Z",
     "iopub.status.idle": "2023-07-28T05:05:58.389816Z",
     "shell.execute_reply": "2023-07-28T05:05:58.388768Z"
    },
    "papermill": {
     "duration": 17.032111,
     "end_time": "2023-07-28T05:05:58.392334",
     "exception": false,
     "start_time": "2023-07-28T05:05:41.360223",
     "status": "completed"
    },
    "tags": []
   },
   "outputs": [
    {
     "name": "stdout",
     "output_type": "stream",
     "text": [
      "#### fold 1\n",
      "Warning: Some of the feature names have been changed automatically to be compatible with SavedModels because fix_feature_names=True.\n",
      "Warning: Some of the feature names have been changed automatically to be compatible with SavedModels because fix_feature_names=True.\n",
      "Use /tmp/tmpuym56oc_ as temporary training directory\n",
      "Reading training dataset...\n",
      "Training dataset read in 0:00:05.476310. Found 493 examples.\n",
      "Training model...\n",
      "Model trained in 0:00:00.214910\n",
      "Compiling model...\n"
     ]
    },
    {
     "name": "stderr",
     "output_type": "stream",
     "text": [
      "[INFO 23-07-28 05:05:47.3157 UTC kernel.cc:1243] Loading model from path /tmp/tmpuym56oc_/model/ with prefix 18dff74e31fb4f71\n",
      "[INFO 23-07-28 05:05:47.3419 UTC decision_forest.cc:660] Model loaded with 300 root(s), 14268 node(s), and 56 input feature(s).\n",
      "[INFO 23-07-28 05:05:47.3422 UTC abstract_model.cc:1311] Engine \"RandomForestOptPred\" built\n",
      "[INFO 23-07-28 05:05:47.3422 UTC kernel.cc:1075] Use fast generic engine\n"
     ]
    },
    {
     "name": "stdout",
     "output_type": "stream",
     "text": [
      "WARNING: AutoGraph could not transform <function simple_ml_inference_op_with_handle at 0x7e212309e320> and will run it as-is.\n",
      "Please report this to the TensorFlow team. When filing the bug, set the verbosity to 10 (on Linux, `export AUTOGRAPH_VERBOSITY=10`) and attach the full output.\n",
      "Cause: could not get source code\n",
      "To silence this warning, decorate the function with @tf.autograph.experimental.do_not_convert\n",
      "Model compiled.\n",
      "1/1 [==============================] - 0s 102ms/step\n",
      "1/1 [==============================] - 1s 1s/step - loss: 0.0000e+00 - accuracy: 0.9516 - binary_crossentropy: 0.2182\n",
      "#### fold 2\n",
      "Warning: Some of the feature names have been changed automatically to be compatible with SavedModels because fix_feature_names=True.\n",
      "Warning: Some of the feature names have been changed automatically to be compatible with SavedModels because fix_feature_names=True.\n",
      "Use /tmp/tmpy3wxudex as temporary training directory\n",
      "Reading training dataset...\n",
      "Training dataset read in 0:00:00.732685. Found 493 examples.\n",
      "Training model...\n",
      "Model trained in 0:00:00.164159\n",
      "Compiling model...\n"
     ]
    },
    {
     "name": "stderr",
     "output_type": "stream",
     "text": [
      "[INFO 23-07-28 05:05:52.0072 UTC kernel.cc:1243] Loading model from path /tmp/tmpy3wxudex/model/ with prefix ed2f20990faa484f\n",
      "[INFO 23-07-28 05:05:52.0294 UTC decision_forest.cc:660] Model loaded with 300 root(s), 13582 node(s), and 56 input feature(s).\n",
      "[INFO 23-07-28 05:05:52.0295 UTC kernel.cc:1075] Use fast generic engine\n"
     ]
    },
    {
     "name": "stdout",
     "output_type": "stream",
     "text": [
      "Model compiled.\n",
      "1/1 [==============================] - 0s 109ms/step\n",
      "1/1 [==============================] - 0s 277ms/step - loss: 0.0000e+00 - accuracy: 0.8790 - binary_crossentropy: 0.2608\n",
      "#### fold 3\n",
      "Warning: Some of the feature names have been changed automatically to be compatible with SavedModels because fix_feature_names=True.\n",
      "Warning: Some of the feature names have been changed automatically to be compatible with SavedModels because fix_feature_names=True.\n",
      "Use /tmp/tmpo520oyyx as temporary training directory\n",
      "Reading training dataset...\n",
      "Training dataset read in 0:00:00.747359. Found 494 examples.\n",
      "Training model...\n",
      "Model trained in 0:00:00.156469\n",
      "Compiling model...\n"
     ]
    },
    {
     "name": "stderr",
     "output_type": "stream",
     "text": [
      "[INFO 23-07-28 05:05:53.8802 UTC kernel.cc:1243] Loading model from path /tmp/tmpo520oyyx/model/ with prefix 364f808f03d6492e\n",
      "[INFO 23-07-28 05:05:53.9012 UTC decision_forest.cc:660] Model loaded with 300 root(s), 13376 node(s), and 56 input feature(s).\n",
      "[INFO 23-07-28 05:05:53.9013 UTC kernel.cc:1075] Use fast generic engine\n"
     ]
    },
    {
     "name": "stdout",
     "output_type": "stream",
     "text": [
      "Model compiled.\n",
      "1/1 [==============================] - 0s 101ms/step\n",
      "1/1 [==============================] - 0s 277ms/step - loss: 0.0000e+00 - accuracy: 0.9024 - binary_crossentropy: 0.2741\n",
      "#### fold 4\n",
      "Warning: Some of the feature names have been changed automatically to be compatible with SavedModels because fix_feature_names=True.\n",
      "Warning: Some of the feature names have been changed automatically to be compatible with SavedModels because fix_feature_names=True.\n",
      "Use /tmp/tmpbwp5fmts as temporary training directory\n",
      "Reading training dataset...\n",
      "Training dataset read in 0:00:00.756501. Found 494 examples.\n",
      "Training model...\n",
      "Model trained in 0:00:00.158791\n",
      "Compiling model...\n"
     ]
    },
    {
     "name": "stderr",
     "output_type": "stream",
     "text": [
      "[INFO 23-07-28 05:05:55.7503 UTC kernel.cc:1243] Loading model from path /tmp/tmpbwp5fmts/model/ with prefix ebec6c5e5c9f46fc\n",
      "[INFO 23-07-28 05:05:55.7715 UTC decision_forest.cc:660] Model loaded with 300 root(s), 13434 node(s), and 56 input feature(s).\n",
      "[INFO 23-07-28 05:05:55.7715 UTC kernel.cc:1075] Use fast generic engine\n"
     ]
    },
    {
     "name": "stdout",
     "output_type": "stream",
     "text": [
      "Model compiled.\n",
      "1/1 [==============================] - 0s 102ms/step\n",
      "1/1 [==============================] - 0s 274ms/step - loss: 0.0000e+00 - accuracy: 0.9024 - binary_crossentropy: 0.2717\n",
      "#### fold 5\n",
      "Warning: Some of the feature names have been changed automatically to be compatible with SavedModels because fix_feature_names=True.\n",
      "Warning: Some of the feature names have been changed automatically to be compatible with SavedModels because fix_feature_names=True.\n",
      "Use /tmp/tmpu4q50_7u as temporary training directory\n",
      "Reading training dataset...\n",
      "Training dataset read in 0:00:00.687085. Found 494 examples.\n",
      "Training model...\n",
      "Model trained in 0:00:00.160191\n",
      "Compiling model...\n"
     ]
    },
    {
     "name": "stderr",
     "output_type": "stream",
     "text": [
      "[INFO 23-07-28 05:05:57.5369 UTC kernel.cc:1243] Loading model from path /tmp/tmpu4q50_7u/model/ with prefix 647af38fce104f20\n",
      "[INFO 23-07-28 05:05:57.5597 UTC decision_forest.cc:660] Model loaded with 300 root(s), 13980 node(s), and 56 input feature(s).\n",
      "[INFO 23-07-28 05:05:57.5598 UTC abstract_model.cc:1311] Engine \"RandomForestOptPred\" built\n",
      "[INFO 23-07-28 05:05:57.5598 UTC kernel.cc:1075] Use fast generic engine\n"
     ]
    },
    {
     "name": "stdout",
     "output_type": "stream",
     "text": [
      "Model compiled.\n",
      "1/1 [==============================] - 0s 100ms/step\n",
      "1/1 [==============================] - 0s 268ms/step - loss: 0.0000e+00 - accuracy: 0.9512 - binary_crossentropy: 0.2172\n"
     ]
    }
   ],
   "source": [
    "# train random forest\n",
    "for i, (train_index, valid_index) in enumerate(kf.split (X = dataset_df)):\n",
    "    print('#### fold', i+1)\n",
    "    train_df = dataset_df.iloc[train_index]\n",
    "    valid_df = dataset_df.iloc[valid_index]\n",
    "    valid_ids = valid_df.index.values\n",
    "    train_df = train_df[FEATURE_COLUMNS]\n",
    "    valid_df = valid_df[FEATURE_COLUMNS]\n",
    "    train_ds = tfdf.keras.pd_dataframe_to_tf_dataset(train_df, label = label)\n",
    "    valid_ds = tfdf.keras.pd_dataframe_to_tf_dataset(valid_df, label=label)\n",
    "    rf = tfdf.keras.RandomForestModel()\n",
    "    rf.compile(metrics = ['accuracy', 'binary_crossentropy'])\n",
    "    rf.fit(x = train_ds, class_weight = class_weight)\n",
    "    models[f'fold_{i+1}'] = rf\n",
    "    predict = rf.predict(x=valid_ds)\n",
    "    oof.loc[valid_ids, 0] = predict.flatten()\n",
    "    evaluation = rf.evaluate(x=valid_ds, return_dict=True)\n",
    "    accuracy[f'fold_[i+1]'] = evaluation['accuracy']\n",
    "    cross_entropy[f'fold_{i+1}'] = evaluation['binary_crossentropy']"
   ]
  },
  {
   "cell_type": "code",
   "execution_count": 18,
   "id": "e07911f1",
   "metadata": {
    "execution": {
     "iopub.execute_input": "2023-07-28T05:05:58.418176Z",
     "iopub.status.busy": "2023-07-28T05:05:58.416944Z",
     "iopub.status.idle": "2023-07-28T05:05:59.179047Z",
     "shell.execute_reply": "2023-07-28T05:05:59.177589Z"
    },
    "papermill": {
     "duration": 0.777558,
     "end_time": "2023-07-28T05:05:59.181510",
     "exception": false,
     "start_time": "2023-07-28T05:05:58.403952",
     "status": "completed"
    },
    "tags": []
   },
   "outputs": [
    {
     "data": {
      "image/png": "[encoded data removed]",
      "text/plain": [
       "<Figure size 1000x1000 with 6 Axes>"
      ]
     },
     "metadata": {},
     "output_type": "display_data"
    }
   ],
   "source": [
    "# evaluate the model\n",
    "figure, axis = plt.subplots(3, 2, figsize=(10, 10))\n",
    "plt.subplots_adjust(hspace=0.5, wspace=0.3)\n",
    "\n",
    "for i, fold_no in enumerate(models.keys()):\n",
    "    row = i//2\n",
    "    col = i % 2\n",
    "    logs = models[fold_no].make_inspector().training_logs()\n",
    "    axis[row, col].plot([log.num_trees for log in logs], [log.evaluation.loss for log in logs])\n",
    "    axis[row, col].set_title(f\"Fold {i+1}\")\n",
    "    axis[row, col].set_xlabel('Number of trees')\n",
    "    axis[row, col].set_ylabel('Loss (out-of-bag)')\n",
    "\n",
    "axis[2][1].set_visible(False)\n",
    "plt.show()"
   ]
  },
  {
   "cell_type": "code",
   "execution_count": 19,
   "id": "9dc649dd",
   "metadata": {
    "execution": {
     "iopub.execute_input": "2023-07-28T05:05:59.207844Z",
     "iopub.status.busy": "2023-07-28T05:05:59.207485Z",
     "iopub.status.idle": "2023-07-28T05:05:59.219440Z",
     "shell.execute_reply": "2023-07-28T05:05:59.218371Z"
    },
    "papermill": {
     "duration": 0.027669,
     "end_time": "2023-07-28T05:05:59.221656",
     "exception": false,
     "start_time": "2023-07-28T05:05:59.193987",
     "status": "completed"
    },
    "tags": []
   },
   "outputs": [
    {
     "name": "stdout",
     "output_type": "stream",
     "text": [
      "fold_1 Evaluation(num_examples=493, accuracy=0.83384120423487, loss=0.4011864148867133, rmse=None, ndcg=None, aucs=None, auuc=None, qini=None)\n",
      "fold_2 Evaluation(num_examples=493, accuracy=0.86791143186256, loss=0.374230902610848, rmse=None, ndcg=None, aucs=None, auuc=None, qini=None)\n",
      "fold_3 Evaluation(num_examples=494, accuracy=0.8625237360976467, loss=0.39912028399338717, rmse=None, ndcg=None, aucs=None, auuc=None, qini=None)\n",
      "fold_4 Evaluation(num_examples=494, accuracy=0.8742180068903357, loss=0.38689070260817593, rmse=None, ndcg=None, aucs=None, auuc=None, qini=None)\n",
      "fold_5 Evaluation(num_examples=494, accuracy=0.8477430594687857, loss=0.39049966583287166, rmse=None, ndcg=None, aucs=None, auuc=None, qini=None)\n"
     ]
    }
   ],
   "source": [
    "for _model in models:\n",
    "    inspector = models[_model].make_inspector()\n",
    "    print(_model, inspector.evaluation())"
   ]
  },
  {
   "cell_type": "code",
   "execution_count": 20,
   "id": "64eceed6",
   "metadata": {
    "execution": {
     "iopub.execute_input": "2023-07-28T05:05:59.248150Z",
     "iopub.status.busy": "2023-07-28T05:05:59.247802Z",
     "iopub.status.idle": "2023-07-28T05:05:59.707957Z",
     "shell.execute_reply": "2023-07-28T05:05:59.706926Z"
    },
    "papermill": {
     "duration": 0.474863,
     "end_time": "2023-07-28T05:05:59.709056",
     "exception": true,
     "start_time": "2023-07-28T05:05:59.234193",
     "status": "failed"
    },
    "tags": []
   },
   "outputs": [
    {
     "ename": "KeyError",
     "evalue": "'fold_1'",
     "output_type": "error",
     "traceback": [
      "\u001b[0;31m---------------------------------------------------------------------------\u001b[0m",
      "\u001b[0;31mKeyError\u001b[0m                                  Traceback (most recent call last)",
      "Cell \u001b[0;32mIn[20], line 6\u001b[0m\n\u001b[1;32m      4\u001b[0m \u001b[38;5;28;01mfor\u001b[39;00m _model \u001b[38;5;129;01min\u001b[39;00m  models:\n\u001b[1;32m      5\u001b[0m     average_loss \u001b[38;5;241m+\u001b[39m\u001b[38;5;241m=\u001b[39m cross_entropy[_model]\n\u001b[0;32m----> 6\u001b[0m     average_acc \u001b[38;5;241m+\u001b[39m\u001b[38;5;241m=\u001b[39m \u001b[43maccuracy\u001b[49m\u001b[43m[\u001b[49m\u001b[43m_model\u001b[49m\u001b[43m]\u001b[49m\n\u001b[1;32m      7\u001b[0m     \u001b[38;5;28mprint\u001b[39m(\u001b[38;5;124mf\u001b[39m\u001b[38;5;124m\"\u001b[39m\u001b[38;5;132;01m{\u001b[39;00m_model\u001b[38;5;132;01m}\u001b[39;00m\u001b[38;5;124m: acc: \u001b[39m\u001b[38;5;132;01m{\u001b[39;00maccuracy[_model]\u001b[38;5;132;01m:\u001b[39;00m\u001b[38;5;124m.4f\u001b[39m\u001b[38;5;132;01m}\u001b[39;00m\u001b[38;5;124m loss: \u001b[39m\u001b[38;5;132;01m{\u001b[39;00mcross_entropy[_model]\u001b[38;5;132;01m:\u001b[39;00m\u001b[38;5;124m.4f\u001b[39m\u001b[38;5;132;01m}\u001b[39;00m\u001b[38;5;124m\"\u001b[39m)\n\u001b[1;32m      9\u001b[0m \u001b[38;5;28mprint\u001b[39m(\u001b[38;5;124mf\u001b[39m\u001b[38;5;124m\"\u001b[39m\u001b[38;5;130;01m\\n\u001b[39;00m\u001b[38;5;124mAverage accuracy: \u001b[39m\u001b[38;5;132;01m{\u001b[39;00maverage_acc\u001b[38;5;241m/\u001b[39m\u001b[38;5;241m5\u001b[39m\u001b[38;5;132;01m:\u001b[39;00m\u001b[38;5;124m.4f\u001b[39m\u001b[38;5;132;01m}\u001b[39;00m\u001b[38;5;124m  Average loss: \u001b[39m\u001b[38;5;132;01m{\u001b[39;00maverage_loss\u001b[38;5;241m/\u001b[39m\u001b[38;5;241m5\u001b[39m\u001b[38;5;132;01m:\u001b[39;00m\u001b[38;5;124m.4f\u001b[39m\u001b[38;5;132;01m}\u001b[39;00m\u001b[38;5;124m\"\u001b[39m)\n",
      "\u001b[0;31mKeyError\u001b[0m: 'fold_1'"
     ]
    }
   ],
   "source": [
    "average_loss = 0\n",
    "average_acc = 0\n",
    "\n",
    "for _model in  models:\n",
    "    average_loss += cross_entropy[_model]\n",
    "    average_acc += accuracy[_model]\n",
    "    print(f\"{_model}: acc: {accuracy[_model]:.4f} loss: {cross_entropy[_model]:.4f}\")\n",
    "\n",
    "print(f\"\\nAverage accuracy: {average_acc/5:.4f}  Average loss: {average_loss/5:.4f}\")"
   ]
  },
  {
   "cell_type": "code",
   "execution_count": null,
   "id": "bc829287",
   "metadata": {
    "execution": {
     "iopub.execute_input": "2023-07-28T05:02:22.439451Z",
     "iopub.status.busy": "2023-07-28T05:02:22.439031Z",
     "iopub.status.idle": "2023-07-28T05:02:22.450700Z",
     "shell.execute_reply": "2023-07-28T05:02:22.448946Z",
     "shell.execute_reply.started": "2023-07-28T05:02:22.439416Z"
    },
    "papermill": {
     "duration": null,
     "end_time": null,
     "exception": null,
     "start_time": null,
     "status": "pending"
    },
    "tags": []
   },
   "outputs": [],
   "source": [
    "inspector = models['fold_1'].make_inspector()\n",
    "\n",
    "print(f\"Available variable importances:\")\n",
    "for importance in inspector.variable_importances().keys():\n",
    "  print(\"\\t\", importance)"
   ]
  },
  {
   "cell_type": "code",
   "execution_count": null,
   "id": "b9725dfc",
   "metadata": {
    "execution": {
     "iopub.execute_input": "2023-07-28T05:02:32.603947Z",
     "iopub.status.busy": "2023-07-28T05:02:32.603321Z",
     "iopub.status.idle": "2023-07-28T05:02:32.616614Z",
     "shell.execute_reply": "2023-07-28T05:02:32.614979Z",
     "shell.execute_reply.started": "2023-07-28T05:02:32.603898Z"
    },
    "papermill": {
     "duration": null,
     "end_time": null,
     "exception": null,
     "start_time": null,
     "status": "pending"
    },
    "tags": []
   },
   "outputs": [],
   "source": [
    "# Each line is: (feature name, (index of the feature), importance score)\n",
    "inspector.variable_importances()[\"NUM_AS_ROOT\"]"
   ]
  },
  {
   "cell_type": "code",
   "execution_count": null,
   "id": "42fec633",
   "metadata": {
    "execution": {
     "iopub.execute_input": "2023-07-28T05:02:48.905661Z",
     "iopub.status.busy": "2023-07-28T05:02:48.905170Z",
     "iopub.status.idle": "2023-07-28T05:02:49.157089Z",
     "shell.execute_reply": "2023-07-28T05:02:49.155676Z",
     "shell.execute_reply.started": "2023-07-28T05:02:48.905616Z"
    },
    "papermill": {
     "duration": null,
     "end_time": null,
     "exception": null,
     "start_time": null,
     "status": "pending"
    },
    "tags": []
   },
   "outputs": [],
   "source": [
    "test_df = pd.read_csv('/kaggle/input/icr-identify-age-related-conditions/test.csv')\n",
    "test_ds_pd = test_df\n",
    "test_df_columns = test_ds_pd.columns.tolist()\n",
    "TEST_FEATURE_COLUMNS = [i for i in FEATURE_COLUMNS \\\n",
    "                        if i in test_df_columns and i != \"Class\"]\n",
    "test_ds_pd = test_ds_pd[TEST_FEATURE_COLUMNS]\n",
    "test_ds = tfdf.keras.pd_dataframe_to_tf_dataset(test_ds_pd)\n",
    "predictions = models['fold_1'].predict(test_ds)\n",
    "n_predictions= [[round(abs(i-1), 8), i] for i in predictions.ravel()]\n",
    "print(n_predictions)"
   ]
  },
  {
   "cell_type": "code",
   "execution_count": null,
   "id": "67d92178",
   "metadata": {
    "execution": {
     "iopub.execute_input": "2023-07-28T05:02:56.050788Z",
     "iopub.status.busy": "2023-07-28T05:02:56.050249Z",
     "iopub.status.idle": "2023-07-28T05:02:56.064708Z",
     "shell.execute_reply": "2023-07-28T05:02:56.063198Z",
     "shell.execute_reply.started": "2023-07-28T05:02:56.050748Z"
    },
    "papermill": {
     "duration": null,
     "end_time": null,
     "exception": null,
     "start_time": null,
     "status": "pending"
    },
    "tags": []
   },
   "outputs": [],
   "source": [
    "# Create a DataFrame with the predictions.\n",
    "predictions = pd.DataFrame(n_predictions, columns=['id', 'prediction'])\n",
    "\n",
    "# Save the DataFrame to a CSV file.\n",
    "predictions.to_csv('submission.csv', index=False)"
   ]
  },
  {
   "cell_type": "code",
   "execution_count": null,
   "id": "3cc0ec48",
   "metadata": {
    "papermill": {
     "duration": null,
     "end_time": null,
     "exception": null,
     "start_time": null,
     "status": "pending"
    },
    "tags": []
   },
   "outputs": [],
   "source": []
  }
 ],
 "metadata": {
  "kernelspec": {
   "display_name": "Python 3",
   "language": "python",
   "name": "python3"
  },
  "language_info": {
   "codemirror_mode": {
    "name": "ipython",
    "version": 3
   },
   "file_extension": ".py",
   "mimetype": "text/x-python",
   "name": "python",
   "nbconvert_exporter": "python",
   "pygments_lexer": "ipython3",
   "version": "3.10.12"
  },
  "papermill": {
   "default_parameters": {},
   "duration": 69.38862,
   "end_time": "2023-07-28T05:06:02.341225",
   "environment_variables": {},
   "exception": true,
   "input_path": "__notebook__.ipynb",
   "output_path": "__notebook__.ipynb",
   "parameters": {},
   "start_time": "2023-07-28T05:04:52.952605",
   "version": "2.4.0"
  }
 },
 "nbformat": 4,
 "nbformat_minor": 5
}
