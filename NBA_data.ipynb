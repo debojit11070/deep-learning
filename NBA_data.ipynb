{
  "cells": [
    {
      "cell_type": "code",
      "execution_count": 2,
      "metadata": {
        "colab": {
          "base_uri": "https://localhost:8080/"
        },
        "id": "K9mPPqwKsCyh",
        "outputId": "dfd1575f-f974-4146-8068-4446d8216564"
      },
      "outputs": [
        {
          "output_type": "stream",
          "name": "stdout",
          "text": [
            "Requirement already satisfied: playwright in /usr/local/lib/python3.10/dist-packages (1.46.0)\n",
            "Requirement already satisfied: greenlet==3.0.3 in /usr/local/lib/python3.10/dist-packages (from playwright) (3.0.3)\n",
            "Requirement already satisfied: pyee==11.1.0 in /usr/local/lib/python3.10/dist-packages (from playwright) (11.1.0)\n",
            "Requirement already satisfied: typing-extensions in /usr/local/lib/python3.10/dist-packages (from pyee==11.1.0->playwright) (4.12.2)\n"
          ]
        }
      ],
      "source": [
        "!pip install playwright"
      ]
    },
    {
      "cell_type": "code",
      "execution_count": 3,
      "metadata": {
        "colab": {
          "base_uri": "https://localhost:8080/"
        },
        "id": "7K38iS_JsRM4",
        "outputId": "574bfda8-e340-4b31-94fb-01c57c2a0ed5"
      },
      "outputs": [
        {
          "output_type": "stream",
          "name": "stdout",
          "text": [
            "Requirement already satisfied: beautifulsoup4 in /usr/local/lib/python3.10/dist-packages (4.12.3)\n",
            "Requirement already satisfied: soupsieve>1.2 in /usr/local/lib/python3.10/dist-packages (from beautifulsoup4) (2.6)\n"
          ]
        }
      ],
      "source": [
        "!pip install beautifulsoup4"
      ]
    },
    {
      "cell_type": "code",
      "execution_count": 4,
      "metadata": {
        "id": "9M9FB-jfshiu"
      },
      "outputs": [],
      "source": [
        "import os\n",
        "from bs4 import BeautifulSoup\n",
        "from playwright.async_api import async_playwright, TimeoutError as PlaywrightTimeout\n",
        "import time"
      ]
    },
    {
      "cell_type": "code",
      "execution_count": 5,
      "metadata": {
        "id": "3zJP7oI1tHec"
      },
      "outputs": [],
      "source": [
        "SEASONS = list(range(2010,2024))"
      ]
    },
    {
      "cell_type": "code",
      "execution_count": 6,
      "metadata": {
        "colab": {
          "base_uri": "https://localhost:8080/"
        },
        "id": "YgcK0pZjt0i-",
        "outputId": "5bd4525a-85de-49a8-d5fe-6d1c696141ff"
      },
      "outputs": [
        {
          "output_type": "execute_result",
          "data": {
            "text/plain": [
              "[2010,\n",
              " 2011,\n",
              " 2012,\n",
              " 2013,\n",
              " 2014,\n",
              " 2015,\n",
              " 2016,\n",
              " 2017,\n",
              " 2018,\n",
              " 2019,\n",
              " 2020,\n",
              " 2021,\n",
              " 2022,\n",
              " 2023]"
            ]
          },
          "metadata": {},
          "execution_count": 6
        }
      ],
      "source": [
        "SEASONS"
      ]
    },
    {
      "cell_type": "code",
      "execution_count": 7,
      "metadata": {
        "id": "12YPkaeIt1fs"
      },
      "outputs": [],
      "source": [
        "DATA_DIR = \"data\"\n",
        "STANDINGS_DIR = os.path.join(DATA_DIR, \"standings\")\n",
        "SCORES_DIR = os.path.join(DATA_DIR, \"scores\")"
      ]
    },
    {
      "cell_type": "code",
      "execution_count": 8,
      "metadata": {
        "colab": {
          "base_uri": "https://localhost:8080/",
          "height": 36
        },
        "id": "FskW_NCyuAK3",
        "outputId": "57932ea2-14cf-4424-c8a7-91fbec06b819"
      },
      "outputs": [
        {
          "output_type": "execute_result",
          "data": {
            "text/plain": [
              "'data/standings'"
            ],
            "application/vnd.google.colaboratory.intrinsic+json": {
              "type": "string"
            }
          },
          "metadata": {},
          "execution_count": 8
        }
      ],
      "source": [
        "STANDINGS_DIR"
      ]
    },
    {
      "cell_type": "code",
      "source": [
        "!playwright install"
      ],
      "metadata": {
        "id": "GY_2uoHm6lTh",
        "outputId": "ff4a6b11-d6cc-4788-866a-01c9f79f2da8",
        "colab": {
          "base_uri": "https://localhost:8080/"
        }
      },
      "execution_count": 12,
      "outputs": [
        {
          "output_type": "stream",
          "name": "stdout",
          "text": [
            "Downloading Chromium 128.0.6613.18 (playwright build v1129)\u001b[2m from https://playwright.azureedge.net/builds/chromium/1129/chromium-linux.zip\u001b[22m\n",
            "\u001b[1G162.8 MiB [] 0% 0.0s\u001b[0K\u001b[1G162.8 MiB [] 0% 29.7s\u001b[0K\u001b[1G162.8 MiB [] 0% 24.6s\u001b[0K\u001b[1G162.8 MiB [] 0% 13.4s\u001b[0K\u001b[1G162.8 MiB [] 0% 10.0s\u001b[0K\u001b[1G162.8 MiB [] 1% 6.0s\u001b[0K\u001b[1G162.8 MiB [] 1% 5.1s\u001b[0K\u001b[1G162.8 MiB [] 2% 4.6s\u001b[0K\u001b[1G162.8 MiB [] 2% 4.5s\u001b[0K\u001b[1G162.8 MiB [] 3% 4.5s\u001b[0K\u001b[1G162.8 MiB [] 3% 4.4s\u001b[0K\u001b[1G162.8 MiB [] 4% 4.2s\u001b[0K\u001b[1G162.8 MiB [] 4% 4.1s\u001b[0K\u001b[1G162.8 MiB [] 5% 3.8s\u001b[0K\u001b[1G162.8 MiB [] 5% 3.7s\u001b[0K\u001b[1G162.8 MiB [] 6% 3.6s\u001b[0K\u001b[1G162.8 MiB [] 7% 3.6s\u001b[0K\u001b[1G162.8 MiB [] 8% 3.4s\u001b[0K\u001b[1G162.8 MiB [] 8% 3.3s\u001b[0K\u001b[1G162.8 MiB [] 9% 3.3s\u001b[0K\u001b[1G162.8 MiB [] 10% 3.2s\u001b[0K\u001b[1G162.8 MiB [] 11% 3.2s\u001b[0K\u001b[1G162.8 MiB [] 11% 3.1s\u001b[0K\u001b[1G162.8 MiB [] 12% 3.1s\u001b[0K\u001b[1G162.8 MiB [] 13% 3.1s\u001b[0K\u001b[1G162.8 MiB [] 14% 3.0s\u001b[0K\u001b[1G162.8 MiB [] 15% 2.9s\u001b[0K\u001b[1G162.8 MiB [] 15% 3.0s\u001b[0K\u001b[1G162.8 MiB [] 16% 2.9s\u001b[0K\u001b[1G162.8 MiB [] 17% 2.8s\u001b[0K\u001b[1G162.8 MiB [] 18% 2.7s\u001b[0K\u001b[1G162.8 MiB [] 19% 2.6s\u001b[0K\u001b[1G162.8 MiB [] 20% 2.6s\u001b[0K\u001b[1G162.8 MiB [] 21% 2.5s\u001b[0K\u001b[1G162.8 MiB [] 22% 2.5s\u001b[0K\u001b[1G162.8 MiB [] 22% 2.4s\u001b[0K\u001b[1G162.8 MiB [] 23% 2.5s\u001b[0K\u001b[1G162.8 MiB [] 24% 2.4s\u001b[0K\u001b[1G162.8 MiB [] 25% 2.4s\u001b[0K\u001b[1G162.8 MiB [] 26% 2.3s\u001b[0K\u001b[1G162.8 MiB [] 27% 2.2s\u001b[0K\u001b[1G162.8 MiB [] 28% 2.1s\u001b[0K\u001b[1G162.8 MiB [] 29% 2.1s\u001b[0K\u001b[1G162.8 MiB [] 30% 2.0s\u001b[0K\u001b[1G162.8 MiB [] 31% 2.0s\u001b[0K\u001b[1G162.8 MiB [] 32% 2.0s\u001b[0K\u001b[1G162.8 MiB [] 32% 1.9s\u001b[0K\u001b[1G162.8 MiB [] 33% 1.9s\u001b[0K\u001b[1G162.8 MiB [] 34% 1.9s\u001b[0K\u001b[1G162.8 MiB [] 35% 1.8s\u001b[0K\u001b[1G162.8 MiB [] 36% 1.8s\u001b[0K\u001b[1G162.8 MiB [] 37% 1.7s\u001b[0K\u001b[1G162.8 MiB [] 38% 1.7s\u001b[0K\u001b[1G162.8 MiB [] 39% 1.6s\u001b[0K\u001b[1G162.8 MiB [] 40% 1.6s\u001b[0K\u001b[1G162.8 MiB [] 41% 1.6s\u001b[0K\u001b[1G162.8 MiB [] 42% 1.5s\u001b[0K\u001b[1G162.8 MiB [] 43% 1.5s\u001b[0K\u001b[1G162.8 MiB [] 44% 1.5s\u001b[0K\u001b[1G162.8 MiB [] 45% 1.5s\u001b[0K\u001b[1G162.8 MiB [] 46% 1.4s\u001b[0K\u001b[1G162.8 MiB [] 47% 1.4s\u001b[0K\u001b[1G162.8 MiB [] 48% 1.4s\u001b[0K\u001b[1G162.8 MiB [] 49% 1.3s\u001b[0K\u001b[1G162.8 MiB [] 50% 1.3s\u001b[0K\u001b[1G162.8 MiB [] 51% 1.3s\u001b[0K\u001b[1G162.8 MiB [] 52% 1.2s\u001b[0K\u001b[1G162.8 MiB [] 53% 1.2s\u001b[0K\u001b[1G162.8 MiB [] 54% 1.2s\u001b[0K\u001b[1G162.8 MiB [] 55% 1.1s\u001b[0K\u001b[1G162.8 MiB [] 56% 1.1s\u001b[0K\u001b[1G162.8 MiB [] 57% 1.1s\u001b[0K\u001b[1G162.8 MiB [] 58% 1.0s\u001b[0K\u001b[1G162.8 MiB [] 59% 1.0s\u001b[0K\u001b[1G162.8 MiB [] 60% 1.0s\u001b[0K\u001b[1G162.8 MiB [] 61% 1.0s\u001b[0K\u001b[1G162.8 MiB [] 62% 0.9s\u001b[0K\u001b[1G162.8 MiB [] 63% 0.9s\u001b[0K\u001b[1G162.8 MiB [] 64% 0.9s\u001b[0K\u001b[1G162.8 MiB [] 65% 0.8s\u001b[0K\u001b[1G162.8 MiB [] 66% 0.8s\u001b[0K\u001b[1G162.8 MiB [] 67% 0.8s\u001b[0K\u001b[1G162.8 MiB [] 68% 0.8s\u001b[0K\u001b[1G162.8 MiB [] 69% 0.7s\u001b[0K\u001b[1G162.8 MiB [] 70% 0.7s\u001b[0K\u001b[1G162.8 MiB [] 71% 0.7s\u001b[0K\u001b[1G162.8 MiB [] 72% 0.7s\u001b[0K\u001b[1G162.8 MiB [] 73% 0.7s\u001b[0K\u001b[1G162.8 MiB [] 74% 0.6s\u001b[0K\u001b[1G162.8 MiB [] 75% 0.6s\u001b[0K\u001b[1G162.8 MiB [] 76% 0.6s\u001b[0K\u001b[1G162.8 MiB [] 77% 0.6s\u001b[0K\u001b[1G162.8 MiB [] 78% 0.6s\u001b[0K\u001b[1G162.8 MiB [] 78% 0.5s\u001b[0K\u001b[1G162.8 MiB [] 79% 0.5s\u001b[0K\u001b[1G162.8 MiB [] 80% 0.5s\u001b[0K\u001b[1G162.8 MiB [] 81% 0.5s\u001b[0K\u001b[1G162.8 MiB [] 82% 0.4s\u001b[0K\u001b[1G162.8 MiB [] 83% 0.4s\u001b[0K\u001b[1G162.8 MiB [] 85% 0.4s\u001b[0K\u001b[1G162.8 MiB [] 86% 0.3s\u001b[0K\u001b[1G162.8 MiB [] 87% 0.3s\u001b[0K\u001b[1G162.8 MiB [] 89% 0.3s\u001b[0K\u001b[1G162.8 MiB [] 90% 0.2s\u001b[0K\u001b[1G162.8 MiB [] 91% 0.2s\u001b[0K\u001b[1G162.8 MiB [] 92% 0.2s\u001b[0K\u001b[1G162.8 MiB [] 93% 0.2s\u001b[0K\u001b[1G162.8 MiB [] 94% 0.1s\u001b[0K\u001b[1G162.8 MiB [] 95% 0.1s\u001b[0K\u001b[1G162.8 MiB [] 96% 0.1s\u001b[0K\u001b[1G162.8 MiB [] 98% 0.0s\u001b[0K\u001b[1G162.8 MiB [] 99% 0.0s\u001b[0K\u001b[1G162.8 MiB [] 100% 0.0s\u001b[0K\n",
            "Chromium 128.0.6613.18 (playwright build v1129) downloaded to /root/.cache/ms-playwright/chromium-1129\n",
            "Downloading FFMPEG playwright build v1009\u001b[2m from https://playwright.azureedge.net/builds/ffmpeg/1009/ffmpeg-linux.zip\u001b[22m\n",
            "\u001b[1G2.6 MiB [] 0% 0.0s\u001b[0K\u001b[1G2.6 MiB [] 3% 0.9s\u001b[0K\u001b[1G2.6 MiB [] 8% 0.5s\u001b[0K\u001b[1G2.6 MiB [] 19% 0.2s\u001b[0K\u001b[1G2.6 MiB [] 41% 0.1s\u001b[0K\u001b[1G2.6 MiB [] 64% 0.0s\u001b[0K\u001b[1G2.6 MiB [] 91% 0.0s\u001b[0K\u001b[1G2.6 MiB [] 100% 0.0s\u001b[0K\n",
            "FFMPEG playwright build v1009 downloaded to /root/.cache/ms-playwright/ffmpeg-1009\n",
            "Downloading Firefox 128.0 (playwright build v1458)\u001b[2m from https://playwright.azureedge.net/builds/firefox/1458/firefox-ubuntu-22.04.zip\u001b[22m\n",
            "\u001b[1G85.6 MiB [] 0% 0.0s\u001b[0K\u001b[1G85.6 MiB [] 0% 20.9s\u001b[0K\u001b[1G85.6 MiB [] 0% 13.7s\u001b[0K\u001b[1G85.6 MiB [] 0% 8.4s\u001b[0K\u001b[1G85.6 MiB [] 1% 5.0s\u001b[0K\u001b[1G85.6 MiB [] 1% 4.7s\u001b[0K\u001b[1G85.6 MiB [] 2% 4.1s\u001b[0K\u001b[1G85.6 MiB [] 3% 3.8s\u001b[0K\u001b[1G85.6 MiB [] 3% 3.5s\u001b[0K\u001b[1G85.6 MiB [] 4% 3.5s\u001b[0K\u001b[1G85.6 MiB [] 4% 3.4s\u001b[0K\u001b[1G85.6 MiB [] 5% 3.4s\u001b[0K\u001b[1G85.6 MiB [] 5% 3.3s\u001b[0K\u001b[1G85.6 MiB [] 6% 3.3s\u001b[0K\u001b[1G85.6 MiB [] 7% 3.0s\u001b[0K\u001b[1G85.6 MiB [] 7% 3.2s\u001b[0K\u001b[1G85.6 MiB [] 7% 3.3s\u001b[0K\u001b[1G85.6 MiB [] 8% 3.2s\u001b[0K\u001b[1G85.6 MiB [] 9% 2.9s\u001b[0K\u001b[1G85.6 MiB [] 9% 3.0s\u001b[0K\u001b[1G85.6 MiB [] 10% 2.8s\u001b[0K\u001b[1G85.6 MiB [] 11% 2.7s\u001b[0K\u001b[1G85.6 MiB [] 12% 2.6s\u001b[0K\u001b[1G85.6 MiB [] 13% 2.6s\u001b[0K\u001b[1G85.6 MiB [] 14% 2.5s\u001b[0K\u001b[1G85.6 MiB [] 15% 2.4s\u001b[0K\u001b[1G85.6 MiB [] 16% 2.3s\u001b[0K\u001b[1G85.6 MiB [] 17% 2.2s\u001b[0K\u001b[1G85.6 MiB [] 17% 2.3s\u001b[0K\u001b[1G85.6 MiB [] 18% 2.2s\u001b[0K\u001b[1G85.6 MiB [] 19% 2.1s\u001b[0K\u001b[1G85.6 MiB [] 20% 2.1s\u001b[0K\u001b[1G85.6 MiB [] 21% 2.0s\u001b[0K\u001b[1G85.6 MiB [] 22% 2.0s\u001b[0K\u001b[1G85.6 MiB [] 23% 1.9s\u001b[0K\u001b[1G85.6 MiB [] 24% 1.8s\u001b[0K\u001b[1G85.6 MiB [] 26% 1.8s\u001b[0K\u001b[1G85.6 MiB [] 27% 1.7s\u001b[0K\u001b[1G85.6 MiB [] 28% 1.7s\u001b[0K\u001b[1G85.6 MiB [] 29% 1.6s\u001b[0K\u001b[1G85.6 MiB [] 30% 1.6s\u001b[0K\u001b[1G85.6 MiB [] 31% 1.5s\u001b[0K\u001b[1G85.6 MiB [] 33% 1.5s\u001b[0K\u001b[1G85.6 MiB [] 35% 1.4s\u001b[0K\u001b[1G85.6 MiB [] 37% 1.3s\u001b[0K\u001b[1G85.6 MiB [] 38% 1.3s\u001b[0K\u001b[1G85.6 MiB [] 39% 1.2s\u001b[0K\u001b[1G85.6 MiB [] 41% 1.2s\u001b[0K\u001b[1G85.6 MiB [] 42% 1.1s\u001b[0K\u001b[1G85.6 MiB [] 43% 1.1s\u001b[0K\u001b[1G85.6 MiB [] 44% 1.1s\u001b[0K\u001b[1G85.6 MiB [] 45% 1.1s\u001b[0K\u001b[1G85.6 MiB [] 46% 1.1s\u001b[0K\u001b[1G85.6 MiB [] 47% 1.1s\u001b[0K\u001b[1G85.6 MiB [] 48% 1.0s\u001b[0K\u001b[1G85.6 MiB [] 50% 1.0s\u001b[0K\u001b[1G85.6 MiB [] 52% 0.9s\u001b[0K\u001b[1G85.6 MiB [] 54% 0.9s\u001b[0K\u001b[1G85.6 MiB [] 55% 0.8s\u001b[0K\u001b[1G85.6 MiB [] 57% 0.8s\u001b[0K\u001b[1G85.6 MiB [] 58% 0.8s\u001b[0K\u001b[1G85.6 MiB [] 60% 0.7s\u001b[0K\u001b[1G85.6 MiB [] 61% 0.7s\u001b[0K\u001b[1G85.6 MiB [] 63% 0.6s\u001b[0K\u001b[1G85.6 MiB [] 64% 0.6s\u001b[0K\u001b[1G85.6 MiB [] 65% 0.6s\u001b[0K\u001b[1G85.6 MiB [] 67% 0.6s\u001b[0K\u001b[1G85.6 MiB [] 68% 0.5s\u001b[0K\u001b[1G85.6 MiB [] 70% 0.5s\u001b[0K\u001b[1G85.6 MiB [] 72% 0.5s\u001b[0K\u001b[1G85.6 MiB [] 74% 0.4s\u001b[0K\u001b[1G85.6 MiB [] 76% 0.4s\u001b[0K\u001b[1G85.6 MiB [] 78% 0.3s\u001b[0K\u001b[1G85.6 MiB [] 80% 0.3s\u001b[0K\u001b[1G85.6 MiB [] 82% 0.3s\u001b[0K\u001b[1G85.6 MiB [] 84% 0.2s\u001b[0K\u001b[1G85.6 MiB [] 86% 0.2s\u001b[0K\u001b[1G85.6 MiB [] 87% 0.2s\u001b[0K\u001b[1G85.6 MiB [] 89% 0.2s\u001b[0K\u001b[1G85.6 MiB [] 91% 0.1s\u001b[0K\u001b[1G85.6 MiB [] 93% 0.1s\u001b[0K\u001b[1G85.6 MiB [] 94% 0.1s\u001b[0K\u001b[1G85.6 MiB [] 96% 0.1s\u001b[0K\u001b[1G85.6 MiB [] 97% 0.0s\u001b[0K\u001b[1G85.6 MiB [] 98% 0.0s\u001b[0K\u001b[1G85.6 MiB [] 100% 0.0s\u001b[0K\n",
            "Firefox 128.0 (playwright build v1458) downloaded to /root/.cache/ms-playwright/firefox-1458\n",
            "Downloading Webkit 18.0 (playwright build v2051)\u001b[2m from https://playwright.azureedge.net/builds/webkit/2051/webkit-ubuntu-22.04.zip\u001b[22m\n",
            "\u001b[1G87.3 MiB [] 0% 0.0s\u001b[0K\u001b[1G87.3 MiB [] 0% 15.9s\u001b[0K\u001b[1G87.3 MiB [] 0% 12.3s\u001b[0K\u001b[1G87.3 MiB [] 0% 6.3s\u001b[0K\u001b[1G87.3 MiB [] 1% 3.7s\u001b[0K\u001b[1G87.3 MiB [] 2% 2.8s\u001b[0K\u001b[1G87.3 MiB [] 3% 2.4s\u001b[0K\u001b[1G87.3 MiB [] 4% 2.2s\u001b[0K\u001b[1G87.3 MiB [] 5% 2.1s\u001b[0K\u001b[1G87.3 MiB [] 6% 2.1s\u001b[0K\u001b[1G87.3 MiB [] 7% 2.1s\u001b[0K\u001b[1G87.3 MiB [] 9% 1.9s\u001b[0K\u001b[1G87.3 MiB [] 10% 1.8s\u001b[0K\u001b[1G87.3 MiB [] 12% 1.7s\u001b[0K\u001b[1G87.3 MiB [] 13% 1.6s\u001b[0K\u001b[1G87.3 MiB [] 14% 1.6s\u001b[0K\u001b[1G87.3 MiB [] 15% 1.5s\u001b[0K\u001b[1G87.3 MiB [] 16% 1.5s\u001b[0K\u001b[1G87.3 MiB [] 17% 1.5s\u001b[0K\u001b[1G87.3 MiB [] 18% 1.4s\u001b[0K\u001b[1G87.3 MiB [] 19% 1.4s\u001b[0K\u001b[1G87.3 MiB [] 21% 1.3s\u001b[0K\u001b[1G87.3 MiB [] 22% 1.3s\u001b[0K\u001b[1G87.3 MiB [] 23% 1.3s\u001b[0K\u001b[1G87.3 MiB [] 24% 1.2s\u001b[0K\u001b[1G87.3 MiB [] 26% 1.2s\u001b[0K\u001b[1G87.3 MiB [] 28% 1.1s\u001b[0K\u001b[1G87.3 MiB [] 29% 1.1s\u001b[0K\u001b[1G87.3 MiB [] 31% 1.0s\u001b[0K\u001b[1G87.3 MiB [] 33% 1.0s\u001b[0K\u001b[1G87.3 MiB [] 35% 0.9s\u001b[0K\u001b[1G87.3 MiB [] 36% 0.9s\u001b[0K\u001b[1G87.3 MiB [] 38% 0.9s\u001b[0K\u001b[1G87.3 MiB [] 40% 0.8s\u001b[0K\u001b[1G87.3 MiB [] 42% 0.8s\u001b[0K\u001b[1G87.3 MiB [] 43% 0.8s\u001b[0K\u001b[1G87.3 MiB [] 44% 0.8s\u001b[0K\u001b[1G87.3 MiB [] 46% 0.7s\u001b[0K\u001b[1G87.3 MiB [] 47% 0.7s\u001b[0K\u001b[1G87.3 MiB [] 49% 0.7s\u001b[0K\u001b[1G87.3 MiB [] 50% 0.7s\u001b[0K\u001b[1G87.3 MiB [] 52% 0.6s\u001b[0K\u001b[1G87.3 MiB [] 54% 0.6s\u001b[0K\u001b[1G87.3 MiB [] 56% 0.6s\u001b[0K\u001b[1G87.3 MiB [] 58% 0.5s\u001b[0K\u001b[1G87.3 MiB [] 60% 0.5s\u001b[0K\u001b[1G87.3 MiB [] 61% 0.5s\u001b[0K\u001b[1G87.3 MiB [] 64% 0.4s\u001b[0K\u001b[1G87.3 MiB [] 65% 0.4s\u001b[0K\u001b[1G87.3 MiB [] 67% 0.4s\u001b[0K\u001b[1G87.3 MiB [] 69% 0.4s\u001b[0K\u001b[1G87.3 MiB [] 71% 0.3s\u001b[0K\u001b[1G87.3 MiB [] 73% 0.3s\u001b[0K\u001b[1G87.3 MiB [] 75% 0.3s\u001b[0K\u001b[1G87.3 MiB [] 77% 0.3s\u001b[0K\u001b[1G87.3 MiB [] 79% 0.2s\u001b[0K\u001b[1G87.3 MiB [] 81% 0.2s\u001b[0K\u001b[1G87.3 MiB [] 83% 0.2s\u001b[0K\u001b[1G87.3 MiB [] 85% 0.2s\u001b[0K\u001b[1G87.3 MiB [] 88% 0.1s\u001b[0K\u001b[1G87.3 MiB [] 90% 0.1s\u001b[0K\u001b[1G87.3 MiB [] 92% 0.1s\u001b[0K\u001b[1G87.3 MiB [] 94% 0.1s\u001b[0K\u001b[1G87.3 MiB [] 97% 0.0s\u001b[0K\u001b[1G87.3 MiB [] 99% 0.0s\u001b[0K\u001b[1G87.3 MiB [] 100% 0.0s\u001b[0K\n",
            "Webkit 18.0 (playwright build v2051) downloaded to /root/.cache/ms-playwright/webkit-2051\n",
            "Playwright Host validation warning: \n",
            "╔══════════════════════════════════════════════════════╗\n",
            "║ Host system is missing dependencies to run browsers. ║\n",
            "║ Missing libraries:                                   ║\n",
            "║     libwoff2dec.so.1.0.2                             ║\n",
            "║     libgstgl-1.0.so.0                                ║\n",
            "║     libgstcodecparsers-1.0.so.0                      ║\n",
            "║     libharfbuzz-icu.so.0                             ║\n",
            "║     libenchant-2.so.2                                ║\n",
            "║     libsecret-1.so.0                                 ║\n",
            "║     libhyphen.so.0                                   ║\n",
            "║     libmanette-0.2.so.0                              ║\n",
            "╚══════════════════════════════════════════════════════╝\n",
            "    at validateDependenciesLinux (/usr/local/lib/python3.10/dist-packages/playwright/driver/package/lib/server/registry/dependencies.js:216:9)\n",
            "    at async Registry._validateHostRequirements (/usr/local/lib/python3.10/dist-packages/playwright/driver/package/lib/server/registry/index.js:575:43)\n",
            "    at async Registry._validateHostRequirementsForExecutableIfNeeded (/usr/local/lib/python3.10/dist-packages/playwright/driver/package/lib/server/registry/index.js:673:7)\n",
            "    at async Registry.validateHostRequirementsForExecutablesIfNeeded (/usr/local/lib/python3.10/dist-packages/playwright/driver/package/lib/server/registry/index.js:662:43)\n",
            "    at async t.<anonymous> (/usr/local/lib/python3.10/dist-packages/playwright/driver/package/lib/cli/program.js:119:7)\n"
          ]
        }
      ]
    },
    {
      "cell_type": "code",
      "execution_count": 9,
      "metadata": {
        "id": "E0waniF1utvp"
      },
      "outputs": [],
      "source": [
        "async def get_html(url, selector, sleep=5, retries=3):\n",
        "    html = None\n",
        "    for i in range(1, retries+1):\n",
        "        time.sleep(sleep * i)\n",
        "        try:\n",
        "            async with async_playwright() as p:\n",
        "                browser = await p.chromium.launch()\n",
        "                page = await browser.new_page()\n",
        "                await page.goto(url)\n",
        "                print(await page.title())\n",
        "                html = await page.inner_html(selector)\n",
        "        except PlaywrightTimeout:\n",
        "            print(f\"Timeout error on {url}\")\n",
        "            continue\n",
        "        else:\n",
        "            break\n",
        "    return html"
      ]
    },
    {
      "cell_type": "code",
      "source": [
        "async def scrape_season(season):\n",
        "    url = f\"https://www.basketball-reference.com/leagues/NBA_{season}_games.html\"\n",
        "    html = await get_html(url, \"#content .filter\")\n",
        "\n",
        "    soup = BeautifulSoup(html)\n",
        "    links = soup.find_all(\"a\")\n",
        "    standings_pages = [f\"https://www.basketball-reference.com{l['href']}\" for l in links]\n",
        "\n",
        "    for url in standings_pages:\n",
        "        save_path = os.path.join(STANDINGS_DIR, url.split(\"/\")[-1])\n",
        "        if os.path.exists(save_path):\n",
        "            continue\n",
        "\n",
        "        html = await get_html(url, \"#all_schedule\")\n",
        "        with open(save_path, \"w+\") as f:\n",
        "            f.write(html)"
      ],
      "metadata": {
        "id": "uUpdrldl6Orl"
      },
      "execution_count": 10,
      "outputs": []
    },
    {
      "cell_type": "code",
      "source": [
        "for season in SEASONS:\n",
        "    await scrape_season(season)"
      ],
      "metadata": {
        "colab": {
          "base_uri": "https://localhost:8080/",
          "height": 1000
        },
        "id": "jElAd_ZA6Rpg",
        "outputId": "f9440843-1f68-43bd-b07f-fedc893fb9ad"
      },
      "execution_count": 13,
      "outputs": [
        {
          "output_type": "stream",
          "name": "stdout",
          "text": [
            "2009-10 NBA Schedule | Basketball-Reference.com\n",
            "2009-10 NBA Schedule | Basketball-Reference.com\n",
            "2009-10 NBA Schedule | Basketball-Reference.com\n",
            "2009-10 NBA Schedule | Basketball-Reference.com\n",
            "2009-10 NBA Schedule | Basketball-Reference.com\n",
            "2009-10 NBA Schedule | Basketball-Reference.com\n",
            "2009-10 NBA Schedule | Basketball-Reference.com\n",
            "2009-10 NBA Schedule | Basketball-Reference.com\n",
            "2009-10 NBA Schedule | Basketball-Reference.com\n",
            "2009-10 NBA Schedule | Basketball-Reference.com\n",
            "2010-11 NBA Schedule | Basketball-Reference.com\n",
            "2010-11 NBA Schedule | Basketball-Reference.com\n",
            "2010-11 NBA Schedule | Basketball-Reference.com\n",
            "2010-11 NBA Schedule | Basketball-Reference.com\n",
            "2010-11 NBA Schedule | Basketball-Reference.com\n",
            "2010-11 NBA Schedule | Basketball-Reference.com\n",
            "2010-11 NBA Schedule | Basketball-Reference.com\n",
            "2010-11 NBA Schedule | Basketball-Reference.com\n",
            "2010-11 NBA Schedule | Basketball-Reference.com\n",
            "2010-11 NBA Schedule | Basketball-Reference.com\n",
            "2011-12 NBA Schedule | Basketball-Reference.com\n",
            "Timeout error on https://www.basketball-reference.com/leagues/NBA_2012_games-december.html\n",
            "2011-12 NBA Schedule | Basketball-Reference.com\n",
            "2011-12 NBA Schedule | Basketball-Reference.com\n",
            "2011-12 NBA Schedule | Basketball-Reference.com\n",
            "Timeout error on https://www.basketball-reference.com/leagues/NBA_2012_games-march.html\n",
            "2011-12 NBA Schedule | Basketball-Reference.com\n",
            "2011-12 NBA Schedule | Basketball-Reference.com\n",
            "2011-12 NBA Schedule | Basketball-Reference.com\n",
            "2011-12 NBA Schedule | Basketball-Reference.com\n",
            "2012-13 NBA Schedule | Basketball-Reference.com\n",
            "Timeout error on https://www.basketball-reference.com/leagues/NBA_2013_games-october.html\n",
            "2012-13 NBA Schedule | Basketball-Reference.com\n",
            "2012-13 NBA Schedule | Basketball-Reference.com\n",
            "2012-13 NBA Schedule | Basketball-Reference.com\n",
            "2012-13 NBA Schedule | Basketball-Reference.com\n",
            "2012-13 NBA Schedule | Basketball-Reference.com\n",
            "2012-13 NBA Schedule | Basketball-Reference.com\n",
            "2012-13 NBA Schedule | Basketball-Reference.com\n",
            "2012-13 NBA Schedule | Basketball-Reference.com\n",
            "2012-13 NBA Schedule | Basketball-Reference.com\n",
            "2013-14 NBA Schedule | Basketball-Reference.com\n",
            "2013-14 NBA Schedule | Basketball-Reference.com\n",
            "2013-14 NBA Schedule | Basketball-Reference.com\n",
            "2013-14 NBA Schedule | Basketball-Reference.com\n",
            "2013-14 NBA Schedule | Basketball-Reference.com\n",
            "2013-14 NBA Schedule | Basketball-Reference.com\n",
            "Timeout error on https://www.basketball-reference.com/leagues/NBA_2014_games-march.html\n",
            "2013-14 NBA Schedule | Basketball-Reference.com\n",
            "2013-14 NBA Schedule | Basketball-Reference.com\n",
            "2013-14 NBA Schedule | Basketball-Reference.com\n",
            "2013-14 NBA Schedule | Basketball-Reference.com\n",
            "2014-15 NBA Schedule | Basketball-Reference.com\n",
            "2014-15 NBA Schedule | Basketball-Reference.com\n",
            "2014-15 NBA Schedule | Basketball-Reference.com\n",
            "2014-15 NBA Schedule | Basketball-Reference.com\n",
            "Timeout error on https://www.basketball-reference.com/leagues/NBA_2015_games-january.html\n",
            "2014-15 NBA Schedule | Basketball-Reference.com\n",
            "2014-15 NBA Schedule | Basketball-Reference.com\n",
            "2014-15 NBA Schedule | Basketball-Reference.com\n",
            "2014-15 NBA Schedule | Basketball-Reference.com\n",
            "2014-15 NBA Schedule | Basketball-Reference.com\n",
            "Timeout error on https://www.basketball-reference.com/leagues/NBA_2016_games.html\n",
            "2015-16 NBA Schedule | Basketball-Reference.com\n",
            "Timeout error on https://www.basketball-reference.com/leagues/NBA_2016_games-october.html\n",
            "Timeout error on https://www.basketball-reference.com/leagues/NBA_2016_games-october.html\n",
            "2015-16 NBA Schedule | Basketball-Reference.com\n",
            "Timeout error on https://www.basketball-reference.com/leagues/NBA_2016_games-november.html\n",
            "2015-16 NBA Schedule | Basketball-Reference.com\n",
            "2015-16 NBA Schedule | Basketball-Reference.com\n",
            "2015-16 NBA Schedule | Basketball-Reference.com\n",
            "2015-16 NBA Schedule | Basketball-Reference.com\n",
            "2015-16 NBA Schedule | Basketball-Reference.com\n",
            "Timeout error on https://www.basketball-reference.com/leagues/NBA_2016_games-april.html\n",
            "2015-16 NBA Schedule | Basketball-Reference.com\n",
            "Timeout error on https://www.basketball-reference.com/leagues/NBA_2016_games-may.html\n",
            "2015-16 NBA Schedule | Basketball-Reference.com\n",
            "2015-16 NBA Schedule | Basketball-Reference.com\n",
            "2016-17 NBA Schedule | Basketball-Reference.com\n",
            "2016-17 NBA Schedule | Basketball-Reference.com\n",
            "2016-17 NBA Schedule | Basketball-Reference.com\n",
            "2016-17 NBA Schedule | Basketball-Reference.com\n",
            "2016-17 NBA Schedule | Basketball-Reference.com\n",
            "2016-17 NBA Schedule | Basketball-Reference.com\n",
            "2016-17 NBA Schedule | Basketball-Reference.com\n",
            "2016-17 NBA Schedule | Basketball-Reference.com\n",
            "2016-17 NBA Schedule | Basketball-Reference.com\n",
            "Timeout error on https://www.basketball-reference.com/leagues/NBA_2017_games-june.html\n",
            "2016-17 NBA Schedule | Basketball-Reference.com\n",
            "2017-18 NBA Schedule | Basketball-Reference.com\n",
            "Timeout error on https://www.basketball-reference.com/leagues/NBA_2018_games-october.html\n",
            "2017-18 NBA Schedule | Basketball-Reference.com\n",
            "2017-18 NBA Schedule | Basketball-Reference.com\n",
            "2017-18 NBA Schedule | Basketball-Reference.com\n",
            "2017-18 NBA Schedule | Basketball-Reference.com\n",
            "Timeout error on https://www.basketball-reference.com/leagues/NBA_2018_games-february.html\n",
            "2017-18 NBA Schedule | Basketball-Reference.com\n",
            "2017-18 NBA Schedule | Basketball-Reference.com\n",
            "2017-18 NBA Schedule | Basketball-Reference.com\n",
            "Timeout error on https://www.basketball-reference.com/leagues/NBA_2018_games-may.html\n",
            "Timeout error on https://www.basketball-reference.com/leagues/NBA_2018_games-may.html\n",
            "2017-18 NBA Schedule | Basketball-Reference.com\n",
            "2017-18 NBA Schedule | Basketball-Reference.com\n",
            "2018-19 NBA Schedule | Basketball-Reference.com\n",
            "Timeout error on https://www.basketball-reference.com/leagues/NBA_2019_games-october.html\n",
            "2018-19 NBA Schedule | Basketball-Reference.com\n",
            "2018-19 NBA Schedule | Basketball-Reference.com\n",
            "2018-19 NBA Schedule | Basketball-Reference.com\n",
            "2018-19 NBA Schedule | Basketball-Reference.com\n",
            "2018-19 NBA Schedule | Basketball-Reference.com\n",
            "2018-19 NBA Schedule | Basketball-Reference.com\n",
            "2018-19 NBA Schedule | Basketball-Reference.com\n",
            "2018-19 NBA Schedule | Basketball-Reference.com\n",
            "2018-19 NBA Schedule | Basketball-Reference.com\n",
            "2019-20 NBA Schedule | Basketball-Reference.com\n",
            "2019-20 NBA Schedule | Basketball-Reference.com\n",
            "2019-20 NBA Schedule | Basketball-Reference.com\n",
            "2019-20 NBA Schedule | Basketball-Reference.com\n",
            "2019-20 NBA Schedule | Basketball-Reference.com\n",
            "2019-20 NBA Schedule | Basketball-Reference.com\n",
            "2019-20 NBA Schedule | Basketball-Reference.com\n",
            "2019-20 NBA Schedule | Basketball-Reference.com\n",
            "2019-20 NBA Schedule | Basketball-Reference.com\n",
            "Timeout error on https://www.basketball-reference.com/leagues/NBA_2020_games-september.html\n",
            "Timeout error on https://www.basketball-reference.com/leagues/NBA_2020_games-september.html\n",
            "Timeout error on https://www.basketball-reference.com/leagues/NBA_2020_games-september.html\n"
          ]
        },
        {
          "output_type": "error",
          "ename": "TypeError",
          "evalue": "write() argument must be str, not None",
          "traceback": [
            "\u001b[0;31m---------------------------------------------------------------------------\u001b[0m",
            "\u001b[0;31mTypeError\u001b[0m                                 Traceback (most recent call last)",
            "\u001b[0;32m<ipython-input-13-24bf11286cbb>\u001b[0m in \u001b[0;36m<cell line: 1>\u001b[0;34m()\u001b[0m\n\u001b[1;32m      1\u001b[0m \u001b[0;32mfor\u001b[0m \u001b[0mseason\u001b[0m \u001b[0;32min\u001b[0m \u001b[0mSEASONS\u001b[0m\u001b[0;34m:\u001b[0m\u001b[0;34m\u001b[0m\u001b[0;34m\u001b[0m\u001b[0m\n\u001b[0;32m----> 2\u001b[0;31m     \u001b[0;32mawait\u001b[0m \u001b[0mscrape_season\u001b[0m\u001b[0;34m(\u001b[0m\u001b[0mseason\u001b[0m\u001b[0;34m)\u001b[0m\u001b[0;34m\u001b[0m\u001b[0;34m\u001b[0m\u001b[0m\n\u001b[0m",
            "\u001b[0;32m<ipython-input-10-9210be3ac9d7>\u001b[0m in \u001b[0;36mscrape_season\u001b[0;34m(season)\u001b[0m\n\u001b[1;32m     14\u001b[0m         \u001b[0mhtml\u001b[0m \u001b[0;34m=\u001b[0m \u001b[0;32mawait\u001b[0m \u001b[0mget_html\u001b[0m\u001b[0;34m(\u001b[0m\u001b[0murl\u001b[0m\u001b[0;34m,\u001b[0m \u001b[0;34m\"#all_schedule\"\u001b[0m\u001b[0;34m)\u001b[0m\u001b[0;34m\u001b[0m\u001b[0;34m\u001b[0m\u001b[0m\n\u001b[1;32m     15\u001b[0m         \u001b[0;32mwith\u001b[0m \u001b[0mopen\u001b[0m\u001b[0;34m(\u001b[0m\u001b[0msave_path\u001b[0m\u001b[0;34m,\u001b[0m \u001b[0;34m\"w+\"\u001b[0m\u001b[0;34m)\u001b[0m \u001b[0;32mas\u001b[0m \u001b[0mf\u001b[0m\u001b[0;34m:\u001b[0m\u001b[0;34m\u001b[0m\u001b[0;34m\u001b[0m\u001b[0m\n\u001b[0;32m---> 16\u001b[0;31m             \u001b[0mf\u001b[0m\u001b[0;34m.\u001b[0m\u001b[0mwrite\u001b[0m\u001b[0;34m(\u001b[0m\u001b[0mhtml\u001b[0m\u001b[0;34m)\u001b[0m\u001b[0;34m\u001b[0m\u001b[0;34m\u001b[0m\u001b[0m\n\u001b[0m",
            "\u001b[0;31mTypeError\u001b[0m: write() argument must be str, not None"
          ]
        }
      ]
    },
    {
      "cell_type": "code",
      "source": [],
      "metadata": {
        "id": "9AByC2_26T25"
      },
      "execution_count": null,
      "outputs": []
    }
  ],
  "metadata": {
    "colab": {
      "provenance": []
    },
    "kernelspec": {
      "display_name": "Python 3",
      "name": "python3"
    },
    "language_info": {
      "name": "python"
    }
  },
  "nbformat": 4,
  "nbformat_minor": 0
}