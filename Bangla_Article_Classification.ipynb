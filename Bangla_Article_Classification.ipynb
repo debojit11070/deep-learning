{
  "nbformat": 4,
  "nbformat_minor": 0,
  "metadata": {
    "colab": {
      "provenance": []
    },
    "kernelspec": {
      "name": "python3",
      "display_name": "Python 3"
    },
    "language_info": {
      "name": "python"
    }
  },
  "cells": [
    {
      "cell_type": "code",
      "execution_count": 1,
      "metadata": {
        "colab": {
          "base_uri": "https://localhost:8080/"
        },
        "id": "iAvaIQsP7EAh",
        "outputId": "bbc05abf-f75d-4694-bb2d-8264aa3e35c2"
      },
      "outputs": [
        {
          "output_type": "stream",
          "name": "stdout",
          "text": [
            "Requirement already satisfied: gdown in /usr/local/lib/python3.10/dist-packages (4.6.6)\n",
            "Requirement already satisfied: filelock in /usr/local/lib/python3.10/dist-packages (from gdown) (3.12.2)\n",
            "Requirement already satisfied: requests[socks] in /usr/local/lib/python3.10/dist-packages (from gdown) (2.31.0)\n",
            "Requirement already satisfied: six in /usr/local/lib/python3.10/dist-packages (from gdown) (1.16.0)\n",
            "Requirement already satisfied: tqdm in /usr/local/lib/python3.10/dist-packages (from gdown) (4.66.1)\n",
            "Requirement already satisfied: beautifulsoup4 in /usr/local/lib/python3.10/dist-packages (from gdown) (4.11.2)\n",
            "Requirement already satisfied: soupsieve>1.2 in /usr/local/lib/python3.10/dist-packages (from beautifulsoup4->gdown) (2.4.1)\n",
            "Requirement already satisfied: charset-normalizer<4,>=2 in /usr/local/lib/python3.10/dist-packages (from requests[socks]->gdown) (3.2.0)\n",
            "Requirement already satisfied: idna<4,>=2.5 in /usr/local/lib/python3.10/dist-packages (from requests[socks]->gdown) (3.4)\n",
            "Requirement already satisfied: urllib3<3,>=1.21.1 in /usr/local/lib/python3.10/dist-packages (from requests[socks]->gdown) (2.0.4)\n",
            "Requirement already satisfied: certifi>=2017.4.17 in /usr/local/lib/python3.10/dist-packages (from requests[socks]->gdown) (2023.7.22)\n",
            "Requirement already satisfied: PySocks!=1.5.7,>=1.5.6 in /usr/local/lib/python3.10/dist-packages (from requests[socks]->gdown) (1.7.1)\n",
            "Reading package lists... Done\n",
            "Building dependency tree... Done\n",
            "Reading state information... Done\n",
            "unzip is already the newest version (6.0-26ubuntu3.1).\n",
            "0 upgraded, 0 newly installed, 0 to remove and 16 not upgraded.\n"
          ]
        }
      ],
      "source": [
        "!pip install gdown --no-use-pep517\n",
        "!sudo apt-get install -y unzip"
      ]
    },
    {
      "cell_type": "code",
      "source": [
        "import os\n",
        "\n",
        "import tensorflow as tf\n",
        "import tensorflow_hub as hub\n",
        "\n",
        "import gdown\n",
        "import numpy as np\n",
        "from sklearn.metrics import classification_report\n",
        "import matplotlib.pyplot as plt\n",
        "import seaborn as sns"
      ],
      "metadata": {
        "id": "TDgckfs572Xg"
      },
      "execution_count": 2,
      "outputs": []
    },
    {
      "cell_type": "code",
      "source": [
        "# Dataset\n",
        "gdown.download(\n",
        "    url='https://drive.google.com/uc?id=1Ag0jd21oRwJhVFIBohmX_ogeojVtapLy',\n",
        "    output='bard.zip',\n",
        "    quiet=True\n",
        ")"
      ],
      "metadata": {
        "colab": {
          "base_uri": "https://localhost:8080/",
          "height": 35
        },
        "id": "2a4q1BRs74Mj",
        "outputId": "458d37a9-975c-420c-d2c2-f877f87d135b"
      },
      "execution_count": 3,
      "outputs": [
        {
          "output_type": "execute_result",
          "data": {
            "text/plain": [
              "'bard.zip'"
            ],
            "application/vnd.google.colaboratory.intrinsic+json": {
              "type": "string"
            }
          },
          "metadata": {},
          "execution_count": 3
        }
      ]
    },
    {
      "cell_type": "code",
      "source": [
        "%%bash\n",
        "unzip -qo bard.zip"
      ],
      "metadata": {
        "id": "GgIp_CZ577X6"
      },
      "execution_count": 5,
      "outputs": []
    },
    {
      "cell_type": "code",
      "source": [
        "# Exploring pretrained word vectors to tf hub module\n",
        "%%bash\n",
        "curl -O https://dl.fbaipublicfiles.com/fasttext/vectors-crawl/cc.bn.300.vec.gz\n",
        "curl -O https://raw.githubusercontent.com/tensorflow/hub/master/examples/text_embeddings_v2/export_v2.py\n",
        "gunzip -qf cc.bn.300.vec.gz --k"
      ],
      "metadata": {
        "colab": {
          "base_uri": "https://localhost:8080/"
        },
        "id": "z7sdvG5v783o",
        "outputId": "8e898386-6aeb-478e-90a8-e1f3c4044b5f"
      },
      "execution_count": 6,
      "outputs": [
        {
          "output_type": "stream",
          "name": "stderr",
          "text": [
            "  % Total    % Received % Xferd  Average Speed   Time    Time     Time  Current\n",
            "                                 Dload  Upload   Total   Spent    Left  Speed\n",
            "\r  0     0    0     0    0     0      0      0 --:--:-- --:--:-- --:--:--     0\r  0     0    0     0    0     0      0      0 --:--:-- --:--:-- --:--:--     0\r  1  840M    1 16.1M    0     0  10.9M      0  0:01:16  0:00:01  0:01:15 10.9M\r  4  840M    4 40.0M    0     0  17.4M      0  0:00:48  0:00:02  0:00:46 17.4M\r  7  840M    7 64.0M    0     0  18.7M      0  0:00:44  0:00:03  0:00:41 18.7M\r 11  840M   11 95.8M    0     0  22.1M      0  0:00:37  0:00:04  0:00:33 22.1M\r 14  840M   14  120M    0     0  22.4M      0  0:00:37  0:00:05  0:00:32 25.1M\r 16  840M   16  136M    0     0  21.5M      0  0:00:39  0:00:06  0:00:33 24.7M\r 20  840M   20  169M    0     0  22.9M      0  0:00:36  0:00:07  0:00:29 25.3M\r 22  840M   22  192M    0     0  22.7M      0  0:00:36  0:00:08  0:00:28 25.4M\r 26  840M   26  223M    0     0  23.9M      0  0:00:35  0:00:09  0:00:26 25.4M\r 29  840M   29  248M    0     0  23.8M      0  0:00:35  0:00:10  0:00:25 25.3M\r 32  840M   32  275M    0     0  24.4M      0  0:00:34  0:00:11  0:00:23 28.1M\r 36  840M   36  302M    0     0  24.5M      0  0:00:34  0:00:12  0:00:22 26.9M\r 39  840M   39  330M    0     0  24.8M      0  0:00:33  0:00:13  0:00:20 28.6M\r 43  840M   43  363M    0     0  25.4M      0  0:00:33  0:00:14  0:00:19 28.1M\r 46  840M   46  387M    0     0  25.3M      0  0:00:33  0:00:15  0:00:18 28.6M\r 50  840M   50  422M    0     0  25.8M      0  0:00:32  0:00:16  0:00:16 28.8M\r 53  840M   53  453M    0     0  26.2M      0  0:00:32  0:00:17  0:00:15 30.3M\r 56  840M   56  474M    0     0  25.9M      0  0:00:32  0:00:18  0:00:14 28.7M\r 59  840M   59  503M    0     0  26.0M      0  0:00:32  0:00:19  0:00:13 27.9M\r 63  840M   63  534M    0     0  26.2M      0  0:00:31  0:00:20  0:00:11 29.1M\r 66  840M   66  558M    0     0  26.2M      0  0:00:32  0:00:21  0:00:11 27.7M\r 70  840M   70  592M    0     0  26.4M      0  0:00:31  0:00:22  0:00:09 27.3M\r 74  840M   74  624M    0     0  26.7M      0  0:00:31  0:00:23  0:00:08 29.3M\r 78  840M   78  655M    0     0  26.9M      0  0:00:31  0:00:24  0:00:07 30.4M\r 80  840M   80  680M    0     0  26.7M      0  0:00:31  0:00:25  0:00:06 28.6M\r 82  840M   82  696M    0     0  26.4M      0  0:00:31  0:00:26  0:00:05 27.4M\r 85  840M   85  720M    0     0  26.3M      0  0:00:31  0:00:27  0:00:04 25.9M\r 89  840M   89  752M    0     0  26.5M      0  0:00:31  0:00:28  0:00:03 25.8M\r 92  840M   92  776M    0     0  26.3M      0  0:00:31  0:00:29  0:00:02 23.5M\r 95  840M   95  800M    0     0  26.3M      0  0:00:31  0:00:30  0:00:01 24.2M\r 98  840M   98  832M    0     0  26.5M      0  0:00:31  0:00:31 --:--:-- 27.1M\r100  840M  100  840M    0     0  26.6M      0  0:00:31  0:00:31 --:--:-- 28.5M\n",
            "  % Total    % Received % Xferd  Average Speed   Time    Time     Time  Current\n",
            "                                 Dload  Upload   Total   Spent    Left  Speed\n",
            "\r  0     0    0     0    0     0      0      0 --:--:-- --:--:-- --:--:--     0\r100  7500  100  7500    0     0  34183      0 --:--:-- --:--:-- --:--:-- 34246\n"
          ]
        }
      ]
    },
    {
      "cell_type": "code",
      "source": [
        "%%bash\n",
        "python export_v2.py --embedding_file=cc.bn.300.vec --export_path=text_module --num_lines_to_ignore=1 --num_lines_to_use=100000"
      ],
      "metadata": {
        "colab": {
          "base_uri": "https://localhost:8080/"
        },
        "id": "1LSGUxRw8LWj",
        "outputId": "b27f6a0d-5295-4f12-f085-01b9211ef2fb"
      },
      "execution_count": 7,
      "outputs": [
        {
          "output_type": "stream",
          "name": "stderr",
          "text": [
            "2023-08-27 12:22:37.787895: W tensorflow/compiler/tf2tensorrt/utils/py_utils.cc:38] TF-TRT Warning: Could not find TensorRT\n",
            "2023-08-27 12:23:01.777340: W tensorflow/tsl/framework/cpu_allocator_impl.cc:83] Allocation of 240002400 exceeds 10% of free system memory.\n",
            "INFO:tensorflow:Assets written to: text_module/assets\n",
            "I0827 12:23:03.373862 139572384706560 builder_impl.py:797] Assets written to: text_module/assets\n"
          ]
        }
      ]
    },
    {
      "cell_type": "code",
      "source": [
        "module_path = \"text_module\"\n",
        "embedding_layer = hub.KerasLayer(module_path, trainable=False)"
      ],
      "metadata": {
        "id": "xqfliWCR8MlE"
      },
      "execution_count": 8,
      "outputs": []
    },
    {
      "cell_type": "code",
      "source": [
        "embedding_layer(['বাস', 'বসবাস', 'ট্রেন', 'যাত্রী', 'ট্রাক'])"
      ],
      "metadata": {
        "colab": {
          "base_uri": "https://localhost:8080/"
        },
        "id": "p7YFdQtR8Oi7",
        "outputId": "d1ec8e42-58a9-4587-b210-9529c4823bd9"
      },
      "execution_count": 9,
      "outputs": [
        {
          "output_type": "execute_result",
          "data": {
            "text/plain": [
              "<tf.Tensor: shape=(5, 300), dtype=float64, numpy=\n",
              "array([[ 0.0462, -0.0355,  0.0129, ...,  0.0025, -0.0966,  0.0216],\n",
              "       [-0.0631, -0.0051,  0.085 , ...,  0.0249, -0.0149,  0.0203],\n",
              "       [ 0.1371, -0.069 , -0.1176, ...,  0.029 ,  0.0508, -0.026 ],\n",
              "       [ 0.0532, -0.0465, -0.0504, ...,  0.02  , -0.0023,  0.0011],\n",
              "       [ 0.0908, -0.0404, -0.0536, ..., -0.0275,  0.0528,  0.0253]])>"
            ]
          },
          "metadata": {},
          "execution_count": 9
        }
      ]
    },
    {
      "cell_type": "code",
      "source": [
        "# convert to tf dataset\n",
        "dir_names = ['economy', 'sports', 'entertainment', 'state', 'international']\n",
        "\n",
        "file_paths = []\n",
        "labels = []\n",
        "\n",
        "for i, dir in enumerate(dir_names):\n",
        "  file_names = [\"/\".join([dir, name]) for name in os.listdir(dir)]\n",
        "  file_paths += file_names\n",
        "  labels +=[i]*len(os.listdir(dir))\n",
        "\n",
        "np.random.seed(42)\n",
        "permutation = np.random.permutation(len(file_paths))\n",
        "\n",
        "file_paths = np.array(file_paths)[permutation]\n",
        "labels = np.array(labels)[permutation]"
      ],
      "metadata": {
        "id": "1bHqRC098QHC"
      },
      "execution_count": 11,
      "outputs": []
    },
    {
      "cell_type": "code",
      "source": [
        "train_frac = 0.8\n",
        "train_size = int(len(file_paths) * train_frac)"
      ],
      "metadata": {
        "id": "LaXdPOO49AxW"
      },
      "execution_count": 12,
      "outputs": []
    },
    {
      "cell_type": "code",
      "source": [
        "# plot training vs validation distribution\n",
        "plt.subplot(1, 2, 1)\n",
        "plt.hist(labels[0:train_size])\n",
        "plt.title(\"Train labels\")\n",
        "plt.subplot(1, 2, 2)\n",
        "plt.hist(labels[train_size:])\n",
        "plt.title(\"Validation labels\")\n",
        "plt.tight_layout()"
      ],
      "metadata": {
        "colab": {
          "base_uri": "https://localhost:8080/",
          "height": 487
        },
        "id": "6UM4m11L9HP1",
        "outputId": "c1274606-887f-4d6b-ecfe-479aebecacb9"
      },
      "execution_count": 13,
      "outputs": [
        {
          "output_type": "display_data",
          "data": {
            "text/plain": [
              "<Figure size 640x480 with 2 Axes>"
            ],
            "image/png": "[encoded data removed]"
          },
          "metadata": {}
        }
      ]
    },
    {
      "cell_type": "code",
      "source": [
        "def load_file(path, label):\n",
        "  return tf.io.read_file(path), label"
      ],
      "metadata": {
        "id": "mUzZRmGs9IUl"
      },
      "execution_count": 18,
      "outputs": []
    },
    {
      "cell_type": "code",
      "source": [
        "def make_datasets(train_size):\n",
        "  batch_size = 256\n",
        "  train_files = file_paths[:train_size]\n",
        "  train_labels = labels[:train_size]\n",
        "  train_ds = tf.data.Dataset.from_tensor_slices((train_files, train_labels))\n",
        "  train_ds = train_ds.map(load_file).shuffle(5000)\n",
        "  train_ds = train_ds.batch(batch_size).prefetch(tf.data.AUTOTUNE)\n",
        "  test_files = file_paths[train_size:]\n",
        "  test_labels = labels[train_size:]\n",
        "  test_ds = tf.data.Dataset.from_tensor_slices((test_files, test_labels))\n",
        "  test_ds = test_ds.map(load_file)\n",
        "  test_ds = test_ds.batch(batch_size).prefetch(tf.data.AUTOTUNE)\n",
        "\n",
        "  return train_ds, test_ds"
      ],
      "metadata": {
        "id": "W97hDzXU9QH3"
      },
      "execution_count": 19,
      "outputs": []
    },
    {
      "cell_type": "code",
      "source": [
        "train_data, validation_data = make_datasets(train_size)"
      ],
      "metadata": {
        "id": "JGvvwjFZ9S6C"
      },
      "execution_count": 20,
      "outputs": []
    },
    {
      "cell_type": "markdown",
      "source": [
        "# Model Training and Evaluation"
      ],
      "metadata": {
        "id": "9q5GxwPR9-Mi"
      }
    },
    {
      "cell_type": "code",
      "source": [
        "# model\n",
        "def create_model():\n",
        "  model = tf.keras.Sequential([\n",
        "      tf.keras.layers.Input(shape = [], dtype = tf.string),\n",
        "      embedding_layer,\n",
        "      tf.keras.layers.Dense(128, activation='relu'),\n",
        "      tf.keras.layers.Dense(64, activation='relu'),\n",
        "      tf.keras.layers.Dense(16, activation='relu'),\n",
        "      tf.keras.layers.Dense(5),\n",
        "  ])\n",
        "  model.compile(loss=tf.losses.SparseCategoricalCrossentropy(from_logits=True), optimizer = 'adam', metrics = ['accuracy'])\n",
        "  return model"
      ],
      "metadata": {
        "id": "LRIc3qlJ92iJ"
      },
      "execution_count": 25,
      "outputs": []
    },
    {
      "cell_type": "code",
      "source": [
        "model = create_model()"
      ],
      "metadata": {
        "id": "Tcd98opp-hCv"
      },
      "execution_count": 26,
      "outputs": []
    },
    {
      "cell_type": "code",
      "source": [
        "# Create earlystopping callback\n",
        "early_stopping_callback = tf.keras.callbacks.EarlyStopping(monitor='val_loss', min_delta=0, patience=3)"
      ],
      "metadata": {
        "id": "s9pDILGP-mds"
      },
      "execution_count": 27,
      "outputs": []
    },
    {
      "cell_type": "markdown",
      "source": [
        "# Training"
      ],
      "metadata": {
        "id": "UgA0PCDR-qS9"
      }
    },
    {
      "cell_type": "code",
      "source": [
        "history = model.fit(train_data, validation_data = validation_data, epochs = 20, callbacks = [early_stopping_callback])"
      ],
      "metadata": {
        "colab": {
          "base_uri": "https://localhost:8080/"
        },
        "id": "D6cNZpN--o62",
        "outputId": "7ef8e221-b113-402c-e133-3513c7d32838"
      },
      "execution_count": 29,
      "outputs": [
        {
          "output_type": "stream",
          "name": "stdout",
          "text": [
            "Epoch 1/20\n",
            "1176/1176 [==============================] - 203s 167ms/step - loss: 0.2115 - accuracy: 0.9270 - val_loss: 0.1464 - val_accuracy: 0.9482\n",
            "Epoch 2/20\n",
            "1176/1176 [==============================] - 107s 91ms/step - loss: 0.1355 - accuracy: 0.9517 - val_loss: 0.1341 - val_accuracy: 0.9500\n",
            "Epoch 3/20\n",
            "1176/1176 [==============================] - 80s 68ms/step - loss: 0.1222 - accuracy: 0.9553 - val_loss: 0.1182 - val_accuracy: 0.9571\n",
            "Epoch 4/20\n",
            "1176/1176 [==============================] - 81s 69ms/step - loss: 0.1148 - accuracy: 0.9577 - val_loss: 0.1149 - val_accuracy: 0.9582\n",
            "Epoch 5/20\n",
            "1176/1176 [==============================] - 91s 77ms/step - loss: 0.1093 - accuracy: 0.9595 - val_loss: 0.1139 - val_accuracy: 0.9581\n",
            "Epoch 6/20\n",
            "1176/1176 [==============================] - 89s 76ms/step - loss: 0.1051 - accuracy: 0.9606 - val_loss: 0.1173 - val_accuracy: 0.9570\n",
            "Epoch 7/20\n",
            "1176/1176 [==============================] - 91s 77ms/step - loss: 0.1008 - accuracy: 0.9623 - val_loss: 0.1093 - val_accuracy: 0.9602\n",
            "Epoch 8/20\n",
            "1176/1176 [==============================] - 90s 76ms/step - loss: 0.0980 - accuracy: 0.9634 - val_loss: 0.1121 - val_accuracy: 0.9586\n",
            "Epoch 9/20\n",
            "1176/1176 [==============================] - 82s 69ms/step - loss: 0.0952 - accuracy: 0.9644 - val_loss: 0.1073 - val_accuracy: 0.9607\n",
            "Epoch 10/20\n",
            "1176/1176 [==============================] - 89s 76ms/step - loss: 0.0922 - accuracy: 0.9653 - val_loss: 0.1061 - val_accuracy: 0.9613\n",
            "Epoch 11/20\n",
            "1176/1176 [==============================] - 88s 75ms/step - loss: 0.0898 - accuracy: 0.9664 - val_loss: 0.1098 - val_accuracy: 0.9606\n",
            "Epoch 12/20\n",
            "1176/1176 [==============================] - 91s 77ms/step - loss: 0.0876 - accuracy: 0.9670 - val_loss: 0.1081 - val_accuracy: 0.9613\n",
            "Epoch 13/20\n",
            "1176/1176 [==============================] - 83s 70ms/step - loss: 0.0852 - accuracy: 0.9679 - val_loss: 0.1076 - val_accuracy: 0.9619\n"
          ]
        }
      ]
    },
    {
      "cell_type": "markdown",
      "source": [
        "# Evaluation"
      ],
      "metadata": {
        "id": "MX29a7oh_rWT"
      }
    },
    {
      "cell_type": "code",
      "source": [
        "# Plot training & validation accuracy values\n",
        "plt.plot(history.history['accuracy'])\n",
        "plt.plot(history.history['val_accuracy'])\n",
        "plt.title('Model accuracy')\n",
        "plt.ylabel('Accuracy')\n",
        "plt.xlabel('Epoch')\n",
        "plt.legend(['Train', 'Test'], loc='upper left')\n",
        "plt.show()\n",
        "\n",
        "# Plot training & validation loss values\n",
        "plt.plot(history.history['loss'])\n",
        "plt.plot(history.history['val_loss'])\n",
        "plt.title('Model loss')\n",
        "plt.ylabel('Loss')\n",
        "plt.xlabel('Epoch')\n",
        "plt.legend(['Train', 'Test'], loc='upper left')\n",
        "plt.show()"
      ],
      "metadata": {
        "colab": {
          "base_uri": "https://localhost:8080/",
          "height": 927
        },
        "id": "bg9oQIW7-35D",
        "outputId": "fee5f596-7e19-4043-bc0a-7b8044d47838"
      },
      "execution_count": 30,
      "outputs": [
        {
          "output_type": "display_data",
          "data": {
            "text/plain": [
              "<Figure size 640x480 with 1 Axes>"
            ],
            "image/png": "[encoded data removed]"
          },
          "metadata": {}
        },
        {
          "output_type": "display_data",
          "data": {
            "text/plain": [
              "<Figure size 640x480 with 1 Axes>"
            ],
            "image/png": "[encoded data removed]"
          },
          "metadata": {}
        }
      ]
    },
    {
      "cell_type": "markdown",
      "source": [
        "# Prediction"
      ],
      "metadata": {
        "id": "lSu2pX5u_u-l"
      }
    },
    {
      "cell_type": "code",
      "source": [
        "y_pred = model.predict(validation_data)"
      ],
      "metadata": {
        "colab": {
          "base_uri": "https://localhost:8080/"
        },
        "id": "f-OF33_6_tjH",
        "outputId": "baa38ea6-662d-46a5-ff5d-ca20a23e21f2"
      },
      "execution_count": 31,
      "outputs": [
        {
          "output_type": "stream",
          "name": "stdout",
          "text": [
            "294/294 [==============================] - 15s 52ms/step\n"
          ]
        }
      ]
    },
    {
      "cell_type": "code",
      "source": [
        "y_pred = np.argmax(y_pred, axis=1)"
      ],
      "metadata": {
        "id": "9Yr9QXQj_xNz"
      },
      "execution_count": 32,
      "outputs": []
    },
    {
      "cell_type": "code",
      "source": [
        "samples = file_paths[0:3]\n",
        "for i, sample in enumerate(samples):\n",
        "  f = open(sample)\n",
        "  text = f.read()\n",
        "  print(text[0:100])\n",
        "  print(\"True Class: \", sample.split(\"/\")[0])\n",
        "  print(\"Predicted Class: \", dir_names[y_pred[i]])\n",
        "  f.close()"
      ],
      "metadata": {
        "colab": {
          "base_uri": "https://localhost:8080/"
        },
        "id": "Cf8Bl9Hb_yDX",
        "outputId": "dfb301f9-6128-4382-a9d3-83e49d908c39"
      },
      "execution_count": 33,
      "outputs": [
        {
          "output_type": "stream",
          "name": "stdout",
          "text": [
            "\n",
            "অভিনেতা হিসেবেই সবাই চেনেন অপূর্বকে। তাও আবার রোমান্টিক অভিনেতা। তবে এবার সম্ভবত নতুন পরিচয় বেরিয়ে \n",
            "True Class:  entertainment\n",
            "Predicted Class:  state\n",
            "\n",
            "রোটারি বাংলাদেশের দুই দিনব্যাপী সম্মেলন গতকাল শনিবার রাজধানীতে শেষ হয়েছে। সম্মেলনে প্রধান অতিথি ছিল\n",
            "True Class:  state\n",
            "Predicted Class:  state\n",
            "\n",
            "২৫, ২৯ ,৫*। কুমার সাঙ্গাকারাকে ঠিক চেনা যাচ্ছিল না ঢাকা ডায়নামাইটসের প্রথম তিন ম্যাচে। ঢাকা-পর্ব শে\n",
            "True Class:  sports\n",
            "Predicted Class:  state\n"
          ]
        }
      ]
    },
    {
      "cell_type": "code",
      "source": [
        "y_true = np.array(labels[train_size:])"
      ],
      "metadata": {
        "id": "lZ3NmXRK_zL-"
      },
      "execution_count": 34,
      "outputs": []
    },
    {
      "cell_type": "code",
      "source": [
        "print(classification_report(y_true, y_pred, target_names=dir_names))"
      ],
      "metadata": {
        "colab": {
          "base_uri": "https://localhost:8080/"
        },
        "id": "TuilkOJW_0m4",
        "outputId": "bd32d331-09fb-48fb-a2d2-270f130bce1e"
      },
      "execution_count": 35,
      "outputs": [
        {
          "output_type": "stream",
          "name": "stdout",
          "text": [
            "               precision    recall  f1-score   support\n",
            "\n",
            "      economy       0.82      0.81      0.81      3897\n",
            "       sports       0.99      0.99      0.99     10204\n",
            "entertainment       0.93      0.94      0.94      6256\n",
            "        state       0.98      0.97      0.97     48512\n",
            "international       0.93      0.94      0.94      6377\n",
            "\n",
            "     accuracy                           0.96     75246\n",
            "    macro avg       0.93      0.93      0.93     75246\n",
            " weighted avg       0.96      0.96      0.96     75246\n",
            "\n"
          ]
        }
      ]
    },
    {
      "cell_type": "code",
      "source": [],
      "metadata": {
        "id": "C93mg7yB_1_o"
      },
      "execution_count": null,
      "outputs": []
    }
  ]
}