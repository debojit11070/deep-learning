{
 "cells": [
  {
   "cell_type": "code",
   "execution_count": 1,
   "id": "b21aa03a",
   "metadata": {
    "_cell_guid": "b1076dfc-b9ad-4769-8c92-a6c4dae69d19",
    "_uuid": "8f2839f25d086af736a60e9eeb907d3b93b6e0e5",
    "execution": {
     "iopub.execute_input": "2023-07-03T15:50:55.653566Z",
     "iopub.status.busy": "2023-07-03T15:50:55.652676Z",
     "iopub.status.idle": "2023-07-03T15:50:55.671456Z",
     "shell.execute_reply": "2023-07-03T15:50:55.670192Z"
    },
    "papermill": {
     "duration": 0.049689,
     "end_time": "2023-07-03T15:50:55.673508",
     "exception": false,
     "start_time": "2023-07-03T15:50:55.623819",
     "status": "completed"
    },
    "tags": []
   },
   "outputs": [
    {
     "name": "stdout",
     "output_type": "stream",
     "text": [
      "/kaggle/input/covid-19-nlp-text-classification/Corona_NLP_test.csv\n",
      "/kaggle/input/covid-19-nlp-text-classification/Corona_NLP_train.csv\n"
     ]
    }
   ],
   "source": [
    "\n",
    "import os\n",
    "for dirname, _, filenames in os.walk('/kaggle/input'):\n",
    "    for filename in filenames:\n",
    "        print(os.path.join(dirname, filename))\n",
    "\n",
    "# You can write up to 20GB to the current directory (/kaggle/working/) that gets preserved as output when you create a version using \"Save & Run All\" \n",
    "# You can also write temporary files to /kaggle/temp/, but they won't be saved outside of the current session"
   ]
  },
  {
   "cell_type": "code",
   "execution_count": 2,
   "id": "f7c7f121",
   "metadata": {
    "execution": {
     "iopub.execute_input": "2023-07-03T15:50:55.730721Z",
     "iopub.status.busy": "2023-07-03T15:50:55.729716Z",
     "iopub.status.idle": "2023-07-03T15:51:06.109364Z",
     "shell.execute_reply": "2023-07-03T15:51:06.108347Z"
    },
    "papermill": {
     "duration": 10.409973,
     "end_time": "2023-07-03T15:51:06.111871",
     "exception": false,
     "start_time": "2023-07-03T15:50:55.701898",
     "status": "completed"
    },
    "tags": []
   },
   "outputs": [
    {
     "name": "stderr",
     "output_type": "stream",
     "text": [
      "/opt/conda/lib/python3.10/site-packages/tensorflow_io/python/ops/__init__.py:98: UserWarning: unable to load libtensorflow_io_plugins.so: unable to open file: libtensorflow_io_plugins.so, from paths: ['/opt/conda/lib/python3.10/site-packages/tensorflow_io/python/ops/libtensorflow_io_plugins.so']\n",
      "caused by: ['/opt/conda/lib/python3.10/site-packages/tensorflow_io/python/ops/libtensorflow_io_plugins.so: undefined symbol: _ZN3tsl6StatusC1EN10tensorflow5error4CodeESt17basic_string_viewIcSt11char_traitsIcEENS_14SourceLocationE']\n",
      "  warnings.warn(f\"unable to load libtensorflow_io_plugins.so: {e}\")\n",
      "/opt/conda/lib/python3.10/site-packages/tensorflow_io/python/ops/__init__.py:104: UserWarning: file system plugins are not loaded: unable to open file: libtensorflow_io.so, from paths: ['/opt/conda/lib/python3.10/site-packages/tensorflow_io/python/ops/libtensorflow_io.so']\n",
      "caused by: ['/opt/conda/lib/python3.10/site-packages/tensorflow_io/python/ops/libtensorflow_io.so: undefined symbol: _ZTVN10tensorflow13GcsFileSystemE']\n",
      "  warnings.warn(f\"file system plugins are not loaded: {e}\")\n"
     ]
    }
   ],
   "source": [
    "import numpy as np\n",
    "import pandas as pd\n",
    "import tensorflow as tf\n",
    "import matplotlib.pyplot as plt\n",
    "import seaborn as sns\n",
    "#data processing \n",
    "import re, string\n",
    "import emoji\n",
    "import nltk\n",
    "from sklearn import preprocessing\n",
    "from imblearn.over_sampling import RandomOverSampler\n",
    "from sklearn.model_selection import train_test_split"
   ]
  },
  {
   "cell_type": "code",
   "execution_count": 3,
   "id": "37c954a6",
   "metadata": {
    "execution": {
     "iopub.execute_input": "2023-07-03T15:51:06.166783Z",
     "iopub.status.busy": "2023-07-03T15:51:06.166135Z",
     "iopub.status.idle": "2023-07-03T15:51:06.178406Z",
     "shell.execute_reply": "2023-07-03T15:51:06.177509Z"
    },
    "papermill": {
     "duration": 0.041298,
     "end_time": "2023-07-03T15:51:06.180400",
     "exception": false,
     "start_time": "2023-07-03T15:51:06.139102",
     "status": "completed"
    },
    "tags": []
   },
   "outputs": [],
   "source": [
    "from sklearn.feature_extraction.text import CountVectorizer\n",
    "from sklearn.feature_extraction.text import TfidfTransformer\n",
    "from sklearn.naive_bayes import MultinomialNB"
   ]
  },
  {
   "cell_type": "code",
   "execution_count": 4,
   "id": "fadd9b6c",
   "metadata": {
    "execution": {
     "iopub.execute_input": "2023-07-03T15:51:06.234999Z",
     "iopub.status.busy": "2023-07-03T15:51:06.234660Z",
     "iopub.status.idle": "2023-07-03T15:51:10.437148Z",
     "shell.execute_reply": "2023-07-03T15:51:10.436204Z"
    },
    "papermill": {
     "duration": 4.232573,
     "end_time": "2023-07-03T15:51:10.439898",
     "exception": false,
     "start_time": "2023-07-03T15:51:06.207325",
     "status": "completed"
    },
    "tags": []
   },
   "outputs": [],
   "source": [
    "#transformers\n",
    "from transformers import BertTokenizerFast\n",
    "from transformers import TFBertModel\n",
    "from transformers import RobertaTokenizerFast\n",
    "from transformers import TFRobertaModel"
   ]
  },
  {
   "cell_type": "code",
   "execution_count": 5,
   "id": "c1c107b0",
   "metadata": {
    "execution": {
     "iopub.execute_input": "2023-07-03T15:51:10.499680Z",
     "iopub.status.busy": "2023-07-03T15:51:10.498895Z",
     "iopub.status.idle": "2023-07-03T15:51:10.503789Z",
     "shell.execute_reply": "2023-07-03T15:51:10.502872Z"
    },
    "papermill": {
     "duration": 0.036284,
     "end_time": "2023-07-03T15:51:10.505850",
     "exception": false,
     "start_time": "2023-07-03T15:51:10.469566",
     "status": "completed"
    },
    "tags": []
   },
   "outputs": [],
   "source": [
    "import tensorflow as tf\n",
    "from tensorflow import keras"
   ]
  },
  {
   "cell_type": "code",
   "execution_count": 6,
   "id": "35d60c16",
   "metadata": {
    "execution": {
     "iopub.execute_input": "2023-07-03T15:51:10.562065Z",
     "iopub.status.busy": "2023-07-03T15:51:10.561209Z",
     "iopub.status.idle": "2023-07-03T15:51:10.565898Z",
     "shell.execute_reply": "2023-07-03T15:51:10.564940Z"
    },
    "papermill": {
     "duration": 0.033944,
     "end_time": "2023-07-03T15:51:10.567858",
     "exception": false,
     "start_time": "2023-07-03T15:51:10.533914",
     "status": "completed"
    },
    "tags": []
   },
   "outputs": [],
   "source": [
    "from sklearn.metrics import accuracy_score, f1_score\n",
    "from sklearn.metrics import classification_report, confusion_matrix"
   ]
  },
  {
   "cell_type": "code",
   "execution_count": 7,
   "id": "5422fea5",
   "metadata": {
    "execution": {
     "iopub.execute_input": "2023-07-03T15:51:10.623035Z",
     "iopub.status.busy": "2023-07-03T15:51:10.622064Z",
     "iopub.status.idle": "2023-07-03T15:51:10.627003Z",
     "shell.execute_reply": "2023-07-03T15:51:10.626145Z"
    },
    "papermill": {
     "duration": 0.034705,
     "end_time": "2023-07-03T15:51:10.629051",
     "exception": false,
     "start_time": "2023-07-03T15:51:10.594346",
     "status": "completed"
    },
    "tags": []
   },
   "outputs": [],
   "source": [
    "#set seed for reproducibility\n",
    "seed=42"
   ]
  },
  {
   "cell_type": "code",
   "execution_count": 8,
   "id": "5f381cba",
   "metadata": {
    "execution": {
     "iopub.execute_input": "2023-07-03T15:51:10.685431Z",
     "iopub.status.busy": "2023-07-03T15:51:10.684567Z",
     "iopub.status.idle": "2023-07-03T15:51:10.691604Z",
     "shell.execute_reply": "2023-07-03T15:51:10.690743Z"
    },
    "papermill": {
     "duration": 0.036887,
     "end_time": "2023-07-03T15:51:10.693540",
     "exception": false,
     "start_time": "2023-07-03T15:51:10.656653",
     "status": "completed"
    },
    "tags": []
   },
   "outputs": [],
   "source": [
    "def conf_matrix(y, y_pred, title):\n",
    "    fig, ax =plt.subplots(figsize=(5,5))\n",
    "    labels=['Negative', 'Neutral', 'Positive']\n",
    "    ax=sns.heatmap(confusion_matrix(y, y_pred), annot=True, cmap=\"Blues\", fmt='g', cbar=False, annot_kws={\"size\":25})\n",
    "    plt.title(title, fontsize=20)\n",
    "    ax.xaxis.set_ticklabels(labels, fontsize=17) \n",
    "    ax.yaxis.set_ticklabels(labels, fontsize=17)\n",
    "    ax.set_ylabel('Test', fontsize=20)\n",
    "    ax.set_xlabel('Predicted', fontsize=20)\n",
    "    plt.show()"
   ]
  },
  {
   "cell_type": "markdown",
   "id": "8709c322",
   "metadata": {
    "papermill": {
     "duration": 0.026018,
     "end_time": "2023-07-03T15:51:10.745538",
     "exception": false,
     "start_time": "2023-07-03T15:51:10.719520",
     "status": "completed"
    },
    "tags": []
   },
   "source": [
    "**Load the data**"
   ]
  },
  {
   "cell_type": "code",
   "execution_count": 9,
   "id": "5a393fa4",
   "metadata": {
    "execution": {
     "iopub.execute_input": "2023-07-03T15:51:10.799324Z",
     "iopub.status.busy": "2023-07-03T15:51:10.798920Z",
     "iopub.status.idle": "2023-07-03T15:51:11.140871Z",
     "shell.execute_reply": "2023-07-03T15:51:11.139971Z"
    },
    "papermill": {
     "duration": 0.371761,
     "end_time": "2023-07-03T15:51:11.143554",
     "exception": false,
     "start_time": "2023-07-03T15:51:10.771793",
     "status": "completed"
    },
    "tags": []
   },
   "outputs": [],
   "source": [
    "df = pd.read_csv('../input/covid-19-nlp-text-classification/Corona_NLP_train.csv',encoding='ISO-8859-1')\n",
    "df_test = pd.read_csv('../input/covid-19-nlp-text-classification/Corona_NLP_test.csv')"
   ]
  },
  {
   "cell_type": "code",
   "execution_count": 10,
   "id": "0d008333",
   "metadata": {
    "execution": {
     "iopub.execute_input": "2023-07-03T15:51:11.202023Z",
     "iopub.status.busy": "2023-07-03T15:51:11.201685Z",
     "iopub.status.idle": "2023-07-03T15:51:11.219443Z",
     "shell.execute_reply": "2023-07-03T15:51:11.218206Z"
    },
    "papermill": {
     "duration": 0.050413,
     "end_time": "2023-07-03T15:51:11.222369",
     "exception": false,
     "start_time": "2023-07-03T15:51:11.171956",
     "status": "completed"
    },
    "tags": []
   },
   "outputs": [
    {
     "data": {
      "text/html": [
       "<div>\n",
       "<style scoped>\n",
       "    .dataframe tbody tr th:only-of-type {\n",
       "        vertical-align: middle;\n",
       "    }\n",
       "\n",
       "    .dataframe tbody tr th {\n",
       "        vertical-align: top;\n",
       "    }\n",
       "\n",
       "    .dataframe thead th {\n",
       "        text-align: right;\n",
       "    }\n",
       "</style>\n",
       "<table border=\"1\" class=\"dataframe\">\n",
       "  <thead>\n",
       "    <tr style=\"text-align: right;\">\n",
       "      <th></th>\n",
       "      <th>UserName</th>\n",
       "      <th>ScreenName</th>\n",
       "      <th>Location</th>\n",
       "      <th>TweetAt</th>\n",
       "      <th>OriginalTweet</th>\n",
       "      <th>Sentiment</th>\n",
       "    </tr>\n",
       "  </thead>\n",
       "  <tbody>\n",
       "    <tr>\n",
       "      <th>0</th>\n",
       "      <td>3799</td>\n",
       "      <td>48751</td>\n",
       "      <td>London</td>\n",
       "      <td>16-03-2020</td>\n",
       "      <td>@MeNyrbie @Phil_Gahan @Chrisitv https://t.co/i...</td>\n",
       "      <td>Neutral</td>\n",
       "    </tr>\n",
       "    <tr>\n",
       "      <th>1</th>\n",
       "      <td>3800</td>\n",
       "      <td>48752</td>\n",
       "      <td>UK</td>\n",
       "      <td>16-03-2020</td>\n",
       "      <td>advice Talk to your neighbours family to excha...</td>\n",
       "      <td>Positive</td>\n",
       "    </tr>\n",
       "    <tr>\n",
       "      <th>2</th>\n",
       "      <td>3801</td>\n",
       "      <td>48753</td>\n",
       "      <td>Vagabonds</td>\n",
       "      <td>16-03-2020</td>\n",
       "      <td>Coronavirus Australia: Woolworths to give elde...</td>\n",
       "      <td>Positive</td>\n",
       "    </tr>\n",
       "    <tr>\n",
       "      <th>3</th>\n",
       "      <td>3802</td>\n",
       "      <td>48754</td>\n",
       "      <td>NaN</td>\n",
       "      <td>16-03-2020</td>\n",
       "      <td>My food stock is not the only one which is emp...</td>\n",
       "      <td>Positive</td>\n",
       "    </tr>\n",
       "    <tr>\n",
       "      <th>4</th>\n",
       "      <td>3803</td>\n",
       "      <td>48755</td>\n",
       "      <td>NaN</td>\n",
       "      <td>16-03-2020</td>\n",
       "      <td>Me, ready to go at supermarket during the #COV...</td>\n",
       "      <td>Extremely Negative</td>\n",
       "    </tr>\n",
       "  </tbody>\n",
       "</table>\n",
       "</div>"
      ],
      "text/plain": [
       "   UserName  ScreenName   Location     TweetAt  \\\n",
       "0      3799       48751     London  16-03-2020   \n",
       "1      3800       48752         UK  16-03-2020   \n",
       "2      3801       48753  Vagabonds  16-03-2020   \n",
       "3      3802       48754        NaN  16-03-2020   \n",
       "4      3803       48755        NaN  16-03-2020   \n",
       "\n",
       "                                       OriginalTweet           Sentiment  \n",
       "0  @MeNyrbie @Phil_Gahan @Chrisitv https://t.co/i...             Neutral  \n",
       "1  advice Talk to your neighbours family to excha...            Positive  \n",
       "2  Coronavirus Australia: Woolworths to give elde...            Positive  \n",
       "3  My food stock is not the only one which is emp...            Positive  \n",
       "4  Me, ready to go at supermarket during the #COV...  Extremely Negative  "
      ]
     },
     "execution_count": 10,
     "metadata": {},
     "output_type": "execute_result"
    }
   ],
   "source": [
    "df.head()"
   ]
  },
  {
   "cell_type": "code",
   "execution_count": 11,
   "id": "09b4b256",
   "metadata": {
    "execution": {
     "iopub.execute_input": "2023-07-03T15:51:11.278585Z",
     "iopub.status.busy": "2023-07-03T15:51:11.278254Z",
     "iopub.status.idle": "2023-07-03T15:51:11.352824Z",
     "shell.execute_reply": "2023-07-03T15:51:11.351053Z"
    },
    "papermill": {
     "duration": 0.104468,
     "end_time": "2023-07-03T15:51:11.355400",
     "exception": false,
     "start_time": "2023-07-03T15:51:11.250932",
     "status": "completed"
    },
    "tags": []
   },
   "outputs": [
    {
     "name": "stdout",
     "output_type": "stream",
     "text": [
      "<class 'pandas.core.frame.DataFrame'>\n",
      "RangeIndex: 41157 entries, 0 to 41156\n",
      "Data columns (total 6 columns):\n",
      " #   Column         Non-Null Count  Dtype \n",
      "---  ------         --------------  ----- \n",
      " 0   UserName       41157 non-null  int64 \n",
      " 1   ScreenName     41157 non-null  int64 \n",
      " 2   Location       32567 non-null  object\n",
      " 3   TweetAt        41157 non-null  object\n",
      " 4   OriginalTweet  41157 non-null  object\n",
      " 5   Sentiment      41157 non-null  object\n",
      "dtypes: int64(2), object(4)\n",
      "memory usage: 1.9+ MB\n"
     ]
    }
   ],
   "source": [
    "df.info()"
   ]
  },
  {
   "cell_type": "code",
   "execution_count": 12,
   "id": "76282a19",
   "metadata": {
    "execution": {
     "iopub.execute_input": "2023-07-03T15:51:11.411036Z",
     "iopub.status.busy": "2023-07-03T15:51:11.410174Z",
     "iopub.status.idle": "2023-07-03T15:51:11.432519Z",
     "shell.execute_reply": "2023-07-03T15:51:11.431300Z"
    },
    "papermill": {
     "duration": 0.05246,
     "end_time": "2023-07-03T15:51:11.435289",
     "exception": false,
     "start_time": "2023-07-03T15:51:11.382829",
     "status": "completed"
    },
    "tags": []
   },
   "outputs": [
    {
     "data": {
      "text/html": [
       "<div>\n",
       "<style scoped>\n",
       "    .dataframe tbody tr th:only-of-type {\n",
       "        vertical-align: middle;\n",
       "    }\n",
       "\n",
       "    .dataframe tbody tr th {\n",
       "        vertical-align: top;\n",
       "    }\n",
       "\n",
       "    .dataframe thead th {\n",
       "        text-align: right;\n",
       "    }\n",
       "</style>\n",
       "<table border=\"1\" class=\"dataframe\">\n",
       "  <thead>\n",
       "    <tr style=\"text-align: right;\">\n",
       "      <th></th>\n",
       "      <th>UserName</th>\n",
       "      <th>ScreenName</th>\n",
       "    </tr>\n",
       "  </thead>\n",
       "  <tbody>\n",
       "    <tr>\n",
       "      <th>count</th>\n",
       "      <td>41157.000000</td>\n",
       "      <td>41157.000000</td>\n",
       "    </tr>\n",
       "    <tr>\n",
       "      <th>mean</th>\n",
       "      <td>24377.000000</td>\n",
       "      <td>69329.000000</td>\n",
       "    </tr>\n",
       "    <tr>\n",
       "      <th>std</th>\n",
       "      <td>11881.146851</td>\n",
       "      <td>11881.146851</td>\n",
       "    </tr>\n",
       "    <tr>\n",
       "      <th>min</th>\n",
       "      <td>3799.000000</td>\n",
       "      <td>48751.000000</td>\n",
       "    </tr>\n",
       "    <tr>\n",
       "      <th>25%</th>\n",
       "      <td>14088.000000</td>\n",
       "      <td>59040.000000</td>\n",
       "    </tr>\n",
       "    <tr>\n",
       "      <th>50%</th>\n",
       "      <td>24377.000000</td>\n",
       "      <td>69329.000000</td>\n",
       "    </tr>\n",
       "    <tr>\n",
       "      <th>75%</th>\n",
       "      <td>34666.000000</td>\n",
       "      <td>79618.000000</td>\n",
       "    </tr>\n",
       "    <tr>\n",
       "      <th>max</th>\n",
       "      <td>44955.000000</td>\n",
       "      <td>89907.000000</td>\n",
       "    </tr>\n",
       "  </tbody>\n",
       "</table>\n",
       "</div>"
      ],
      "text/plain": [
       "           UserName    ScreenName\n",
       "count  41157.000000  41157.000000\n",
       "mean   24377.000000  69329.000000\n",
       "std    11881.146851  11881.146851\n",
       "min     3799.000000  48751.000000\n",
       "25%    14088.000000  59040.000000\n",
       "50%    24377.000000  69329.000000\n",
       "75%    34666.000000  79618.000000\n",
       "max    44955.000000  89907.000000"
      ]
     },
     "execution_count": 12,
     "metadata": {},
     "output_type": "execute_result"
    }
   ],
   "source": [
    "df.describe()"
   ]
  },
  {
   "cell_type": "code",
   "execution_count": 13,
   "id": "f9cd1466",
   "metadata": {
    "execution": {
     "iopub.execute_input": "2023-07-03T15:51:11.499196Z",
     "iopub.status.busy": "2023-07-03T15:51:11.498098Z",
     "iopub.status.idle": "2023-07-03T15:51:11.514059Z",
     "shell.execute_reply": "2023-07-03T15:51:11.513019Z"
    },
    "papermill": {
     "duration": 0.050915,
     "end_time": "2023-07-03T15:51:11.516945",
     "exception": false,
     "start_time": "2023-07-03T15:51:11.466030",
     "status": "completed"
    },
    "tags": []
   },
   "outputs": [
    {
     "name": "stderr",
     "output_type": "stream",
     "text": [
      "/tmp/ipykernel_24/1259316306.py:1: UserWarning: Parsing dates in DD/MM/YYYY format when dayfirst=False (the default) was specified. This may lead to inconsistently parsed dates! Specify a format to ensure consistent parsing.\n",
      "  df['TweetAt'] = pd.to_datetime(df['TweetAt'])\n"
     ]
    }
   ],
   "source": [
    "df['TweetAt'] = pd.to_datetime(df['TweetAt'])"
   ]
  },
  {
   "cell_type": "code",
   "execution_count": 14,
   "id": "101d94fb",
   "metadata": {
    "execution": {
     "iopub.execute_input": "2023-07-03T15:51:11.603376Z",
     "iopub.status.busy": "2023-07-03T15:51:11.602967Z",
     "iopub.status.idle": "2023-07-03T15:51:11.633932Z",
     "shell.execute_reply": "2023-07-03T15:51:11.633028Z"
    },
    "papermill": {
     "duration": 0.08279,
     "end_time": "2023-07-03T15:51:11.636183",
     "exception": false,
     "start_time": "2023-07-03T15:51:11.553393",
     "status": "completed"
    },
    "tags": []
   },
   "outputs": [],
   "source": [
    "# checking duplicate tweets\n",
    "df.drop_duplicates(subset='OriginalTweet',inplace=True)"
   ]
  },
  {
   "cell_type": "code",
   "execution_count": 15,
   "id": "9f13a9a3",
   "metadata": {
    "execution": {
     "iopub.execute_input": "2023-07-03T15:51:11.693853Z",
     "iopub.status.busy": "2023-07-03T15:51:11.692980Z",
     "iopub.status.idle": "2023-07-03T15:51:11.740582Z",
     "shell.execute_reply": "2023-07-03T15:51:11.738845Z"
    },
    "papermill": {
     "duration": 0.077801,
     "end_time": "2023-07-03T15:51:11.742745",
     "exception": false,
     "start_time": "2023-07-03T15:51:11.664944",
     "status": "completed"
    },
    "tags": []
   },
   "outputs": [
    {
     "name": "stdout",
     "output_type": "stream",
     "text": [
      "<class 'pandas.core.frame.DataFrame'>\n",
      "Int64Index: 41157 entries, 0 to 41156\n",
      "Data columns (total 6 columns):\n",
      " #   Column         Non-Null Count  Dtype         \n",
      "---  ------         --------------  -----         \n",
      " 0   UserName       41157 non-null  int64         \n",
      " 1   ScreenName     41157 non-null  int64         \n",
      " 2   Location       32567 non-null  object        \n",
      " 3   TweetAt        41157 non-null  datetime64[ns]\n",
      " 4   OriginalTweet  41157 non-null  object        \n",
      " 5   Sentiment      41157 non-null  object        \n",
      "dtypes: datetime64[ns](1), int64(2), object(3)\n",
      "memory usage: 2.2+ MB\n"
     ]
    }
   ],
   "source": [
    "df.info()"
   ]
  },
  {
   "cell_type": "code",
   "execution_count": 16,
   "id": "14e414db",
   "metadata": {
    "execution": {
     "iopub.execute_input": "2023-07-03T15:51:11.797697Z",
     "iopub.status.busy": "2023-07-03T15:51:11.797373Z",
     "iopub.status.idle": "2023-07-03T15:51:11.841799Z",
     "shell.execute_reply": "2023-07-03T15:51:11.840893Z"
    },
    "papermill": {
     "duration": 0.074108,
     "end_time": "2023-07-03T15:51:11.843892",
     "exception": false,
     "start_time": "2023-07-03T15:51:11.769784",
     "status": "completed"
    },
    "tags": []
   },
   "outputs": [
    {
     "data": {
      "text/plain": [
       "UserName            0\n",
       "ScreenName          0\n",
       "Location         8590\n",
       "TweetAt             0\n",
       "OriginalTweet       0\n",
       "Sentiment           0\n",
       "dtype: int64"
      ]
     },
     "execution_count": 16,
     "metadata": {},
     "output_type": "execute_result"
    }
   ],
   "source": [
    "df.isnull().sum()"
   ]
  },
  {
   "cell_type": "code",
   "execution_count": 17,
   "id": "b452dd0c",
   "metadata": {
    "execution": {
     "iopub.execute_input": "2023-07-03T15:51:11.898877Z",
     "iopub.status.busy": "2023-07-03T15:51:11.898517Z",
     "iopub.status.idle": "2023-07-03T15:51:12.157027Z",
     "shell.execute_reply": "2023-07-03T15:51:12.156073Z"
    },
    "papermill": {
     "duration": 0.28888,
     "end_time": "2023-07-03T15:51:12.159809",
     "exception": false,
     "start_time": "2023-07-03T15:51:11.870929",
     "status": "completed"
    },
    "tags": []
   },
   "outputs": [],
   "source": [
    "# tweet count by date\n",
    "tweets_per_day = df['TweetAt'].dt.strftime('%m-%d').value_counts().sort_index().reset_index(name='counts')"
   ]
  },
  {
   "cell_type": "code",
   "execution_count": 18,
   "id": "63fe8390",
   "metadata": {
    "execution": {
     "iopub.execute_input": "2023-07-03T15:51:12.215681Z",
     "iopub.status.busy": "2023-07-03T15:51:12.215344Z",
     "iopub.status.idle": "2023-07-03T15:51:12.816029Z",
     "shell.execute_reply": "2023-07-03T15:51:12.815062Z"
    },
    "papermill": {
     "duration": 0.631105,
     "end_time": "2023-07-03T15:51:12.818457",
     "exception": false,
     "start_time": "2023-07-03T15:51:12.187352",
     "status": "completed"
    },
    "tags": []
   },
   "outputs": [
    {
     "name": "stderr",
     "output_type": "stream",
     "text": [
      "/tmp/ipykernel_24/2356267755.py:2: FutureWarning: \n",
      "\n",
      "The `ci` parameter is deprecated. Use `errorbar=('ci', False)` for the same effect.\n",
      "\n",
      "  ax = sns.barplot(x='index', y='counts', data=tweets_per_day,edgecolor = 'black',ci=False, palette='Blues_r')\n"
     ]
    },
    {
     "data": {
      "image/png": "[encoded data removed]",
      "text/plain": [
       "<Figure size 2000x500 with 1 Axes>"
      ]
     },
     "metadata": {},
     "output_type": "display_data"
    }
   ],
   "source": [
    "\n",
    "plt.figure(figsize=(20,5))\n",
    "ax = sns.barplot(x='index', y='counts', data=tweets_per_day,edgecolor = 'black',ci=False, palette='Blues_r')\n",
    "plt.title('Tweets count by date')\n",
    "plt.yticks([])\n",
    "ax.bar_label(ax.containers[0])\n",
    "plt.ylabel('count')\n",
    "plt.xlabel('')\n",
    "plt.show()"
   ]
  },
  {
   "cell_type": "code",
   "execution_count": 19,
   "id": "719429fc",
   "metadata": {
    "execution": {
     "iopub.execute_input": "2023-07-03T15:51:12.878286Z",
     "iopub.status.busy": "2023-07-03T15:51:12.877239Z",
     "iopub.status.idle": "2023-07-03T15:51:12.892314Z",
     "shell.execute_reply": "2023-07-03T15:51:12.891414Z"
    },
    "papermill": {
     "duration": 0.046194,
     "end_time": "2023-07-03T15:51:12.894438",
     "exception": false,
     "start_time": "2023-07-03T15:51:12.848244",
     "status": "completed"
    },
    "tags": []
   },
   "outputs": [],
   "source": [
    "# tweets per country and city\n",
    "tweets_per_country = df['Location'].value_counts().loc[lambda x : x > 100].reset_index(name='counts')"
   ]
  },
  {
   "cell_type": "code",
   "execution_count": 20,
   "id": "730a5631",
   "metadata": {
    "execution": {
     "iopub.execute_input": "2023-07-03T15:51:12.953079Z",
     "iopub.status.busy": "2023-07-03T15:51:12.952678Z",
     "iopub.status.idle": "2023-07-03T15:51:13.497624Z",
     "shell.execute_reply": "2023-07-03T15:51:13.496671Z"
    },
    "papermill": {
     "duration": 0.577165,
     "end_time": "2023-07-03T15:51:13.500017",
     "exception": false,
     "start_time": "2023-07-03T15:51:12.922852",
     "status": "completed"
    },
    "tags": []
   },
   "outputs": [
    {
     "name": "stderr",
     "output_type": "stream",
     "text": [
      "/tmp/ipykernel_24/3314811069.py:2: FutureWarning: \n",
      "\n",
      "The `ci` parameter is deprecated. Use `errorbar=('ci', False)` for the same effect.\n",
      "\n",
      "  ax = sns.barplot(x='index', y='counts', data=tweets_per_country,edgecolor = 'black',ci=False, palette='Spectral')\n"
     ]
    },
    {
     "data": {
      "image/png": "[encoded data removed]",
      "text/plain": [
       "<Figure size 1500x600 with 1 Axes>"
      ]
     },
     "metadata": {},
     "output_type": "display_data"
    }
   ],
   "source": [
    "plt.figure(figsize=(15,6))\n",
    "ax = sns.barplot(x='index', y='counts', data=tweets_per_country,edgecolor = 'black',ci=False, palette='Spectral')\n",
    "plt.title('Tweets count by country')\n",
    "plt.xticks(rotation=70)\n",
    "plt.yticks([])\n",
    "ax.bar_label(ax.containers[0])\n",
    "plt.ylabel('count')\n",
    "plt.xlabel('')\n",
    "plt.show()"
   ]
  },
  {
   "cell_type": "markdown",
   "id": "8777df07",
   "metadata": {
    "papermill": {
     "duration": 0.029608,
     "end_time": "2023-07-03T15:51:13.559356",
     "exception": false,
     "start_time": "2023-07-03T15:51:13.529748",
     "status": "completed"
    },
    "tags": []
   },
   "source": [
    "**Data Cleaning**"
   ]
  },
  {
   "cell_type": "code",
   "execution_count": 21,
   "id": "6e4d3b9f",
   "metadata": {
    "execution": {
     "iopub.execute_input": "2023-07-03T15:51:13.619672Z",
     "iopub.status.busy": "2023-07-03T15:51:13.619283Z",
     "iopub.status.idle": "2023-07-03T15:51:13.627443Z",
     "shell.execute_reply": "2023-07-03T15:51:13.626453Z"
    },
    "papermill": {
     "duration": 0.041181,
     "end_time": "2023-07-03T15:51:13.629619",
     "exception": false,
     "start_time": "2023-07-03T15:51:13.588438",
     "status": "completed"
    },
    "tags": []
   },
   "outputs": [],
   "source": [
    "df = df[['OriginalTweet','Sentiment']]"
   ]
  },
  {
   "cell_type": "code",
   "execution_count": 22,
   "id": "5ed08645",
   "metadata": {
    "execution": {
     "iopub.execute_input": "2023-07-03T15:51:13.692066Z",
     "iopub.status.busy": "2023-07-03T15:51:13.691171Z",
     "iopub.status.idle": "2023-07-03T15:51:13.697523Z",
     "shell.execute_reply": "2023-07-03T15:51:13.696582Z"
    },
    "papermill": {
     "duration": 0.038881,
     "end_time": "2023-07-03T15:51:13.699986",
     "exception": false,
     "start_time": "2023-07-03T15:51:13.661105",
     "status": "completed"
    },
    "tags": []
   },
   "outputs": [],
   "source": [
    "df_test = df_test[['OriginalTweet','Sentiment']]"
   ]
  },
  {
   "cell_type": "code",
   "execution_count": 23,
   "id": "89989a04",
   "metadata": {
    "execution": {
     "iopub.execute_input": "2023-07-03T15:51:13.762664Z",
     "iopub.status.busy": "2023-07-03T15:51:13.761749Z",
     "iopub.status.idle": "2023-07-03T15:51:13.772512Z",
     "shell.execute_reply": "2023-07-03T15:51:13.771646Z"
    },
    "papermill": {
     "duration": 0.043944,
     "end_time": "2023-07-03T15:51:13.774547",
     "exception": false,
     "start_time": "2023-07-03T15:51:13.730603",
     "status": "completed"
    },
    "tags": []
   },
   "outputs": [],
   "source": [
    "# building custom functions to clean the data\n",
    "\n",
    "def strip_emoji(text):\n",
    "    #return re.sub(emoji.get_emoji_regexp(), r\"\", text) #remove emoji\n",
    "    emoji_pattern = re.compile(r\"[^\\w\\s]|[\\u2000-\\u3000]\")\n",
    "    return emoji_pattern.sub(\"\", text)\n",
    "\n",
    "#Remove punctuations, links, mentions and \\r\\n new line characters\n",
    "def strip_all_entities(text): \n",
    "    text = text.replace('\\r', '').replace('\\n', ' ').replace('\\n', ' ').lower() #remove \\n and \\r and lowercase\n",
    "    text = re.sub(r\"(?:\\@|https?\\://)\\S+\", \"\", text) #remove links and mentions\n",
    "    text = re.sub(r'[^\\x00-\\x7f]',r'', text) #remove non utf8/ascii characters such as '\\x9a\\x91\\x97\\x9a\\x97'\n",
    "    banned_list= string.punctuation + 'Ã'+'±'+'ã'+'¼'+'â'+'»'+'§'\n",
    "    table = str.maketrans('', '', banned_list)\n",
    "    text = text.translate(table)\n",
    "    return text\n",
    "\n",
    "#clean hashtags at the end of the sentence, and keep those in the middle of the sentence by removing just the # symbol\n",
    "def clean_hashtags(tweet):\n",
    "    new_tweet = \" \".join(word.strip() for word in re.split('#(?!(?:hashtag)\\b)[\\w-]+(?=(?:\\s+#[\\w-]+)*\\s*$)', tweet)) #remove last hashtags\n",
    "    new_tweet2 = \" \".join(word.strip() for word in re.split('#|_', new_tweet)) #remove hashtags symbol from words in the middle of the sentence\n",
    "    return new_tweet2\n",
    "\n",
    "#Filter special characters such as & and $ present in some words\n",
    "def filter_chars(a):\n",
    "    sent = []\n",
    "    for word in a.split(' '):\n",
    "        if ('$' in word) | ('&' in word):\n",
    "            sent.append('')\n",
    "        else:\n",
    "            sent.append(word)\n",
    "    return ' '.join(sent)\n",
    "\n",
    "def remove_mult_spaces(text): # remove multiple spaces\n",
    "    return re.sub(\"\\s\\s+\" , \" \", text)"
   ]
  },
  {
   "cell_type": "code",
   "execution_count": 24,
   "id": "6e14c1bd",
   "metadata": {
    "execution": {
     "iopub.execute_input": "2023-07-03T15:51:13.835631Z",
     "iopub.status.busy": "2023-07-03T15:51:13.834002Z",
     "iopub.status.idle": "2023-07-03T15:51:16.570749Z",
     "shell.execute_reply": "2023-07-03T15:51:16.569698Z"
    },
    "papermill": {
     "duration": 2.769411,
     "end_time": "2023-07-03T15:51:16.573418",
     "exception": false,
     "start_time": "2023-07-03T15:51:13.804007",
     "status": "completed"
    },
    "tags": []
   },
   "outputs": [],
   "source": [
    "texts_new = []\n",
    "for t in df.OriginalTweet:\n",
    "    texts_new.append(remove_mult_spaces(filter_chars(clean_hashtags(strip_all_entities(strip_emoji(t))))))"
   ]
  },
  {
   "cell_type": "code",
   "execution_count": 25,
   "id": "9868d92b",
   "metadata": {
    "execution": {
     "iopub.execute_input": "2023-07-03T15:51:16.636778Z",
     "iopub.status.busy": "2023-07-03T15:51:16.636398Z",
     "iopub.status.idle": "2023-07-03T15:51:16.906240Z",
     "shell.execute_reply": "2023-07-03T15:51:16.905278Z"
    },
    "papermill": {
     "duration": 0.304905,
     "end_time": "2023-07-03T15:51:16.909060",
     "exception": false,
     "start_time": "2023-07-03T15:51:16.604155",
     "status": "completed"
    },
    "tags": []
   },
   "outputs": [],
   "source": [
    "texts_new_test = []\n",
    "for t in df_test.OriginalTweet:\n",
    "    texts_new_test.append(remove_mult_spaces(filter_chars(clean_hashtags(strip_all_entities(strip_emoji(t))))))"
   ]
  },
  {
   "cell_type": "code",
   "execution_count": 26,
   "id": "b2a235df",
   "metadata": {
    "execution": {
     "iopub.execute_input": "2023-07-03T15:51:16.969482Z",
     "iopub.status.busy": "2023-07-03T15:51:16.969110Z",
     "iopub.status.idle": "2023-07-03T15:51:16.980402Z",
     "shell.execute_reply": "2023-07-03T15:51:16.979399Z"
    },
    "papermill": {
     "duration": 0.043983,
     "end_time": "2023-07-03T15:51:16.982408",
     "exception": false,
     "start_time": "2023-07-03T15:51:16.938425",
     "status": "completed"
    },
    "tags": []
   },
   "outputs": [],
   "source": [
    "# now we can cerate new column, for both train and test sets\n",
    "df['text_clean'] = texts_new\n",
    "df_test['text_clean'] = texts_new_test"
   ]
  },
  {
   "cell_type": "code",
   "execution_count": 27,
   "id": "5127ad42",
   "metadata": {
    "execution": {
     "iopub.execute_input": "2023-07-03T15:51:17.043584Z",
     "iopub.status.busy": "2023-07-03T15:51:17.042494Z",
     "iopub.status.idle": "2023-07-03T15:51:17.050622Z",
     "shell.execute_reply": "2023-07-03T15:51:17.049652Z"
    },
    "papermill": {
     "duration": 0.040946,
     "end_time": "2023-07-03T15:51:17.052605",
     "exception": false,
     "start_time": "2023-07-03T15:51:17.011659",
     "status": "completed"
    },
    "tags": []
   },
   "outputs": [
    {
     "data": {
      "text/plain": [
       "0    menyrbie philgahan chrisitv httpstcoifz9fan2pa...\n",
       "1    advice talk to your neighbours family to excha...\n",
       "2    coronavirus australia woolworths to give elder...\n",
       "3    my food stock is not the only one which is emp...\n",
       "4    me ready to go at supermarket during the covid...\n",
       "Name: text_clean, dtype: object"
      ]
     },
     "execution_count": 27,
     "metadata": {},
     "output_type": "execute_result"
    }
   ],
   "source": [
    "df['text_clean'].head()"
   ]
  },
  {
   "cell_type": "code",
   "execution_count": 28,
   "id": "fa6059ff",
   "metadata": {
    "execution": {
     "iopub.execute_input": "2023-07-03T15:51:17.113680Z",
     "iopub.status.busy": "2023-07-03T15:51:17.112794Z",
     "iopub.status.idle": "2023-07-03T15:51:17.120774Z",
     "shell.execute_reply": "2023-07-03T15:51:17.119752Z"
    },
    "papermill": {
     "duration": 0.040294,
     "end_time": "2023-07-03T15:51:17.122716",
     "exception": false,
     "start_time": "2023-07-03T15:51:17.082422",
     "status": "completed"
    },
    "tags": []
   },
   "outputs": [
    {
     "data": {
      "text/plain": [
       "0    trending new yorkers encounter empty supermark...\n",
       "1    when i couldnt find hand sanitizer at fred mey...\n",
       "2    find out how you can protect yourself and love...\n",
       "3    panic buying hits newyork city as anxious shop...\n",
       "4    toiletpaper dunnypaper coronavirus coronavirus...\n",
       "Name: text_clean, dtype: object"
      ]
     },
     "execution_count": 28,
     "metadata": {},
     "output_type": "execute_result"
    }
   ],
   "source": [
    "df_test['text_clean'].head()"
   ]
  },
  {
   "cell_type": "code",
   "execution_count": 29,
   "id": "e7df9e02",
   "metadata": {
    "execution": {
     "iopub.execute_input": "2023-07-03T15:51:17.183441Z",
     "iopub.status.busy": "2023-07-03T15:51:17.182698Z",
     "iopub.status.idle": "2023-07-03T15:51:17.189420Z",
     "shell.execute_reply": "2023-07-03T15:51:17.188556Z"
    },
    "papermill": {
     "duration": 0.039524,
     "end_time": "2023-07-03T15:51:17.191440",
     "exception": false,
     "start_time": "2023-07-03T15:51:17.151916",
     "status": "completed"
    },
    "tags": []
   },
   "outputs": [
    {
     "data": {
      "text/plain": [
       "array(['advice talk to your neighbours family to exchange phone numbers create contact list with phone numbers of neighbours schools employer chemist gp set up online shopping accounts if poss adequate supplies of regular meds but not over order',\n",
       "       'coronavirus australia woolworths to give elderly disabled dedicated shopping hours amid covid19 outbreak httpstcobinca9vp8p',\n",
       "       'my food stock is not the only one which is empty please dont panic there will be enough food for everyone if you do not take more than you need stay calm stay safe covid19france covid19 covid19 coronavirus confinement confinementotal confinementgeneral httpstcozrlg0z520j',\n",
       "       'me ready to go at supermarket during the covid19 outbreak not because im paranoid but because my food stock is litteraly empty the coronavirus is a serious thing but please dont panic it causes shortage coronavirusfrance restezchezvous stayathome confinement httpstcousmualq72n',\n",
       "       'as news of the regions first confirmed covid19 case came out of sullivan county last week people flocked to area stores to purchase cleaning supplies hand sanitizer food toilet paper and other goods timdodson reports httpstcocfxch7a2lu',\n",
       "       'cashier at grocery store was sharing his insights on covid19 to prove his credibility he commented im in civics class so i know what im talking about httpstcoiefdnehgdo',\n",
       "       'was at the supermarket today didnt buy toilet paper rebel toiletpapercrisis covid19 httpstcoevxkqlidaz'],\n",
       "      dtype=object)"
      ]
     },
     "execution_count": 29,
     "metadata": {},
     "output_type": "execute_result"
    }
   ],
   "source": [
    "df['text_clean'][1:8].values"
   ]
  },
  {
   "cell_type": "code",
   "execution_count": 30,
   "id": "bf033131",
   "metadata": {
    "execution": {
     "iopub.execute_input": "2023-07-03T15:51:17.253687Z",
     "iopub.status.busy": "2023-07-03T15:51:17.252778Z",
     "iopub.status.idle": "2023-07-03T15:51:17.357144Z",
     "shell.execute_reply": "2023-07-03T15:51:17.356119Z"
    },
    "papermill": {
     "duration": 0.137547,
     "end_time": "2023-07-03T15:51:17.359541",
     "exception": false,
     "start_time": "2023-07-03T15:51:17.221994",
     "status": "completed"
    },
    "tags": []
   },
   "outputs": [],
   "source": [
    "text_len = []\n",
    "for text in df.text_clean:\n",
    "    tweet_len = len(text.split())\n",
    "    text_len.append(tweet_len)"
   ]
  },
  {
   "cell_type": "code",
   "execution_count": 31,
   "id": "262f1de5",
   "metadata": {
    "execution": {
     "iopub.execute_input": "2023-07-03T15:51:17.421396Z",
     "iopub.status.busy": "2023-07-03T15:51:17.421008Z",
     "iopub.status.idle": "2023-07-03T15:51:17.445212Z",
     "shell.execute_reply": "2023-07-03T15:51:17.444290Z"
    },
    "papermill": {
     "duration": 0.057439,
     "end_time": "2023-07-03T15:51:17.447260",
     "exception": false,
     "start_time": "2023-07-03T15:51:17.389821",
     "status": "completed"
    },
    "tags": []
   },
   "outputs": [],
   "source": [
    "df['text_len'] = text_len"
   ]
  },
  {
   "cell_type": "code",
   "execution_count": 32,
   "id": "1f94ec11",
   "metadata": {
    "execution": {
     "iopub.execute_input": "2023-07-03T15:51:17.515303Z",
     "iopub.status.busy": "2023-07-03T15:51:17.514913Z",
     "iopub.status.idle": "2023-07-03T15:51:17.531024Z",
     "shell.execute_reply": "2023-07-03T15:51:17.529887Z"
    },
    "papermill": {
     "duration": 0.056158,
     "end_time": "2023-07-03T15:51:17.533552",
     "exception": false,
     "start_time": "2023-07-03T15:51:17.477394",
     "status": "completed"
    },
    "tags": []
   },
   "outputs": [],
   "source": [
    "text_len_test = []\n",
    "for text in df_test.text_clean:\n",
    "    tweet_len = len(text.split())\n",
    "    text_len_test.append(tweet_len)"
   ]
  },
  {
   "cell_type": "code",
   "execution_count": 33,
   "id": "b40ce1c1",
   "metadata": {
    "execution": {
     "iopub.execute_input": "2023-07-03T15:51:17.597449Z",
     "iopub.status.busy": "2023-07-03T15:51:17.596429Z",
     "iopub.status.idle": "2023-07-03T15:51:17.603850Z",
     "shell.execute_reply": "2023-07-03T15:51:17.602899Z"
    },
    "papermill": {
     "duration": 0.040697,
     "end_time": "2023-07-03T15:51:17.605845",
     "exception": false,
     "start_time": "2023-07-03T15:51:17.565148",
     "status": "completed"
    },
    "tags": []
   },
   "outputs": [],
   "source": [
    "df_test['text_len'] = text_len_test"
   ]
  },
  {
   "cell_type": "code",
   "execution_count": 34,
   "id": "59e3a5ae",
   "metadata": {
    "execution": {
     "iopub.execute_input": "2023-07-03T15:51:17.667613Z",
     "iopub.status.busy": "2023-07-03T15:51:17.666696Z",
     "iopub.status.idle": "2023-07-03T15:51:17.903931Z",
     "shell.execute_reply": "2023-07-03T15:51:17.902910Z"
    },
    "papermill": {
     "duration": 0.271905,
     "end_time": "2023-07-03T15:51:17.907278",
     "exception": false,
     "start_time": "2023-07-03T15:51:17.635373",
     "status": "completed"
    },
    "tags": []
   },
   "outputs": [
    {
     "data": {
      "image/png": "[encoded data removed]",
      "text/plain": [
       "<Figure size 700x500 with 1 Axes>"
      ]
     },
     "metadata": {},
     "output_type": "display_data"
    }
   ],
   "source": [
    "plt.figure(figsize=(7,5))\n",
    "ax = sns.countplot(x='text_len', data=df[df['text_len']<10], palette='mako')\n",
    "plt.title('Training tweets with less than 10 words')\n",
    "plt.yticks([])\n",
    "ax.bar_label(ax.containers[0])\n",
    "plt.ylabel('count')\n",
    "plt.xlabel('')\n",
    "plt.show()"
   ]
  },
  {
   "cell_type": "code",
   "execution_count": 35,
   "id": "973540bb",
   "metadata": {
    "execution": {
     "iopub.execute_input": "2023-07-03T15:51:17.986296Z",
     "iopub.status.busy": "2023-07-03T15:51:17.985915Z",
     "iopub.status.idle": "2023-07-03T15:51:18.194124Z",
     "shell.execute_reply": "2023-07-03T15:51:18.192988Z"
    },
    "papermill": {
     "duration": 0.242978,
     "end_time": "2023-07-03T15:51:18.196852",
     "exception": false,
     "start_time": "2023-07-03T15:51:17.953874",
     "status": "completed"
    },
    "tags": []
   },
   "outputs": [
    {
     "data": {
      "image/png": "[encoded data removed]",
      "text/plain": [
       "<Figure size 700x500 with 1 Axes>"
      ]
     },
     "metadata": {},
     "output_type": "display_data"
    }
   ],
   "source": [
    "plt.figure(figsize=(7,5))\n",
    "ax = sns.countplot(x='text_len', data=df_test[df_test['text_len']<10], palette='mako')\n",
    "plt.title('Test tweets with less than 10 words')\n",
    "plt.yticks([])\n",
    "ax.bar_label(ax.containers[0])\n",
    "plt.ylabel('count')\n",
    "plt.xlabel('')\n",
    "plt.show()"
   ]
  },
  {
   "cell_type": "code",
   "execution_count": 36,
   "id": "4c94aefb",
   "metadata": {
    "execution": {
     "iopub.execute_input": "2023-07-03T15:51:18.282865Z",
     "iopub.status.busy": "2023-07-03T15:51:18.282490Z",
     "iopub.status.idle": "2023-07-03T15:51:18.287675Z",
     "shell.execute_reply": "2023-07-03T15:51:18.286716Z"
    },
    "papermill": {
     "duration": 0.040656,
     "end_time": "2023-07-03T15:51:18.290737",
     "exception": false,
     "start_time": "2023-07-03T15:51:18.250081",
     "status": "completed"
    },
    "tags": []
   },
   "outputs": [
    {
     "name": "stdout",
     "output_type": "stream",
     "text": [
      " DF SHAPE: (41157, 4)\n",
      " DF TEST SHAPE: (3798, 4)\n"
     ]
    }
   ],
   "source": [
    "print(f\" DF SHAPE: {df.shape}\")\n",
    "print(f\" DF TEST SHAPE: {df_test.shape}\")"
   ]
  },
  {
   "cell_type": "code",
   "execution_count": 37,
   "id": "6596398a",
   "metadata": {
    "execution": {
     "iopub.execute_input": "2023-07-03T15:51:18.354011Z",
     "iopub.status.busy": "2023-07-03T15:51:18.353333Z",
     "iopub.status.idle": "2023-07-03T15:51:18.363946Z",
     "shell.execute_reply": "2023-07-03T15:51:18.363067Z"
    },
    "papermill": {
     "duration": 0.044936,
     "end_time": "2023-07-03T15:51:18.366067",
     "exception": false,
     "start_time": "2023-07-03T15:51:18.321131",
     "status": "completed"
    },
    "tags": []
   },
   "outputs": [],
   "source": [
    "df = df[df['text_len'] > 4]"
   ]
  },
  {
   "cell_type": "code",
   "execution_count": 38,
   "id": "15c9f5ee",
   "metadata": {
    "execution": {
     "iopub.execute_input": "2023-07-03T15:51:18.428012Z",
     "iopub.status.busy": "2023-07-03T15:51:18.427683Z",
     "iopub.status.idle": "2023-07-03T15:51:18.433771Z",
     "shell.execute_reply": "2023-07-03T15:51:18.432737Z"
    },
    "papermill": {
     "duration": 0.039643,
     "end_time": "2023-07-03T15:51:18.435914",
     "exception": false,
     "start_time": "2023-07-03T15:51:18.396271",
     "status": "completed"
    },
    "tags": []
   },
   "outputs": [],
   "source": [
    "df_test = df_test[df_test['text_len'] > 4]"
   ]
  },
  {
   "cell_type": "code",
   "execution_count": 39,
   "id": "2b8ae29b",
   "metadata": {
    "execution": {
     "iopub.execute_input": "2023-07-03T15:51:18.498512Z",
     "iopub.status.busy": "2023-07-03T15:51:18.498137Z",
     "iopub.status.idle": "2023-07-03T15:51:18.503298Z",
     "shell.execute_reply": "2023-07-03T15:51:18.502407Z"
    },
    "papermill": {
     "duration": 0.039043,
     "end_time": "2023-07-03T15:51:18.505801",
     "exception": false,
     "start_time": "2023-07-03T15:51:18.466758",
     "status": "completed"
    },
    "tags": []
   },
   "outputs": [
    {
     "name": "stdout",
     "output_type": "stream",
     "text": [
      " DF SHAPE: (41026, 4)\n",
      " DF TEST SHAPE: (3795, 4)\n"
     ]
    }
   ],
   "source": [
    "print(f\" DF SHAPE: {df.shape}\")\n",
    "print(f\" DF TEST SHAPE: {df_test.shape}\")"
   ]
  },
  {
   "cell_type": "code",
   "execution_count": 40,
   "id": "3b88d1e3",
   "metadata": {
    "execution": {
     "iopub.execute_input": "2023-07-03T15:51:18.571082Z",
     "iopub.status.busy": "2023-07-03T15:51:18.570122Z",
     "iopub.status.idle": "2023-07-03T15:51:19.853086Z",
     "shell.execute_reply": "2023-07-03T15:51:19.852137Z"
    },
    "papermill": {
     "duration": 1.317619,
     "end_time": "2023-07-03T15:51:19.855721",
     "exception": false,
     "start_time": "2023-07-03T15:51:18.538102",
     "status": "completed"
    },
    "tags": []
   },
   "outputs": [
    {
     "data": {
      "application/vnd.jupyter.widget-view+json": {
       "model_id": "f70179e868904fb9b003f550b5057874",
       "version_major": 2,
       "version_minor": 0
      },
      "text/plain": [
       "Downloading (…)okenizer_config.json:   0%|          | 0.00/28.0 [00:00<?, ?B/s]"
      ]
     },
     "metadata": {},
     "output_type": "display_data"
    },
    {
     "data": {
      "application/vnd.jupyter.widget-view+json": {
       "model_id": "df78ab45519e4bb0b0d70d1604a46543",
       "version_major": 2,
       "version_minor": 0
      },
      "text/plain": [
       "Downloading (…)solve/main/vocab.txt:   0%|          | 0.00/232k [00:00<?, ?B/s]"
      ]
     },
     "metadata": {},
     "output_type": "display_data"
    },
    {
     "data": {
      "application/vnd.jupyter.widget-view+json": {
       "model_id": "9f366645a92049c1970bffb8d28d7a42",
       "version_major": 2,
       "version_minor": 0
      },
      "text/plain": [
       "Downloading (…)/main/tokenizer.json:   0%|          | 0.00/466k [00:00<?, ?B/s]"
      ]
     },
     "metadata": {},
     "output_type": "display_data"
    },
    {
     "data": {
      "application/vnd.jupyter.widget-view+json": {
       "model_id": "9e24c9a286c8446184a58b2b52592627",
       "version_major": 2,
       "version_minor": 0
      },
      "text/plain": [
       "Downloading (…)lve/main/config.json:   0%|          | 0.00/570 [00:00<?, ?B/s]"
      ]
     },
     "metadata": {},
     "output_type": "display_data"
    }
   ],
   "source": [
    "# using the bert tokenizer\n",
    "tokenizer = BertTokenizerFast.from_pretrained('bert-base-uncased')"
   ]
  },
  {
   "cell_type": "code",
   "execution_count": 41,
   "id": "a9c887ee",
   "metadata": {
    "execution": {
     "iopub.execute_input": "2023-07-03T15:51:19.921370Z",
     "iopub.status.busy": "2023-07-03T15:51:19.920983Z",
     "iopub.status.idle": "2023-07-03T15:51:27.884839Z",
     "shell.execute_reply": "2023-07-03T15:51:27.883867Z"
    },
    "papermill": {
     "duration": 7.998868,
     "end_time": "2023-07-03T15:51:27.887420",
     "exception": false,
     "start_time": "2023-07-03T15:51:19.888552",
     "status": "completed"
    },
    "tags": []
   },
   "outputs": [],
   "source": [
    "token_lens = []\n",
    "\n",
    "for txt in df['text_clean'].values:\n",
    "    tokens = tokenizer.encode(txt, max_length=512, truncation=True)\n",
    "    token_lens.append(len(tokens))\n",
    "    \n",
    "max_len=np.max(token_lens)"
   ]
  },
  {
   "cell_type": "code",
   "execution_count": 42,
   "id": "bc4c14cb",
   "metadata": {
    "execution": {
     "iopub.execute_input": "2023-07-03T15:51:27.953351Z",
     "iopub.status.busy": "2023-07-03T15:51:27.952965Z",
     "iopub.status.idle": "2023-07-03T15:51:27.958125Z",
     "shell.execute_reply": "2023-07-03T15:51:27.957242Z"
    },
    "papermill": {
     "duration": 0.040145,
     "end_time": "2023-07-03T15:51:27.960552",
     "exception": false,
     "start_time": "2023-07-03T15:51:27.920407",
     "status": "completed"
    },
    "tags": []
   },
   "outputs": [
    {
     "name": "stdout",
     "output_type": "stream",
     "text": [
      "MAX TOKENIZED SENTENCE LENGTH: 104\n"
     ]
    }
   ],
   "source": [
    "print(f\"MAX TOKENIZED SENTENCE LENGTH: {max_len}\")"
   ]
  },
  {
   "cell_type": "code",
   "execution_count": 43,
   "id": "4d215da1",
   "metadata": {
    "collapsed": true,
    "execution": {
     "iopub.execute_input": "2023-07-03T15:51:28.025442Z",
     "iopub.status.busy": "2023-07-03T15:51:28.024634Z",
     "iopub.status.idle": "2023-07-03T15:51:36.051590Z",
     "shell.execute_reply": "2023-07-03T15:51:36.050087Z"
    },
    "jupyter": {
     "outputs_hidden": true
    },
    "papermill": {
     "duration": 8.061684,
     "end_time": "2023-07-03T15:51:36.053814",
     "exception": false,
     "start_time": "2023-07-03T15:51:27.992130",
     "status": "completed"
    },
    "tags": []
   },
   "outputs": [
    {
     "name": "stdout",
     "output_type": "stream",
     "text": [
      "INDEX: 947, TEXT: a thought then to those of us with no income for 6yrs 1950s60 women 73 job seekersuchow to stock up food for week let alone months90000 our cohort dead in less yearsthen hit this mp youre disgrace borisjohnson onevoice ageconcern coronavirus mentalhealth dwpcrimes httpstco2coihjl8ic httpstco7wev8xeps0\n",
      "INDEX: 1212, TEXT: we are offering you free delivery this week so you dont have to leave the house tampcs apply freedelivery avoidcrowds coronavirus covid19 southafrica coffee stockup besafe washyourhands keepcalm drinkcoffee cleanyourmachine descale httpstcoushgdvksv3 httpstcoj68ze0gz3p\n",
      "INDEX: 1632, TEXT: zsah policie proti spekulantm s roukami na mj popud hejtman steckho kraje ve spoluprci s policiecz podle krizovho zkona zajistil tm 700 tisrouek od firmy kter je mla dodat na zdravotnkm ale na posledn chvli se snaila navyovat cenu spolutozvladneme\n",
      "INDEX: 1691, TEXT: i work at a grocery store we wont get any toilet paper for the next 2 week hope yall like wiping your ass on a paper plate fbp retweeet whyhasgodforsakenme tolietpaper coronavirusoutbreak lockdowncanada panicbuying stpatricksday2020 quarantinelife covid2019 httpstcodjrwebyxmv\n",
      "INDEX: 2246, TEXT: using crypto for what it was designed for used bitcoin to buy bullets with my cryptocom card glad i did prices are skyrocketing now with coronavirus covid19 stay safe yall timeforplanb bensemchee bitboycrypto theemrsmcafee officialmcafee ricecrypto monarchtoken httpstcoo0dsd66xjz\n",
      "INDEX: 2921, TEXT: reliance industries chairman mukesh ambani is no longer asias richest man relinquishing the title to jack ma after oil prices collapsed along with global stocks vaka98 anakkalegeilmez nifty bandkarobazaar covidindia covid2019 clubtwitter httpstcoke8sumpxoo httpstco1aguedyv0h\n",
      "INDEX: 3140, TEXT: bneeditorspicks kazakh tenge plunges to record low as world oil prices flounder kaz tenge sank 66 v usd httpstcombxe23gnx6 bne business coronavirus kazakhstan fx see a sample here httpstcoqdljdvomx2 sign up here httpstcofx29m7iuzu httpstco3vx7ixae3l\n",
      "INDEX: 3790, TEXT: kn95mask manufacturer wholesale prices large orders high qualityface medicalmask n95 respirator safety protective n95mask coronavirus covid19 coronavirusde covid19germany covid19italia contact andykongb2goscom buy via alibaba here httpstcoiszyvpnwqt httpstcoztxspgteal\n",
      "INDEX: 5726, TEXT: stoppanicbuying coronavirusoutbreakindia sohnaasim coronavirusupdate gocoronacoronago quarentinelife janatacurfew dhinchakpooja coronavirus indiapaysafe covid2019 narendramodi narendramodi incindia dostkhanjammu aamaadmiparty please stop panic buying httpstcoz3ld6j7mbd\n",
      "INDEX: 5934, TEXT: keyesen2000 nutanjyot nalini51purohit shytigress bharatmachine99 gendadange dharmvirjangra9 drsunandambal savitritvs genpanwar bharatwashi1 nanibellary gouranga1964 sethived wishmaster2019 jagannkaushik sinhrann ruleselsa jolie ve\n",
      "INDEX: 5941, TEXT: bbb alert coronavirus price gouging is up bbb urges consumers to report inflated prices to httpstcon6mzmdsgsg httpstcocevttbqkdr21761bbbalertcoronaviruspricegou coronavirus bbbdelivers httpstcoizf3nil3an httpstcoui7oyw6spx\n",
      "INDEX: 6622, TEXT: facemask n95 coronavirus myquarantineinsixwords covid19 quarantine chinesecoronavirus socialdistancing survivor40 bleach2020 covid face mask and hand sanitizer in stock soon tons of stuff follow us for details best prices available httpstcoam9kxjoetf httpstco4spmkzg0tp\n",
      "INDEX: 6958, TEXT: covid19 protectionface masks online in regular prices retweeetplease to help httpstcohzl5ffbjdt coronavirus 2019cov n95masks n95 facemask covid19 coronavirususa coronavirusitalia coronavirusoutbreak health newspicks viruscorona trump wuhan healthy httpstcojhofmqpz5h\n",
      "INDEX: 7468, TEXT: oil futures in ny jumped 11 to 2254barrel more below noon prices spx50024214 nas10072883 wti2241 gold148589 silver12165 practise trading oil on a free demo httpstcox9zztkcode coronavirus covid19 covid2019au donaldtrump coronavirusoutbreak httpstcormjlqcuifb httpstcojcb2oaumgx\n",
      "INDEX: 8256, TEXT: francisco shared this photo with us from santa maria ca where he is working in the strawberries after this weeks rain wefeedyou francisco comparti esta foto con nosotros desde santa maria ca donde trabajaba en las fresas despus de la lluvia de esta semana wefeedyou httpstcoedxpnw09rq\n",
      "INDEX: 8714, TEXT: bitte anschauen 12 emotionaler aufruf von gehard bosselmann aus hannover bitte gehen sie zu ihrem bcker um die ecke schei egal wie der heit bitte gehen sie hin bcker mittelstand handwerk landbckereibosselmann hannover emsland covid19 coronavirus httpstco4ehirsnid8\n",
      "INDEX: 9006, TEXT: la escena se repite alrededor del mundo desde estados unidos hasta australia francia o espaa los clientes han dejado vacos los estantes de los supermercados destinados al papel higinico en medio del pnico por el nuevo coronavirus afp httpstcoatnmqpp7ph issamahmed httpstcogmb58hdk9z\n",
      "INDEX: 9212, TEXT: hi zomato i felt hungry loggd in ur app tryd to add 4 amritsari cholle chawal box wid olives amp ice tea 4m box8in howevr d final prices crossd like 762 i understnd its d coronavirus season bt i used 2 get d same in lyk under 400 in old times any help wid sum discount hungry\n",
      "INDEX: 9678, TEXT: hold onto hope for a cure let us know how covid19 has been affecting you in the comments httpstcoi8wrf77lgp coronavirusupdate malamjumat sondurum gntm coronacrisis online shop shopping shoplocal shopeeth coronavirususa coronacrisis covid covid2019tr httpstcoktbap1f4e4\n",
      "INDEX: 10235, TEXT: just go with big sale in httpstco4w6fha23lg and get your grocery at your doorstep visit httpstcodf302qpmgv download gwala mobile app httpstcogswh9639nw kids kidscare tea grocery toothpaste kitchen 0ffers aata daal rice soap chocolates coronavirus httpstcofmn2ormzk2\n",
      "INDEX: 11182, TEXT: keine wertgegenstnde im fahrzeug lassen diesen tipp sollte man am besten immer amp nicht nur in zeiten von corona befolgen in wrselen wurde die scheibe eines pkw eingeschlagen amp mehrere rollen klopapier gestohlen httpstcodruciwjvvs\n",
      "INDEX: 11923, TEXT: point of sale system pos software for shopshotels chemists minishops supermarketwith inventory stock controlreal time mpesa khs 15000 whatsup us httpstcogxkqgnjxb0 covid19kenya uhurumustgo yvonne robert alai mbagathi covid19 cs mutahi kagwe httpstcomqon5ihthc\n",
      "INDEX: 12141, TEXT: macguyvermedia legalbeagle1215 bc265 cmsaunders81 babymorgal trishastweet julia6118 lynnette2047 pillio slayersteveo vonwolf9 btkissinger billywhitehouse jeanetteduff4 hobockryan ryanconstructi4 badly needed help my husband no work sinc\n",
      "INDEX: 12355, TEXT: okay so i just checked the drug prices for plaquenil and aralen same chloroquine chloroquinephosphate hydroxychloroquin drugs and they go for 34 cents to 88 cents per pill azithromycine starts at 105pill fyi hydroxychloroquineandazythromyacinnow covid19 httpstcoovypmnsmax\n",
      "INDEX: 13654, TEXT: hoy aplaudo a mi segunda familia aplaudoanuestrosheroes aquellos con los que he compartido tantas noches de trabajo y tanta alegra s que como siempre dan todo por el bien de su comunidad presidente ivanduque por ellos tambin cuarentenanacionalya cuidemosalosquecuidan httpstcoedu8hbo5tz\n",
      "INDEX: 14553, TEXT: na wer war denn da am werk gestern nachmittag konnten anwohnerinnen des stadtteil praunheim in frankfurt diese aktion bestaunen wer dafr verantwortlich ist ist unklar danke an melanie theiss fr die zusendung des fotos bild elizabeth maks httpstcoul10htio2h\n",
      "INDEX: 14715, TEXT: ciudadano brasileo muestra su sorpresa positiva al observar las medidas sanitarias adoptadas en un supermercado del pas en contraste con la situacin en su pas los solemos discriminar pero tenemos mucho que aprender de paraguay dijo httpstcoycvgw8spd1\n",
      "INDEX: 15709, TEXT: dont be a bog troll wash hands often stay home a lot buy only what you need donate some food or money to food banks httpstconlfr3fb0t4 toiletpaper bogroll toiletpapercrisis toiletpapermeme covid19 covid19 coronavirus stayhome stayhomesavelives bekind httpstcor4z8b3hbp6\n",
      "INDEX: 15818, TEXT: dirkvandenbroek vakkenvuller naar huis gestuurd om dragen mondkapje jongen wilde dat hij puur uit veiligheid en om zijn eigen gezondheid niet op het spel te zetten httpstcola3liseoan triest covid19 httpstcoximkisbizw\n",
      "INDEX: 16492, TEXT: tell dem christucker its plain 2c some of yall house aint no home if it was it shouldnt feel like a prison but space to work sort out urselves take time to actually be wur kids family be glad u have freedom2out buy ur supermarket have food2eat amp place2call ur home coronavirus httpstcodgi6s4a8od\n",
      "INDEX: 16568, TEXT: after holding it in the two week toiletpaperhunt was over and mark was finally able to poop hamillhimself toiletpaper toiletpapercrisis bonkeroverbogroll coronavirusuk coronavirus covid19uk covid19 selfisotation lockdown washyourhan httpstco9ekosguqb7 httpstcoizcniraq3x\n",
      "INDEX: 16585, TEXT: stay safe healthy and slay through this pandemic by shopping online in the comfort of your home httpstco0qnpn4svbb lockdownuknow covid19 5baje5minute covid19sa lockdownsouthafrica stayathome coronaupdatesinindia lockdown coronavirus janatacurfew httpstcofrywgguqqe\n",
      "INDEX: 16586, TEXT: bir mddettir spermarketlerin lojistik hizmeti avusturya ordusu desteiyle yaplyor dn corona tedavisi iin 22 milyon luk bir aratrma gelitirme btesi aklad hkmet geen hafta da 35 milyon luk 2 yardm paketi aklanmt viyanadan haberler bu kadar httpstcovhv9xdugxh\n",
      "INDEX: 17153, TEXT: seriously buy this shirt at httpstcohh1flpk2xt alonetogether quarantine toiletpaperpanic toiletpaper funny coronavirus covid19 virus washyourhands stayhometexas memes meme chinaliedandpeopledied shirts coronavirusupdate toiletpapercrisis stayhome china httpstcoqncgoqyytp\n",
      "INDEX: 17250, TEXT: corona ko roko song tips to stop corona spread coronavirus janatacurfew spreadawareness socialdistancing sanitizer mask stayathome akshaykumar theshilpashetty bhuvanbam ashchanchlani fayedsouza mymalishka full vid httpstco4nuprr3ksw httpstco3gmm1fnmcs\n",
      "INDEX: 17680, TEXT: yoda fights r2 to get toilet paper funny editdub httpstcozyiajmtdcd ltclick here coronavirus toiletpaper yoda r2d2 brawl fight toiletpaperwars toiletpaperpanic toiletpaperapocalypse funny starwars covididiots covidiots corona covid19 lol haha stock httpstcok8dqn9gjmz\n",
      "INDEX: 17721, TEXT: link for hand sanitizer httpstcoympgipskat httpstcogaltjbr8ux link for masks httpstco7zsplbih1i wajskhan mirmakofficial humayusuf uzairyounus umairjav admharoon atifrmian yumnaar coronavirus covid19 lockdown pakistan strongertogether\n",
      "INDEX: 18058, TEXT: hand sanitizers are short in the market so make your own diy hand sanitizer at home complete tutorial httpstcos33c7hhc2d covid19outbreak coronafreepakistan prayersforcoronafreeworld pakistanunitedagainstcorona diy handsanitizer covid19 2019ncov coronavirus httpstcoue1bzgbdbz\n",
      "INDEX: 18114, TEXT: this true doe spongebob spongebobmemes coronavirus coronamemes toiletpaper spongebobmeme meme memes funny dankmemes memesdaily funnymemes lol dank humor follow like dankmeme lmao love ol edgymemes dailymemes comedy instagram fun offensivememes funny httpstco3hoxhhd7lh\n",
      "INDEX: 18850, TEXT: croozefmnews president museveni has ordered that no one should increase commodity prices in this covid19 crisis he says those doing so are crookslicences will be cancelled report the crookscovid19ug issues 0800203033 0800100066 0782909153 0772460297 0772469323 httpstco41xnssfw9s\n",
      "INDEX: 18945, TEXT: this same govt that is yet to pay her civil servants salary and give no notice to allow them stock food at home so if covid19 refuse to kill them hunger should do jidesanwoolu jokesanwoolu followlasg gboyegaakosile drobafemihamzat asiwajutinubu gbengaomo httpstcowu0p4mqudv\n",
      "INDEX: 19522, TEXT: based on the lack of tp there must be a lot of pooing going on so you need this get it as soon as this thursday httpstco5hi0ynkaeb poopourri covid19 coronavirus toiletpaper toiletpapercrisis founditonamazon toiletpaperapocalypse poopchallenge httpstcoid81y94m52\n",
      "INDEX: 20178, TEXT: covid19 get protected face masks on stock in retweeet regular prices httpstcofqiecrnvc4 coronavirusupdate coronapandemic coronavirusnewyork coronavirusitalia stayathome health coronatuerkiye socialdistancing n95masks wuhanvirus health spotify netflix httpstco4fgvv53zxv\n",
      "INDEX: 21112, TEXT: true rumorhandsanitizer is available for purchase for 6 online or phone orders 3207743303 httpstcogrpbeavjtr letsfightcovid19 stcloud staysafe stcloudmn stayhealthy stayhomesavelives cannabiscommunity covid2019 cannabisculture wednesdayvibes httpstcobuqt7x0yky\n",
      "INDEX: 21234, TEXT: price gouged the das bureau of investigation have set up a hotline to report suspected price gouging as it relates to covid19 you can call their consumer protection price hotline 951 9550764 or fill out a complain form httpstco3k6y0yvgvv httpstcojachsl1ola httpstcoopstczpjj8\n",
      "INDEX: 21741, TEXT: isla whos 1 has a message for all the nhs workers nhsvolunteerresponder nhsvolunteers keyworkers supermarket workers amp anyone else helping in this horrid time thankyounhs piersmorgan covid19uk covid2019 staysafe stayhome stayathomesavelives stayhomesavelives httpstco0nvhl6jpzf\n",
      "INDEX: 22092, TEXT: wishing you lots of love on the happy occasion of ugadi play now the best casino games like teenpatti andhar bahar etc amp win lots real cash prices khelo24bet khelo24betofficial khelo24betindia casino casinogames happyugadi covid coronavirus stayhomestaysafe httpstcot5ms96ceyh\n",
      "INDEX: 22718, TEXT: sourabhbjp1 nirahua1 diksha0211 komalvashisht2 priyara25629399 isinghapurva ugetprince iabhiacharya arvindkejriwal kapilmishraind drkumarvishwas raise your voice ring the bell all will listen amp act indiafightscorona supportda\n",
      "INDEX: 22946, TEXT: 4 arrested in koboko northern uganda for hiking price of salt they increased the price of a carton of salt from shs 25000 to shs 90000 and a packet of salt from shs 800 to shs 5000 rdc koboko yahaya kakoza says they will be charged with extortion covid19 covidug httpstcoxnyrp4oxmq\n",
      "INDEX: 23235, TEXT: repost lovelifeandjoy189 lv hand sanitizer fake one but its cool to see that lovelifeandjoy189 quarantine confinement corona coronavirus covid19 handsanitizer lvmh gelantibacterial gelantibacterien bernardarnault washhands fakelvhandsanitzer wissrtfkt httpstcoukhcjaynpx\n",
      "INDEX: 23899, TEXT: carrefourke karimikaren xtiandela koinangejeff mungalambuvi burale1 markbichachi trizahtee phillipmacloud kayjudie bbcworld kebske coronavirus coronaviruskenya curfew kuddos 2 carrefour15mtrs dstn obsvdsanitizer amp eavh shopper is\n",
      "INDEX: 24066, TEXT: does sanitizer kills coronavirus get research report with key comp httpstcolc7zufobxk unilever medline germxpro chatteminc gojoindustries henkel kaoglobal kaoglobal bluemoonbrewco kamizeon 3m amway sanitizer handwashing handsanitizer httpstcorr88doyrwe\n",
      "INDEX: 24843, TEXT: we sell certified n95 amp disposable masks at very reasonable prices free shipping worldwideplease check us out httpstcovcihxncepo register with code lyn888 to get 5 cash coupon which you can use for your order corona covid19out coronavirus mask facemasks n95 covid19 httpstcovlpwtowf1y\n",
      "INDEX: 24880, TEXT: so you want to limit trips to the grocery store me too dyk unopened blocks of cheese like this will keep for up to 6 months in fridge use in quesadillas quiche soup tacos what else covid19 covid19 covidcanada panickbuying quarantinekitchen quarantinecooking httpstco91dbaouuwh\n",
      "INDEX: 25083, TEXT: crude oil dropped to its lowest in 17 years in asia as coronavirus in us and eu shows little sign of slowing noon prices spx50025043 nas10075071 wti2024 gold161808 silver14118 watch these prices closely httpstcowuieefsnoj covid19 coronavirusoutbreak httpstcoj68mzidxad httpstco9myqgxutuu\n",
      "INDEX: 25492, TEXT: join am bests webinar impact of oil price movements and covid19 on mena markets april 7 9am gmt10am bst and learn how mena insurers are impacted by reduced oil prices and economic slowdown due to the pandemic httpstcof4j1zzmljw covid19 coronavirus insurance httpstcocd6ub2gqb3\n",
      "INDEX: 25664, TEXT: yes i am senior shaming my 73 yearold father who texted me at 645am on his way to the supermarket in coronavirus hot zone southflorida francissuarez mayorgimenez govrondesantis nygovcuomo tomhanks what can i do to get the message across to him to stayhome httpstcovt2n1bqlii\n",
      "INDEX: 25720, TEXT: 3ply medical face masks packs from amazon that are not at ripoff prices check link if needed httpstcoy8fuwnukuz u2bnemkdrtibja3b1uehi3wzkm5uxu5riafewgmgq surgicalmask medicalmasks facemasks covid19 coronavirus doctors nurses news medical hospitals httpstcobvqifb4tyq\n",
      "INDEX: 25816, TEXT: i thought that it was april fool but myspar is changing prices dont be shy to sell fake honey at r 9999 currently r97 99 gautengprovince cgsombud presidencyza cyrilramaphosa cityofjoburgza jypetwice aprilfoolsday 21dayslockdownsouthafrica covid19 httpstcohrca3uammd\n",
      "INDEX: 25928, TEXT: nytimes v4report 24satahr vozdecroacia stevenshelga ljubica48 laurahgarcia severmaja katalonski mjriera99 informacioc latinosxrep irelucli n1infoxg n1croatia biha vujak thegame openborders dunjamijatovic exteriorscat httpst\n",
      "INDEX: 26923, TEXT: supermercados econo confirman que un empleado administrativo del centro de distribucin en carolina que entrega suministros a los supermercados de la cadena en la isla dio positivo al coronaviruspr el empleado ya llevaba 14 das trabajando de forma remota httpstcorvmhuyhaxz\n",
      "INDEX: 27967, TEXT: kindly contact us bamy global merchandise for high quality covid19 supply high quality covid19 test kits corona virus fast test kits wholesale prices infrared thermometer face mask kindly dm or contact bamyglobalcosultantcom 8615777877688 0706350152208028611855 httpstcov52ycwjsc5\n",
      "INDEX: 27968, TEXT: not long now until the virtualgrandnational 515pm start but live on itvracing itv1 from 5pmhosted by nickluck all profits going to hselive for their amazing amp selfless work stayhomesavelives form link to prices amp our racing team tips here gt httpstcoosjluhfkmm httpstcojpnzyzjge1\n",
      "INDEX: 28411, TEXT: cdc approved used in hospitals kills viruses amp we have it roebrothersinc httpstco1lmeqdtywq presenting roe to go 8456514025 callpaypull up amp go httpstcom8bhqncyo7 hudsonvalley orangecounty warwickny floridany covid19pandemic coronavirus goshenny httpstcoxs2qtdzby2\n",
      "INDEX: 28500, TEXT: londoners defy stay at home instruction amp listen to live music in the sun today in richmond london many ignored lockdown guidelines to sunbathe amp enjoy picnics coronavirus stayhomesavelives staysafestayhome sunvideo mailonlinevideo licence vid httpstcoijedxjzgrk httpstcomjyjjfj9f6\n",
      "INDEX: 28813, TEXT: kindly contact us bamy global merchandise for high quality covid 19 fast test kits wholesale prices gun type infrared thermometer face mask 3m type face mask kindly dm or contact bamyglobalcosultant com 8615777877688 whatspps 8618607740759 07063501522 08028611855\n",
      "INDEX: 28849, TEXT: hey guys thanks to the covid 19 quarantine the talent is booming shaggy mats are now available in all colors shapes and sizes at very low prices as low as 800kshand not higher than 10000kshwhy go for expensive housewear call me for quality and save07459271280787370387 f httpstcogpzfoccpbo\n",
      "INDEX: 28892, TEXT: pm of india mr narendrea modi has taken very right step at right time modi rocks others shocks narendramodi narendermodi coronavirus india indiabattlescoronavirus indiafightscorona indiavscorona sanitizer covid2019 covid covid19 covid19india bbc cnn cnbc httpstcoqhmojxa3ik\n",
      "INDEX: 29446, TEXT: achat local le httpstcozgnwu3elh1 encourage les qubcois faire leur part pour aider les entreprises dici en ciblant les produits et les commerces du qubec chaque dollar compte pour appuyer nos produits locaux tout en stimulant notre conomie httpstcomjqzfx13fc\n",
      "INDEX: 29542, TEXT: bhagvann moayush pmoindia narendramodi shripadynaik secymoayush mygovindia pibindia nitiaayog mdniy mibindia mohfwindia covidnewsbymib we can control covid 19 effects by adoting ayurvedsocial distancingcleanliness and eating vegetarian\n",
      "INDEX: 29649, TEXT: website httpstcoyerbxffyihbuy registered passports ids driving license at affordable prices whatsapp 1 727 7052621 backupdocs buydocuments buypassport buyschooldiplomas buyvaliddocuments coronavirus covid19 buybristispassport buyfloridalicense fakemoney httpstcohbmx7hgf9k\n",
      "INDEX: 29671, TEXT: ggsm a look at the weekly amp monthly progess silver prices set to rise rapidly the worlds supply is on halt due to covid19 dont fall asleep during this ftxp igen ewll abce biel gcgx tptw fonu pctl best chart in the otc at this price httpstcoho9hrlvkmd\n",
      "INDEX: 29996, TEXT: alpha gk hand sanitizer kills or permanently inactivates at least 9999 percent of germs when used on the hands it is available in 10 flavours to order contact us at gtgt 9300002759 or visit at gtgt httpstco6cizddtfe8 handsanitizer coronavirus coronavirusoutbreakinindia httpstcozrcyipt7ac\n",
      "INDEX: 30113, TEXT: lda city lahore residential files prices update lda city lahore 5 marla 2200 lacs lda city lahore 10 marla 3200 lacs lda city lahore 1 kanal 5100 lacs notenext ballot will be held on 18th april 2020 mian waqas 923334177716 pandemic coronavirusinpakistan covid19 httpstcofvtdvsaseb\n",
      "INDEX: 30252, TEXT: unwitod intersexfacts vb02md radfemme74 ereality01 jesin00 babybeginner feministleaning pheeberweaver caseyrhayes jenkinssharing technicallyowen forevermagdalen iloveutigerlily emilybanting1 annie26056655 catdebuque sclibearian lisatmul\n",
      "INDEX: 30380, TEXT: mattfingersarni brianbloop2 roblev0 cheesenbranston rudy48053087 david19531501 susan04071 davidjamesrobe4 davidgsmith18 europeankate jones85231187 chrisgregson123 dw2essex brianwi62063896 beakydruggan jag11814459 swen28002 charlie45uk\n",
      "INDEX: 31062, TEXT: 7 days in quarantine with craigdavid pandemicbanter covid19problems isolation selfquarantine craigdavid 7days covid19 coronavirus quarantine igotthevirusonmonday thenchilledonsunday coronavibez toiletpaperpandemic toiletpaper 2020problems prankstarz httpstcovrylncsaby\n",
      "INDEX: 31194, TEXT: still not the easiest to find tp sterlingjacksonrealestate sterjackre sterlingjackson realestateisgreat selfquarantine flattenthecurve coronavirusmeme coronavirus covid19 sarscov2 meme lol dankmemes imgflip toiletpaper house homesale housesale tp httpstcoc1yxw9hyai\n",
      "INDEX: 31345, TEXT: jaisans jamesrider3 aanthanurdc doom37455413 iluvco2 andrewemcameron geoffmprice electropig glinch72 ingersolrobert agtrigor bitakarma atomskssanakan devinnunesgoat1 article3s jamz129 rmsimmons rustyaway josephseddy mikehmaplegrov i\n",
      "INDEX: 31561, TEXT: thomoneil1 bobbiejanev mediaauntie bonjs0370 ldog562 zazzybritches pecriel kristyshl hurricaneeve81 maryhow16 safimaasai alice4u2010 renetremblay13 stweetleigh poppij dianne2429 paulinef136 mccunecicki tilghmanchris starystarynlght b\n",
      "INDEX: 32316, TEXT: covid19 stay at home and mastubate prices have a quirky quarantine httpstco3qvz5dhigd gasnursejen sedatedmedical gasnursejen enemadom medicalfetish medicalmistress medicalroleplay sexynurse kinkynurse sleepyfet medicalplay nurseplay anesthesiafetish httpstcofmoqyuznu5\n",
      "INDEX: 32707, TEXT: did you know that barbicideblue is a hospital grade virucide cant find lysol or clorox this is a great way to keep your home sanitized mix 2 oz barbicide to 32 oz water to make your solution httpstcox9gvs3yq4r barbicide sanitizer staysafe disinfectant coronavirus httpstcoljbvefxczj\n",
      "INDEX: 32818, TEXT: market update traders buck the t bch alexkuptsikevich avatrade bitwise btc cfgi coronavirus covid19 cryptofeargreedindex eth etoro extremefear fxpro marketoutlook marketupdates marketsandprices matthougan naeemaslam prices httpstcowlqts3lhzd httpstcobzqtan16hi\n",
      "INDEX: 33469, TEXT: one word for this man always staysafe corona coronavirus coronavirusisreal facemask sanitizer washyourhands sanitizer josh2funny iamacapella pulsenigeria247 alibabagcfr alibabagcfr iamfunnybone juliusagwu1 instablog9ja mikeezuofficial httpstcoim7thelnhr\n",
      "INDEX: 33717, TEXT: in response to the increased demand for local food deliveries as a result of the covid19 pandemic ddeliciouswales are delighted to work in partnership with blas ar fwyd to offer you a ukwide consolidated home delivery service httpstcobmfcj06vlx httpstcounlpp6vu6s httpstcoccwlxgpxcf\n",
      "INDEX: 34176, TEXT: brzl scepter holdings inc developing hand sanitizer infused with hemp seed oil gild ino mrna ibb bntx corg aiki aytu capr aim knos vxrt decn soli ewll ibio ttoo pctl aim htbx nvax opk coronavirus covid19 httpstcohkymp3ad5g\n",
      "INDEX: 34754, TEXT: when youre out of toilet paper and need to buy some but you wanna be safe from the rona virus wednesday humpday stressrelief goodvibes covid19 coronavirus covid19 mask masks n95 ppe tp toiletpaper funny funnymemes lol stayhome flattenthecurve stayathome httpstcos73v9w0dxj\n",
      "INDEX: 35448, TEXT: jagannkaushik snojha surindernath1 urrao10 veraanz rakesha12572734 surewrap purushueme muralydoctrack1 nutanjyot johnygorkha sudhakar2810 nparama1951 drvinaypuri indrajat92 gouranga1964 raghu500000 jyotsnadevi33 rajbir2728 singhsan\n",
      "INDEX: 35450, TEXT: surewrap savitritvs keyesen2000 shytigress wishmaster2019 jolie indiakaprahari dharmvirjangra9 gouranga1964 ruleselsa urrao10 kumaran92023000 jagannkaushik venkatarat nalini51purohit gendadange narendravarma49 nutanjyot drsunandamb\n",
      "INDEX: 35838, TEXT: la palm hand sanitizer 8oz is now available kills 999 of germs aloe vera to moisturize your hands in stock individual 3 pack and case buy today gelii coronavirusupdate coronavirus germs handsanitizer handwashing handwashchallenge sani httpstco81pgtoohmf httpstcoycsexijr7v\n",
      "INDEX: 36188, TEXT: for sell sterile disposable anti bacterial wet wipes antibacterial hand disinfectant wipes common disinfecting wipe no alcohol desinfections wet wipedisinfectant covid covid19 coronavirus quarantine havefun uotech senseofhumor lysol purell sanitizer pandemic stay httpstcojizbddszet\n",
      "INDEX: 36427, TEXT: global tenders rfp for disinfectant amp sanitizer to fight covid19 find nowgtgtgthttpstcoalfcqdvzyf disinfectant disinfector ethericoil ethers ethylalcohol hygienedevice hygienekit hygienicbag rectifiedspirit sanitization sanitizer covid19 covid19 coronavirus httpstcoxjmc7v3jmh\n",
      "INDEX: 36708, TEXT: when passion of christ throwback passion christ corona coronavirus coronavirusisreal facemask sanitizer washyourhands sanitizer josh2funny iamacapella pulsenigeria247 alibabagcfr alibabagcfr iamfunnybone juliusagwu1 instablog9ja mikeezuofficial httpstcosohcfwrnlu\n",
      "INDEX: 37036, TEXT: 11 nisan cumartesi itibariyle bbnin tm hizmetleri sokaa kma serbestisi olanlar iin devam edecek halk ekmek ve hamidiye su 100 retime geti bb tm stanbulun gda ihtiyacna yetecek kapasitededir halkmz sakin olsun ve gvende hissetsin ltfen herkes evine dnsn\n",
      "INDEX: 37407, TEXT: drfahrettinkoca zleynzzzz antalyada yaayan fransz trkiyenin ald tedbirleri vyor burada dezenfektan ve maskeyi cretsiz veriyorlar aradnz her ey markette var diyor httpstcobggfrkbro5 hayrlcumalar cumartesi t\n",
      "INDEX: 37525, TEXT: nicolasnicola22 chunhuams aussieneets russellmoxham debbiespirit griffjane orangulandtrust orangutans wildlingrocks ness4612r samcoyi drbirute coolrunning2009 blueseas111 redfoxgis emilyle89720714 orangutan2 redorangutangen forestpeopl\n",
      "INDEX: 37706, TEXT: angels of reasi a group of volunteers under d guidance of dm reasi is helping district admin in reaching out to public for essential commodities control room ad fcs amp ca reasi whatsapp70067 47305 call 94192 45670 adcapdrsigmailcom wwwtwitteradfcs httpstcowsqx9qlymn\n",
      "INDEX: 38237, TEXT: automated ozone smart sanitization tunnels such as those erected at of ozone which was thought to disinfect a person for up to one hour to know more httpstcopdi64s62q5 or whatsapp 917730044445 coronavirus covid19 sanitizationtunnel ozonesmarttunnel sanitizer httpstcokoidxp2sus\n",
      "INDEX: 38690, TEXT: hand sanitizer gel alcohol based 8 pack x 8 fl oz 220ml infused with alovera gel jojoba oil amp vitamin e httpstcoa7y2qwphoe via amazon covid2019 covid19 covid19 covid19 covid19 coronavirus facemask corona stayhome staysafe stayhomestaysafe httpstcobbtwqftdrt\n",
      "INDEX: 38691, TEXT: hand sanitizer gel alcohol based 4 pack x 8 fl oz 220ml infused with alovera gel jojoba oil vitamin e for 2995 httpstcoji5c9u8rta via amazon covid2019 covid19 covid19 covid19 covid19 coronavirus facemask corona stayhome staysafe stayhomestaysafe httpstco5avij7kajg\n",
      "INDEX: 38692, TEXT: hand sanitizer gel alcohol based 4 pack x 8 fl oz 220ml infused with alovera gel jojoba oil vitamin e unscented fragrance free sanitize for 2995 httpstcol74vqqfsjl via amazon covid2019 covid19 covid19 covid19 covid19 coronavirus facemask corona httpstco7m7k7tpzvl\n",
      "INDEX: 38694, TEXT: artnaturals alcohol based hand sanitizer gel 1 pack 8 fl oz 236ml infused with jojoba oil alovera gel amp vitamin e httpstcod7zqn48lxc via amazon covid2019 covid19 covid19 covid19 covid19 coronavirus facemask corona stayhome staysafe stayhomestaysafe httpstcocexsetqqvl\n",
      "INDEX: 38871, TEXT: what will you stock up if the virus continues to spread 1 mask 2 food 3 toilet paper 4 juice stayhome coronavirus fightcoronavirus fightwithcoronavirus vapesafe vape vapeon vapehealthy vapelyfe vapefam vaping vapor vapedaily vapelove everzon httpstcofhxgivzlh2\n",
      "INDEX: 38914, TEXT: salman khan recreates maine pyar kiya scene with c0rona twist of then and now video salman sanitizer salmankhan salman salmankhanmovies coronavirusinindia sanitizer coronavirusindia meinepyarkiya coronavirus bollywood radhe covid19 lockdown httpstcowtzm82busq httpstco2z11rad3tq\n",
      "INDEX: 39194, TEXT: covid19 funds for dharavi this ngo has tied up w a grocery store to support 147 families with ration 10kg rice 5kg atta 2kg dal 1 ltr oil amp soaps they need to raise 2 lacs soon donation details below amp here httpstcoqsk4zkpxjz distribution starts tomorrow httpstcouwmr6c5y2d\n",
      "INDEX: 39266, TEXT: new product alert vision source pure amp clean disinfectant kills coronavirus product info httpstcoknkanrdypk to order 3013249500 3016819797 order online httpstcotkb4hfqpuv coronavirus covid covid19 disinfectant pgcounty sanitizer visualeyes httpstcozds8d1o3je\n",
      "INDEX: 39460, TEXT: trending australian news stories 1200 to 1800 aest 1 httpstco2g2y03iqwx 450 tweets 2 httpstco5j47h0s5db 423 tweets 3 httpstcowcoocgqfj4 322 tweets 4 httpstcotcu1hdm2un 237 tweets 5 httpstcoxvjoeee8iu 232 tweets atnix\n",
      "INDEX: 39461, TEXT: trending australian news stories for 13 apr 2020 1 httpstco2g2y03iqwx 1203 tweets 2 httpstcowcoocgqfj4 1182 tweets 3 httpstcoxyih72rlho 840 tweets 4 httpstco5j47h0s5db 646 tweets 5 httpstcotcu1hdm2un 621 tweets atnix\n",
      "INDEX: 40201, TEXT: grap some for your family and keep in safe handsanitizer natural bathandbodyworks sanitizer coronavirus handgel tasneemnaturel bbw cfbath bugsaway kleenzy bacout calmbath antibacterial skincare essentialoils ibumengandung nontoxic sleeptime calmtime coronav httpstcogwqwfaxv7u\n",
      "INDEX: 40602, TEXT: buy home cleaning starting from at rs5 valid till stock lasts tampc apply for more details amp shop click httpstcooij0qmam73 tob toboffers theoffersbaba offeraisafreejaisa ad amazon covid2019 coronawarriors mondaymorning mondaymotivaton stayhome httpstcoylvqbgkpr0\n"
     ]
    }
   ],
   "source": [
    "token_lens = []\n",
    "\n",
    "for i,txt in enumerate(df['text_clean'].values):\n",
    "    tokens = tokenizer.encode(txt, max_length=512, truncation=True)\n",
    "    token_lens.append(len(tokens))\n",
    "    if len(tokens)>80:\n",
    "        print(f\"INDEX: {i}, TEXT: {txt}\")  "
   ]
  },
  {
   "cell_type": "code",
   "execution_count": 44,
   "id": "3b028195",
   "metadata": {
    "execution": {
     "iopub.execute_input": "2023-07-03T15:51:36.124748Z",
     "iopub.status.busy": "2023-07-03T15:51:36.123720Z",
     "iopub.status.idle": "2023-07-03T15:51:36.146362Z",
     "shell.execute_reply": "2023-07-03T15:51:36.145448Z"
    },
    "papermill": {
     "duration": 0.059702,
     "end_time": "2023-07-03T15:51:36.148475",
     "exception": false,
     "start_time": "2023-07-03T15:51:36.088773",
     "status": "completed"
    },
    "tags": []
   },
   "outputs": [],
   "source": [
    "df['token_lens'] = token_lens"
   ]
  },
  {
   "cell_type": "code",
   "execution_count": 45,
   "id": "9c46a65b",
   "metadata": {
    "execution": {
     "iopub.execute_input": "2023-07-03T15:51:36.218700Z",
     "iopub.status.busy": "2023-07-03T15:51:36.218025Z",
     "iopub.status.idle": "2023-07-03T15:51:36.240757Z",
     "shell.execute_reply": "2023-07-03T15:51:36.239833Z"
    },
    "papermill": {
     "duration": 0.060269,
     "end_time": "2023-07-03T15:51:36.243061",
     "exception": false,
     "start_time": "2023-07-03T15:51:36.182792",
     "status": "completed"
    },
    "tags": []
   },
   "outputs": [
    {
     "data": {
      "text/html": [
       "<div>\n",
       "<style scoped>\n",
       "    .dataframe tbody tr th:only-of-type {\n",
       "        vertical-align: middle;\n",
       "    }\n",
       "\n",
       "    .dataframe tbody tr th {\n",
       "        vertical-align: top;\n",
       "    }\n",
       "\n",
       "    .dataframe thead th {\n",
       "        text-align: right;\n",
       "    }\n",
       "</style>\n",
       "<table border=\"1\" class=\"dataframe\">\n",
       "  <thead>\n",
       "    <tr style=\"text-align: right;\">\n",
       "      <th></th>\n",
       "      <th>OriginalTweet</th>\n",
       "      <th>Sentiment</th>\n",
       "      <th>text_clean</th>\n",
       "      <th>text_len</th>\n",
       "      <th>token_lens</th>\n",
       "    </tr>\n",
       "  </thead>\n",
       "  <tbody>\n",
       "    <tr>\n",
       "      <th>1638</th>\n",
       "      <td>ZÃ¡sah policie proti spekulant?m s rouÂkami. ...</td>\n",
       "      <td>Neutral</td>\n",
       "      <td>zsah policie proti spekulantm s roukami na mj ...</td>\n",
       "      <td>40</td>\n",
       "      <td>104</td>\n",
       "    </tr>\n",
       "    <tr>\n",
       "      <th>16632</th>\n",
       "      <td>Bir mÃ¼ddettir sÃ¼permarketlerin lojistik hizm...</td>\n",
       "      <td>Neutral</td>\n",
       "      <td>bir mddettir spermarketlerin lojistik hizmeti ...</td>\n",
       "      <td>37</td>\n",
       "      <td>103</td>\n",
       "    </tr>\n",
       "    <tr>\n",
       "      <th>37156</th>\n",
       "      <td>11 Nisan Cumartesi itibariyle ?BBÂnin tÃ¼m hi...</td>\n",
       "      <td>Neutral</td>\n",
       "      <td>11 nisan cumartesi itibariyle bbnin tm hizmetl...</td>\n",
       "      <td>39</td>\n",
       "      <td>98</td>\n",
       "    </tr>\n",
       "    <tr>\n",
       "      <th>13691</th>\n",
       "      <td>Hoy aplaudo a mi segunda familia #AplaudoANues...</td>\n",
       "      <td>Neutral</td>\n",
       "      <td>hoy aplaudo a mi segunda familia aplaudoanuest...</td>\n",
       "      <td>40</td>\n",
       "      <td>96</td>\n",
       "    </tr>\n",
       "    <tr>\n",
       "      <th>7483</th>\n",
       "      <td>#Oil futures in NY jumped 11% to $22.54/barrel...</td>\n",
       "      <td>Positive</td>\n",
       "      <td>oil futures in ny jumped 11 to 2254barrel more...</td>\n",
       "      <td>32</td>\n",
       "      <td>95</td>\n",
       "    </tr>\n",
       "    <tr>\n",
       "      <th>36545</th>\n",
       "      <td>Global Tenders / RFP For Disinfectant &amp;amp; Sa...</td>\n",
       "      <td>Positive</td>\n",
       "      <td>global tenders rfp for disinfectant amp saniti...</td>\n",
       "      <td>27</td>\n",
       "      <td>95</td>\n",
       "    </tr>\n",
       "    <tr>\n",
       "      <th>9027</th>\n",
       "      <td>La escena se repite alrededor del mundo: desde...</td>\n",
       "      <td>Neutral</td>\n",
       "      <td>la escena se repite alrededor del mundo desde ...</td>\n",
       "      <td>41</td>\n",
       "      <td>94</td>\n",
       "    </tr>\n",
       "    <tr>\n",
       "      <th>953</th>\n",
       "      <td>A thought then to those of us with NO INCOME f...</td>\n",
       "      <td>Extremely Negative</td>\n",
       "      <td>a thought then to those of us with no income f...</td>\n",
       "      <td>45</td>\n",
       "      <td>93</td>\n",
       "    </tr>\n",
       "    <tr>\n",
       "      <th>39588</th>\n",
       "      <td>Trending Australian news stories for 13 Apr. 2...</td>\n",
       "      <td>Neutral</td>\n",
       "      <td>trending australian news stories for 13 apr 20...</td>\n",
       "      <td>29</td>\n",
       "      <td>93</td>\n",
       "    </tr>\n",
       "    <tr>\n",
       "      <th>35563</th>\n",
       "      <td>@JaganNKaushik @sn_ojha @Surindernath1 @URRao1...</td>\n",
       "      <td>Neutral</td>\n",
       "      <td>jagannkaushik snojha surindernath1 urrao10 ver...</td>\n",
       "      <td>20</td>\n",
       "      <td>92</td>\n",
       "    </tr>\n",
       "    <tr>\n",
       "      <th>25160</th>\n",
       "      <td>Crude oil dropped to its lowest in 17 years in...</td>\n",
       "      <td>Extremely Negative</td>\n",
       "      <td>crude oil dropped to its lowest in 17 years in...</td>\n",
       "      <td>38</td>\n",
       "      <td>92</td>\n",
       "    </tr>\n",
       "    <tr>\n",
       "      <th>5738</th>\n",
       "      <td>#stoppanicbuying\\r\\r\\n#CoronavirusOutbreakindi...</td>\n",
       "      <td>Extremely Negative</td>\n",
       "      <td>stoppanicbuying coronavirusoutbreakindia sohna...</td>\n",
       "      <td>21</td>\n",
       "      <td>92</td>\n",
       "    </tr>\n",
       "    <tr>\n",
       "      <th>30473</th>\n",
       "      <td>@MattFingersArni @brianbloop2 @Roblev0 @Cheese...</td>\n",
       "      <td>Neutral</td>\n",
       "      <td>mattfingersarni brianbloop2 roblev0 cheesenbra...</td>\n",
       "      <td>18</td>\n",
       "      <td>91</td>\n",
       "    </tr>\n",
       "    <tr>\n",
       "      <th>39587</th>\n",
       "      <td>Trending Australian news stories (12:00 to 18:...</td>\n",
       "      <td>Neutral</td>\n",
       "      <td>trending australian news stories 1200 to 1800 ...</td>\n",
       "      <td>29</td>\n",
       "      <td>91</td>\n",
       "    </tr>\n",
       "    <tr>\n",
       "      <th>27005</th>\n",
       "      <td>Supermercados Econo confirman que un empleado ...</td>\n",
       "      <td>Neutral</td>\n",
       "      <td>supermercados econo confirman que un empleado ...</td>\n",
       "      <td>40</td>\n",
       "      <td>90</td>\n",
       "    </tr>\n",
       "    <tr>\n",
       "      <th>32809</th>\n",
       "      <td>Did you know that @barbicideblue is a hospital...</td>\n",
       "      <td>Extremely Positive</td>\n",
       "      <td>did you know that barbicideblue is a hospital ...</td>\n",
       "      <td>44</td>\n",
       "      <td>90</td>\n",
       "    </tr>\n",
       "    <tr>\n",
       "      <th>38817</th>\n",
       "      <td>Artnaturals Alcohol Based Hand Sanitizer Gel (...</td>\n",
       "      <td>Extremely Positive</td>\n",
       "      <td>artnaturals alcohol based hand sanitizer gel 1...</td>\n",
       "      <td>36</td>\n",
       "      <td>89</td>\n",
       "    </tr>\n",
       "    <tr>\n",
       "      <th>14593</th>\n",
       "      <td>Na, wer war denn da am Werk? Gestern Nachmitta...</td>\n",
       "      <td>Extremely Negative</td>\n",
       "      <td>na wer war denn da am werk gestern nachmittag ...</td>\n",
       "      <td>38</td>\n",
       "      <td>89</td>\n",
       "    </tr>\n",
       "    <tr>\n",
       "      <th>29533</th>\n",
       "      <td>Achat local ??\\r\\r\\nLe https://t.co/zgnwU3Elh1...</td>\n",
       "      <td>Positive</td>\n",
       "      <td>achat local le httpstcozgnwu3elh1 encourage le...</td>\n",
       "      <td>38</td>\n",
       "      <td>89</td>\n",
       "    </tr>\n",
       "    <tr>\n",
       "      <th>18913</th>\n",
       "      <td>#CroozefmNews \\r\\r\\nPresident Museveni has ord...</td>\n",
       "      <td>Extremely Negative</td>\n",
       "      <td>croozefmnews president museveni has ordered th...</td>\n",
       "      <td>36</td>\n",
       "      <td>89</td>\n",
       "    </tr>\n",
       "  </tbody>\n",
       "</table>\n",
       "</div>"
      ],
      "text/plain": [
       "                                           OriginalTweet           Sentiment  \\\n",
       "1638   ZÃ¡sah policie proti spekulant?m s rouÂkami. ...             Neutral   \n",
       "16632  Bir mÃ¼ddettir sÃ¼permarketlerin lojistik hizm...             Neutral   \n",
       "37156  11 Nisan Cumartesi itibariyle ?BBÂnin tÃ¼m hi...             Neutral   \n",
       "13691  Hoy aplaudo a mi segunda familia #AplaudoANues...             Neutral   \n",
       "7483   #Oil futures in NY jumped 11% to $22.54/barrel...            Positive   \n",
       "36545  Global Tenders / RFP For Disinfectant &amp; Sa...            Positive   \n",
       "9027   La escena se repite alrededor del mundo: desde...             Neutral   \n",
       "953    A thought then to those of us with NO INCOME f...  Extremely Negative   \n",
       "39588  Trending Australian news stories for 13 Apr. 2...             Neutral   \n",
       "35563  @JaganNKaushik @sn_ojha @Surindernath1 @URRao1...             Neutral   \n",
       "25160  Crude oil dropped to its lowest in 17 years in...  Extremely Negative   \n",
       "5738   #stoppanicbuying\\r\\r\\n#CoronavirusOutbreakindi...  Extremely Negative   \n",
       "30473  @MattFingersArni @brianbloop2 @Roblev0 @Cheese...             Neutral   \n",
       "39587  Trending Australian news stories (12:00 to 18:...             Neutral   \n",
       "27005  Supermercados Econo confirman que un empleado ...             Neutral   \n",
       "32809  Did you know that @barbicideblue is a hospital...  Extremely Positive   \n",
       "38817  Artnaturals Alcohol Based Hand Sanitizer Gel (...  Extremely Positive   \n",
       "14593  Na, wer war denn da am Werk? Gestern Nachmitta...  Extremely Negative   \n",
       "29533  Achat local ??\\r\\r\\nLe https://t.co/zgnwU3Elh1...            Positive   \n",
       "18913  #CroozefmNews \\r\\r\\nPresident Museveni has ord...  Extremely Negative   \n",
       "\n",
       "                                              text_clean  text_len  token_lens  \n",
       "1638   zsah policie proti spekulantm s roukami na mj ...        40         104  \n",
       "16632  bir mddettir spermarketlerin lojistik hizmeti ...        37         103  \n",
       "37156  11 nisan cumartesi itibariyle bbnin tm hizmetl...        39          98  \n",
       "13691  hoy aplaudo a mi segunda familia aplaudoanuest...        40          96  \n",
       "7483   oil futures in ny jumped 11 to 2254barrel more...        32          95  \n",
       "36545  global tenders rfp for disinfectant amp saniti...        27          95  \n",
       "9027   la escena se repite alrededor del mundo desde ...        41          94  \n",
       "953    a thought then to those of us with no income f...        45          93  \n",
       "39588  trending australian news stories for 13 apr 20...        29          93  \n",
       "35563  jagannkaushik snojha surindernath1 urrao10 ver...        20          92  \n",
       "25160  crude oil dropped to its lowest in 17 years in...        38          92  \n",
       "5738   stoppanicbuying coronavirusoutbreakindia sohna...        21          92  \n",
       "30473  mattfingersarni brianbloop2 roblev0 cheesenbra...        18          91  \n",
       "39587  trending australian news stories 1200 to 1800 ...        29          91  \n",
       "27005  supermercados econo confirman que un empleado ...        40          90  \n",
       "32809  did you know that barbicideblue is a hospital ...        44          90  \n",
       "38817  artnaturals alcohol based hand sanitizer gel 1...        36          89  \n",
       "14593  na wer war denn da am werk gestern nachmittag ...        38          89  \n",
       "29533  achat local le httpstcozgnwu3elh1 encourage le...        38          89  \n",
       "18913  croozefmnews president museveni has ordered th...        36          89  "
      ]
     },
     "execution_count": 45,
     "metadata": {},
     "output_type": "execute_result"
    }
   ],
   "source": [
    "df = df.sort_values(by='token_lens', ascending=False)\n",
    "df.head(20)"
   ]
  },
  {
   "cell_type": "code",
   "execution_count": 46,
   "id": "e50d41df",
   "metadata": {
    "execution": {
     "iopub.execute_input": "2023-07-03T15:51:36.317410Z",
     "iopub.status.busy": "2023-07-03T15:51:36.317038Z",
     "iopub.status.idle": "2023-07-03T15:51:36.330462Z",
     "shell.execute_reply": "2023-07-03T15:51:36.329514Z"
    },
    "papermill": {
     "duration": 0.052166,
     "end_time": "2023-07-03T15:51:36.332793",
     "exception": false,
     "start_time": "2023-07-03T15:51:36.280627",
     "status": "completed"
    },
    "tags": []
   },
   "outputs": [
    {
     "data": {
      "text/html": [
       "<div>\n",
       "<style scoped>\n",
       "    .dataframe tbody tr th:only-of-type {\n",
       "        vertical-align: middle;\n",
       "    }\n",
       "\n",
       "    .dataframe tbody tr th {\n",
       "        vertical-align: top;\n",
       "    }\n",
       "\n",
       "    .dataframe thead th {\n",
       "        text-align: right;\n",
       "    }\n",
       "</style>\n",
       "<table border=\"1\" class=\"dataframe\">\n",
       "  <thead>\n",
       "    <tr style=\"text-align: right;\">\n",
       "      <th></th>\n",
       "      <th>OriginalTweet</th>\n",
       "      <th>Sentiment</th>\n",
       "      <th>text_clean</th>\n",
       "      <th>text_len</th>\n",
       "      <th>token_lens</th>\n",
       "    </tr>\n",
       "  </thead>\n",
       "  <tbody>\n",
       "    <tr>\n",
       "      <th>30473</th>\n",
       "      <td>@MattFingersArni @brianbloop2 @Roblev0 @Cheese...</td>\n",
       "      <td>Neutral</td>\n",
       "      <td>mattfingersarni brianbloop2 roblev0 cheesenbra...</td>\n",
       "      <td>18</td>\n",
       "      <td>91</td>\n",
       "    </tr>\n",
       "    <tr>\n",
       "      <th>39587</th>\n",
       "      <td>Trending Australian news stories (12:00 to 18:...</td>\n",
       "      <td>Neutral</td>\n",
       "      <td>trending australian news stories 1200 to 1800 ...</td>\n",
       "      <td>29</td>\n",
       "      <td>91</td>\n",
       "    </tr>\n",
       "    <tr>\n",
       "      <th>27005</th>\n",
       "      <td>Supermercados Econo confirman que un empleado ...</td>\n",
       "      <td>Neutral</td>\n",
       "      <td>supermercados econo confirman que un empleado ...</td>\n",
       "      <td>40</td>\n",
       "      <td>90</td>\n",
       "    </tr>\n",
       "    <tr>\n",
       "      <th>32809</th>\n",
       "      <td>Did you know that @barbicideblue is a hospital...</td>\n",
       "      <td>Extremely Positive</td>\n",
       "      <td>did you know that barbicideblue is a hospital ...</td>\n",
       "      <td>44</td>\n",
       "      <td>90</td>\n",
       "    </tr>\n",
       "    <tr>\n",
       "      <th>38817</th>\n",
       "      <td>Artnaturals Alcohol Based Hand Sanitizer Gel (...</td>\n",
       "      <td>Extremely Positive</td>\n",
       "      <td>artnaturals alcohol based hand sanitizer gel 1...</td>\n",
       "      <td>36</td>\n",
       "      <td>89</td>\n",
       "    </tr>\n",
       "  </tbody>\n",
       "</table>\n",
       "</div>"
      ],
      "text/plain": [
       "                                           OriginalTweet           Sentiment  \\\n",
       "30473  @MattFingersArni @brianbloop2 @Roblev0 @Cheese...             Neutral   \n",
       "39587  Trending Australian news stories (12:00 to 18:...             Neutral   \n",
       "27005  Supermercados Econo confirman que un empleado ...             Neutral   \n",
       "32809  Did you know that @barbicideblue is a hospital...  Extremely Positive   \n",
       "38817  Artnaturals Alcohol Based Hand Sanitizer Gel (...  Extremely Positive   \n",
       "\n",
       "                                              text_clean  text_len  token_lens  \n",
       "30473  mattfingersarni brianbloop2 roblev0 cheesenbra...        18          91  \n",
       "39587  trending australian news stories 1200 to 1800 ...        29          91  \n",
       "27005  supermercados econo confirman que un empleado ...        40          90  \n",
       "32809  did you know that barbicideblue is a hospital ...        44          90  \n",
       "38817  artnaturals alcohol based hand sanitizer gel 1...        36          89  "
      ]
     },
     "execution_count": 46,
     "metadata": {},
     "output_type": "execute_result"
    }
   ],
   "source": [
    "df = df.iloc[12:]\n",
    "df.head()"
   ]
  },
  {
   "cell_type": "code",
   "execution_count": 47,
   "id": "0a9f14f2",
   "metadata": {
    "execution": {
     "iopub.execute_input": "2023-07-03T15:51:36.413939Z",
     "iopub.status.busy": "2023-07-03T15:51:36.413035Z",
     "iopub.status.idle": "2023-07-03T15:51:36.428409Z",
     "shell.execute_reply": "2023-07-03T15:51:36.427514Z"
    },
    "papermill": {
     "duration": 0.056184,
     "end_time": "2023-07-03T15:51:36.430612",
     "exception": false,
     "start_time": "2023-07-03T15:51:36.374428",
     "status": "completed"
    },
    "tags": []
   },
   "outputs": [],
   "source": [
    "df = df.sample(frac=1).reset_index(drop=True)"
   ]
  },
  {
   "cell_type": "code",
   "execution_count": 48,
   "id": "db63388b",
   "metadata": {
    "execution": {
     "iopub.execute_input": "2023-07-03T15:51:36.501909Z",
     "iopub.status.busy": "2023-07-03T15:51:36.501563Z",
     "iopub.status.idle": "2023-07-03T15:51:37.241903Z",
     "shell.execute_reply": "2023-07-03T15:51:37.240933Z"
    },
    "papermill": {
     "duration": 0.778372,
     "end_time": "2023-07-03T15:51:37.244403",
     "exception": false,
     "start_time": "2023-07-03T15:51:36.466031",
     "status": "completed"
    },
    "tags": []
   },
   "outputs": [],
   "source": [
    "# test data cleaning\n",
    "token_lens_test = []\n",
    "\n",
    "for txt in df_test['text_clean'].values:\n",
    "    tokens = tokenizer.encode(txt, max_length=512, truncation=True)\n",
    "    token_lens_test.append(len(tokens))\n",
    "    \n",
    "max_len=np.max(token_lens_test)"
   ]
  },
  {
   "cell_type": "code",
   "execution_count": 49,
   "id": "85e6431c",
   "metadata": {
    "execution": {
     "iopub.execute_input": "2023-07-03T15:51:37.317661Z",
     "iopub.status.busy": "2023-07-03T15:51:37.317021Z",
     "iopub.status.idle": "2023-07-03T15:51:37.323581Z",
     "shell.execute_reply": "2023-07-03T15:51:37.322246Z"
    },
    "papermill": {
     "duration": 0.044292,
     "end_time": "2023-07-03T15:51:37.325734",
     "exception": false,
     "start_time": "2023-07-03T15:51:37.281442",
     "status": "completed"
    },
    "tags": []
   },
   "outputs": [
    {
     "name": "stdout",
     "output_type": "stream",
     "text": [
      "MAX TOKENIZED SENTENCE LENGTH: 102\n"
     ]
    }
   ],
   "source": [
    "print(f\"MAX TOKENIZED SENTENCE LENGTH: {max_len}\")"
   ]
  },
  {
   "cell_type": "code",
   "execution_count": 50,
   "id": "e276c213",
   "metadata": {
    "collapsed": true,
    "execution": {
     "iopub.execute_input": "2023-07-03T15:51:37.400057Z",
     "iopub.status.busy": "2023-07-03T15:51:37.399072Z",
     "iopub.status.idle": "2023-07-03T15:51:38.143494Z",
     "shell.execute_reply": "2023-07-03T15:51:38.142538Z"
    },
    "jupyter": {
     "outputs_hidden": true
    },
    "papermill": {
     "duration": 0.785949,
     "end_time": "2023-07-03T15:51:38.145934",
     "exception": false,
     "start_time": "2023-07-03T15:51:37.359985",
     "status": "completed"
    },
    "tags": []
   },
   "outputs": [
    {
     "name": "stdout",
     "output_type": "stream",
     "text": [
      "INDEX: 236, TEXT: so according to this dude if you eat rama margarine leaver spread koo beans coronavirus checks into your system amp if it doesnt like the food you eat the virus checks out amp may host itself into someone that eats like ciabatta so stock up on koo beans coronavirusinsa httpstcojqsmbxpxs7 httpstco7z8ff2jhy5\n",
      "INDEX: 286, TEXT: rhett800cc so hard to decide as much as i want to hodl my 2 ccdcv4 token our place is declared to lock down due to covid19 i will use this to buy some food to stock txnid093bd1db0c0d3a62af15883138a5f57d4cef35ae14e31e602b74489dd2524c7f my b\n",
      "INDEX: 313, TEXT: stock up on food amp water asap before the forced quarantines for the deadly coronavirus httpstcowogxp8sooe covid19 covid19 stocks bonds silver gold slv gld intern nurse rn medstudent paramedic trucker patriot taxi prepper veteran hunter biker surfer bartender e3 eos bch xrp httpstcohrh9n4vicv\n",
      "INDEX: 345, TEXT: informoval jsem zstupce vech obchodnch etzc o aktulnch opatench vldy etzce jsou zsobovny na 95 take nen dvod panikait zsoby potravin fakt nedojdou nen opravdu dvod dnes obsadit a vykoupit supermarkety\n",
      "INDEX: 382, TEXT: modern shipping container stalls at discounted prices both 40ft with5or6stallsamp20ft with 3 stalls best competitive market rates 254741299181 kelvinbertriconcontainerscom jkia uhurukenyatta ksh 500 passarisabortionkills baringo embu kenya airways covid19 presspass httpstcoqni6tchs62\n",
      "INDEX: 1460, TEXT: covid19 19 protection face masks online in regular prices retweeetplease to help httpstcohzl5ffbjdt coronavirus 2019cov n95masks n95 facemask covid19 coronavirususa coronavirusitalia coronavirusoutbreak health newspicks viruscorona trump wuhan healthy httpstcoqoukwpyf3z\n",
      "INDEX: 2381, TEXT: ahora seguid llorando por el papel higinico que no he comprado porque an tengo seguid creando histeria y preocupacin poniendo fotos de gente en pnico y estanteras vacas que yo seguir yendo a comercios responsables de barrio donde nos cuidan hoy y siempre gracias httpstcolzvdwlccao\n",
      "INDEX: 2600, TEXT: stock up on food water and supplements like selenium zinc vitamins c amp d3 to protect against the deadly coronavirus even buffalo ny is overflowing with covid19 httpstcongxrlo6sz8 covid19 canadian bc vancouver victoria ubc bts exo fx kpop sfu fortnite bcit uvic richmond httpstcohl2sjdvokk\n",
      "INDEX: 2738, TEXT: covid19 your government will save itself not you stock up on food amp water before every city in the world in put under quarantine httpstcooeuals62fu coronavirus bitcoin blockchain bch bnb binance eos ada xrp xlm trx digibyte dgb monero litecoin ethereum coder coding bts httpstco3yp1plwwms\n",
      "INDEX: 3064, TEXT: janetb172 denyessence nosciencedenial westworld1974 kerridwinr slsstudios tjmair alexmipego anthonyt2mufc zypisfy bootyju18047095 nuckchorris16 debbiepalm44 th1rt3entm rjmx prolifereligion sariellaherself spikeinthemidge aprilligeia\n",
      "INDEX: 3066, TEXT: apart from these irresponsible shoppers the crazy is they dont have to go there asda offers online food shoppingdelivery and check out contrast of allowing this panic shopping and asdas recent blog post about what its doing to limit coronavirus httpstconh9pw2jfd3 httpstcompsxbzi5sy httpstco53fuun2qc8\n",
      "INDEX: 3193, TEXT: krampusfu jackher18731941 twistagirl1958 willy52755060 2tall2fall4it trumpsugar misshellca cunningmarshal laylow88861429 alshadowdancer gorillastyle shlomoindiana shinobitony yankeepirate247 annableigh donnnie digivorr spaceforcebravo\n",
      "INDEX: 3590, TEXT: i am a caregiver to my 81yearold mom amp spend a lot of my time alleviating her fears on covid19 that are not based on fact who has a webpage about covid19 myth busters it offers consumerfriendly graphics that are easy to share with older adults httpstcowm4b5aghos httpstcoge4rgtkf8v\n"
     ]
    }
   ],
   "source": [
    "token_lens_test = []\n",
    "\n",
    "for i,txt in enumerate(df_test['text_clean'].values):\n",
    "    tokens = tokenizer.encode(txt, max_length=512, truncation=True)\n",
    "    token_lens_test.append(len(tokens))\n",
    "    if len(tokens)>80:\n",
    "        print(f\"INDEX: {i}, TEXT: {txt}\")"
   ]
  },
  {
   "cell_type": "code",
   "execution_count": 51,
   "id": "87019b5a",
   "metadata": {
    "execution": {
     "iopub.execute_input": "2023-07-03T15:51:38.218604Z",
     "iopub.status.busy": "2023-07-03T15:51:38.217727Z",
     "iopub.status.idle": "2023-07-03T15:51:38.224497Z",
     "shell.execute_reply": "2023-07-03T15:51:38.223580Z"
    },
    "papermill": {
     "duration": 0.045392,
     "end_time": "2023-07-03T15:51:38.226449",
     "exception": false,
     "start_time": "2023-07-03T15:51:38.181057",
     "status": "completed"
    },
    "tags": []
   },
   "outputs": [],
   "source": [
    "df_test['token_lens'] = token_lens_test"
   ]
  },
  {
   "cell_type": "code",
   "execution_count": 52,
   "id": "c3148d92",
   "metadata": {
    "execution": {
     "iopub.execute_input": "2023-07-03T15:51:38.298509Z",
     "iopub.status.busy": "2023-07-03T15:51:38.297078Z",
     "iopub.status.idle": "2023-07-03T15:51:38.311510Z",
     "shell.execute_reply": "2023-07-03T15:51:38.310578Z"
    },
    "papermill": {
     "duration": 0.052595,
     "end_time": "2023-07-03T15:51:38.313665",
     "exception": false,
     "start_time": "2023-07-03T15:51:38.261070",
     "status": "completed"
    },
    "tags": []
   },
   "outputs": [
    {
     "data": {
      "text/html": [
       "<div>\n",
       "<style scoped>\n",
       "    .dataframe tbody tr th:only-of-type {\n",
       "        vertical-align: middle;\n",
       "    }\n",
       "\n",
       "    .dataframe tbody tr th {\n",
       "        vertical-align: top;\n",
       "    }\n",
       "\n",
       "    .dataframe thead th {\n",
       "        text-align: right;\n",
       "    }\n",
       "</style>\n",
       "<table border=\"1\" class=\"dataframe\">\n",
       "  <thead>\n",
       "    <tr style=\"text-align: right;\">\n",
       "      <th></th>\n",
       "      <th>OriginalTweet</th>\n",
       "      <th>Sentiment</th>\n",
       "      <th>text_clean</th>\n",
       "      <th>text_len</th>\n",
       "      <th>token_lens</th>\n",
       "    </tr>\n",
       "  </thead>\n",
       "  <tbody>\n",
       "    <tr>\n",
       "      <th>2383</th>\n",
       "      <td>Ahora seguid llorando por el papel higiénico (...</td>\n",
       "      <td>Negative</td>\n",
       "      <td>ahora seguid llorando por el papel higinico qu...</td>\n",
       "      <td>45</td>\n",
       "      <td>102</td>\n",
       "    </tr>\n",
       "    <tr>\n",
       "      <th>286</th>\n",
       "      <td>@Rhett800cc So hard to decide??. As much as I ...</td>\n",
       "      <td>Negative</td>\n",
       "      <td>rhett800cc so hard to decide as much as i want...</td>\n",
       "      <td>39</td>\n",
       "      <td>101</td>\n",
       "    </tr>\n",
       "    <tr>\n",
       "      <th>3066</th>\n",
       "      <td>@Janetb172 @denyessence @NoScienceDenial @west...</td>\n",
       "      <td>Neutral</td>\n",
       "      <td>janetb172 denyessence nosciencedenial westworl...</td>\n",
       "      <td>19</td>\n",
       "      <td>91</td>\n",
       "    </tr>\n",
       "    <tr>\n",
       "      <th>2740</th>\n",
       "      <td>COVID-19: Your government will save ITSELF not...</td>\n",
       "      <td>Positive</td>\n",
       "      <td>covid19 your government will save itself not y...</td>\n",
       "      <td>45</td>\n",
       "      <td>88</td>\n",
       "    </tr>\n",
       "    <tr>\n",
       "      <th>345</th>\n",
       "      <td>Informoval jsem zástupce vech obchodních ?et?...</td>\n",
       "      <td>Neutral</td>\n",
       "      <td>informoval jsem zstupce vech obchodnch etzc o ...</td>\n",
       "      <td>31</td>\n",
       "      <td>86</td>\n",
       "    </tr>\n",
       "    <tr>\n",
       "      <th>236</th>\n",
       "      <td>So, according to this dude if you eat Rama mar...</td>\n",
       "      <td>Extremely Positive</td>\n",
       "      <td>so according to this dude if you eat rama marg...</td>\n",
       "      <td>51</td>\n",
       "      <td>85</td>\n",
       "    </tr>\n",
       "    <tr>\n",
       "      <th>3068</th>\n",
       "      <td>Apart from these irresponsible shoppers, the c...</td>\n",
       "      <td>Extremely Negative</td>\n",
       "      <td>apart from these irresponsible shoppers the cr...</td>\n",
       "      <td>43</td>\n",
       "      <td>83</td>\n",
       "    </tr>\n",
       "    <tr>\n",
       "      <th>2602</th>\n",
       "      <td>Stock up on Food, Water and supplements like S...</td>\n",
       "      <td>Extremely Positive</td>\n",
       "      <td>stock up on food water and supplements like se...</td>\n",
       "      <td>44</td>\n",
       "      <td>83</td>\n",
       "    </tr>\n",
       "    <tr>\n",
       "      <th>313</th>\n",
       "      <td>Stock up on Food &amp;amp; Water asap before the f...</td>\n",
       "      <td>Negative</td>\n",
       "      <td>stock up on food amp water asap before the for...</td>\n",
       "      <td>43</td>\n",
       "      <td>83</td>\n",
       "    </tr>\n",
       "    <tr>\n",
       "      <th>3195</th>\n",
       "      <td>@KrampusFu @JackHer18731941 @Twistagirl1958 @W...</td>\n",
       "      <td>Neutral</td>\n",
       "      <td>krampusfu jackher18731941 twistagirl1958 willy...</td>\n",
       "      <td>18</td>\n",
       "      <td>82</td>\n",
       "    </tr>\n",
       "  </tbody>\n",
       "</table>\n",
       "</div>"
      ],
      "text/plain": [
       "                                          OriginalTweet           Sentiment  \\\n",
       "2383  Ahora seguid llorando por el papel higiénico (...            Negative   \n",
       "286   @Rhett800cc So hard to decide??. As much as I ...            Negative   \n",
       "3066  @Janetb172 @denyessence @NoScienceDenial @west...             Neutral   \n",
       "2740  COVID-19: Your government will save ITSELF not...            Positive   \n",
       "345   Informoval jsem zástupce vech obchodních ?et?...             Neutral   \n",
       "236   So, according to this dude if you eat Rama mar...  Extremely Positive   \n",
       "3068  Apart from these irresponsible shoppers, the c...  Extremely Negative   \n",
       "2602  Stock up on Food, Water and supplements like S...  Extremely Positive   \n",
       "313   Stock up on Food &amp; Water asap before the f...            Negative   \n",
       "3195  @KrampusFu @JackHer18731941 @Twistagirl1958 @W...             Neutral   \n",
       "\n",
       "                                             text_clean  text_len  token_lens  \n",
       "2383  ahora seguid llorando por el papel higinico qu...        45         102  \n",
       "286   rhett800cc so hard to decide as much as i want...        39         101  \n",
       "3066  janetb172 denyessence nosciencedenial westworl...        19          91  \n",
       "2740  covid19 your government will save itself not y...        45          88  \n",
       "345   informoval jsem zstupce vech obchodnch etzc o ...        31          86  \n",
       "236   so according to this dude if you eat rama marg...        51          85  \n",
       "3068  apart from these irresponsible shoppers the cr...        43          83  \n",
       "2602  stock up on food water and supplements like se...        44          83  \n",
       "313   stock up on food amp water asap before the for...        43          83  \n",
       "3195  krampusfu jackher18731941 twistagirl1958 willy...        18          82  "
      ]
     },
     "execution_count": 52,
     "metadata": {},
     "output_type": "execute_result"
    }
   ],
   "source": [
    "df_test = df_test.sort_values(by='token_lens', ascending=False)\n",
    "df_test.head(10) "
   ]
  },
  {
   "cell_type": "code",
   "execution_count": 53,
   "id": "bb7e207b",
   "metadata": {
    "execution": {
     "iopub.execute_input": "2023-07-03T15:51:38.391308Z",
     "iopub.status.busy": "2023-07-03T15:51:38.390925Z",
     "iopub.status.idle": "2023-07-03T15:51:38.403333Z",
     "shell.execute_reply": "2023-07-03T15:51:38.402292Z"
    },
    "papermill": {
     "duration": 0.051118,
     "end_time": "2023-07-03T15:51:38.405465",
     "exception": false,
     "start_time": "2023-07-03T15:51:38.354347",
     "status": "completed"
    },
    "tags": []
   },
   "outputs": [
    {
     "data": {
      "text/html": [
       "<div>\n",
       "<style scoped>\n",
       "    .dataframe tbody tr th:only-of-type {\n",
       "        vertical-align: middle;\n",
       "    }\n",
       "\n",
       "    .dataframe tbody tr th {\n",
       "        vertical-align: top;\n",
       "    }\n",
       "\n",
       "    .dataframe thead th {\n",
       "        text-align: right;\n",
       "    }\n",
       "</style>\n",
       "<table border=\"1\" class=\"dataframe\">\n",
       "  <thead>\n",
       "    <tr style=\"text-align: right;\">\n",
       "      <th></th>\n",
       "      <th>OriginalTweet</th>\n",
       "      <th>Sentiment</th>\n",
       "      <th>text_clean</th>\n",
       "      <th>text_len</th>\n",
       "      <th>token_lens</th>\n",
       "    </tr>\n",
       "  </thead>\n",
       "  <tbody>\n",
       "    <tr>\n",
       "      <th>236</th>\n",
       "      <td>So, according to this dude if you eat Rama mar...</td>\n",
       "      <td>Extremely Positive</td>\n",
       "      <td>so according to this dude if you eat rama marg...</td>\n",
       "      <td>51</td>\n",
       "      <td>85</td>\n",
       "    </tr>\n",
       "    <tr>\n",
       "      <th>3068</th>\n",
       "      <td>Apart from these irresponsible shoppers, the c...</td>\n",
       "      <td>Extremely Negative</td>\n",
       "      <td>apart from these irresponsible shoppers the cr...</td>\n",
       "      <td>43</td>\n",
       "      <td>83</td>\n",
       "    </tr>\n",
       "    <tr>\n",
       "      <th>2602</th>\n",
       "      <td>Stock up on Food, Water and supplements like S...</td>\n",
       "      <td>Extremely Positive</td>\n",
       "      <td>stock up on food water and supplements like se...</td>\n",
       "      <td>44</td>\n",
       "      <td>83</td>\n",
       "    </tr>\n",
       "  </tbody>\n",
       "</table>\n",
       "</div>"
      ],
      "text/plain": [
       "                                          OriginalTweet           Sentiment  \\\n",
       "236   So, according to this dude if you eat Rama mar...  Extremely Positive   \n",
       "3068  Apart from these irresponsible shoppers, the c...  Extremely Negative   \n",
       "2602  Stock up on Food, Water and supplements like S...  Extremely Positive   \n",
       "\n",
       "                                             text_clean  text_len  token_lens  \n",
       "236   so according to this dude if you eat rama marg...        51          85  \n",
       "3068  apart from these irresponsible shoppers the cr...        43          83  \n",
       "2602  stock up on food water and supplements like se...        44          83  "
      ]
     },
     "execution_count": 53,
     "metadata": {},
     "output_type": "execute_result"
    }
   ],
   "source": [
    "df_test = df_test.iloc[5:]\n",
    "df_test.head(3)"
   ]
  },
  {
   "cell_type": "code",
   "execution_count": 54,
   "id": "1c8bd46a",
   "metadata": {
    "execution": {
     "iopub.execute_input": "2023-07-03T15:51:38.481466Z",
     "iopub.status.busy": "2023-07-03T15:51:38.480481Z",
     "iopub.status.idle": "2023-07-03T15:51:38.487278Z",
     "shell.execute_reply": "2023-07-03T15:51:38.486426Z"
    },
    "papermill": {
     "duration": 0.045568,
     "end_time": "2023-07-03T15:51:38.489310",
     "exception": false,
     "start_time": "2023-07-03T15:51:38.443742",
     "status": "completed"
    },
    "tags": []
   },
   "outputs": [],
   "source": [
    "df_test = df_test.sample(frac=1).reset_index(drop=True)"
   ]
  },
  {
   "cell_type": "markdown",
   "id": "e8fadd7c",
   "metadata": {
    "papermill": {
     "duration": 0.034491,
     "end_time": "2023-07-03T15:51:38.559572",
     "exception": false,
     "start_time": "2023-07-03T15:51:38.525081",
     "status": "completed"
    },
    "tags": []
   },
   "source": [
    "**Sentiment column analysis**"
   ]
  },
  {
   "cell_type": "code",
   "execution_count": 55,
   "id": "6ffc5017",
   "metadata": {
    "execution": {
     "iopub.execute_input": "2023-07-03T15:51:38.633191Z",
     "iopub.status.busy": "2023-07-03T15:51:38.632834Z",
     "iopub.status.idle": "2023-07-03T15:51:38.646094Z",
     "shell.execute_reply": "2023-07-03T15:51:38.644894Z"
    },
    "papermill": {
     "duration": 0.053297,
     "end_time": "2023-07-03T15:51:38.648061",
     "exception": false,
     "start_time": "2023-07-03T15:51:38.594764",
     "status": "completed"
    },
    "tags": []
   },
   "outputs": [
    {
     "data": {
      "text/plain": [
       "Positive              11395\n",
       "Negative               9902\n",
       "Neutral                7620\n",
       "Extremely Positive     6620\n",
       "Extremely Negative     5477\n",
       "Name: Sentiment, dtype: int64"
      ]
     },
     "execution_count": 55,
     "metadata": {},
     "output_type": "execute_result"
    }
   ],
   "source": [
    "# we look at the target column\n",
    "df['Sentiment'].value_counts()"
   ]
  },
  {
   "cell_type": "code",
   "execution_count": 56,
   "id": "d6231b9b",
   "metadata": {
    "execution": {
     "iopub.execute_input": "2023-07-03T15:51:38.722101Z",
     "iopub.status.busy": "2023-07-03T15:51:38.721031Z",
     "iopub.status.idle": "2023-07-03T15:51:38.735567Z",
     "shell.execute_reply": "2023-07-03T15:51:38.734630Z"
    },
    "papermill": {
     "duration": 0.053318,
     "end_time": "2023-07-03T15:51:38.737613",
     "exception": false,
     "start_time": "2023-07-03T15:51:38.684295",
     "status": "completed"
    },
    "tags": []
   },
   "outputs": [],
   "source": [
    "df['Sentiment'] = df['Sentiment'].map({'Extremely Negative':0,'Negative':0,'Neutral':1,'Positive':2,'Extremely Positive':2})"
   ]
  },
  {
   "cell_type": "code",
   "execution_count": 57,
   "id": "ab902a67",
   "metadata": {
    "execution": {
     "iopub.execute_input": "2023-07-03T15:51:38.809811Z",
     "iopub.status.busy": "2023-07-03T15:51:38.809457Z",
     "iopub.status.idle": "2023-07-03T15:51:38.817552Z",
     "shell.execute_reply": "2023-07-03T15:51:38.816630Z"
    },
    "papermill": {
     "duration": 0.046721,
     "end_time": "2023-07-03T15:51:38.819758",
     "exception": false,
     "start_time": "2023-07-03T15:51:38.773037",
     "status": "completed"
    },
    "tags": []
   },
   "outputs": [],
   "source": [
    "df_test['Sentiment'] = df_test['Sentiment'].map({'Extremely Negative':0,'Negative':0,'Neutral':1,'Positive':2,'Extremely Positive':2})"
   ]
  },
  {
   "cell_type": "code",
   "execution_count": 58,
   "id": "0d2536d1",
   "metadata": {
    "execution": {
     "iopub.execute_input": "2023-07-03T15:51:38.893645Z",
     "iopub.status.busy": "2023-07-03T15:51:38.892636Z",
     "iopub.status.idle": "2023-07-03T15:51:38.901536Z",
     "shell.execute_reply": "2023-07-03T15:51:38.900549Z"
    },
    "papermill": {
     "duration": 0.047902,
     "end_time": "2023-07-03T15:51:38.903797",
     "exception": false,
     "start_time": "2023-07-03T15:51:38.855895",
     "status": "completed"
    },
    "tags": []
   },
   "outputs": [
    {
     "data": {
      "text/plain": [
       "2    18015\n",
       "0    15379\n",
       "1     7620\n",
       "Name: Sentiment, dtype: int64"
      ]
     },
     "execution_count": 58,
     "metadata": {},
     "output_type": "execute_result"
    }
   ],
   "source": [
    "df['Sentiment'].value_counts()"
   ]
  },
  {
   "cell_type": "markdown",
   "id": "fa2df312",
   "metadata": {
    "papermill": {
     "duration": 0.035662,
     "end_time": "2023-07-03T15:51:38.976127",
     "exception": false,
     "start_time": "2023-07-03T15:51:38.940465",
     "status": "completed"
    },
    "tags": []
   },
   "source": [
    "**Class Balance by RandomOverSampler**"
   ]
  },
  {
   "cell_type": "code",
   "execution_count": 59,
   "id": "35da68a5",
   "metadata": {
    "execution": {
     "iopub.execute_input": "2023-07-03T15:51:39.050168Z",
     "iopub.status.busy": "2023-07-03T15:51:39.049010Z",
     "iopub.status.idle": "2023-07-03T15:51:39.349747Z",
     "shell.execute_reply": "2023-07-03T15:51:39.348600Z"
    },
    "papermill": {
     "duration": 0.340673,
     "end_time": "2023-07-03T15:51:39.352452",
     "exception": false,
     "start_time": "2023-07-03T15:51:39.011779",
     "status": "completed"
    },
    "tags": []
   },
   "outputs": [],
   "source": [
    "ros = RandomOverSampler()\n",
    "train_x, train_y = ros.fit_resample(np.array(df['text_clean']).reshape(-1, 1), np.array(df['Sentiment']).reshape(-1, 1));\n",
    "train_os = pd.DataFrame(list(zip([x[0] for x in train_x], train_y)), columns = ['text_clean', 'Sentiment']);"
   ]
  },
  {
   "cell_type": "code",
   "execution_count": 60,
   "id": "51fde129",
   "metadata": {
    "execution": {
     "iopub.execute_input": "2023-07-03T15:51:39.434701Z",
     "iopub.status.busy": "2023-07-03T15:51:39.433597Z",
     "iopub.status.idle": "2023-07-03T15:51:39.442819Z",
     "shell.execute_reply": "2023-07-03T15:51:39.441697Z"
    },
    "papermill": {
     "duration": 0.05306,
     "end_time": "2023-07-03T15:51:39.445052",
     "exception": false,
     "start_time": "2023-07-03T15:51:39.391992",
     "status": "completed"
    },
    "tags": []
   },
   "outputs": [
    {
     "data": {
      "text/plain": [
       "0    18015\n",
       "1    18015\n",
       "2    18015\n",
       "Name: Sentiment, dtype: int64"
      ]
     },
     "execution_count": 60,
     "metadata": {},
     "output_type": "execute_result"
    }
   ],
   "source": [
    "train_os['Sentiment'].value_counts()"
   ]
  },
  {
   "cell_type": "markdown",
   "id": "2b8ba78e",
   "metadata": {
    "papermill": {
     "duration": 0.038273,
     "end_time": "2023-07-03T15:51:39.523033",
     "exception": false,
     "start_time": "2023-07-03T15:51:39.484760",
     "status": "completed"
    },
    "tags": []
   },
   "source": [
    "**Train test split**"
   ]
  },
  {
   "cell_type": "code",
   "execution_count": 61,
   "id": "e89b3bb5",
   "metadata": {
    "execution": {
     "iopub.execute_input": "2023-07-03T15:51:39.598369Z",
     "iopub.status.busy": "2023-07-03T15:51:39.597345Z",
     "iopub.status.idle": "2023-07-03T15:51:39.602563Z",
     "shell.execute_reply": "2023-07-03T15:51:39.601600Z"
    },
    "papermill": {
     "duration": 0.045844,
     "end_time": "2023-07-03T15:51:39.604731",
     "exception": false,
     "start_time": "2023-07-03T15:51:39.558887",
     "status": "completed"
    },
    "tags": []
   },
   "outputs": [],
   "source": [
    "X = train_os['text_clean'].values\n",
    "y = train_os['Sentiment'].values"
   ]
  },
  {
   "cell_type": "code",
   "execution_count": 62,
   "id": "020ebc24",
   "metadata": {
    "execution": {
     "iopub.execute_input": "2023-07-03T15:51:39.688165Z",
     "iopub.status.busy": "2023-07-03T15:51:39.687787Z",
     "iopub.status.idle": "2023-07-03T15:51:39.719129Z",
     "shell.execute_reply": "2023-07-03T15:51:39.717917Z"
    },
    "papermill": {
     "duration": 0.073848,
     "end_time": "2023-07-03T15:51:39.721982",
     "exception": false,
     "start_time": "2023-07-03T15:51:39.648134",
     "status": "completed"
    },
    "tags": []
   },
   "outputs": [],
   "source": [
    "X_train, X_valid, y_train, y_valid = train_test_split(X, y, test_size=0.1, stratify=y, random_state=seed)"
   ]
  },
  {
   "cell_type": "code",
   "execution_count": 63,
   "id": "5ba79948",
   "metadata": {
    "execution": {
     "iopub.execute_input": "2023-07-03T15:51:39.803465Z",
     "iopub.status.busy": "2023-07-03T15:51:39.802843Z",
     "iopub.status.idle": "2023-07-03T15:51:39.807902Z",
     "shell.execute_reply": "2023-07-03T15:51:39.806972Z"
    },
    "papermill": {
     "duration": 0.048122,
     "end_time": "2023-07-03T15:51:39.810019",
     "exception": false,
     "start_time": "2023-07-03T15:51:39.761897",
     "status": "completed"
    },
    "tags": []
   },
   "outputs": [],
   "source": [
    "X_test = df_test['text_clean'].values\n",
    "y_test = df_test['Sentiment'].values"
   ]
  },
  {
   "cell_type": "markdown",
   "id": "c669625f",
   "metadata": {
    "papermill": {
     "duration": 0.039192,
     "end_time": "2023-07-03T15:51:39.889832",
     "exception": false,
     "start_time": "2023-07-03T15:51:39.850640",
     "status": "completed"
    },
    "tags": []
   },
   "source": [
    "**one hot encoding**"
   ]
  },
  {
   "cell_type": "code",
   "execution_count": 64,
   "id": "260998ee",
   "metadata": {
    "execution": {
     "iopub.execute_input": "2023-07-03T15:51:39.970954Z",
     "iopub.status.busy": "2023-07-03T15:51:39.970561Z",
     "iopub.status.idle": "2023-07-03T15:51:39.976202Z",
     "shell.execute_reply": "2023-07-03T15:51:39.975111Z"
    },
    "papermill": {
     "duration": 0.048706,
     "end_time": "2023-07-03T15:51:39.978502",
     "exception": false,
     "start_time": "2023-07-03T15:51:39.929796",
     "status": "completed"
    },
    "tags": []
   },
   "outputs": [],
   "source": [
    "y_train_le = y_train.copy()\n",
    "y_valid_le = y_valid.copy()\n",
    "y_test_le = y_test.copy()"
   ]
  },
  {
   "cell_type": "code",
   "execution_count": 65,
   "id": "a3d32642",
   "metadata": {
    "execution": {
     "iopub.execute_input": "2023-07-03T15:51:40.056954Z",
     "iopub.status.busy": "2023-07-03T15:51:40.056070Z",
     "iopub.status.idle": "2023-07-03T15:51:40.073267Z",
     "shell.execute_reply": "2023-07-03T15:51:40.072137Z"
    },
    "papermill": {
     "duration": 0.057984,
     "end_time": "2023-07-03T15:51:40.076069",
     "exception": false,
     "start_time": "2023-07-03T15:51:40.018085",
     "status": "completed"
    },
    "tags": []
   },
   "outputs": [],
   "source": [
    "ohe = preprocessing.OneHotEncoder()\n",
    "y_train = ohe.fit_transform(np.array(y_train).reshape(-1, 1)).toarray()\n",
    "y_valid = ohe.fit_transform(np.array(y_valid).reshape(-1, 1)).toarray()\n",
    "y_test = ohe.fit_transform(np.array(y_test).reshape(-1, 1)).toarray()"
   ]
  },
  {
   "cell_type": "code",
   "execution_count": 66,
   "id": "6adf7495",
   "metadata": {
    "execution": {
     "iopub.execute_input": "2023-07-03T15:51:40.161460Z",
     "iopub.status.busy": "2023-07-03T15:51:40.160489Z",
     "iopub.status.idle": "2023-07-03T15:51:40.166627Z",
     "shell.execute_reply": "2023-07-03T15:51:40.165593Z"
    },
    "papermill": {
     "duration": 0.049815,
     "end_time": "2023-07-03T15:51:40.168889",
     "exception": false,
     "start_time": "2023-07-03T15:51:40.119074",
     "status": "completed"
    },
    "tags": []
   },
   "outputs": [
    {
     "name": "stdout",
     "output_type": "stream",
     "text": [
      "TRAINING DATA: 48640\n",
      "VALIDATION DATA: 5405\n",
      "TESTING DATA: 3790\n"
     ]
    }
   ],
   "source": [
    "print(f\"TRAINING DATA: {X_train.shape[0]}\\nVALIDATION DATA: {X_valid.shape[0]}\\nTESTING DATA: {X_test.shape[0]}\" )"
   ]
  },
  {
   "cell_type": "markdown",
   "id": "66a784e0",
   "metadata": {
    "papermill": {
     "duration": 0.042984,
     "end_time": "2023-07-03T15:51:40.252495",
     "exception": false,
     "start_time": "2023-07-03T15:51:40.209511",
     "status": "completed"
    },
    "tags": []
   },
   "source": [
    "**Naive Bayes Classifier**"
   ]
  },
  {
   "cell_type": "code",
   "execution_count": 67,
   "id": "ebc94fe9",
   "metadata": {
    "execution": {
     "iopub.execute_input": "2023-07-03T15:51:40.336020Z",
     "iopub.status.busy": "2023-07-03T15:51:40.335151Z",
     "iopub.status.idle": "2023-07-03T15:51:42.548616Z",
     "shell.execute_reply": "2023-07-03T15:51:42.547680Z"
    },
    "papermill": {
     "duration": 2.257992,
     "end_time": "2023-07-03T15:51:42.551110",
     "exception": false,
     "start_time": "2023-07-03T15:51:40.293118",
     "status": "completed"
    },
    "tags": []
   },
   "outputs": [],
   "source": [
    "clf = CountVectorizer()\n",
    "X_train_cv =  clf.fit_transform(X_train)\n",
    "X_test_cv = clf.transform(X_test)"
   ]
  },
  {
   "cell_type": "code",
   "execution_count": 68,
   "id": "c89ac188",
   "metadata": {
    "execution": {
     "iopub.execute_input": "2023-07-03T15:51:42.629464Z",
     "iopub.status.busy": "2023-07-03T15:51:42.628370Z",
     "iopub.status.idle": "2023-07-03T15:51:42.758844Z",
     "shell.execute_reply": "2023-07-03T15:51:42.757898Z"
    },
    "papermill": {
     "duration": 0.171986,
     "end_time": "2023-07-03T15:51:42.761259",
     "exception": false,
     "start_time": "2023-07-03T15:51:42.589273",
     "status": "completed"
    },
    "tags": []
   },
   "outputs": [],
   "source": [
    "tf_transformer = TfidfTransformer(use_idf=True).fit(X_train_cv)\n",
    "X_train_tf = tf_transformer.transform(X_train_cv)\n",
    "X_test_tf = tf_transformer.transform(X_test_cv)"
   ]
  },
  {
   "cell_type": "code",
   "execution_count": 69,
   "id": "827d23f8",
   "metadata": {
    "execution": {
     "iopub.execute_input": "2023-07-03T15:51:42.837518Z",
     "iopub.status.busy": "2023-07-03T15:51:42.836490Z",
     "iopub.status.idle": "2023-07-03T15:51:42.841476Z",
     "shell.execute_reply": "2023-07-03T15:51:42.840474Z"
    },
    "papermill": {
     "duration": 0.04517,
     "end_time": "2023-07-03T15:51:42.844129",
     "exception": false,
     "start_time": "2023-07-03T15:51:42.798959",
     "status": "completed"
    },
    "tags": []
   },
   "outputs": [],
   "source": [
    "nb_clf = MultinomialNB()"
   ]
  },
  {
   "cell_type": "code",
   "execution_count": 70,
   "id": "ec4e1297",
   "metadata": {
    "execution": {
     "iopub.execute_input": "2023-07-03T15:51:42.918792Z",
     "iopub.status.busy": "2023-07-03T15:51:42.918391Z",
     "iopub.status.idle": "2023-07-03T15:51:42.952047Z",
     "shell.execute_reply": "2023-07-03T15:51:42.950168Z"
    },
    "papermill": {
     "duration": 0.073599,
     "end_time": "2023-07-03T15:51:42.954478",
     "exception": false,
     "start_time": "2023-07-03T15:51:42.880879",
     "status": "completed"
    },
    "tags": []
   },
   "outputs": [
    {
     "data": {
      "text/html": [
       "<style>#sk-container-id-1 {color: black;background-color: white;}#sk-container-id-1 pre{padding: 0;}#sk-container-id-1 div.sk-toggleable {background-color: white;}#sk-container-id-1 label.sk-toggleable__label {cursor: pointer;display: block;width: 100%;margin-bottom: 0;padding: 0.3em;box-sizing: border-box;text-align: center;}#sk-container-id-1 label.sk-toggleable__label-arrow:before {content: \"▸\";float: left;margin-right: 0.25em;color: #696969;}#sk-container-id-1 label.sk-toggleable__label-arrow:hover:before {color: black;}#sk-container-id-1 div.sk-estimator:hover label.sk-toggleable__label-arrow:before {color: black;}#sk-container-id-1 div.sk-toggleable__content {max-height: 0;max-width: 0;overflow: hidden;text-align: left;background-color: #f0f8ff;}#sk-container-id-1 div.sk-toggleable__content pre {margin: 0.2em;color: black;border-radius: 0.25em;background-color: #f0f8ff;}#sk-container-id-1 input.sk-toggleable__control:checked~div.sk-toggleable__content {max-height: 200px;max-width: 100%;overflow: auto;}#sk-container-id-1 input.sk-toggleable__control:checked~label.sk-toggleable__label-arrow:before {content: \"▾\";}#sk-container-id-1 div.sk-estimator input.sk-toggleable__control:checked~label.sk-toggleable__label {background-color: #d4ebff;}#sk-container-id-1 div.sk-label input.sk-toggleable__control:checked~label.sk-toggleable__label {background-color: #d4ebff;}#sk-container-id-1 input.sk-hidden--visually {border: 0;clip: rect(1px 1px 1px 1px);clip: rect(1px, 1px, 1px, 1px);height: 1px;margin: -1px;overflow: hidden;padding: 0;position: absolute;width: 1px;}#sk-container-id-1 div.sk-estimator {font-family: monospace;background-color: #f0f8ff;border: 1px dotted black;border-radius: 0.25em;box-sizing: border-box;margin-bottom: 0.5em;}#sk-container-id-1 div.sk-estimator:hover {background-color: #d4ebff;}#sk-container-id-1 div.sk-parallel-item::after {content: \"\";width: 100%;border-bottom: 1px solid gray;flex-grow: 1;}#sk-container-id-1 div.sk-label:hover label.sk-toggleable__label {background-color: #d4ebff;}#sk-container-id-1 div.sk-serial::before {content: \"\";position: absolute;border-left: 1px solid gray;box-sizing: border-box;top: 0;bottom: 0;left: 50%;z-index: 0;}#sk-container-id-1 div.sk-serial {display: flex;flex-direction: column;align-items: center;background-color: white;padding-right: 0.2em;padding-left: 0.2em;position: relative;}#sk-container-id-1 div.sk-item {position: relative;z-index: 1;}#sk-container-id-1 div.sk-parallel {display: flex;align-items: stretch;justify-content: center;background-color: white;position: relative;}#sk-container-id-1 div.sk-item::before, #sk-container-id-1 div.sk-parallel-item::before {content: \"\";position: absolute;border-left: 1px solid gray;box-sizing: border-box;top: 0;bottom: 0;left: 50%;z-index: -1;}#sk-container-id-1 div.sk-parallel-item {display: flex;flex-direction: column;z-index: 1;position: relative;background-color: white;}#sk-container-id-1 div.sk-parallel-item:first-child::after {align-self: flex-end;width: 50%;}#sk-container-id-1 div.sk-parallel-item:last-child::after {align-self: flex-start;width: 50%;}#sk-container-id-1 div.sk-parallel-item:only-child::after {width: 0;}#sk-container-id-1 div.sk-dashed-wrapped {border: 1px dashed gray;margin: 0 0.4em 0.5em 0.4em;box-sizing: border-box;padding-bottom: 0.4em;background-color: white;}#sk-container-id-1 div.sk-label label {font-family: monospace;font-weight: bold;display: inline-block;line-height: 1.2em;}#sk-container-id-1 div.sk-label-container {text-align: center;}#sk-container-id-1 div.sk-container {/* jupyter's `normalize.less` sets `[hidden] { display: none; }` but bootstrap.min.css set `[hidden] { display: none !important; }` so we also need the `!important` here to be able to override the default hidden behavior on the sphinx rendered scikit-learn.org. See: https://github.com/scikit-learn/scikit-learn/issues/21755 */display: inline-block !important;position: relative;}#sk-container-id-1 div.sk-text-repr-fallback {display: none;}</style><div id=\"sk-container-id-1\" class=\"sk-top-container\"><div class=\"sk-text-repr-fallback\"><pre>MultinomialNB()</pre><b>In a Jupyter environment, please rerun this cell to show the HTML representation or trust the notebook. <br />On GitHub, the HTML representation is unable to render, please try loading this page with nbviewer.org.</b></div><div class=\"sk-container\" hidden><div class=\"sk-item\"><div class=\"sk-estimator sk-toggleable\"><input class=\"sk-toggleable__control sk-hidden--visually\" id=\"sk-estimator-id-1\" type=\"checkbox\" checked><label for=\"sk-estimator-id-1\" class=\"sk-toggleable__label sk-toggleable__label-arrow\">MultinomialNB</label><div class=\"sk-toggleable__content\"><pre>MultinomialNB()</pre></div></div></div></div></div>"
      ],
      "text/plain": [
       "MultinomialNB()"
      ]
     },
     "execution_count": 70,
     "metadata": {},
     "output_type": "execute_result"
    }
   ],
   "source": [
    "nb_clf.fit(X_train_tf, y_train_le)"
   ]
  },
  {
   "cell_type": "code",
   "execution_count": 71,
   "id": "d6e5664b",
   "metadata": {
    "execution": {
     "iopub.execute_input": "2023-07-03T15:51:43.029424Z",
     "iopub.status.busy": "2023-07-03T15:51:43.029041Z",
     "iopub.status.idle": "2023-07-03T15:51:43.037046Z",
     "shell.execute_reply": "2023-07-03T15:51:43.036125Z"
    },
    "papermill": {
     "duration": 0.047554,
     "end_time": "2023-07-03T15:51:43.039355",
     "exception": false,
     "start_time": "2023-07-03T15:51:42.991801",
     "status": "completed"
    },
    "tags": []
   },
   "outputs": [],
   "source": [
    "nb_pred = nb_clf.predict(X_test_tf)"
   ]
  },
  {
   "cell_type": "code",
   "execution_count": 72,
   "id": "76283383",
   "metadata": {
    "execution": {
     "iopub.execute_input": "2023-07-03T15:51:43.114961Z",
     "iopub.status.busy": "2023-07-03T15:51:43.114618Z",
     "iopub.status.idle": "2023-07-03T15:51:43.132594Z",
     "shell.execute_reply": "2023-07-03T15:51:43.131395Z"
    },
    "papermill": {
     "duration": 0.059287,
     "end_time": "2023-07-03T15:51:43.135943",
     "exception": false,
     "start_time": "2023-07-03T15:51:43.076656",
     "status": "completed"
    },
    "tags": []
   },
   "outputs": [
    {
     "name": "stdout",
     "output_type": "stream",
     "text": [
      "\tClassification Report for Naive Bayes:\n",
      "\n",
      "               precision    recall  f1-score   support\n",
      "\n",
      "    Negative       0.69      0.81      0.75      1630\n",
      "     Neutral       0.67      0.34      0.45       616\n",
      "    Positive       0.72      0.73      0.73      1544\n",
      "\n",
      "    accuracy                           0.70      3790\n",
      "   macro avg       0.69      0.63      0.64      3790\n",
      "weighted avg       0.70      0.70      0.69      3790\n",
      "\n"
     ]
    }
   ],
   "source": [
    "print('\\tClassification Report for Naive Bayes:\\n\\n',classification_report(y_test_le,nb_pred, target_names=['Negative', 'Neutral', 'Positive']))"
   ]
  },
  {
   "cell_type": "markdown",
   "id": "2059df20",
   "metadata": {
    "papermill": {
     "duration": 0.03894,
     "end_time": "2023-07-03T15:51:43.216385",
     "exception": false,
     "start_time": "2023-07-03T15:51:43.177445",
     "status": "completed"
    },
    "tags": []
   },
   "source": [
    "**BERT sentiment analysis**"
   ]
  },
  {
   "cell_type": "code",
   "execution_count": 73,
   "id": "8e557638",
   "metadata": {
    "execution": {
     "iopub.execute_input": "2023-07-03T15:51:43.295426Z",
     "iopub.status.busy": "2023-07-03T15:51:43.295034Z",
     "iopub.status.idle": "2023-07-03T15:51:43.299790Z",
     "shell.execute_reply": "2023-07-03T15:51:43.298617Z"
    },
    "papermill": {
     "duration": 0.046582,
     "end_time": "2023-07-03T15:51:43.302172",
     "exception": false,
     "start_time": "2023-07-03T15:51:43.255590",
     "status": "completed"
    },
    "tags": []
   },
   "outputs": [],
   "source": [
    "MAX_LEN=128"
   ]
  },
  {
   "cell_type": "code",
   "execution_count": 74,
   "id": "48c99696",
   "metadata": {
    "execution": {
     "iopub.execute_input": "2023-07-03T15:51:43.382328Z",
     "iopub.status.busy": "2023-07-03T15:51:43.381920Z",
     "iopub.status.idle": "2023-07-03T15:51:43.388356Z",
     "shell.execute_reply": "2023-07-03T15:51:43.387375Z"
    },
    "papermill": {
     "duration": 0.050642,
     "end_time": "2023-07-03T15:51:43.390382",
     "exception": false,
     "start_time": "2023-07-03T15:51:43.339740",
     "status": "completed"
    },
    "tags": []
   },
   "outputs": [],
   "source": [
    "def tokenize(data,max_len=MAX_LEN) :\n",
    "    input_ids = []\n",
    "    attention_masks = []\n",
    "    for i in range(len(data)):\n",
    "        encoded = tokenizer.encode_plus(\n",
    "            data[i],\n",
    "            add_special_tokens=True,\n",
    "            max_length=MAX_LEN,\n",
    "            padding='max_length',\n",
    "            return_attention_mask=True\n",
    "        )\n",
    "        input_ids.append(encoded['input_ids'])\n",
    "        attention_masks.append(encoded['attention_mask'])\n",
    "    return np.array(input_ids),np.array(attention_masks)"
   ]
  },
  {
   "cell_type": "code",
   "execution_count": 75,
   "id": "ea83e217",
   "metadata": {
    "execution": {
     "iopub.execute_input": "2023-07-03T15:51:43.467370Z",
     "iopub.status.busy": "2023-07-03T15:51:43.466201Z",
     "iopub.status.idle": "2023-07-03T15:51:59.324210Z",
     "shell.execute_reply": "2023-07-03T15:51:59.323270Z"
    },
    "papermill": {
     "duration": 15.899181,
     "end_time": "2023-07-03T15:51:59.326574",
     "exception": false,
     "start_time": "2023-07-03T15:51:43.427393",
     "status": "completed"
    },
    "tags": []
   },
   "outputs": [],
   "source": [
    "train_input_ids, train_attention_masks = tokenize(X_train, MAX_LEN)\n",
    "val_input_ids, val_attention_masks = tokenize(X_valid, MAX_LEN)\n",
    "test_input_ids, test_attention_masks = tokenize(X_test, MAX_LEN)"
   ]
  },
  {
   "cell_type": "code",
   "execution_count": 76,
   "id": "91a4fc3e",
   "metadata": {
    "execution": {
     "iopub.execute_input": "2023-07-03T15:51:59.402763Z",
     "iopub.status.busy": "2023-07-03T15:51:59.402394Z",
     "iopub.status.idle": "2023-07-03T15:52:10.742949Z",
     "shell.execute_reply": "2023-07-03T15:52:10.742003Z"
    },
    "papermill": {
     "duration": 11.381605,
     "end_time": "2023-07-03T15:52:10.744988",
     "exception": false,
     "start_time": "2023-07-03T15:51:59.363383",
     "status": "completed"
    },
    "tags": []
   },
   "outputs": [
    {
     "data": {
      "application/vnd.jupyter.widget-view+json": {
       "model_id": "5ee4c8c4c19d4a47b64df82fbb8db0cf",
       "version_major": 2,
       "version_minor": 0
      },
      "text/plain": [
       "Downloading model.safetensors:   0%|          | 0.00/440M [00:00<?, ?B/s]"
      ]
     },
     "metadata": {},
     "output_type": "display_data"
    },
    {
     "name": "stderr",
     "output_type": "stream",
     "text": [
      "Some weights of the PyTorch model were not used when initializing the TF 2.0 model TFBertModel: ['cls.predictions.transform.dense.bias', 'cls.predictions.transform.dense.weight', 'cls.predictions.transform.LayerNorm.weight', 'cls.seq_relationship.weight', 'cls.predictions.transform.LayerNorm.bias', 'cls.seq_relationship.bias', 'cls.predictions.bias']\n",
      "- This IS expected if you are initializing TFBertModel from a PyTorch model trained on another task or with another architecture (e.g. initializing a TFBertForSequenceClassification model from a BertForPreTraining model).\n",
      "- This IS NOT expected if you are initializing TFBertModel from a PyTorch model that you expect to be exactly identical (e.g. initializing a TFBertForSequenceClassification model from a BertForSequenceClassification model).\n",
      "All the weights of TFBertModel were initialized from the PyTorch model.\n",
      "If your task is similar to the task the model of the checkpoint was trained on, you can already use TFBertModel for predictions without further training.\n"
     ]
    }
   ],
   "source": [
    "bert_model = TFBertModel.from_pretrained('bert-base-uncased')"
   ]
  },
  {
   "cell_type": "code",
   "execution_count": 77,
   "id": "59dd36cd",
   "metadata": {
    "execution": {
     "iopub.execute_input": "2023-07-03T15:52:10.823521Z",
     "iopub.status.busy": "2023-07-03T15:52:10.822606Z",
     "iopub.status.idle": "2023-07-03T15:52:10.830700Z",
     "shell.execute_reply": "2023-07-03T15:52:10.829683Z"
    },
    "papermill": {
     "duration": 0.047808,
     "end_time": "2023-07-03T15:52:10.832713",
     "exception": false,
     "start_time": "2023-07-03T15:52:10.784905",
     "status": "completed"
    },
    "tags": []
   },
   "outputs": [],
   "source": [
    "def create_model(bert_model, max_len=MAX_LEN):\n",
    "    \n",
    "    ##params###\n",
    "    #opt = tf.keras.optimizers.Adam(learning_rate=1e-5, decay=1e-7)\n",
    "    #opt = tf.keras.optimizers.Adam(learning_rate=1e-5, learning_rate_schedule=tf.keras.optimizers.schedules.ExponentialDecay(1e-5, decay_steps=10000))\n",
    "    #opt = tf.keras.optimizers.Adam(learning_rate=1e-5, learning_rate_schedule=tf.keras.optimizers.schedules.ExponentialDecay(1e-5, decay_steps=10000, decay_rate=0.96))\n",
    "    opt = tf.keras.optimizers.Adam(learning_rate=1e-5)\n",
    "    loss = tf.keras.losses.CategoricalCrossentropy()\n",
    "    accuracy = tf.keras.metrics.CategoricalAccuracy()\n",
    "\n",
    "\n",
    "    input_ids = tf.keras.Input(shape=(max_len,),dtype='int32')\n",
    "    \n",
    "    attention_masks = tf.keras.Input(shape=(max_len,),dtype='int32')\n",
    "    \n",
    "    embeddings = bert_model([input_ids,attention_masks])[1]\n",
    "    \n",
    "    output = tf.keras.layers.Dense(3, activation=\"softmax\")(embeddings)\n",
    "    \n",
    "    model = tf.keras.models.Model(inputs = [input_ids,attention_masks], outputs = output)\n",
    "    \n",
    "    model.compile(opt, loss=loss, metrics=accuracy)\n",
    "    \n",
    "    \n",
    "    return model"
   ]
  },
  {
   "cell_type": "code",
   "execution_count": 78,
   "id": "96ae4eca",
   "metadata": {
    "execution": {
     "iopub.execute_input": "2023-07-03T15:52:10.907421Z",
     "iopub.status.busy": "2023-07-03T15:52:10.906456Z",
     "iopub.status.idle": "2023-07-03T15:52:17.676160Z",
     "shell.execute_reply": "2023-07-03T15:52:17.675185Z"
    },
    "papermill": {
     "duration": 6.809507,
     "end_time": "2023-07-03T15:52:17.678558",
     "exception": false,
     "start_time": "2023-07-03T15:52:10.869051",
     "status": "completed"
    },
    "tags": []
   },
   "outputs": [
    {
     "name": "stdout",
     "output_type": "stream",
     "text": [
      "Model: \"model\"\n",
      "__________________________________________________________________________________________________\n",
      " Layer (type)                   Output Shape         Param #     Connected to                     \n",
      "==================================================================================================\n",
      " input_1 (InputLayer)           [(None, 128)]        0           []                               \n",
      "                                                                                                  \n",
      " input_2 (InputLayer)           [(None, 128)]        0           []                               \n",
      "                                                                                                  \n",
      " tf_bert_model (TFBertModel)    TFBaseModelOutputWi  109482240   ['input_1[0][0]',                \n",
      "                                thPoolingAndCrossAt               'input_2[0][0]']                \n",
      "                                tentions(last_hidde                                               \n",
      "                                n_state=(None, 128,                                               \n",
      "                                 768),                                                            \n",
      "                                 pooler_output=(Non                                               \n",
      "                                e, 768),                                                          \n",
      "                                 past_key_values=No                                               \n",
      "                                ne, hidden_states=N                                               \n",
      "                                one, attentions=Non                                               \n",
      "                                e, cross_attentions                                               \n",
      "                                =None)                                                            \n",
      "                                                                                                  \n",
      " dense (Dense)                  (None, 3)            2307        ['tf_bert_model[0][1]']          \n",
      "                                                                                                  \n",
      "==================================================================================================\n",
      "Total params: 109,484,547\n",
      "Trainable params: 109,484,547\n",
      "Non-trainable params: 0\n",
      "__________________________________________________________________________________________________\n"
     ]
    }
   ],
   "source": [
    "model = create_model(bert_model, MAX_LEN)\n",
    "model.summary()"
   ]
  },
  {
   "cell_type": "code",
   "execution_count": 79,
   "id": "4cf457a7",
   "metadata": {
    "execution": {
     "iopub.execute_input": "2023-07-03T15:52:17.810343Z",
     "iopub.status.busy": "2023-07-03T15:52:17.809255Z",
     "iopub.status.idle": "2023-07-03T16:41:59.151805Z",
     "shell.execute_reply": "2023-07-03T16:41:59.150775Z"
    },
    "papermill": {
     "duration": 2981.388753,
     "end_time": "2023-07-03T16:41:59.154542",
     "exception": false,
     "start_time": "2023-07-03T15:52:17.765789",
     "status": "completed"
    },
    "tags": []
   },
   "outputs": [
    {
     "name": "stdout",
     "output_type": "stream",
     "text": [
      "Epoch 1/4\n",
      "1520/1520 [==============================] - 759s 472ms/step - loss: 0.5669 - categorical_accuracy: 0.7679 - val_loss: 0.3614 - val_categorical_accuracy: 0.8720\n",
      "Epoch 2/4\n",
      "1520/1520 [==============================] - 722s 475ms/step - loss: 0.2907 - categorical_accuracy: 0.8995 - val_loss: 0.2594 - val_categorical_accuracy: 0.9058\n",
      "Epoch 3/4\n",
      "1520/1520 [==============================] - 721s 474ms/step - loss: 0.1945 - categorical_accuracy: 0.9336 - val_loss: 0.2709 - val_categorical_accuracy: 0.9043\n",
      "Epoch 4/4\n",
      "1520/1520 [==============================] - 721s 474ms/step - loss: 0.1333 - categorical_accuracy: 0.9556 - val_loss: 0.2247 - val_categorical_accuracy: 0.9319\n"
     ]
    }
   ],
   "source": [
    "history_bert = model.fit([train_input_ids,train_attention_masks], y_train, validation_data=([val_input_ids,val_attention_masks], y_valid), epochs=4, batch_size=32)"
   ]
  },
  {
   "cell_type": "markdown",
   "id": "933cce20",
   "metadata": {
    "papermill": {
     "duration": 0.498711,
     "end_time": "2023-07-03T16:42:00.150684",
     "exception": false,
     "start_time": "2023-07-03T16:41:59.651973",
     "status": "completed"
    },
    "tags": []
   },
   "source": [
    "**BERT result**"
   ]
  },
  {
   "cell_type": "code",
   "execution_count": 80,
   "id": "3095ddab",
   "metadata": {
    "execution": {
     "iopub.execute_input": "2023-07-03T16:42:01.146588Z",
     "iopub.status.busy": "2023-07-03T16:42:01.146205Z",
     "iopub.status.idle": "2023-07-03T16:42:24.640252Z",
     "shell.execute_reply": "2023-07-03T16:42:24.639046Z"
    },
    "papermill": {
     "duration": 23.996243,
     "end_time": "2023-07-03T16:42:24.642825",
     "exception": false,
     "start_time": "2023-07-03T16:42:00.646582",
     "status": "completed"
    },
    "tags": []
   },
   "outputs": [
    {
     "name": "stdout",
     "output_type": "stream",
     "text": [
      "119/119 [==============================] - 23s 166ms/step\n"
     ]
    }
   ],
   "source": [
    "result_bert = model.predict([test_input_ids,test_attention_masks])"
   ]
  },
  {
   "cell_type": "code",
   "execution_count": 81,
   "id": "1e780bbd",
   "metadata": {
    "execution": {
     "iopub.execute_input": "2023-07-03T16:42:25.726331Z",
     "iopub.status.busy": "2023-07-03T16:42:25.725948Z",
     "iopub.status.idle": "2023-07-03T16:42:25.731198Z",
     "shell.execute_reply": "2023-07-03T16:42:25.730162Z"
    },
    "papermill": {
     "duration": 0.523866,
     "end_time": "2023-07-03T16:42:25.733388",
     "exception": false,
     "start_time": "2023-07-03T16:42:25.209522",
     "status": "completed"
    },
    "tags": []
   },
   "outputs": [],
   "source": [
    "y_pred_bert =  np.zeros_like(result_bert)\n",
    "y_pred_bert[np.arange(len(y_pred_bert)), result_bert.argmax(1)] = 1"
   ]
  },
  {
   "cell_type": "code",
   "execution_count": 82,
   "id": "18793b87",
   "metadata": {
    "execution": {
     "iopub.execute_input": "2023-07-03T16:42:26.760769Z",
     "iopub.status.busy": "2023-07-03T16:42:26.760398Z",
     "iopub.status.idle": "2023-07-03T16:42:26.985018Z",
     "shell.execute_reply": "2023-07-03T16:42:26.984119Z"
    },
    "papermill": {
     "duration": 0.740903,
     "end_time": "2023-07-03T16:42:26.987091",
     "exception": false,
     "start_time": "2023-07-03T16:42:26.246188",
     "status": "completed"
    },
    "tags": []
   },
   "outputs": [
    {
     "data": {
      "image/png": "[encoded data removed]",
      "text/plain": [
       "<Figure size 500x500 with 1 Axes>"
      ]
     },
     "metadata": {},
     "output_type": "display_data"
    }
   ],
   "source": [
    "conf_matrix(y_test.argmax(1), y_pred_bert.argmax(1),'BERT Sentiment Analysis\\nConfusion Matrix')"
   ]
  },
  {
   "cell_type": "code",
   "execution_count": 83,
   "id": "d6319ce5",
   "metadata": {
    "execution": {
     "iopub.execute_input": "2023-07-03T16:42:28.084057Z",
     "iopub.status.busy": "2023-07-03T16:42:28.083694Z",
     "iopub.status.idle": "2023-07-03T16:42:28.107332Z",
     "shell.execute_reply": "2023-07-03T16:42:28.106345Z"
    },
    "papermill": {
     "duration": 0.537463,
     "end_time": "2023-07-03T16:42:28.109492",
     "exception": false,
     "start_time": "2023-07-03T16:42:27.572029",
     "status": "completed"
    },
    "tags": []
   },
   "outputs": [
    {
     "name": "stdout",
     "output_type": "stream",
     "text": [
      "\tClassification Report for BERT:\n",
      "\n",
      "               precision    recall  f1-score   support\n",
      "\n",
      "    Negative       0.88      0.92      0.90      1630\n",
      "     Neutral       0.81      0.80      0.80       616\n",
      "    Positive       0.92      0.88      0.90      1544\n",
      "\n",
      "   micro avg       0.88      0.88      0.88      3790\n",
      "   macro avg       0.87      0.86      0.87      3790\n",
      "weighted avg       0.88      0.88      0.88      3790\n",
      " samples avg       0.88      0.88      0.88      3790\n",
      "\n"
     ]
    }
   ],
   "source": [
    "print('\\tClassification Report for BERT:\\n\\n',classification_report(y_test,y_pred_bert, target_names=['Negative', 'Neutral', 'Positive']))"
   ]
  },
  {
   "cell_type": "markdown",
   "id": "bbdbf274",
   "metadata": {
    "papermill": {
     "duration": 0.514263,
     "end_time": "2023-07-03T16:42:29.138764",
     "exception": false,
     "start_time": "2023-07-03T16:42:28.624501",
     "status": "completed"
    },
    "tags": []
   },
   "source": [
    "**RoBERTa Sentement Analysis**"
   ]
  },
  {
   "cell_type": "code",
   "execution_count": 84,
   "id": "1f997212",
   "metadata": {
    "execution": {
     "iopub.execute_input": "2023-07-03T16:42:30.232102Z",
     "iopub.status.busy": "2023-07-03T16:42:30.231463Z",
     "iopub.status.idle": "2023-07-03T16:42:31.878564Z",
     "shell.execute_reply": "2023-07-03T16:42:31.877557Z"
    },
    "papermill": {
     "duration": 2.224957,
     "end_time": "2023-07-03T16:42:31.881290",
     "exception": false,
     "start_time": "2023-07-03T16:42:29.656333",
     "status": "completed"
    },
    "tags": []
   },
   "outputs": [
    {
     "data": {
      "application/vnd.jupyter.widget-view+json": {
       "model_id": "dc2aef49b4d441119c9eeb487d11ffd7",
       "version_major": 2,
       "version_minor": 0
      },
      "text/plain": [
       "Downloading (…)olve/main/vocab.json:   0%|          | 0.00/899k [00:00<?, ?B/s]"
      ]
     },
     "metadata": {},
     "output_type": "display_data"
    },
    {
     "data": {
      "application/vnd.jupyter.widget-view+json": {
       "model_id": "59c7c73c77824648ad1ba2a1b8921840",
       "version_major": 2,
       "version_minor": 0
      },
      "text/plain": [
       "Downloading (…)olve/main/merges.txt:   0%|          | 0.00/456k [00:00<?, ?B/s]"
      ]
     },
     "metadata": {},
     "output_type": "display_data"
    },
    {
     "data": {
      "application/vnd.jupyter.widget-view+json": {
       "model_id": "d76a13ff72e941bfa8e6531212a8f403",
       "version_major": 2,
       "version_minor": 0
      },
      "text/plain": [
       "Downloading (…)/main/tokenizer.json:   0%|          | 0.00/1.36M [00:00<?, ?B/s]"
      ]
     },
     "metadata": {},
     "output_type": "display_data"
    },
    {
     "data": {
      "application/vnd.jupyter.widget-view+json": {
       "model_id": "bb498c80a0f8419da35dec03545cb264",
       "version_major": 2,
       "version_minor": 0
      },
      "text/plain": [
       "Downloading (…)lve/main/config.json:   0%|          | 0.00/481 [00:00<?, ?B/s]"
      ]
     },
     "metadata": {},
     "output_type": "display_data"
    }
   ],
   "source": [
    "tokenizer_roberta = RobertaTokenizerFast.from_pretrained(\"roberta-base\")"
   ]
  },
  {
   "cell_type": "code",
   "execution_count": 85,
   "id": "14ea8ecc",
   "metadata": {
    "execution": {
     "iopub.execute_input": "2023-07-03T16:42:32.918665Z",
     "iopub.status.busy": "2023-07-03T16:42:32.918286Z",
     "iopub.status.idle": "2023-07-03T16:42:41.843018Z",
     "shell.execute_reply": "2023-07-03T16:42:41.841973Z"
    },
    "papermill": {
     "duration": 9.44375,
     "end_time": "2023-07-03T16:42:41.845086",
     "exception": false,
     "start_time": "2023-07-03T16:42:32.401336",
     "status": "completed"
    },
    "tags": []
   },
   "outputs": [
    {
     "data": {
      "text/plain": [
       "98"
      ]
     },
     "execution_count": 85,
     "metadata": {},
     "output_type": "execute_result"
    }
   ],
   "source": [
    "token_lens = []\n",
    "\n",
    "for txt in X_train:\n",
    "    tokens = tokenizer_roberta.encode(txt, max_length=512, truncation=True)\n",
    "    token_lens.append(len(tokens))\n",
    "max_length=np.max(token_lens)\n",
    "max_length"
   ]
  },
  {
   "cell_type": "code",
   "execution_count": 86,
   "id": "b1b9542a",
   "metadata": {
    "execution": {
     "iopub.execute_input": "2023-07-03T16:42:42.879175Z",
     "iopub.status.busy": "2023-07-03T16:42:42.878799Z",
     "iopub.status.idle": "2023-07-03T16:42:42.883303Z",
     "shell.execute_reply": "2023-07-03T16:42:42.882398Z"
    },
    "papermill": {
     "duration": 0.520844,
     "end_time": "2023-07-03T16:42:42.885240",
     "exception": false,
     "start_time": "2023-07-03T16:42:42.364396",
     "status": "completed"
    },
    "tags": []
   },
   "outputs": [],
   "source": [
    "MAX_LEN=128"
   ]
  },
  {
   "cell_type": "code",
   "execution_count": 87,
   "id": "e6739aee",
   "metadata": {
    "execution": {
     "iopub.execute_input": "2023-07-03T16:42:43.965660Z",
     "iopub.status.busy": "2023-07-03T16:42:43.965305Z",
     "iopub.status.idle": "2023-07-03T16:42:43.971667Z",
     "shell.execute_reply": "2023-07-03T16:42:43.970692Z"
    },
    "papermill": {
     "duration": 0.517726,
     "end_time": "2023-07-03T16:42:43.973607",
     "exception": false,
     "start_time": "2023-07-03T16:42:43.455881",
     "status": "completed"
    },
    "tags": []
   },
   "outputs": [],
   "source": [
    "def tokenize_roberta(data,max_len=MAX_LEN) :\n",
    "    input_ids = []\n",
    "    attention_masks = []\n",
    "    for i in range(len(data)):\n",
    "        encoded = tokenizer_roberta.encode_plus(\n",
    "            data[i],\n",
    "            add_special_tokens=True,\n",
    "            max_length=max_len,\n",
    "            padding='max_length',\n",
    "            return_attention_mask=True\n",
    "        )\n",
    "        input_ids.append(encoded['input_ids'])\n",
    "        attention_masks.append(encoded['attention_mask'])\n",
    "    return np.array(input_ids),np.array(attention_masks)"
   ]
  },
  {
   "cell_type": "code",
   "execution_count": 88,
   "id": "9be3882b",
   "metadata": {
    "execution": {
     "iopub.execute_input": "2023-07-03T16:42:44.991798Z",
     "iopub.status.busy": "2023-07-03T16:42:44.991434Z",
     "iopub.status.idle": "2023-07-03T16:42:59.495120Z",
     "shell.execute_reply": "2023-07-03T16:42:59.494124Z"
    },
    "papermill": {
     "duration": 15.01431,
     "end_time": "2023-07-03T16:42:59.497493",
     "exception": false,
     "start_time": "2023-07-03T16:42:44.483183",
     "status": "completed"
    },
    "tags": []
   },
   "outputs": [],
   "source": [
    "train_input_ids, train_attention_masks = tokenize_roberta(X_train, MAX_LEN)\n",
    "val_input_ids, val_attention_masks = tokenize_roberta(X_valid, MAX_LEN)\n",
    "test_input_ids, test_attention_masks = tokenize_roberta(X_test, MAX_LEN)"
   ]
  },
  {
   "cell_type": "markdown",
   "id": "9e0c1c7d",
   "metadata": {
    "papermill": {
     "duration": 0.508896,
     "end_time": "2023-07-03T16:43:00.576598",
     "exception": false,
     "start_time": "2023-07-03T16:43:00.067702",
     "status": "completed"
    },
    "tags": []
   },
   "source": [
    "**RoBERTa modeling**"
   ]
  },
  {
   "cell_type": "code",
   "execution_count": 89,
   "id": "4527c565",
   "metadata": {
    "execution": {
     "iopub.execute_input": "2023-07-03T16:43:01.659484Z",
     "iopub.status.busy": "2023-07-03T16:43:01.658961Z",
     "iopub.status.idle": "2023-07-03T16:43:01.668178Z",
     "shell.execute_reply": "2023-07-03T16:43:01.667205Z"
    },
    "papermill": {
     "duration": 0.585509,
     "end_time": "2023-07-03T16:43:01.670238",
     "exception": false,
     "start_time": "2023-07-03T16:43:01.084729",
     "status": "completed"
    },
    "tags": []
   },
   "outputs": [],
   "source": [
    "def create_model(bert_model, max_len=MAX_LEN):\n",
    "    \n",
    "    #opt = tf.keras.optimizers.Adam(learning_rate=1e-5, decay=1e-7)\n",
    "    #opt = tf.keras.optimizers.Adam(learning_rate=1e-5, learning_rate_schedule=tf.keras.optimizers.schedules.ExponentialDecay(1e-5, decay_steps=10000))\n",
    "    #opt = tf.keras.optimizers.Adam(learning_rate=1e-5, learning_rate_schedule=tf.keras.optimizers.schedules.ExponentialDecay(1e-5, decay_steps=10000, decay_rate=0.96))\n",
    "    opt = tf.keras.optimizers.Adam(learning_rate=1e-5)\n",
    "    loss = tf.keras.losses.CategoricalCrossentropy()\n",
    "    accuracy = tf.keras.metrics.CategoricalAccuracy()\n",
    "\n",
    "    input_ids = tf.keras.Input(shape=(max_len,),dtype='int32')\n",
    "    attention_masks = tf.keras.Input(shape=(max_len,),dtype='int32')\n",
    "    output = bert_model([input_ids,attention_masks])\n",
    "    output = output[1]\n",
    "    output = tf.keras.layers.Dense(3, activation=tf.nn.softmax)(output)\n",
    "    model = tf.keras.models.Model(inputs = [input_ids,attention_masks],outputs = output)\n",
    "    model.compile(opt, loss=loss, metrics=accuracy)\n",
    "    return model"
   ]
  },
  {
   "cell_type": "code",
   "execution_count": 90,
   "id": "4df73031",
   "metadata": {
    "execution": {
     "iopub.execute_input": "2023-07-03T16:43:02.754404Z",
     "iopub.status.busy": "2023-07-03T16:43:02.754015Z",
     "iopub.status.idle": "2023-07-03T16:43:06.637487Z",
     "shell.execute_reply": "2023-07-03T16:43:06.636554Z"
    },
    "papermill": {
     "duration": 4.458555,
     "end_time": "2023-07-03T16:43:06.639412",
     "exception": false,
     "start_time": "2023-07-03T16:43:02.180857",
     "status": "completed"
    },
    "tags": []
   },
   "outputs": [
    {
     "data": {
      "application/vnd.jupyter.widget-view+json": {
       "model_id": "5dd278192127494abdccb3fdc61760af",
       "version_major": 2,
       "version_minor": 0
      },
      "text/plain": [
       "Downloading model.safetensors:   0%|          | 0.00/499M [00:00<?, ?B/s]"
      ]
     },
     "metadata": {},
     "output_type": "display_data"
    },
    {
     "name": "stderr",
     "output_type": "stream",
     "text": [
      "Some weights of the PyTorch model were not used when initializing the TF 2.0 model TFRobertaModel: ['lm_head.bias', 'lm_head.dense.bias', 'roberta.embeddings.position_ids', 'lm_head.layer_norm.weight', 'lm_head.dense.weight', 'lm_head.layer_norm.bias']\n",
      "- This IS expected if you are initializing TFRobertaModel from a PyTorch model trained on another task or with another architecture (e.g. initializing a TFBertForSequenceClassification model from a BertForPreTraining model).\n",
      "- This IS NOT expected if you are initializing TFRobertaModel from a PyTorch model that you expect to be exactly identical (e.g. initializing a TFBertForSequenceClassification model from a BertForSequenceClassification model).\n",
      "Some weights or buffers of the TF 2.0 model TFRobertaModel were not initialized from the PyTorch model and are newly initialized: ['roberta.pooler.dense.weight', 'roberta.pooler.dense.bias']\n",
      "You should probably TRAIN this model on a down-stream task to be able to use it for predictions and inference.\n"
     ]
    }
   ],
   "source": [
    "roberta_model = TFRobertaModel.from_pretrained('roberta-base')\n"
   ]
  },
  {
   "cell_type": "code",
   "execution_count": 91,
   "id": "a5f6ac88",
   "metadata": {
    "execution": {
     "iopub.execute_input": "2023-07-03T16:43:07.688560Z",
     "iopub.status.busy": "2023-07-03T16:43:07.688151Z",
     "iopub.status.idle": "2023-07-03T16:43:12.692928Z",
     "shell.execute_reply": "2023-07-03T16:43:12.691773Z"
    },
    "papermill": {
     "duration": 5.524378,
     "end_time": "2023-07-03T16:43:12.697873",
     "exception": false,
     "start_time": "2023-07-03T16:43:07.173495",
     "status": "completed"
    },
    "tags": []
   },
   "outputs": [
    {
     "name": "stdout",
     "output_type": "stream",
     "text": [
      "Model: \"model_1\"\n",
      "__________________________________________________________________________________________________\n",
      " Layer (type)                   Output Shape         Param #     Connected to                     \n",
      "==================================================================================================\n",
      " input_3 (InputLayer)           [(None, 128)]        0           []                               \n",
      "                                                                                                  \n",
      " input_4 (InputLayer)           [(None, 128)]        0           []                               \n",
      "                                                                                                  \n",
      " tf_roberta_model (TFRobertaMod  TFBaseModelOutputWi  124645632  ['input_3[0][0]',                \n",
      " el)                            thPoolingAndCrossAt               'input_4[0][0]']                \n",
      "                                tentions(last_hidde                                               \n",
      "                                n_state=(None, 128,                                               \n",
      "                                 768),                                                            \n",
      "                                 pooler_output=(Non                                               \n",
      "                                e, 768),                                                          \n",
      "                                 past_key_values=No                                               \n",
      "                                ne, hidden_states=N                                               \n",
      "                                one, attentions=Non                                               \n",
      "                                e, cross_attentions                                               \n",
      "                                =None)                                                            \n",
      "                                                                                                  \n",
      " dense_1 (Dense)                (None, 3)            2307        ['tf_roberta_model[0][1]']       \n",
      "                                                                                                  \n",
      "==================================================================================================\n",
      "Total params: 124,647,939\n",
      "Trainable params: 124,647,939\n",
      "Non-trainable params: 0\n",
      "__________________________________________________________________________________________________\n"
     ]
    }
   ],
   "source": [
    "model = create_model(roberta_model, MAX_LEN)\n",
    "model.summary()"
   ]
  },
  {
   "cell_type": "code",
   "execution_count": 92,
   "id": "091b640d",
   "metadata": {
    "execution": {
     "iopub.execute_input": "2023-07-03T16:43:13.799811Z",
     "iopub.status.busy": "2023-07-03T16:43:13.799066Z",
     "iopub.status.idle": "2023-07-03T16:43:37.473944Z",
     "shell.execute_reply": "2023-07-03T16:43:37.472935Z"
    },
    "papermill": {
     "duration": 24.254869,
     "end_time": "2023-07-03T16:43:37.476368",
     "exception": false,
     "start_time": "2023-07-03T16:43:13.221499",
     "status": "completed"
    },
    "tags": []
   },
   "outputs": [
    {
     "name": "stdout",
     "output_type": "stream",
     "text": [
      "119/119 [==============================] - 24s 165ms/step\n"
     ]
    }
   ],
   "source": [
    "# RoBERTa result\n",
    "result_roberta = model.predict([test_input_ids,test_attention_masks])"
   ]
  },
  {
   "cell_type": "code",
   "execution_count": 93,
   "id": "fc160c5d",
   "metadata": {
    "execution": {
     "iopub.execute_input": "2023-07-03T16:43:38.522076Z",
     "iopub.status.busy": "2023-07-03T16:43:38.521725Z",
     "iopub.status.idle": "2023-07-03T16:43:38.527279Z",
     "shell.execute_reply": "2023-07-03T16:43:38.526206Z"
    },
    "papermill": {
     "duration": 0.532445,
     "end_time": "2023-07-03T16:43:38.529274",
     "exception": false,
     "start_time": "2023-07-03T16:43:37.996829",
     "status": "completed"
    },
    "tags": []
   },
   "outputs": [],
   "source": [
    "y_pred_roberta =  np.zeros_like(result_roberta)\n",
    "y_pred_roberta[np.arange(len(y_pred_roberta)), result_roberta.argmax(1)] = 1"
   ]
  },
  {
   "cell_type": "code",
   "execution_count": 94,
   "id": "b34f8351",
   "metadata": {
    "execution": {
     "iopub.execute_input": "2023-07-03T16:43:39.581769Z",
     "iopub.status.busy": "2023-07-03T16:43:39.581410Z",
     "iopub.status.idle": "2023-07-03T16:43:39.790015Z",
     "shell.execute_reply": "2023-07-03T16:43:39.789118Z"
    },
    "papermill": {
     "duration": 0.735047,
     "end_time": "2023-07-03T16:43:39.792041",
     "exception": false,
     "start_time": "2023-07-03T16:43:39.056994",
     "status": "completed"
    },
    "tags": []
   },
   "outputs": [
    {
     "data": {
      "image/png": "[encoded data removed]",
      "text/plain": [
       "<Figure size 500x500 with 1 Axes>"
      ]
     },
     "metadata": {},
     "output_type": "display_data"
    }
   ],
   "source": [
    "conf_matrix(y_test.argmax(1),y_pred_roberta.argmax(1),'RoBERTa Sentiment Analysis\\nConfusion Matrix')"
   ]
  },
  {
   "cell_type": "code",
   "execution_count": 95,
   "id": "0687ea8a",
   "metadata": {
    "execution": {
     "iopub.execute_input": "2023-07-03T16:43:41.360920Z",
     "iopub.status.busy": "2023-07-03T16:43:41.360462Z",
     "iopub.status.idle": "2023-07-03T16:43:41.403543Z",
     "shell.execute_reply": "2023-07-03T16:43:41.402650Z"
    },
    "papermill": {
     "duration": 0.817165,
     "end_time": "2023-07-03T16:43:41.405963",
     "exception": false,
     "start_time": "2023-07-03T16:43:40.588798",
     "status": "completed"
    },
    "tags": []
   },
   "outputs": [
    {
     "name": "stdout",
     "output_type": "stream",
     "text": [
      "\tClassification Report for RoBERTa:\n",
      "\n",
      "               precision    recall  f1-score   support\n",
      "\n",
      "    Negative       0.00      0.00      0.00      1630\n",
      "     Neutral       0.16      1.00      0.28       616\n",
      "    Positive       0.00      0.00      0.00      1544\n",
      "\n",
      "   micro avg       0.16      0.16      0.16      3790\n",
      "   macro avg       0.05      0.33      0.09      3790\n",
      "weighted avg       0.03      0.16      0.05      3790\n",
      " samples avg       0.16      0.16      0.16      3790\n",
      "\n"
     ]
    },
    {
     "name": "stderr",
     "output_type": "stream",
     "text": [
      "/opt/conda/lib/python3.10/site-packages/sklearn/metrics/_classification.py:1344: UndefinedMetricWarning: Precision and F-score are ill-defined and being set to 0.0 in labels with no predicted samples. Use `zero_division` parameter to control this behavior.\n",
      "  _warn_prf(average, modifier, msg_start, len(result))\n"
     ]
    }
   ],
   "source": [
    "print('\\tClassification Report for RoBERTa:\\n\\n',classification_report(y_test,y_pred_roberta, target_names=['Negative', 'Neutral', 'Positive']))"
   ]
  },
  {
   "cell_type": "markdown",
   "id": "173ab17f",
   "metadata": {
    "papermill": {
     "duration": 0.546006,
     "end_time": "2023-07-03T16:43:42.533382",
     "exception": false,
     "start_time": "2023-07-03T16:43:41.987376",
     "status": "completed"
    },
    "tags": []
   },
   "source": [
    "**Summery**"
   ]
  },
  {
   "cell_type": "markdown",
   "id": "ef3a7c65",
   "metadata": {
    "papermill": {
     "duration": 0.528089,
     "end_time": "2023-07-03T16:43:43.672563",
     "exception": false,
     "start_time": "2023-07-03T16:43:43.144474",
     "status": "completed"
    },
    "tags": []
   },
   "source": [
    "**BERT classification report**"
   ]
  },
  {
   "cell_type": "code",
   "execution_count": 96,
   "id": "b0d4f301",
   "metadata": {
    "execution": {
     "iopub.execute_input": "2023-07-03T16:43:44.727330Z",
     "iopub.status.busy": "2023-07-03T16:43:44.726950Z",
     "iopub.status.idle": "2023-07-03T16:43:44.748056Z",
     "shell.execute_reply": "2023-07-03T16:43:44.746579Z"
    },
    "papermill": {
     "duration": 0.554741,
     "end_time": "2023-07-03T16:43:44.749952",
     "exception": false,
     "start_time": "2023-07-03T16:43:44.195211",
     "status": "completed"
    },
    "tags": []
   },
   "outputs": [
    {
     "name": "stdout",
     "output_type": "stream",
     "text": [
      "Classification Report for BERT:\n",
      "               precision    recall  f1-score   support\n",
      "\n",
      "    Negative       0.88      0.92      0.90      1630\n",
      "     Neutral       0.81      0.80      0.80       616\n",
      "    Positive       0.92      0.88      0.90      1544\n",
      "\n",
      "   micro avg       0.88      0.88      0.88      3790\n",
      "   macro avg       0.87      0.86      0.87      3790\n",
      "weighted avg       0.88      0.88      0.88      3790\n",
      " samples avg       0.88      0.88      0.88      3790\n",
      "\n"
     ]
    }
   ],
   "source": [
    "print('Classification Report for BERT:\\n',classification_report(y_test,y_pred_bert, target_names=['Negative', 'Neutral', 'Positive']))"
   ]
  },
  {
   "cell_type": "markdown",
   "id": "aedee9ce",
   "metadata": {
    "papermill": {
     "duration": 0.587637,
     "end_time": "2023-07-03T16:43:45.865823",
     "exception": false,
     "start_time": "2023-07-03T16:43:45.278186",
     "status": "completed"
    },
    "tags": []
   },
   "source": [
    "**RoBARTa classification result**"
   ]
  },
  {
   "cell_type": "code",
   "execution_count": 97,
   "id": "b87116e6",
   "metadata": {
    "execution": {
     "iopub.execute_input": "2023-07-03T16:43:46.927639Z",
     "iopub.status.busy": "2023-07-03T16:43:46.926547Z",
     "iopub.status.idle": "2023-07-03T16:43:46.950611Z",
     "shell.execute_reply": "2023-07-03T16:43:46.949632Z"
    },
    "papermill": {
     "duration": 0.559026,
     "end_time": "2023-07-03T16:43:46.953699",
     "exception": false,
     "start_time": "2023-07-03T16:43:46.394673",
     "status": "completed"
    },
    "tags": []
   },
   "outputs": [
    {
     "name": "stdout",
     "output_type": "stream",
     "text": [
      "Classification Report for RoBERTa:\n",
      "               precision    recall  f1-score   support\n",
      "\n",
      "    Negative       0.00      0.00      0.00      1630\n",
      "     Neutral       0.16      1.00      0.28       616\n",
      "    Positive       0.00      0.00      0.00      1544\n",
      "\n",
      "   micro avg       0.16      0.16      0.16      3790\n",
      "   macro avg       0.05      0.33      0.09      3790\n",
      "weighted avg       0.03      0.16      0.05      3790\n",
      " samples avg       0.16      0.16      0.16      3790\n",
      "\n"
     ]
    },
    {
     "name": "stderr",
     "output_type": "stream",
     "text": [
      "/opt/conda/lib/python3.10/site-packages/sklearn/metrics/_classification.py:1344: UndefinedMetricWarning: Precision and F-score are ill-defined and being set to 0.0 in labels with no predicted samples. Use `zero_division` parameter to control this behavior.\n",
      "  _warn_prf(average, modifier, msg_start, len(result))\n"
     ]
    }
   ],
   "source": [
    "print('Classification Report for RoBERTa:\\n',classification_report(y_test,y_pred_roberta, target_names=['Negative', 'Neutral', 'Positive']))"
   ]
  },
  {
   "cell_type": "code",
   "execution_count": 98,
   "id": "473754c2",
   "metadata": {
    "execution": {
     "iopub.execute_input": "2023-07-03T16:43:48.070927Z",
     "iopub.status.busy": "2023-07-03T16:43:48.070558Z",
     "iopub.status.idle": "2023-07-03T16:43:48.470298Z",
     "shell.execute_reply": "2023-07-03T16:43:48.469144Z"
    },
    "papermill": {
     "duration": 0.991683,
     "end_time": "2023-07-03T16:43:48.472463",
     "exception": false,
     "start_time": "2023-07-03T16:43:47.480780",
     "status": "completed"
    },
    "tags": []
   },
   "outputs": [
    {
     "data": {
      "image/png": "[encoded data removed]",
      "text/plain": [
       "<Figure size 900x550 with 2 Axes>"
      ]
     },
     "metadata": {},
     "output_type": "display_data"
    }
   ],
   "source": [
    "fig, ax = plt.subplots(1,2,figsize=(9,5.5))\n",
    "\n",
    "labels = ['Negative', 'Neutral', 'Positive']\n",
    "plt.suptitle('Sentiment Analysis Comparison\\n Confusion Matrix', fontsize=20)\n",
    "\n",
    "\n",
    "sns.heatmap(confusion_matrix(y_test.argmax(1),y_pred_bert.argmax(1)), annot=True, cmap=\"Blues\", fmt='g', cbar=False, ax=ax[0], annot_kws={\"size\":25})\n",
    "\n",
    "ax[0].set_title('BERT Classifier', fontsize=20)\n",
    "ax[0].set_yticklabels(labels, fontsize=17);\n",
    "ax[0].set_xticklabels(labels, fontsize=17);\n",
    "ax[0].set_ylabel('Test', fontsize=20)\n",
    "ax[0].set_xlabel('Predicted', fontsize=20)\n",
    "\n",
    "sns.heatmap(confusion_matrix(y_test.argmax(1),y_pred_roberta.argmax(1)), annot=True, cmap=\"Blues\", fmt='g', cbar=False, ax=ax[1], annot_kws={\"size\":25})\n",
    "ax[1].set_title('RoBERTa Classifier', fontsize=20)\n",
    "ax[1].set_yticklabels(labels, fontsize=17);\n",
    "ax[1].set_xticklabels(labels, fontsize=17);\n",
    "ax[1].set_ylabel('Test', fontsize=20)\n",
    "ax[1].set_xlabel('Predicted', fontsize=20)\n",
    "plt.show()"
   ]
  },
  {
   "cell_type": "code",
   "execution_count": null,
   "id": "ff94eab1",
   "metadata": {
    "papermill": {
     "duration": 0.529521,
     "end_time": "2023-07-03T16:43:49.536700",
     "exception": false,
     "start_time": "2023-07-03T16:43:49.007179",
     "status": "completed"
    },
    "tags": []
   },
   "outputs": [],
   "source": []
  },
  {
   "cell_type": "code",
   "execution_count": null,
   "id": "88f5975b",
   "metadata": {
    "papermill": {
     "duration": 0.590757,
     "end_time": "2023-07-03T16:43:50.657576",
     "exception": false,
     "start_time": "2023-07-03T16:43:50.066819",
     "status": "completed"
    },
    "tags": []
   },
   "outputs": [],
   "source": []
  }
 ],
 "metadata": {
  "kernelspec": {
   "display_name": "Python 3",
   "language": "python",
   "name": "python3"
  },
  "language_info": {
   "codemirror_mode": {
    "name": "ipython",
    "version": 3
   },
   "file_extension": ".py",
   "mimetype": "text/x-python",
   "name": "python",
   "nbconvert_exporter": "python",
   "pygments_lexer": "ipython3",
   "version": "3.10.10"
  },
  "papermill": {
   "default_parameters": {},
   "duration": 3190.130725,
   "end_time": "2023-07-03T16:43:54.650379",
   "environment_variables": {},
   "exception": null,
   "input_path": "__notebook__.ipynb",
   "output_path": "__notebook__.ipynb",
   "parameters": {},
   "start_time": "2023-07-03T15:50:44.519654",
   "version": "2.4.0"
  },
  "widgets": {
   "application/vnd.jupyter.widget-state+json": {
    "state": {
     "00ac6bbb5f624cc5a2cfe125be8ff968": {
      "model_module": "@jupyter-widgets/base",
      "model_module_version": "1.2.0",
      "model_name": "LayoutModel",
      "state": {
       "_model_module": "@jupyter-widgets/base",
       "_model_module_version": "1.2.0",
       "_model_name": "LayoutModel",
       "_view_count": null,
       "_view_module": "@jupyter-widgets/base",
       "_view_module_version": "1.2.0",
       "_view_name": "LayoutView",
       "align_content": null,
       "align_items": null,
       "align_self": null,
       "border": null,
       "bottom": null,
       "display": null,
       "flex": null,
       "flex_flow": null,
       "grid_area": null,
       "grid_auto_columns": null,
       "grid_auto_flow": null,
       "grid_auto_rows": null,
       "grid_column": null,
       "grid_gap": null,
       "grid_row": null,
       "grid_template_areas": null,
       "grid_template_columns": null,
       "grid_template_rows": null,
       "height": null,
       "justify_content": null,
       "justify_items": null,
       "left": null,
       "margin": null,
       "max_height": null,
       "max_width": null,
       "min_height": null,
       "min_width": null,
       "object_fit": null,
       "object_position": null,
       "order": null,
       "overflow": null,
       "overflow_x": null,
       "overflow_y": null,
       "padding": null,
       "right": null,
       "top": null,
       "visibility": null,
       "width": null
      }
     },
     "00f5a7a44b404250b375cf4997b8be42": {
      "model_module": "@jupyter-widgets/base",
      "model_module_version": "1.2.0",
      "model_name": "LayoutModel",
      "state": {
       "_model_module": "@jupyter-widgets/base",
       "_model_module_version": "1.2.0",
       "_model_name": "LayoutModel",
       "_view_count": null,
       "_view_module": "@jupyter-widgets/base",
       "_view_module_version": "1.2.0",
       "_view_name": "LayoutView",
       "align_content": null,
       "align_items": null,
       "align_self": null,
       "border": null,
       "bottom": null,
       "display": null,
       "flex": null,
       "flex_flow": null,
       "grid_area": null,
       "grid_auto_columns": null,
       "grid_auto_flow": null,
       "grid_auto_rows": null,
       "grid_column": null,
       "grid_gap": null,
       "grid_row": null,
       "grid_template_areas": null,
       "grid_template_columns": null,
       "grid_template_rows": null,
       "height": null,
       "justify_content": null,
       "justify_items": null,
       "left": null,
       "margin": null,
       "max_height": null,
       "max_width": null,
       "min_height": null,
       "min_width": null,
       "object_fit": null,
       "object_position": null,
       "order": null,
       "overflow": null,
       "overflow_x": null,
       "overflow_y": null,
       "padding": null,
       "right": null,
       "top": null,
       "visibility": null,
       "width": null
      }
     },
     "02085bb3e8334cf28a35fc0a6daa48ee": {
      "model_module": "@jupyter-widgets/controls",
      "model_module_version": "1.5.0",
      "model_name": "HTMLModel",
      "state": {
       "_dom_classes": [],
       "_model_module": "@jupyter-widgets/controls",
       "_model_module_version": "1.5.0",
       "_model_name": "HTMLModel",
       "_view_count": null,
       "_view_module": "@jupyter-widgets/controls",
       "_view_module_version": "1.5.0",
       "_view_name": "HTMLView",
       "description": "",
       "description_tooltip": null,
       "layout": "IPY_MODEL_547fbd8b1afb403f96a4d2787e364a11",
       "placeholder": "​",
       "style": "IPY_MODEL_ab74b8b3065e4abba5b51cb07ae5a1a7",
       "value": " 232k/232k [00:00&lt;00:00, 1.92MB/s]"
      }
     },
     "0713c33c98184242bae6e194352c0e88": {
      "model_module": "@jupyter-widgets/controls",
      "model_module_version": "1.5.0",
      "model_name": "ProgressStyleModel",
      "state": {
       "_model_module": "@jupyter-widgets/controls",
       "_model_module_version": "1.5.0",
       "_model_name": "ProgressStyleModel",
       "_view_count": null,
       "_view_module": "@jupyter-widgets/base",
       "_view_module_version": "1.2.0",
       "_view_name": "StyleView",
       "bar_color": null,
       "description_width": ""
      }
     },
     "08ce678afd044980ab42ceeb9c397f19": {
      "model_module": "@jupyter-widgets/base",
      "model_module_version": "1.2.0",
      "model_name": "LayoutModel",
      "state": {
       "_model_module": "@jupyter-widgets/base",
       "_model_module_version": "1.2.0",
       "_model_name": "LayoutModel",
       "_view_count": null,
       "_view_module": "@jupyter-widgets/base",
       "_view_module_version": "1.2.0",
       "_view_name": "LayoutView",
       "align_content": null,
       "align_items": null,
       "align_self": null,
       "border": null,
       "bottom": null,
       "display": null,
       "flex": null,
       "flex_flow": null,
       "grid_area": null,
       "grid_auto_columns": null,
       "grid_auto_flow": null,
       "grid_auto_rows": null,
       "grid_column": null,
       "grid_gap": null,
       "grid_row": null,
       "grid_template_areas": null,
       "grid_template_columns": null,
       "grid_template_rows": null,
       "height": null,
       "justify_content": null,
       "justify_items": null,
       "left": null,
       "margin": null,
       "max_height": null,
       "max_width": null,
       "min_height": null,
       "min_width": null,
       "object_fit": null,
       "object_position": null,
       "order": null,
       "overflow": null,
       "overflow_x": null,
       "overflow_y": null,
       "padding": null,
       "right": null,
       "top": null,
       "visibility": null,
       "width": null
      }
     },
     "0a11bf9bba604b5c8a1808202f4930f5": {
      "model_module": "@jupyter-widgets/controls",
      "model_module_version": "1.5.0",
      "model_name": "DescriptionStyleModel",
      "state": {
       "_model_module": "@jupyter-widgets/controls",
       "_model_module_version": "1.5.0",
       "_model_name": "DescriptionStyleModel",
       "_view_count": null,
       "_view_module": "@jupyter-widgets/base",
       "_view_module_version": "1.2.0",
       "_view_name": "StyleView",
       "description_width": ""
      }
     },
     "0ed9308f8f50466aae76bc825c9b615b": {
      "model_module": "@jupyter-widgets/controls",
      "model_module_version": "1.5.0",
      "model_name": "DescriptionStyleModel",
      "state": {
       "_model_module": "@jupyter-widgets/controls",
       "_model_module_version": "1.5.0",
       "_model_name": "DescriptionStyleModel",
       "_view_count": null,
       "_view_module": "@jupyter-widgets/base",
       "_view_module_version": "1.2.0",
       "_view_name": "StyleView",
       "description_width": ""
      }
     },
     "10fdece3b5ee48198b0942279c0a799a": {
      "model_module": "@jupyter-widgets/controls",
      "model_module_version": "1.5.0",
      "model_name": "HTMLModel",
      "state": {
       "_dom_classes": [],
       "_model_module": "@jupyter-widgets/controls",
       "_model_module_version": "1.5.0",
       "_model_name": "HTMLModel",
       "_view_count": null,
       "_view_module": "@jupyter-widgets/controls",
       "_view_module_version": "1.5.0",
       "_view_name": "HTMLView",
       "description": "",
       "description_tooltip": null,
       "layout": "IPY_MODEL_532a484e51734d8aabd6368b34a9a1e4",
       "placeholder": "​",
       "style": "IPY_MODEL_638bb543f949405fb7677cc08d1a4764",
       "value": "Downloading model.safetensors: 100%"
      }
     },
     "1a014da8b12247fc8cf9a67d629dfce8": {
      "model_module": "@jupyter-widgets/base",
      "model_module_version": "1.2.0",
      "model_name": "LayoutModel",
      "state": {
       "_model_module": "@jupyter-widgets/base",
       "_model_module_version": "1.2.0",
       "_model_name": "LayoutModel",
       "_view_count": null,
       "_view_module": "@jupyter-widgets/base",
       "_view_module_version": "1.2.0",
       "_view_name": "LayoutView",
       "align_content": null,
       "align_items": null,
       "align_self": null,
       "border": null,
       "bottom": null,
       "display": null,
       "flex": null,
       "flex_flow": null,
       "grid_area": null,
       "grid_auto_columns": null,
       "grid_auto_flow": null,
       "grid_auto_rows": null,
       "grid_column": null,
       "grid_gap": null,
       "grid_row": null,
       "grid_template_areas": null,
       "grid_template_columns": null,
       "grid_template_rows": null,
       "height": null,
       "justify_content": null,
       "justify_items": null,
       "left": null,
       "margin": null,
       "max_height": null,
       "max_width": null,
       "min_height": null,
       "min_width": null,
       "object_fit": null,
       "object_position": null,
       "order": null,
       "overflow": null,
       "overflow_x": null,
       "overflow_y": null,
       "padding": null,
       "right": null,
       "top": null,
       "visibility": null,
       "width": null
      }
     },
     "1af0f7ec724645bda407d2d0c47097bf": {
      "model_module": "@jupyter-widgets/controls",
      "model_module_version": "1.5.0",
      "model_name": "FloatProgressModel",
      "state": {
       "_dom_classes": [],
       "_model_module": "@jupyter-widgets/controls",
       "_model_module_version": "1.5.0",
       "_model_name": "FloatProgressModel",
       "_view_count": null,
       "_view_module": "@jupyter-widgets/controls",
       "_view_module_version": "1.5.0",
       "_view_name": "ProgressView",
       "bar_style": "success",
       "description": "",
       "description_tooltip": null,
       "layout": "IPY_MODEL_7fa9bfcb297548059a5e5ea5ae0246d8",
       "max": 498818054.0,
       "min": 0.0,
       "orientation": "horizontal",
       "style": "IPY_MODEL_e93fe26976944589adf11a186c40b70a",
       "value": 498818054.0
      }
     },
     "1cf6f83ad4ab480abd315416dba01ecd": {
      "model_module": "@jupyter-widgets/controls",
      "model_module_version": "1.5.0",
      "model_name": "DescriptionStyleModel",
      "state": {
       "_model_module": "@jupyter-widgets/controls",
       "_model_module_version": "1.5.0",
       "_model_name": "DescriptionStyleModel",
       "_view_count": null,
       "_view_module": "@jupyter-widgets/base",
       "_view_module_version": "1.2.0",
       "_view_name": "StyleView",
       "description_width": ""
      }
     },
     "20250ca29eb247fab9aca8563868b6a5": {
      "model_module": "@jupyter-widgets/controls",
      "model_module_version": "1.5.0",
      "model_name": "ProgressStyleModel",
      "state": {
       "_model_module": "@jupyter-widgets/controls",
       "_model_module_version": "1.5.0",
       "_model_name": "ProgressStyleModel",
       "_view_count": null,
       "_view_module": "@jupyter-widgets/base",
       "_view_module_version": "1.2.0",
       "_view_name": "StyleView",
       "bar_color": null,
       "description_width": ""
      }
     },
     "22191d1a65cb44f088febb996e089306": {
      "model_module": "@jupyter-widgets/base",
      "model_module_version": "1.2.0",
      "model_name": "LayoutModel",
      "state": {
       "_model_module": "@jupyter-widgets/base",
       "_model_module_version": "1.2.0",
       "_model_name": "LayoutModel",
       "_view_count": null,
       "_view_module": "@jupyter-widgets/base",
       "_view_module_version": "1.2.0",
       "_view_name": "LayoutView",
       "align_content": null,
       "align_items": null,
       "align_self": null,
       "border": null,
       "bottom": null,
       "display": null,
       "flex": null,
       "flex_flow": null,
       "grid_area": null,
       "grid_auto_columns": null,
       "grid_auto_flow": null,
       "grid_auto_rows": null,
       "grid_column": null,
       "grid_gap": null,
       "grid_row": null,
       "grid_template_areas": null,
       "grid_template_columns": null,
       "grid_template_rows": null,
       "height": null,
       "justify_content": null,
       "justify_items": null,
       "left": null,
       "margin": null,
       "max_height": null,
       "max_width": null,
       "min_height": null,
       "min_width": null,
       "object_fit": null,
       "object_position": null,
       "order": null,
       "overflow": null,
       "overflow_x": null,
       "overflow_y": null,
       "padding": null,
       "right": null,
       "top": null,
       "visibility": null,
       "width": null
      }
     },
     "276ebca2fee04f9080c4ace2400ee3d5": {
      "model_module": "@jupyter-widgets/controls",
      "model_module_version": "1.5.0",
      "model_name": "HTMLModel",
      "state": {
       "_dom_classes": [],
       "_model_module": "@jupyter-widgets/controls",
       "_model_module_version": "1.5.0",
       "_model_name": "HTMLModel",
       "_view_count": null,
       "_view_module": "@jupyter-widgets/controls",
       "_view_module_version": "1.5.0",
       "_view_name": "HTMLView",
       "description": "",
       "description_tooltip": null,
       "layout": "IPY_MODEL_ee3a11d9750f42b0b78d6b98bca8ebf9",
       "placeholder": "​",
       "style": "IPY_MODEL_0ed9308f8f50466aae76bc825c9b615b",
       "value": "Downloading (…)/main/tokenizer.json: 100%"
      }
     },
     "2809af0e2ae141df816a820559ae4132": {
      "model_module": "@jupyter-widgets/base",
      "model_module_version": "1.2.0",
      "model_name": "LayoutModel",
      "state": {
       "_model_module": "@jupyter-widgets/base",
       "_model_module_version": "1.2.0",
       "_model_name": "LayoutModel",
       "_view_count": null,
       "_view_module": "@jupyter-widgets/base",
       "_view_module_version": "1.2.0",
       "_view_name": "LayoutView",
       "align_content": null,
       "align_items": null,
       "align_self": null,
       "border": null,
       "bottom": null,
       "display": null,
       "flex": null,
       "flex_flow": null,
       "grid_area": null,
       "grid_auto_columns": null,
       "grid_auto_flow": null,
       "grid_auto_rows": null,
       "grid_column": null,
       "grid_gap": null,
       "grid_row": null,
       "grid_template_areas": null,
       "grid_template_columns": null,
       "grid_template_rows": null,
       "height": null,
       "justify_content": null,
       "justify_items": null,
       "left": null,
       "margin": null,
       "max_height": null,
       "max_width": null,
       "min_height": null,
       "min_width": null,
       "object_fit": null,
       "object_position": null,
       "order": null,
       "overflow": null,
       "overflow_x": null,
       "overflow_y": null,
       "padding": null,
       "right": null,
       "top": null,
       "visibility": null,
       "width": null
      }
     },
     "2bb5f2895da94cac93562dc531d6d8ec": {
      "model_module": "@jupyter-widgets/base",
      "model_module_version": "1.2.0",
      "model_name": "LayoutModel",
      "state": {
       "_model_module": "@jupyter-widgets/base",
       "_model_module_version": "1.2.0",
       "_model_name": "LayoutModel",
       "_view_count": null,
       "_view_module": "@jupyter-widgets/base",
       "_view_module_version": "1.2.0",
       "_view_name": "LayoutView",
       "align_content": null,
       "align_items": null,
       "align_self": null,
       "border": null,
       "bottom": null,
       "display": null,
       "flex": null,
       "flex_flow": null,
       "grid_area": null,
       "grid_auto_columns": null,
       "grid_auto_flow": null,
       "grid_auto_rows": null,
       "grid_column": null,
       "grid_gap": null,
       "grid_row": null,
       "grid_template_areas": null,
       "grid_template_columns": null,
       "grid_template_rows": null,
       "height": null,
       "justify_content": null,
       "justify_items": null,
       "left": null,
       "margin": null,
       "max_height": null,
       "max_width": null,
       "min_height": null,
       "min_width": null,
       "object_fit": null,
       "object_position": null,
       "order": null,
       "overflow": null,
       "overflow_x": null,
       "overflow_y": null,
       "padding": null,
       "right": null,
       "top": null,
       "visibility": null,
       "width": null
      }
     },
     "2c0a98d1349d4081b5444ff93ef02f4d": {
      "model_module": "@jupyter-widgets/base",
      "model_module_version": "1.2.0",
      "model_name": "LayoutModel",
      "state": {
       "_model_module": "@jupyter-widgets/base",
       "_model_module_version": "1.2.0",
       "_model_name": "LayoutModel",
       "_view_count": null,
       "_view_module": "@jupyter-widgets/base",
       "_view_module_version": "1.2.0",
       "_view_name": "LayoutView",
       "align_content": null,
       "align_items": null,
       "align_self": null,
       "border": null,
       "bottom": null,
       "display": null,
       "flex": null,
       "flex_flow": null,
       "grid_area": null,
       "grid_auto_columns": null,
       "grid_auto_flow": null,
       "grid_auto_rows": null,
       "grid_column": null,
       "grid_gap": null,
       "grid_row": null,
       "grid_template_areas": null,
       "grid_template_columns": null,
       "grid_template_rows": null,
       "height": null,
       "justify_content": null,
       "justify_items": null,
       "left": null,
       "margin": null,
       "max_height": null,
       "max_width": null,
       "min_height": null,
       "min_width": null,
       "object_fit": null,
       "object_position": null,
       "order": null,
       "overflow": null,
       "overflow_x": null,
       "overflow_y": null,
       "padding": null,
       "right": null,
       "top": null,
       "visibility": null,
       "width": null
      }
     },
     "2c300b6a41d4423ebdc6a9357a9b0ce6": {
      "model_module": "@jupyter-widgets/controls",
      "model_module_version": "1.5.0",
      "model_name": "DescriptionStyleModel",
      "state": {
       "_model_module": "@jupyter-widgets/controls",
       "_model_module_version": "1.5.0",
       "_model_name": "DescriptionStyleModel",
       "_view_count": null,
       "_view_module": "@jupyter-widgets/base",
       "_view_module_version": "1.2.0",
       "_view_name": "StyleView",
       "description_width": ""
      }
     },
     "2f0efe1eb0bd4ca4b55d39cb84426b7f": {
      "model_module": "@jupyter-widgets/base",
      "model_module_version": "1.2.0",
      "model_name": "LayoutModel",
      "state": {
       "_model_module": "@jupyter-widgets/base",
       "_model_module_version": "1.2.0",
       "_model_name": "LayoutModel",
       "_view_count": null,
       "_view_module": "@jupyter-widgets/base",
       "_view_module_version": "1.2.0",
       "_view_name": "LayoutView",
       "align_content": null,
       "align_items": null,
       "align_self": null,
       "border": null,
       "bottom": null,
       "display": null,
       "flex": null,
       "flex_flow": null,
       "grid_area": null,
       "grid_auto_columns": null,
       "grid_auto_flow": null,
       "grid_auto_rows": null,
       "grid_column": null,
       "grid_gap": null,
       "grid_row": null,
       "grid_template_areas": null,
       "grid_template_columns": null,
       "grid_template_rows": null,
       "height": null,
       "justify_content": null,
       "justify_items": null,
       "left": null,
       "margin": null,
       "max_height": null,
       "max_width": null,
       "min_height": null,
       "min_width": null,
       "object_fit": null,
       "object_position": null,
       "order": null,
       "overflow": null,
       "overflow_x": null,
       "overflow_y": null,
       "padding": null,
       "right": null,
       "top": null,
       "visibility": null,
       "width": null
      }
     },
     "2f2aef5a2c6f47b5b0a7338f239c6390": {
      "model_module": "@jupyter-widgets/controls",
      "model_module_version": "1.5.0",
      "model_name": "DescriptionStyleModel",
      "state": {
       "_model_module": "@jupyter-widgets/controls",
       "_model_module_version": "1.5.0",
       "_model_name": "DescriptionStyleModel",
       "_view_count": null,
       "_view_module": "@jupyter-widgets/base",
       "_view_module_version": "1.2.0",
       "_view_name": "StyleView",
       "description_width": ""
      }
     },
     "30049b13ed42423b970ea8229e860f12": {
      "model_module": "@jupyter-widgets/base",
      "model_module_version": "1.2.0",
      "model_name": "LayoutModel",
      "state": {
       "_model_module": "@jupyter-widgets/base",
       "_model_module_version": "1.2.0",
       "_model_name": "LayoutModel",
       "_view_count": null,
       "_view_module": "@jupyter-widgets/base",
       "_view_module_version": "1.2.0",
       "_view_name": "LayoutView",
       "align_content": null,
       "align_items": null,
       "align_self": null,
       "border": null,
       "bottom": null,
       "display": null,
       "flex": null,
       "flex_flow": null,
       "grid_area": null,
       "grid_auto_columns": null,
       "grid_auto_flow": null,
       "grid_auto_rows": null,
       "grid_column": null,
       "grid_gap": null,
       "grid_row": null,
       "grid_template_areas": null,
       "grid_template_columns": null,
       "grid_template_rows": null,
       "height": null,
       "justify_content": null,
       "justify_items": null,
       "left": null,
       "margin": null,
       "max_height": null,
       "max_width": null,
       "min_height": null,
       "min_width": null,
       "object_fit": null,
       "object_position": null,
       "order": null,
       "overflow": null,
       "overflow_x": null,
       "overflow_y": null,
       "padding": null,
       "right": null,
       "top": null,
       "visibility": null,
       "width": null
      }
     },
     "310c8d28dd7b4bcbb99aa5a571ac62d4": {
      "model_module": "@jupyter-widgets/controls",
      "model_module_version": "1.5.0",
      "model_name": "HTMLModel",
      "state": {
       "_dom_classes": [],
       "_model_module": "@jupyter-widgets/controls",
       "_model_module_version": "1.5.0",
       "_model_name": "HTMLModel",
       "_view_count": null,
       "_view_module": "@jupyter-widgets/controls",
       "_view_module_version": "1.5.0",
       "_view_name": "HTMLView",
       "description": "",
       "description_tooltip": null,
       "layout": "IPY_MODEL_62e07d5d50b949748b188c608d9e9f80",
       "placeholder": "​",
       "style": "IPY_MODEL_1cf6f83ad4ab480abd315416dba01ecd",
       "value": "Downloading (…)/main/tokenizer.json: 100%"
      }
     },
     "313d30a2956843d1ae9e3a942c8fe2ec": {
      "model_module": "@jupyter-widgets/controls",
      "model_module_version": "1.5.0",
      "model_name": "DescriptionStyleModel",
      "state": {
       "_model_module": "@jupyter-widgets/controls",
       "_model_module_version": "1.5.0",
       "_model_name": "DescriptionStyleModel",
       "_view_count": null,
       "_view_module": "@jupyter-widgets/base",
       "_view_module_version": "1.2.0",
       "_view_name": "StyleView",
       "description_width": ""
      }
     },
     "3332f76871d548d4b2beebebf7cd3fac": {
      "model_module": "@jupyter-widgets/controls",
      "model_module_version": "1.5.0",
      "model_name": "DescriptionStyleModel",
      "state": {
       "_model_module": "@jupyter-widgets/controls",
       "_model_module_version": "1.5.0",
       "_model_name": "DescriptionStyleModel",
       "_view_count": null,
       "_view_module": "@jupyter-widgets/base",
       "_view_module_version": "1.2.0",
       "_view_name": "StyleView",
       "description_width": ""
      }
     },
     "3e122652bd7b48969a77e7721fa41124": {
      "model_module": "@jupyter-widgets/base",
      "model_module_version": "1.2.0",
      "model_name": "LayoutModel",
      "state": {
       "_model_module": "@jupyter-widgets/base",
       "_model_module_version": "1.2.0",
       "_model_name": "LayoutModel",
       "_view_count": null,
       "_view_module": "@jupyter-widgets/base",
       "_view_module_version": "1.2.0",
       "_view_name": "LayoutView",
       "align_content": null,
       "align_items": null,
       "align_self": null,
       "border": null,
       "bottom": null,
       "display": null,
       "flex": null,
       "flex_flow": null,
       "grid_area": null,
       "grid_auto_columns": null,
       "grid_auto_flow": null,
       "grid_auto_rows": null,
       "grid_column": null,
       "grid_gap": null,
       "grid_row": null,
       "grid_template_areas": null,
       "grid_template_columns": null,
       "grid_template_rows": null,
       "height": null,
       "justify_content": null,
       "justify_items": null,
       "left": null,
       "margin": null,
       "max_height": null,
       "max_width": null,
       "min_height": null,
       "min_width": null,
       "object_fit": null,
       "object_position": null,
       "order": null,
       "overflow": null,
       "overflow_x": null,
       "overflow_y": null,
       "padding": null,
       "right": null,
       "top": null,
       "visibility": null,
       "width": null
      }
     },
     "42118506bb9b4b4f8ece9828ecc0faa7": {
      "model_module": "@jupyter-widgets/base",
      "model_module_version": "1.2.0",
      "model_name": "LayoutModel",
      "state": {
       "_model_module": "@jupyter-widgets/base",
       "_model_module_version": "1.2.0",
       "_model_name": "LayoutModel",
       "_view_count": null,
       "_view_module": "@jupyter-widgets/base",
       "_view_module_version": "1.2.0",
       "_view_name": "LayoutView",
       "align_content": null,
       "align_items": null,
       "align_self": null,
       "border": null,
       "bottom": null,
       "display": null,
       "flex": null,
       "flex_flow": null,
       "grid_area": null,
       "grid_auto_columns": null,
       "grid_auto_flow": null,
       "grid_auto_rows": null,
       "grid_column": null,
       "grid_gap": null,
       "grid_row": null,
       "grid_template_areas": null,
       "grid_template_columns": null,
       "grid_template_rows": null,
       "height": null,
       "justify_content": null,
       "justify_items": null,
       "left": null,
       "margin": null,
       "max_height": null,
       "max_width": null,
       "min_height": null,
       "min_width": null,
       "object_fit": null,
       "object_position": null,
       "order": null,
       "overflow": null,
       "overflow_x": null,
       "overflow_y": null,
       "padding": null,
       "right": null,
       "top": null,
       "visibility": null,
       "width": null
      }
     },
     "46ca05ec4cbc407d895c0b7f1afdf867": {
      "model_module": "@jupyter-widgets/base",
      "model_module_version": "1.2.0",
      "model_name": "LayoutModel",
      "state": {
       "_model_module": "@jupyter-widgets/base",
       "_model_module_version": "1.2.0",
       "_model_name": "LayoutModel",
       "_view_count": null,
       "_view_module": "@jupyter-widgets/base",
       "_view_module_version": "1.2.0",
       "_view_name": "LayoutView",
       "align_content": null,
       "align_items": null,
       "align_self": null,
       "border": null,
       "bottom": null,
       "display": null,
       "flex": null,
       "flex_flow": null,
       "grid_area": null,
       "grid_auto_columns": null,
       "grid_auto_flow": null,
       "grid_auto_rows": null,
       "grid_column": null,
       "grid_gap": null,
       "grid_row": null,
       "grid_template_areas": null,
       "grid_template_columns": null,
       "grid_template_rows": null,
       "height": null,
       "justify_content": null,
       "justify_items": null,
       "left": null,
       "margin": null,
       "max_height": null,
       "max_width": null,
       "min_height": null,
       "min_width": null,
       "object_fit": null,
       "object_position": null,
       "order": null,
       "overflow": null,
       "overflow_x": null,
       "overflow_y": null,
       "padding": null,
       "right": null,
       "top": null,
       "visibility": null,
       "width": null
      }
     },
     "48f0e69e345c442080f1eaec262c8f82": {
      "model_module": "@jupyter-widgets/controls",
      "model_module_version": "1.5.0",
      "model_name": "FloatProgressModel",
      "state": {
       "_dom_classes": [],
       "_model_module": "@jupyter-widgets/controls",
       "_model_module_version": "1.5.0",
       "_model_name": "FloatProgressModel",
       "_view_count": null,
       "_view_module": "@jupyter-widgets/controls",
       "_view_module_version": "1.5.0",
       "_view_name": "ProgressView",
       "bar_style": "success",
       "description": "",
       "description_tooltip": null,
       "layout": "IPY_MODEL_46ca05ec4cbc407d895c0b7f1afdf867",
       "max": 898823.0,
       "min": 0.0,
       "orientation": "horizontal",
       "style": "IPY_MODEL_0713c33c98184242bae6e194352c0e88",
       "value": 898823.0
      }
     },
     "4ad1ee0ffb38408fbc8c2072030ec642": {
      "model_module": "@jupyter-widgets/base",
      "model_module_version": "1.2.0",
      "model_name": "LayoutModel",
      "state": {
       "_model_module": "@jupyter-widgets/base",
       "_model_module_version": "1.2.0",
       "_model_name": "LayoutModel",
       "_view_count": null,
       "_view_module": "@jupyter-widgets/base",
       "_view_module_version": "1.2.0",
       "_view_name": "LayoutView",
       "align_content": null,
       "align_items": null,
       "align_self": null,
       "border": null,
       "bottom": null,
       "display": null,
       "flex": null,
       "flex_flow": null,
       "grid_area": null,
       "grid_auto_columns": null,
       "grid_auto_flow": null,
       "grid_auto_rows": null,
       "grid_column": null,
       "grid_gap": null,
       "grid_row": null,
       "grid_template_areas": null,
       "grid_template_columns": null,
       "grid_template_rows": null,
       "height": null,
       "justify_content": null,
       "justify_items": null,
       "left": null,
       "margin": null,
       "max_height": null,
       "max_width": null,
       "min_height": null,
       "min_width": null,
       "object_fit": null,
       "object_position": null,
       "order": null,
       "overflow": null,
       "overflow_x": null,
       "overflow_y": null,
       "padding": null,
       "right": null,
       "top": null,
       "visibility": null,
       "width": null
      }
     },
     "532a484e51734d8aabd6368b34a9a1e4": {
      "model_module": "@jupyter-widgets/base",
      "model_module_version": "1.2.0",
      "model_name": "LayoutModel",
      "state": {
       "_model_module": "@jupyter-widgets/base",
       "_model_module_version": "1.2.0",
       "_model_name": "LayoutModel",
       "_view_count": null,
       "_view_module": "@jupyter-widgets/base",
       "_view_module_version": "1.2.0",
       "_view_name": "LayoutView",
       "align_content": null,
       "align_items": null,
       "align_self": null,
       "border": null,
       "bottom": null,
       "display": null,
       "flex": null,
       "flex_flow": null,
       "grid_area": null,
       "grid_auto_columns": null,
       "grid_auto_flow": null,
       "grid_auto_rows": null,
       "grid_column": null,
       "grid_gap": null,
       "grid_row": null,
       "grid_template_areas": null,
       "grid_template_columns": null,
       "grid_template_rows": null,
       "height": null,
       "justify_content": null,
       "justify_items": null,
       "left": null,
       "margin": null,
       "max_height": null,
       "max_width": null,
       "min_height": null,
       "min_width": null,
       "object_fit": null,
       "object_position": null,
       "order": null,
       "overflow": null,
       "overflow_x": null,
       "overflow_y": null,
       "padding": null,
       "right": null,
       "top": null,
       "visibility": null,
       "width": null
      }
     },
     "53b198e4f85b4c21adae15702631cc47": {
      "model_module": "@jupyter-widgets/controls",
      "model_module_version": "1.5.0",
      "model_name": "ProgressStyleModel",
      "state": {
       "_model_module": "@jupyter-widgets/controls",
       "_model_module_version": "1.5.0",
       "_model_name": "ProgressStyleModel",
       "_view_count": null,
       "_view_module": "@jupyter-widgets/base",
       "_view_module_version": "1.2.0",
       "_view_name": "StyleView",
       "bar_color": null,
       "description_width": ""
      }
     },
     "547fbd8b1afb403f96a4d2787e364a11": {
      "model_module": "@jupyter-widgets/base",
      "model_module_version": "1.2.0",
      "model_name": "LayoutModel",
      "state": {
       "_model_module": "@jupyter-widgets/base",
       "_model_module_version": "1.2.0",
       "_model_name": "LayoutModel",
       "_view_count": null,
       "_view_module": "@jupyter-widgets/base",
       "_view_module_version": "1.2.0",
       "_view_name": "LayoutView",
       "align_content": null,
       "align_items": null,
       "align_self": null,
       "border": null,
       "bottom": null,
       "display": null,
       "flex": null,
       "flex_flow": null,
       "grid_area": null,
       "grid_auto_columns": null,
       "grid_auto_flow": null,
       "grid_auto_rows": null,
       "grid_column": null,
       "grid_gap": null,
       "grid_row": null,
       "grid_template_areas": null,
       "grid_template_columns": null,
       "grid_template_rows": null,
       "height": null,
       "justify_content": null,
       "justify_items": null,
       "left": null,
       "margin": null,
       "max_height": null,
       "max_width": null,
       "min_height": null,
       "min_width": null,
       "object_fit": null,
       "object_position": null,
       "order": null,
       "overflow": null,
       "overflow_x": null,
       "overflow_y": null,
       "padding": null,
       "right": null,
       "top": null,
       "visibility": null,
       "width": null
      }
     },
     "579c086861f0493384c111576cc5a1ea": {
      "model_module": "@jupyter-widgets/controls",
      "model_module_version": "1.5.0",
      "model_name": "HTMLModel",
      "state": {
       "_dom_classes": [],
       "_model_module": "@jupyter-widgets/controls",
       "_model_module_version": "1.5.0",
       "_model_name": "HTMLModel",
       "_view_count": null,
       "_view_module": "@jupyter-widgets/controls",
       "_view_module_version": "1.5.0",
       "_view_name": "HTMLView",
       "description": "",
       "description_tooltip": null,
       "layout": "IPY_MODEL_9e5cf9dc6baf4bda918fd35669165b36",
       "placeholder": "​",
       "style": "IPY_MODEL_cafb6b7e32c740f78aef94aa1e93cd45",
       "value": " 481/481 [00:00&lt;00:00, 32.8kB/s]"
      }
     },
     "59c7c73c77824648ad1ba2a1b8921840": {
      "model_module": "@jupyter-widgets/controls",
      "model_module_version": "1.5.0",
      "model_name": "HBoxModel",
      "state": {
       "_dom_classes": [],
       "_model_module": "@jupyter-widgets/controls",
       "_model_module_version": "1.5.0",
       "_model_name": "HBoxModel",
       "_view_count": null,
       "_view_module": "@jupyter-widgets/controls",
       "_view_module_version": "1.5.0",
       "_view_name": "HBoxView",
       "box_style": "",
       "children": [
        "IPY_MODEL_863f235353bc4b409988d9a137f7689c",
        "IPY_MODEL_91733125ede44d43b452edeeb3d14f2e",
        "IPY_MODEL_ef6713ef96b44e94b3efbe58b36dcfaf"
       ],
       "layout": "IPY_MODEL_6254450f65a6419aa63b950c52712c3d"
      }
     },
     "5b3d9dc5ca904130a23b0a2189b6fe9c": {
      "model_module": "@jupyter-widgets/controls",
      "model_module_version": "1.5.0",
      "model_name": "HTMLModel",
      "state": {
       "_dom_classes": [],
       "_model_module": "@jupyter-widgets/controls",
       "_model_module_version": "1.5.0",
       "_model_name": "HTMLModel",
       "_view_count": null,
       "_view_module": "@jupyter-widgets/controls",
       "_view_module_version": "1.5.0",
       "_view_name": "HTMLView",
       "description": "",
       "description_tooltip": null,
       "layout": "IPY_MODEL_99e3aeb68c384b319b586ee626c5a997",
       "placeholder": "​",
       "style": "IPY_MODEL_2f2aef5a2c6f47b5b0a7338f239c6390",
       "value": " 570/570 [00:00&lt;00:00, 38.6kB/s]"
      }
     },
     "5b5582025943442988660a3024e7c2df": {
      "model_module": "@jupyter-widgets/controls",
      "model_module_version": "1.5.0",
      "model_name": "HTMLModel",
      "state": {
       "_dom_classes": [],
       "_model_module": "@jupyter-widgets/controls",
       "_model_module_version": "1.5.0",
       "_model_name": "HTMLModel",
       "_view_count": null,
       "_view_module": "@jupyter-widgets/controls",
       "_view_module_version": "1.5.0",
       "_view_name": "HTMLView",
       "description": "",
       "description_tooltip": null,
       "layout": "IPY_MODEL_5d873556690d4e6c81bfb564bc120021",
       "placeholder": "​",
       "style": "IPY_MODEL_b0b47cf5cb7d46f681e26b3cf46fa236",
       "value": "Downloading (…)solve/main/vocab.txt: 100%"
      }
     },
     "5d873556690d4e6c81bfb564bc120021": {
      "model_module": "@jupyter-widgets/base",
      "model_module_version": "1.2.0",
      "model_name": "LayoutModel",
      "state": {
       "_model_module": "@jupyter-widgets/base",
       "_model_module_version": "1.2.0",
       "_model_name": "LayoutModel",
       "_view_count": null,
       "_view_module": "@jupyter-widgets/base",
       "_view_module_version": "1.2.0",
       "_view_name": "LayoutView",
       "align_content": null,
       "align_items": null,
       "align_self": null,
       "border": null,
       "bottom": null,
       "display": null,
       "flex": null,
       "flex_flow": null,
       "grid_area": null,
       "grid_auto_columns": null,
       "grid_auto_flow": null,
       "grid_auto_rows": null,
       "grid_column": null,
       "grid_gap": null,
       "grid_row": null,
       "grid_template_areas": null,
       "grid_template_columns": null,
       "grid_template_rows": null,
       "height": null,
       "justify_content": null,
       "justify_items": null,
       "left": null,
       "margin": null,
       "max_height": null,
       "max_width": null,
       "min_height": null,
       "min_width": null,
       "object_fit": null,
       "object_position": null,
       "order": null,
       "overflow": null,
       "overflow_x": null,
       "overflow_y": null,
       "padding": null,
       "right": null,
       "top": null,
       "visibility": null,
       "width": null
      }
     },
     "5dd278192127494abdccb3fdc61760af": {
      "model_module": "@jupyter-widgets/controls",
      "model_module_version": "1.5.0",
      "model_name": "HBoxModel",
      "state": {
       "_dom_classes": [],
       "_model_module": "@jupyter-widgets/controls",
       "_model_module_version": "1.5.0",
       "_model_name": "HBoxModel",
       "_view_count": null,
       "_view_module": "@jupyter-widgets/controls",
       "_view_module_version": "1.5.0",
       "_view_name": "HBoxView",
       "box_style": "",
       "children": [
        "IPY_MODEL_10fdece3b5ee48198b0942279c0a799a",
        "IPY_MODEL_1af0f7ec724645bda407d2d0c47097bf",
        "IPY_MODEL_93a8c926c8ec455bba082eefda9002da"
       ],
       "layout": "IPY_MODEL_e720eb17a8ae492d842a209083ac17c3"
      }
     },
     "5e875931f04648e7b6342af8ebd5967b": {
      "model_module": "@jupyter-widgets/controls",
      "model_module_version": "1.5.0",
      "model_name": "ProgressStyleModel",
      "state": {
       "_model_module": "@jupyter-widgets/controls",
       "_model_module_version": "1.5.0",
       "_model_name": "ProgressStyleModel",
       "_view_count": null,
       "_view_module": "@jupyter-widgets/base",
       "_view_module_version": "1.2.0",
       "_view_name": "StyleView",
       "bar_color": null,
       "description_width": ""
      }
     },
     "5ee4c8c4c19d4a47b64df82fbb8db0cf": {
      "model_module": "@jupyter-widgets/controls",
      "model_module_version": "1.5.0",
      "model_name": "HBoxModel",
      "state": {
       "_dom_classes": [],
       "_model_module": "@jupyter-widgets/controls",
       "_model_module_version": "1.5.0",
       "_model_name": "HBoxModel",
       "_view_count": null,
       "_view_module": "@jupyter-widgets/controls",
       "_view_module_version": "1.5.0",
       "_view_name": "HBoxView",
       "box_style": "",
       "children": [
        "IPY_MODEL_9b674d44f4be48de99bb496815d54773",
        "IPY_MODEL_d99938c106be417db48f458313ff818c",
        "IPY_MODEL_9314b730a1844156a9c078ee21d5e7d0"
       ],
       "layout": "IPY_MODEL_00f5a7a44b404250b375cf4997b8be42"
      }
     },
     "61f53480f6a74e5495711c655f0590a0": {
      "model_module": "@jupyter-widgets/base",
      "model_module_version": "1.2.0",
      "model_name": "LayoutModel",
      "state": {
       "_model_module": "@jupyter-widgets/base",
       "_model_module_version": "1.2.0",
       "_model_name": "LayoutModel",
       "_view_count": null,
       "_view_module": "@jupyter-widgets/base",
       "_view_module_version": "1.2.0",
       "_view_name": "LayoutView",
       "align_content": null,
       "align_items": null,
       "align_self": null,
       "border": null,
       "bottom": null,
       "display": null,
       "flex": null,
       "flex_flow": null,
       "grid_area": null,
       "grid_auto_columns": null,
       "grid_auto_flow": null,
       "grid_auto_rows": null,
       "grid_column": null,
       "grid_gap": null,
       "grid_row": null,
       "grid_template_areas": null,
       "grid_template_columns": null,
       "grid_template_rows": null,
       "height": null,
       "justify_content": null,
       "justify_items": null,
       "left": null,
       "margin": null,
       "max_height": null,
       "max_width": null,
       "min_height": null,
       "min_width": null,
       "object_fit": null,
       "object_position": null,
       "order": null,
       "overflow": null,
       "overflow_x": null,
       "overflow_y": null,
       "padding": null,
       "right": null,
       "top": null,
       "visibility": null,
       "width": null
      }
     },
     "6254450f65a6419aa63b950c52712c3d": {
      "model_module": "@jupyter-widgets/base",
      "model_module_version": "1.2.0",
      "model_name": "LayoutModel",
      "state": {
       "_model_module": "@jupyter-widgets/base",
       "_model_module_version": "1.2.0",
       "_model_name": "LayoutModel",
       "_view_count": null,
       "_view_module": "@jupyter-widgets/base",
       "_view_module_version": "1.2.0",
       "_view_name": "LayoutView",
       "align_content": null,
       "align_items": null,
       "align_self": null,
       "border": null,
       "bottom": null,
       "display": null,
       "flex": null,
       "flex_flow": null,
       "grid_area": null,
       "grid_auto_columns": null,
       "grid_auto_flow": null,
       "grid_auto_rows": null,
       "grid_column": null,
       "grid_gap": null,
       "grid_row": null,
       "grid_template_areas": null,
       "grid_template_columns": null,
       "grid_template_rows": null,
       "height": null,
       "justify_content": null,
       "justify_items": null,
       "left": null,
       "margin": null,
       "max_height": null,
       "max_width": null,
       "min_height": null,
       "min_width": null,
       "object_fit": null,
       "object_position": null,
       "order": null,
       "overflow": null,
       "overflow_x": null,
       "overflow_y": null,
       "padding": null,
       "right": null,
       "top": null,
       "visibility": null,
       "width": null
      }
     },
     "62e07d5d50b949748b188c608d9e9f80": {
      "model_module": "@jupyter-widgets/base",
      "model_module_version": "1.2.0",
      "model_name": "LayoutModel",
      "state": {
       "_model_module": "@jupyter-widgets/base",
       "_model_module_version": "1.2.0",
       "_model_name": "LayoutModel",
       "_view_count": null,
       "_view_module": "@jupyter-widgets/base",
       "_view_module_version": "1.2.0",
       "_view_name": "LayoutView",
       "align_content": null,
       "align_items": null,
       "align_self": null,
       "border": null,
       "bottom": null,
       "display": null,
       "flex": null,
       "flex_flow": null,
       "grid_area": null,
       "grid_auto_columns": null,
       "grid_auto_flow": null,
       "grid_auto_rows": null,
       "grid_column": null,
       "grid_gap": null,
       "grid_row": null,
       "grid_template_areas": null,
       "grid_template_columns": null,
       "grid_template_rows": null,
       "height": null,
       "justify_content": null,
       "justify_items": null,
       "left": null,
       "margin": null,
       "max_height": null,
       "max_width": null,
       "min_height": null,
       "min_width": null,
       "object_fit": null,
       "object_position": null,
       "order": null,
       "overflow": null,
       "overflow_x": null,
       "overflow_y": null,
       "padding": null,
       "right": null,
       "top": null,
       "visibility": null,
       "width": null
      }
     },
     "638bb543f949405fb7677cc08d1a4764": {
      "model_module": "@jupyter-widgets/controls",
      "model_module_version": "1.5.0",
      "model_name": "DescriptionStyleModel",
      "state": {
       "_model_module": "@jupyter-widgets/controls",
       "_model_module_version": "1.5.0",
       "_model_name": "DescriptionStyleModel",
       "_view_count": null,
       "_view_module": "@jupyter-widgets/base",
       "_view_module_version": "1.2.0",
       "_view_name": "StyleView",
       "description_width": ""
      }
     },
     "63c6dd5d7e2f4233bef999ca7a4b40c3": {
      "model_module": "@jupyter-widgets/controls",
      "model_module_version": "1.5.0",
      "model_name": "HTMLModel",
      "state": {
       "_dom_classes": [],
       "_model_module": "@jupyter-widgets/controls",
       "_model_module_version": "1.5.0",
       "_model_name": "HTMLModel",
       "_view_count": null,
       "_view_module": "@jupyter-widgets/controls",
       "_view_module_version": "1.5.0",
       "_view_name": "HTMLView",
       "description": "",
       "description_tooltip": null,
       "layout": "IPY_MODEL_ad41070e6cfe4d54b1fe4c71c79bc78f",
       "placeholder": "​",
       "style": "IPY_MODEL_c52f95366a4d4331a4daa3f89d9d98d2",
       "value": "Downloading (…)lve/main/config.json: 100%"
      }
     },
     "66455ff5942f49ca91ed99d00c975b38": {
      "model_module": "@jupyter-widgets/base",
      "model_module_version": "1.2.0",
      "model_name": "LayoutModel",
      "state": {
       "_model_module": "@jupyter-widgets/base",
       "_model_module_version": "1.2.0",
       "_model_name": "LayoutModel",
       "_view_count": null,
       "_view_module": "@jupyter-widgets/base",
       "_view_module_version": "1.2.0",
       "_view_name": "LayoutView",
       "align_content": null,
       "align_items": null,
       "align_self": null,
       "border": null,
       "bottom": null,
       "display": null,
       "flex": null,
       "flex_flow": null,
       "grid_area": null,
       "grid_auto_columns": null,
       "grid_auto_flow": null,
       "grid_auto_rows": null,
       "grid_column": null,
       "grid_gap": null,
       "grid_row": null,
       "grid_template_areas": null,
       "grid_template_columns": null,
       "grid_template_rows": null,
       "height": null,
       "justify_content": null,
       "justify_items": null,
       "left": null,
       "margin": null,
       "max_height": null,
       "max_width": null,
       "min_height": null,
       "min_width": null,
       "object_fit": null,
       "object_position": null,
       "order": null,
       "overflow": null,
       "overflow_x": null,
       "overflow_y": null,
       "padding": null,
       "right": null,
       "top": null,
       "visibility": null,
       "width": null
      }
     },
     "6771024795b14fc18f2d0871c812446f": {
      "model_module": "@jupyter-widgets/controls",
      "model_module_version": "1.5.0",
      "model_name": "ProgressStyleModel",
      "state": {
       "_model_module": "@jupyter-widgets/controls",
       "_model_module_version": "1.5.0",
       "_model_name": "ProgressStyleModel",
       "_view_count": null,
       "_view_module": "@jupyter-widgets/base",
       "_view_module_version": "1.2.0",
       "_view_name": "StyleView",
       "bar_color": null,
       "description_width": ""
      }
     },
     "69044b9e4def427eadc218f4028022ea": {
      "model_module": "@jupyter-widgets/controls",
      "model_module_version": "1.5.0",
      "model_name": "FloatProgressModel",
      "state": {
       "_dom_classes": [],
       "_model_module": "@jupyter-widgets/controls",
       "_model_module_version": "1.5.0",
       "_model_name": "FloatProgressModel",
       "_view_count": null,
       "_view_module": "@jupyter-widgets/controls",
       "_view_module_version": "1.5.0",
       "_view_name": "ProgressView",
       "bar_style": "success",
       "description": "",
       "description_tooltip": null,
       "layout": "IPY_MODEL_4ad1ee0ffb38408fbc8c2072030ec642",
       "max": 570.0,
       "min": 0.0,
       "orientation": "horizontal",
       "style": "IPY_MODEL_85eed5c4c41a40eab7c379536d600f11",
       "value": 570.0
      }
     },
     "693d1af125444793964cbd18289724aa": {
      "model_module": "@jupyter-widgets/controls",
      "model_module_version": "1.5.0",
      "model_name": "HTMLModel",
      "state": {
       "_dom_classes": [],
       "_model_module": "@jupyter-widgets/controls",
       "_model_module_version": "1.5.0",
       "_model_name": "HTMLModel",
       "_view_count": null,
       "_view_module": "@jupyter-widgets/controls",
       "_view_module_version": "1.5.0",
       "_view_name": "HTMLView",
       "description": "",
       "description_tooltip": null,
       "layout": "IPY_MODEL_821fcb7688fb43e699b176e55e86b757",
       "placeholder": "​",
       "style": "IPY_MODEL_704a2398e81149469e6138d0b1e69b32",
       "value": "Downloading (…)olve/main/vocab.json: 100%"
      }
     },
     "6a01ec550db64fcd9882eed401b2c2b4": {
      "model_module": "@jupyter-widgets/base",
      "model_module_version": "1.2.0",
      "model_name": "LayoutModel",
      "state": {
       "_model_module": "@jupyter-widgets/base",
       "_model_module_version": "1.2.0",
       "_model_name": "LayoutModel",
       "_view_count": null,
       "_view_module": "@jupyter-widgets/base",
       "_view_module_version": "1.2.0",
       "_view_name": "LayoutView",
       "align_content": null,
       "align_items": null,
       "align_self": null,
       "border": null,
       "bottom": null,
       "display": null,
       "flex": null,
       "flex_flow": null,
       "grid_area": null,
       "grid_auto_columns": null,
       "grid_auto_flow": null,
       "grid_auto_rows": null,
       "grid_column": null,
       "grid_gap": null,
       "grid_row": null,
       "grid_template_areas": null,
       "grid_template_columns": null,
       "grid_template_rows": null,
       "height": null,
       "justify_content": null,
       "justify_items": null,
       "left": null,
       "margin": null,
       "max_height": null,
       "max_width": null,
       "min_height": null,
       "min_width": null,
       "object_fit": null,
       "object_position": null,
       "order": null,
       "overflow": null,
       "overflow_x": null,
       "overflow_y": null,
       "padding": null,
       "right": null,
       "top": null,
       "visibility": null,
       "width": null
      }
     },
     "6c6b7899282f44d399984ba83ec9b9c5": {
      "model_module": "@jupyter-widgets/controls",
      "model_module_version": "1.5.0",
      "model_name": "FloatProgressModel",
      "state": {
       "_dom_classes": [],
       "_model_module": "@jupyter-widgets/controls",
       "_model_module_version": "1.5.0",
       "_model_name": "FloatProgressModel",
       "_view_count": null,
       "_view_module": "@jupyter-widgets/controls",
       "_view_module_version": "1.5.0",
       "_view_name": "ProgressView",
       "bar_style": "success",
       "description": "",
       "description_tooltip": null,
       "layout": "IPY_MODEL_30049b13ed42423b970ea8229e860f12",
       "max": 466062.0,
       "min": 0.0,
       "orientation": "horizontal",
       "style": "IPY_MODEL_20250ca29eb247fab9aca8563868b6a5",
       "value": 466062.0
      }
     },
     "704a2398e81149469e6138d0b1e69b32": {
      "model_module": "@jupyter-widgets/controls",
      "model_module_version": "1.5.0",
      "model_name": "DescriptionStyleModel",
      "state": {
       "_model_module": "@jupyter-widgets/controls",
       "_model_module_version": "1.5.0",
       "_model_name": "DescriptionStyleModel",
       "_view_count": null,
       "_view_module": "@jupyter-widgets/base",
       "_view_module_version": "1.2.0",
       "_view_name": "StyleView",
       "description_width": ""
      }
     },
     "73af7d74288f428d80f7da9d702286b0": {
      "model_module": "@jupyter-widgets/base",
      "model_module_version": "1.2.0",
      "model_name": "LayoutModel",
      "state": {
       "_model_module": "@jupyter-widgets/base",
       "_model_module_version": "1.2.0",
       "_model_name": "LayoutModel",
       "_view_count": null,
       "_view_module": "@jupyter-widgets/base",
       "_view_module_version": "1.2.0",
       "_view_name": "LayoutView",
       "align_content": null,
       "align_items": null,
       "align_self": null,
       "border": null,
       "bottom": null,
       "display": null,
       "flex": null,
       "flex_flow": null,
       "grid_area": null,
       "grid_auto_columns": null,
       "grid_auto_flow": null,
       "grid_auto_rows": null,
       "grid_column": null,
       "grid_gap": null,
       "grid_row": null,
       "grid_template_areas": null,
       "grid_template_columns": null,
       "grid_template_rows": null,
       "height": null,
       "justify_content": null,
       "justify_items": null,
       "left": null,
       "margin": null,
       "max_height": null,
       "max_width": null,
       "min_height": null,
       "min_width": null,
       "object_fit": null,
       "object_position": null,
       "order": null,
       "overflow": null,
       "overflow_x": null,
       "overflow_y": null,
       "padding": null,
       "right": null,
       "top": null,
       "visibility": null,
       "width": null
      }
     },
     "76d53442c4014857a63673da942ba94a": {
      "model_module": "@jupyter-widgets/controls",
      "model_module_version": "1.5.0",
      "model_name": "HTMLModel",
      "state": {
       "_dom_classes": [],
       "_model_module": "@jupyter-widgets/controls",
       "_model_module_version": "1.5.0",
       "_model_name": "HTMLModel",
       "_view_count": null,
       "_view_module": "@jupyter-widgets/controls",
       "_view_module_version": "1.5.0",
       "_view_name": "HTMLView",
       "description": "",
       "description_tooltip": null,
       "layout": "IPY_MODEL_85bee6518dd14e3d99572dead2d617d8",
       "placeholder": "​",
       "style": "IPY_MODEL_313d30a2956843d1ae9e3a942c8fe2ec",
       "value": " 1.36M/1.36M [00:00&lt;00:00, 4.46MB/s]"
      }
     },
     "797a1255d1b2441cbe9ca285b5f76aba": {
      "model_module": "@jupyter-widgets/controls",
      "model_module_version": "1.5.0",
      "model_name": "HTMLModel",
      "state": {
       "_dom_classes": [],
       "_model_module": "@jupyter-widgets/controls",
       "_model_module_version": "1.5.0",
       "_model_name": "HTMLModel",
       "_view_count": null,
       "_view_module": "@jupyter-widgets/controls",
       "_view_module_version": "1.5.0",
       "_view_name": "HTMLView",
       "description": "",
       "description_tooltip": null,
       "layout": "IPY_MODEL_a57a61151c2e4a349f69c5d7f1bb75f8",
       "placeholder": "​",
       "style": "IPY_MODEL_b27f6f4acf4a45cf8caae1fcdfb2af83",
       "value": " 466k/466k [00:00&lt;00:00, 3.58MB/s]"
      }
     },
     "7a483b0f98974b40831748781699cda3": {
      "model_module": "@jupyter-widgets/base",
      "model_module_version": "1.2.0",
      "model_name": "LayoutModel",
      "state": {
       "_model_module": "@jupyter-widgets/base",
       "_model_module_version": "1.2.0",
       "_model_name": "LayoutModel",
       "_view_count": null,
       "_view_module": "@jupyter-widgets/base",
       "_view_module_version": "1.2.0",
       "_view_name": "LayoutView",
       "align_content": null,
       "align_items": null,
       "align_self": null,
       "border": null,
       "bottom": null,
       "display": null,
       "flex": null,
       "flex_flow": null,
       "grid_area": null,
       "grid_auto_columns": null,
       "grid_auto_flow": null,
       "grid_auto_rows": null,
       "grid_column": null,
       "grid_gap": null,
       "grid_row": null,
       "grid_template_areas": null,
       "grid_template_columns": null,
       "grid_template_rows": null,
       "height": null,
       "justify_content": null,
       "justify_items": null,
       "left": null,
       "margin": null,
       "max_height": null,
       "max_width": null,
       "min_height": null,
       "min_width": null,
       "object_fit": null,
       "object_position": null,
       "order": null,
       "overflow": null,
       "overflow_x": null,
       "overflow_y": null,
       "padding": null,
       "right": null,
       "top": null,
       "visibility": null,
       "width": null
      }
     },
     "7fa9bfcb297548059a5e5ea5ae0246d8": {
      "model_module": "@jupyter-widgets/base",
      "model_module_version": "1.2.0",
      "model_name": "LayoutModel",
      "state": {
       "_model_module": "@jupyter-widgets/base",
       "_model_module_version": "1.2.0",
       "_model_name": "LayoutModel",
       "_view_count": null,
       "_view_module": "@jupyter-widgets/base",
       "_view_module_version": "1.2.0",
       "_view_name": "LayoutView",
       "align_content": null,
       "align_items": null,
       "align_self": null,
       "border": null,
       "bottom": null,
       "display": null,
       "flex": null,
       "flex_flow": null,
       "grid_area": null,
       "grid_auto_columns": null,
       "grid_auto_flow": null,
       "grid_auto_rows": null,
       "grid_column": null,
       "grid_gap": null,
       "grid_row": null,
       "grid_template_areas": null,
       "grid_template_columns": null,
       "grid_template_rows": null,
       "height": null,
       "justify_content": null,
       "justify_items": null,
       "left": null,
       "margin": null,
       "max_height": null,
       "max_width": null,
       "min_height": null,
       "min_width": null,
       "object_fit": null,
       "object_position": null,
       "order": null,
       "overflow": null,
       "overflow_x": null,
       "overflow_y": null,
       "padding": null,
       "right": null,
       "top": null,
       "visibility": null,
       "width": null
      }
     },
     "80f17d1163ec441a8d5c98956d70ec0f": {
      "model_module": "@jupyter-widgets/controls",
      "model_module_version": "1.5.0",
      "model_name": "FloatProgressModel",
      "state": {
       "_dom_classes": [],
       "_model_module": "@jupyter-widgets/controls",
       "_model_module_version": "1.5.0",
       "_model_name": "FloatProgressModel",
       "_view_count": null,
       "_view_module": "@jupyter-widgets/controls",
       "_view_module_version": "1.5.0",
       "_view_name": "ProgressView",
       "bar_style": "success",
       "description": "",
       "description_tooltip": null,
       "layout": "IPY_MODEL_1a014da8b12247fc8cf9a67d629dfce8",
       "max": 231508.0,
       "min": 0.0,
       "orientation": "horizontal",
       "style": "IPY_MODEL_53b198e4f85b4c21adae15702631cc47",
       "value": 231508.0
      }
     },
     "81c84118952b4f8c9a74315a2ac79dab": {
      "model_module": "@jupyter-widgets/base",
      "model_module_version": "1.2.0",
      "model_name": "LayoutModel",
      "state": {
       "_model_module": "@jupyter-widgets/base",
       "_model_module_version": "1.2.0",
       "_model_name": "LayoutModel",
       "_view_count": null,
       "_view_module": "@jupyter-widgets/base",
       "_view_module_version": "1.2.0",
       "_view_name": "LayoutView",
       "align_content": null,
       "align_items": null,
       "align_self": null,
       "border": null,
       "bottom": null,
       "display": null,
       "flex": null,
       "flex_flow": null,
       "grid_area": null,
       "grid_auto_columns": null,
       "grid_auto_flow": null,
       "grid_auto_rows": null,
       "grid_column": null,
       "grid_gap": null,
       "grid_row": null,
       "grid_template_areas": null,
       "grid_template_columns": null,
       "grid_template_rows": null,
       "height": null,
       "justify_content": null,
       "justify_items": null,
       "left": null,
       "margin": null,
       "max_height": null,
       "max_width": null,
       "min_height": null,
       "min_width": null,
       "object_fit": null,
       "object_position": null,
       "order": null,
       "overflow": null,
       "overflow_x": null,
       "overflow_y": null,
       "padding": null,
       "right": null,
       "top": null,
       "visibility": null,
       "width": null
      }
     },
     "821fcb7688fb43e699b176e55e86b757": {
      "model_module": "@jupyter-widgets/base",
      "model_module_version": "1.2.0",
      "model_name": "LayoutModel",
      "state": {
       "_model_module": "@jupyter-widgets/base",
       "_model_module_version": "1.2.0",
       "_model_name": "LayoutModel",
       "_view_count": null,
       "_view_module": "@jupyter-widgets/base",
       "_view_module_version": "1.2.0",
       "_view_name": "LayoutView",
       "align_content": null,
       "align_items": null,
       "align_self": null,
       "border": null,
       "bottom": null,
       "display": null,
       "flex": null,
       "flex_flow": null,
       "grid_area": null,
       "grid_auto_columns": null,
       "grid_auto_flow": null,
       "grid_auto_rows": null,
       "grid_column": null,
       "grid_gap": null,
       "grid_row": null,
       "grid_template_areas": null,
       "grid_template_columns": null,
       "grid_template_rows": null,
       "height": null,
       "justify_content": null,
       "justify_items": null,
       "left": null,
       "margin": null,
       "max_height": null,
       "max_width": null,
       "min_height": null,
       "min_width": null,
       "object_fit": null,
       "object_position": null,
       "order": null,
       "overflow": null,
       "overflow_x": null,
       "overflow_y": null,
       "padding": null,
       "right": null,
       "top": null,
       "visibility": null,
       "width": null
      }
     },
     "85bee6518dd14e3d99572dead2d617d8": {
      "model_module": "@jupyter-widgets/base",
      "model_module_version": "1.2.0",
      "model_name": "LayoutModel",
      "state": {
       "_model_module": "@jupyter-widgets/base",
       "_model_module_version": "1.2.0",
       "_model_name": "LayoutModel",
       "_view_count": null,
       "_view_module": "@jupyter-widgets/base",
       "_view_module_version": "1.2.0",
       "_view_name": "LayoutView",
       "align_content": null,
       "align_items": null,
       "align_self": null,
       "border": null,
       "bottom": null,
       "display": null,
       "flex": null,
       "flex_flow": null,
       "grid_area": null,
       "grid_auto_columns": null,
       "grid_auto_flow": null,
       "grid_auto_rows": null,
       "grid_column": null,
       "grid_gap": null,
       "grid_row": null,
       "grid_template_areas": null,
       "grid_template_columns": null,
       "grid_template_rows": null,
       "height": null,
       "justify_content": null,
       "justify_items": null,
       "left": null,
       "margin": null,
       "max_height": null,
       "max_width": null,
       "min_height": null,
       "min_width": null,
       "object_fit": null,
       "object_position": null,
       "order": null,
       "overflow": null,
       "overflow_x": null,
       "overflow_y": null,
       "padding": null,
       "right": null,
       "top": null,
       "visibility": null,
       "width": null
      }
     },
     "85eed5c4c41a40eab7c379536d600f11": {
      "model_module": "@jupyter-widgets/controls",
      "model_module_version": "1.5.0",
      "model_name": "ProgressStyleModel",
      "state": {
       "_model_module": "@jupyter-widgets/controls",
       "_model_module_version": "1.5.0",
       "_model_name": "ProgressStyleModel",
       "_view_count": null,
       "_view_module": "@jupyter-widgets/base",
       "_view_module_version": "1.2.0",
       "_view_name": "StyleView",
       "bar_color": null,
       "description_width": ""
      }
     },
     "863f235353bc4b409988d9a137f7689c": {
      "model_module": "@jupyter-widgets/controls",
      "model_module_version": "1.5.0",
      "model_name": "HTMLModel",
      "state": {
       "_dom_classes": [],
       "_model_module": "@jupyter-widgets/controls",
       "_model_module_version": "1.5.0",
       "_model_name": "HTMLModel",
       "_view_count": null,
       "_view_module": "@jupyter-widgets/controls",
       "_view_module_version": "1.5.0",
       "_view_name": "HTMLView",
       "description": "",
       "description_tooltip": null,
       "layout": "IPY_MODEL_be00d338402f4f56afc160a4755308ed",
       "placeholder": "​",
       "style": "IPY_MODEL_d2fba402c80a4e9badff34e56db597af",
       "value": "Downloading (…)olve/main/merges.txt: 100%"
      }
     },
     "876e61dbcd114c5eb4020dda93dfd662": {
      "model_module": "@jupyter-widgets/controls",
      "model_module_version": "1.5.0",
      "model_name": "ProgressStyleModel",
      "state": {
       "_model_module": "@jupyter-widgets/controls",
       "_model_module_version": "1.5.0",
       "_model_name": "ProgressStyleModel",
       "_view_count": null,
       "_view_module": "@jupyter-widgets/base",
       "_view_module_version": "1.2.0",
       "_view_name": "StyleView",
       "bar_color": null,
       "description_width": ""
      }
     },
     "89cf256186b54812acef03c53ae645d6": {
      "model_module": "@jupyter-widgets/controls",
      "model_module_version": "1.5.0",
      "model_name": "DescriptionStyleModel",
      "state": {
       "_model_module": "@jupyter-widgets/controls",
       "_model_module_version": "1.5.0",
       "_model_name": "DescriptionStyleModel",
       "_view_count": null,
       "_view_module": "@jupyter-widgets/base",
       "_view_module_version": "1.2.0",
       "_view_name": "StyleView",
       "description_width": ""
      }
     },
     "9010c1f57b444a76b76373fe0e4d69d9": {
      "model_module": "@jupyter-widgets/controls",
      "model_module_version": "1.5.0",
      "model_name": "FloatProgressModel",
      "state": {
       "_dom_classes": [],
       "_model_module": "@jupyter-widgets/controls",
       "_model_module_version": "1.5.0",
       "_model_name": "FloatProgressModel",
       "_view_count": null,
       "_view_module": "@jupyter-widgets/controls",
       "_view_module_version": "1.5.0",
       "_view_name": "ProgressView",
       "bar_style": "success",
       "description": "",
       "description_tooltip": null,
       "layout": "IPY_MODEL_66455ff5942f49ca91ed99d00c975b38",
       "max": 1355863.0,
       "min": 0.0,
       "orientation": "horizontal",
       "style": "IPY_MODEL_c7c1900f43dd4f7ea4eb453e61b19f48",
       "value": 1355863.0
      }
     },
     "91733125ede44d43b452edeeb3d14f2e": {
      "model_module": "@jupyter-widgets/controls",
      "model_module_version": "1.5.0",
      "model_name": "FloatProgressModel",
      "state": {
       "_dom_classes": [],
       "_model_module": "@jupyter-widgets/controls",
       "_model_module_version": "1.5.0",
       "_model_name": "FloatProgressModel",
       "_view_count": null,
       "_view_module": "@jupyter-widgets/controls",
       "_view_module_version": "1.5.0",
       "_view_name": "ProgressView",
       "bar_style": "success",
       "description": "",
       "description_tooltip": null,
       "layout": "IPY_MODEL_6a01ec550db64fcd9882eed401b2c2b4",
       "max": 456318.0,
       "min": 0.0,
       "orientation": "horizontal",
       "style": "IPY_MODEL_9442d691b7524d3b891c9287cd47d9bc",
       "value": 456318.0
      }
     },
     "9314b730a1844156a9c078ee21d5e7d0": {
      "model_module": "@jupyter-widgets/controls",
      "model_module_version": "1.5.0",
      "model_name": "HTMLModel",
      "state": {
       "_dom_classes": [],
       "_model_module": "@jupyter-widgets/controls",
       "_model_module_version": "1.5.0",
       "_model_name": "HTMLModel",
       "_view_count": null,
       "_view_module": "@jupyter-widgets/controls",
       "_view_module_version": "1.5.0",
       "_view_name": "HTMLView",
       "description": "",
       "description_tooltip": null,
       "layout": "IPY_MODEL_c4db13d729724ffba7adcdc298a73149",
       "placeholder": "​",
       "style": "IPY_MODEL_a6f2526dd05b46ba81e112402e5e2341",
       "value": " 440M/440M [00:01&lt;00:00, 286MB/s]"
      }
     },
     "93a8c926c8ec455bba082eefda9002da": {
      "model_module": "@jupyter-widgets/controls",
      "model_module_version": "1.5.0",
      "model_name": "HTMLModel",
      "state": {
       "_dom_classes": [],
       "_model_module": "@jupyter-widgets/controls",
       "_model_module_version": "1.5.0",
       "_model_name": "HTMLModel",
       "_view_count": null,
       "_view_module": "@jupyter-widgets/controls",
       "_view_module_version": "1.5.0",
       "_view_name": "HTMLView",
       "description": "",
       "description_tooltip": null,
       "layout": "IPY_MODEL_42118506bb9b4b4f8ece9828ecc0faa7",
       "placeholder": "​",
       "style": "IPY_MODEL_89cf256186b54812acef03c53ae645d6",
       "value": " 499M/499M [00:01&lt;00:00, 353MB/s]"
      }
     },
     "93b67d69f05c4cdcb428a813dd8c9be1": {
      "model_module": "@jupyter-widgets/controls",
      "model_module_version": "1.5.0",
      "model_name": "HTMLModel",
      "state": {
       "_dom_classes": [],
       "_model_module": "@jupyter-widgets/controls",
       "_model_module_version": "1.5.0",
       "_model_name": "HTMLModel",
       "_view_count": null,
       "_view_module": "@jupyter-widgets/controls",
       "_view_module_version": "1.5.0",
       "_view_name": "HTMLView",
       "description": "",
       "description_tooltip": null,
       "layout": "IPY_MODEL_f660bd8373ad490f8510e138b9b1843a",
       "placeholder": "​",
       "style": "IPY_MODEL_2c300b6a41d4423ebdc6a9357a9b0ce6",
       "value": "Downloading (…)okenizer_config.json: 100%"
      }
     },
     "9442d691b7524d3b891c9287cd47d9bc": {
      "model_module": "@jupyter-widgets/controls",
      "model_module_version": "1.5.0",
      "model_name": "ProgressStyleModel",
      "state": {
       "_model_module": "@jupyter-widgets/controls",
       "_model_module_version": "1.5.0",
       "_model_name": "ProgressStyleModel",
       "_view_count": null,
       "_view_module": "@jupyter-widgets/base",
       "_view_module_version": "1.2.0",
       "_view_name": "StyleView",
       "bar_color": null,
       "description_width": ""
      }
     },
     "99e3aeb68c384b319b586ee626c5a997": {
      "model_module": "@jupyter-widgets/base",
      "model_module_version": "1.2.0",
      "model_name": "LayoutModel",
      "state": {
       "_model_module": "@jupyter-widgets/base",
       "_model_module_version": "1.2.0",
       "_model_name": "LayoutModel",
       "_view_count": null,
       "_view_module": "@jupyter-widgets/base",
       "_view_module_version": "1.2.0",
       "_view_name": "LayoutView",
       "align_content": null,
       "align_items": null,
       "align_self": null,
       "border": null,
       "bottom": null,
       "display": null,
       "flex": null,
       "flex_flow": null,
       "grid_area": null,
       "grid_auto_columns": null,
       "grid_auto_flow": null,
       "grid_auto_rows": null,
       "grid_column": null,
       "grid_gap": null,
       "grid_row": null,
       "grid_template_areas": null,
       "grid_template_columns": null,
       "grid_template_rows": null,
       "height": null,
       "justify_content": null,
       "justify_items": null,
       "left": null,
       "margin": null,
       "max_height": null,
       "max_width": null,
       "min_height": null,
       "min_width": null,
       "object_fit": null,
       "object_position": null,
       "order": null,
       "overflow": null,
       "overflow_x": null,
       "overflow_y": null,
       "padding": null,
       "right": null,
       "top": null,
       "visibility": null,
       "width": null
      }
     },
     "9b674d44f4be48de99bb496815d54773": {
      "model_module": "@jupyter-widgets/controls",
      "model_module_version": "1.5.0",
      "model_name": "HTMLModel",
      "state": {
       "_dom_classes": [],
       "_model_module": "@jupyter-widgets/controls",
       "_model_module_version": "1.5.0",
       "_model_name": "HTMLModel",
       "_view_count": null,
       "_view_module": "@jupyter-widgets/controls",
       "_view_module_version": "1.5.0",
       "_view_name": "HTMLView",
       "description": "",
       "description_tooltip": null,
       "layout": "IPY_MODEL_22191d1a65cb44f088febb996e089306",
       "placeholder": "​",
       "style": "IPY_MODEL_3332f76871d548d4b2beebebf7cd3fac",
       "value": "Downloading model.safetensors: 100%"
      }
     },
     "9cb97a75315d44339c2dd1db08b4d5b7": {
      "model_module": "@jupyter-widgets/base",
      "model_module_version": "1.2.0",
      "model_name": "LayoutModel",
      "state": {
       "_model_module": "@jupyter-widgets/base",
       "_model_module_version": "1.2.0",
       "_model_name": "LayoutModel",
       "_view_count": null,
       "_view_module": "@jupyter-widgets/base",
       "_view_module_version": "1.2.0",
       "_view_name": "LayoutView",
       "align_content": null,
       "align_items": null,
       "align_self": null,
       "border": null,
       "bottom": null,
       "display": null,
       "flex": null,
       "flex_flow": null,
       "grid_area": null,
       "grid_auto_columns": null,
       "grid_auto_flow": null,
       "grid_auto_rows": null,
       "grid_column": null,
       "grid_gap": null,
       "grid_row": null,
       "grid_template_areas": null,
       "grid_template_columns": null,
       "grid_template_rows": null,
       "height": null,
       "justify_content": null,
       "justify_items": null,
       "left": null,
       "margin": null,
       "max_height": null,
       "max_width": null,
       "min_height": null,
       "min_width": null,
       "object_fit": null,
       "object_position": null,
       "order": null,
       "overflow": null,
       "overflow_x": null,
       "overflow_y": null,
       "padding": null,
       "right": null,
       "top": null,
       "visibility": null,
       "width": null
      }
     },
     "9d13a5b9bca2436f9984325e3fc79ce0": {
      "model_module": "@jupyter-widgets/controls",
      "model_module_version": "1.5.0",
      "model_name": "HTMLModel",
      "state": {
       "_dom_classes": [],
       "_model_module": "@jupyter-widgets/controls",
       "_model_module_version": "1.5.0",
       "_model_name": "HTMLModel",
       "_view_count": null,
       "_view_module": "@jupyter-widgets/controls",
       "_view_module_version": "1.5.0",
       "_view_name": "HTMLView",
       "description": "",
       "description_tooltip": null,
       "layout": "IPY_MODEL_2f0efe1eb0bd4ca4b55d39cb84426b7f",
       "placeholder": "​",
       "style": "IPY_MODEL_b507a85c072a4ca2bd59054f2e62dc68",
       "value": " 28.0/28.0 [00:00&lt;00:00, 1.41kB/s]"
      }
     },
     "9e24c9a286c8446184a58b2b52592627": {
      "model_module": "@jupyter-widgets/controls",
      "model_module_version": "1.5.0",
      "model_name": "HBoxModel",
      "state": {
       "_dom_classes": [],
       "_model_module": "@jupyter-widgets/controls",
       "_model_module_version": "1.5.0",
       "_model_name": "HBoxModel",
       "_view_count": null,
       "_view_module": "@jupyter-widgets/controls",
       "_view_module_version": "1.5.0",
       "_view_name": "HBoxView",
       "box_style": "",
       "children": [
        "IPY_MODEL_63c6dd5d7e2f4233bef999ca7a4b40c3",
        "IPY_MODEL_69044b9e4def427eadc218f4028022ea",
        "IPY_MODEL_5b3d9dc5ca904130a23b0a2189b6fe9c"
       ],
       "layout": "IPY_MODEL_bee562e552c04b4f803d4a30cab68082"
      }
     },
     "9e5cf9dc6baf4bda918fd35669165b36": {
      "model_module": "@jupyter-widgets/base",
      "model_module_version": "1.2.0",
      "model_name": "LayoutModel",
      "state": {
       "_model_module": "@jupyter-widgets/base",
       "_model_module_version": "1.2.0",
       "_model_name": "LayoutModel",
       "_view_count": null,
       "_view_module": "@jupyter-widgets/base",
       "_view_module_version": "1.2.0",
       "_view_name": "LayoutView",
       "align_content": null,
       "align_items": null,
       "align_self": null,
       "border": null,
       "bottom": null,
       "display": null,
       "flex": null,
       "flex_flow": null,
       "grid_area": null,
       "grid_auto_columns": null,
       "grid_auto_flow": null,
       "grid_auto_rows": null,
       "grid_column": null,
       "grid_gap": null,
       "grid_row": null,
       "grid_template_areas": null,
       "grid_template_columns": null,
       "grid_template_rows": null,
       "height": null,
       "justify_content": null,
       "justify_items": null,
       "left": null,
       "margin": null,
       "max_height": null,
       "max_width": null,
       "min_height": null,
       "min_width": null,
       "object_fit": null,
       "object_position": null,
       "order": null,
       "overflow": null,
       "overflow_x": null,
       "overflow_y": null,
       "padding": null,
       "right": null,
       "top": null,
       "visibility": null,
       "width": null
      }
     },
     "9f366645a92049c1970bffb8d28d7a42": {
      "model_module": "@jupyter-widgets/controls",
      "model_module_version": "1.5.0",
      "model_name": "HBoxModel",
      "state": {
       "_dom_classes": [],
       "_model_module": "@jupyter-widgets/controls",
       "_model_module_version": "1.5.0",
       "_model_name": "HBoxModel",
       "_view_count": null,
       "_view_module": "@jupyter-widgets/controls",
       "_view_module_version": "1.5.0",
       "_view_name": "HBoxView",
       "box_style": "",
       "children": [
        "IPY_MODEL_310c8d28dd7b4bcbb99aa5a571ac62d4",
        "IPY_MODEL_6c6b7899282f44d399984ba83ec9b9c5",
        "IPY_MODEL_797a1255d1b2441cbe9ca285b5f76aba"
       ],
       "layout": "IPY_MODEL_3e122652bd7b48969a77e7721fa41124"
      }
     },
     "a57a61151c2e4a349f69c5d7f1bb75f8": {
      "model_module": "@jupyter-widgets/base",
      "model_module_version": "1.2.0",
      "model_name": "LayoutModel",
      "state": {
       "_model_module": "@jupyter-widgets/base",
       "_model_module_version": "1.2.0",
       "_model_name": "LayoutModel",
       "_view_count": null,
       "_view_module": "@jupyter-widgets/base",
       "_view_module_version": "1.2.0",
       "_view_name": "LayoutView",
       "align_content": null,
       "align_items": null,
       "align_self": null,
       "border": null,
       "bottom": null,
       "display": null,
       "flex": null,
       "flex_flow": null,
       "grid_area": null,
       "grid_auto_columns": null,
       "grid_auto_flow": null,
       "grid_auto_rows": null,
       "grid_column": null,
       "grid_gap": null,
       "grid_row": null,
       "grid_template_areas": null,
       "grid_template_columns": null,
       "grid_template_rows": null,
       "height": null,
       "justify_content": null,
       "justify_items": null,
       "left": null,
       "margin": null,
       "max_height": null,
       "max_width": null,
       "min_height": null,
       "min_width": null,
       "object_fit": null,
       "object_position": null,
       "order": null,
       "overflow": null,
       "overflow_x": null,
       "overflow_y": null,
       "padding": null,
       "right": null,
       "top": null,
       "visibility": null,
       "width": null
      }
     },
     "a6f2526dd05b46ba81e112402e5e2341": {
      "model_module": "@jupyter-widgets/controls",
      "model_module_version": "1.5.0",
      "model_name": "DescriptionStyleModel",
      "state": {
       "_model_module": "@jupyter-widgets/controls",
       "_model_module_version": "1.5.0",
       "_model_name": "DescriptionStyleModel",
       "_view_count": null,
       "_view_module": "@jupyter-widgets/base",
       "_view_module_version": "1.2.0",
       "_view_name": "StyleView",
       "description_width": ""
      }
     },
     "ab4ce5f8385540d188246909fff2ba74": {
      "model_module": "@jupyter-widgets/base",
      "model_module_version": "1.2.0",
      "model_name": "LayoutModel",
      "state": {
       "_model_module": "@jupyter-widgets/base",
       "_model_module_version": "1.2.0",
       "_model_name": "LayoutModel",
       "_view_count": null,
       "_view_module": "@jupyter-widgets/base",
       "_view_module_version": "1.2.0",
       "_view_name": "LayoutView",
       "align_content": null,
       "align_items": null,
       "align_self": null,
       "border": null,
       "bottom": null,
       "display": null,
       "flex": null,
       "flex_flow": null,
       "grid_area": null,
       "grid_auto_columns": null,
       "grid_auto_flow": null,
       "grid_auto_rows": null,
       "grid_column": null,
       "grid_gap": null,
       "grid_row": null,
       "grid_template_areas": null,
       "grid_template_columns": null,
       "grid_template_rows": null,
       "height": null,
       "justify_content": null,
       "justify_items": null,
       "left": null,
       "margin": null,
       "max_height": null,
       "max_width": null,
       "min_height": null,
       "min_width": null,
       "object_fit": null,
       "object_position": null,
       "order": null,
       "overflow": null,
       "overflow_x": null,
       "overflow_y": null,
       "padding": null,
       "right": null,
       "top": null,
       "visibility": null,
       "width": null
      }
     },
     "ab74b8b3065e4abba5b51cb07ae5a1a7": {
      "model_module": "@jupyter-widgets/controls",
      "model_module_version": "1.5.0",
      "model_name": "DescriptionStyleModel",
      "state": {
       "_model_module": "@jupyter-widgets/controls",
       "_model_module_version": "1.5.0",
       "_model_name": "DescriptionStyleModel",
       "_view_count": null,
       "_view_module": "@jupyter-widgets/base",
       "_view_module_version": "1.2.0",
       "_view_name": "StyleView",
       "description_width": ""
      }
     },
     "ad41070e6cfe4d54b1fe4c71c79bc78f": {
      "model_module": "@jupyter-widgets/base",
      "model_module_version": "1.2.0",
      "model_name": "LayoutModel",
      "state": {
       "_model_module": "@jupyter-widgets/base",
       "_model_module_version": "1.2.0",
       "_model_name": "LayoutModel",
       "_view_count": null,
       "_view_module": "@jupyter-widgets/base",
       "_view_module_version": "1.2.0",
       "_view_name": "LayoutView",
       "align_content": null,
       "align_items": null,
       "align_self": null,
       "border": null,
       "bottom": null,
       "display": null,
       "flex": null,
       "flex_flow": null,
       "grid_area": null,
       "grid_auto_columns": null,
       "grid_auto_flow": null,
       "grid_auto_rows": null,
       "grid_column": null,
       "grid_gap": null,
       "grid_row": null,
       "grid_template_areas": null,
       "grid_template_columns": null,
       "grid_template_rows": null,
       "height": null,
       "justify_content": null,
       "justify_items": null,
       "left": null,
       "margin": null,
       "max_height": null,
       "max_width": null,
       "min_height": null,
       "min_width": null,
       "object_fit": null,
       "object_position": null,
       "order": null,
       "overflow": null,
       "overflow_x": null,
       "overflow_y": null,
       "padding": null,
       "right": null,
       "top": null,
       "visibility": null,
       "width": null
      }
     },
     "b0b47cf5cb7d46f681e26b3cf46fa236": {
      "model_module": "@jupyter-widgets/controls",
      "model_module_version": "1.5.0",
      "model_name": "DescriptionStyleModel",
      "state": {
       "_model_module": "@jupyter-widgets/controls",
       "_model_module_version": "1.5.0",
       "_model_name": "DescriptionStyleModel",
       "_view_count": null,
       "_view_module": "@jupyter-widgets/base",
       "_view_module_version": "1.2.0",
       "_view_name": "StyleView",
       "description_width": ""
      }
     },
     "b27f6f4acf4a45cf8caae1fcdfb2af83": {
      "model_module": "@jupyter-widgets/controls",
      "model_module_version": "1.5.0",
      "model_name": "DescriptionStyleModel",
      "state": {
       "_model_module": "@jupyter-widgets/controls",
       "_model_module_version": "1.5.0",
       "_model_name": "DescriptionStyleModel",
       "_view_count": null,
       "_view_module": "@jupyter-widgets/base",
       "_view_module_version": "1.2.0",
       "_view_name": "StyleView",
       "description_width": ""
      }
     },
     "b507a85c072a4ca2bd59054f2e62dc68": {
      "model_module": "@jupyter-widgets/controls",
      "model_module_version": "1.5.0",
      "model_name": "DescriptionStyleModel",
      "state": {
       "_model_module": "@jupyter-widgets/controls",
       "_model_module_version": "1.5.0",
       "_model_name": "DescriptionStyleModel",
       "_view_count": null,
       "_view_module": "@jupyter-widgets/base",
       "_view_module_version": "1.2.0",
       "_view_name": "StyleView",
       "description_width": ""
      }
     },
     "b9041e164cb24a80be2b3f89d1be3ae6": {
      "model_module": "@jupyter-widgets/controls",
      "model_module_version": "1.5.0",
      "model_name": "DescriptionStyleModel",
      "state": {
       "_model_module": "@jupyter-widgets/controls",
       "_model_module_version": "1.5.0",
       "_model_name": "DescriptionStyleModel",
       "_view_count": null,
       "_view_module": "@jupyter-widgets/base",
       "_view_module_version": "1.2.0",
       "_view_name": "StyleView",
       "description_width": ""
      }
     },
     "bb498c80a0f8419da35dec03545cb264": {
      "model_module": "@jupyter-widgets/controls",
      "model_module_version": "1.5.0",
      "model_name": "HBoxModel",
      "state": {
       "_dom_classes": [],
       "_model_module": "@jupyter-widgets/controls",
       "_model_module_version": "1.5.0",
       "_model_name": "HBoxModel",
       "_view_count": null,
       "_view_module": "@jupyter-widgets/controls",
       "_view_module_version": "1.5.0",
       "_view_name": "HBoxView",
       "box_style": "",
       "children": [
        "IPY_MODEL_f216f501752a404db1d9807a07bee2fa",
        "IPY_MODEL_e88da489e9ab4e4f96425bb58222c1b9",
        "IPY_MODEL_579c086861f0493384c111576cc5a1ea"
       ],
       "layout": "IPY_MODEL_2c0a98d1349d4081b5444ff93ef02f4d"
      }
     },
     "be00d338402f4f56afc160a4755308ed": {
      "model_module": "@jupyter-widgets/base",
      "model_module_version": "1.2.0",
      "model_name": "LayoutModel",
      "state": {
       "_model_module": "@jupyter-widgets/base",
       "_model_module_version": "1.2.0",
       "_model_name": "LayoutModel",
       "_view_count": null,
       "_view_module": "@jupyter-widgets/base",
       "_view_module_version": "1.2.0",
       "_view_name": "LayoutView",
       "align_content": null,
       "align_items": null,
       "align_self": null,
       "border": null,
       "bottom": null,
       "display": null,
       "flex": null,
       "flex_flow": null,
       "grid_area": null,
       "grid_auto_columns": null,
       "grid_auto_flow": null,
       "grid_auto_rows": null,
       "grid_column": null,
       "grid_gap": null,
       "grid_row": null,
       "grid_template_areas": null,
       "grid_template_columns": null,
       "grid_template_rows": null,
       "height": null,
       "justify_content": null,
       "justify_items": null,
       "left": null,
       "margin": null,
       "max_height": null,
       "max_width": null,
       "min_height": null,
       "min_width": null,
       "object_fit": null,
       "object_position": null,
       "order": null,
       "overflow": null,
       "overflow_x": null,
       "overflow_y": null,
       "padding": null,
       "right": null,
       "top": null,
       "visibility": null,
       "width": null
      }
     },
     "bee562e552c04b4f803d4a30cab68082": {
      "model_module": "@jupyter-widgets/base",
      "model_module_version": "1.2.0",
      "model_name": "LayoutModel",
      "state": {
       "_model_module": "@jupyter-widgets/base",
       "_model_module_version": "1.2.0",
       "_model_name": "LayoutModel",
       "_view_count": null,
       "_view_module": "@jupyter-widgets/base",
       "_view_module_version": "1.2.0",
       "_view_name": "LayoutView",
       "align_content": null,
       "align_items": null,
       "align_self": null,
       "border": null,
       "bottom": null,
       "display": null,
       "flex": null,
       "flex_flow": null,
       "grid_area": null,
       "grid_auto_columns": null,
       "grid_auto_flow": null,
       "grid_auto_rows": null,
       "grid_column": null,
       "grid_gap": null,
       "grid_row": null,
       "grid_template_areas": null,
       "grid_template_columns": null,
       "grid_template_rows": null,
       "height": null,
       "justify_content": null,
       "justify_items": null,
       "left": null,
       "margin": null,
       "max_height": null,
       "max_width": null,
       "min_height": null,
       "min_width": null,
       "object_fit": null,
       "object_position": null,
       "order": null,
       "overflow": null,
       "overflow_x": null,
       "overflow_y": null,
       "padding": null,
       "right": null,
       "top": null,
       "visibility": null,
       "width": null
      }
     },
     "c4d6fd8be4924ad0852a1f1fbf53bfeb": {
      "model_module": "@jupyter-widgets/controls",
      "model_module_version": "1.5.0",
      "model_name": "FloatProgressModel",
      "state": {
       "_dom_classes": [],
       "_model_module": "@jupyter-widgets/controls",
       "_model_module_version": "1.5.0",
       "_model_name": "FloatProgressModel",
       "_view_count": null,
       "_view_module": "@jupyter-widgets/controls",
       "_view_module_version": "1.5.0",
       "_view_name": "ProgressView",
       "bar_style": "success",
       "description": "",
       "description_tooltip": null,
       "layout": "IPY_MODEL_2bb5f2895da94cac93562dc531d6d8ec",
       "max": 28.0,
       "min": 0.0,
       "orientation": "horizontal",
       "style": "IPY_MODEL_6771024795b14fc18f2d0871c812446f",
       "value": 28.0
      }
     },
     "c4db13d729724ffba7adcdc298a73149": {
      "model_module": "@jupyter-widgets/base",
      "model_module_version": "1.2.0",
      "model_name": "LayoutModel",
      "state": {
       "_model_module": "@jupyter-widgets/base",
       "_model_module_version": "1.2.0",
       "_model_name": "LayoutModel",
       "_view_count": null,
       "_view_module": "@jupyter-widgets/base",
       "_view_module_version": "1.2.0",
       "_view_name": "LayoutView",
       "align_content": null,
       "align_items": null,
       "align_self": null,
       "border": null,
       "bottom": null,
       "display": null,
       "flex": null,
       "flex_flow": null,
       "grid_area": null,
       "grid_auto_columns": null,
       "grid_auto_flow": null,
       "grid_auto_rows": null,
       "grid_column": null,
       "grid_gap": null,
       "grid_row": null,
       "grid_template_areas": null,
       "grid_template_columns": null,
       "grid_template_rows": null,
       "height": null,
       "justify_content": null,
       "justify_items": null,
       "left": null,
       "margin": null,
       "max_height": null,
       "max_width": null,
       "min_height": null,
       "min_width": null,
       "object_fit": null,
       "object_position": null,
       "order": null,
       "overflow": null,
       "overflow_x": null,
       "overflow_y": null,
       "padding": null,
       "right": null,
       "top": null,
       "visibility": null,
       "width": null
      }
     },
     "c52f95366a4d4331a4daa3f89d9d98d2": {
      "model_module": "@jupyter-widgets/controls",
      "model_module_version": "1.5.0",
      "model_name": "DescriptionStyleModel",
      "state": {
       "_model_module": "@jupyter-widgets/controls",
       "_model_module_version": "1.5.0",
       "_model_name": "DescriptionStyleModel",
       "_view_count": null,
       "_view_module": "@jupyter-widgets/base",
       "_view_module_version": "1.2.0",
       "_view_name": "StyleView",
       "description_width": ""
      }
     },
     "c7c1900f43dd4f7ea4eb453e61b19f48": {
      "model_module": "@jupyter-widgets/controls",
      "model_module_version": "1.5.0",
      "model_name": "ProgressStyleModel",
      "state": {
       "_model_module": "@jupyter-widgets/controls",
       "_model_module_version": "1.5.0",
       "_model_name": "ProgressStyleModel",
       "_view_count": null,
       "_view_module": "@jupyter-widgets/base",
       "_view_module_version": "1.2.0",
       "_view_name": "StyleView",
       "bar_color": null,
       "description_width": ""
      }
     },
     "cafb6b7e32c740f78aef94aa1e93cd45": {
      "model_module": "@jupyter-widgets/controls",
      "model_module_version": "1.5.0",
      "model_name": "DescriptionStyleModel",
      "state": {
       "_model_module": "@jupyter-widgets/controls",
       "_model_module_version": "1.5.0",
       "_model_name": "DescriptionStyleModel",
       "_view_count": null,
       "_view_module": "@jupyter-widgets/base",
       "_view_module_version": "1.2.0",
       "_view_name": "StyleView",
       "description_width": ""
      }
     },
     "d2fba402c80a4e9badff34e56db597af": {
      "model_module": "@jupyter-widgets/controls",
      "model_module_version": "1.5.0",
      "model_name": "DescriptionStyleModel",
      "state": {
       "_model_module": "@jupyter-widgets/controls",
       "_model_module_version": "1.5.0",
       "_model_name": "DescriptionStyleModel",
       "_view_count": null,
       "_view_module": "@jupyter-widgets/base",
       "_view_module_version": "1.2.0",
       "_view_name": "StyleView",
       "description_width": ""
      }
     },
     "d76a13ff72e941bfa8e6531212a8f403": {
      "model_module": "@jupyter-widgets/controls",
      "model_module_version": "1.5.0",
      "model_name": "HBoxModel",
      "state": {
       "_dom_classes": [],
       "_model_module": "@jupyter-widgets/controls",
       "_model_module_version": "1.5.0",
       "_model_name": "HBoxModel",
       "_view_count": null,
       "_view_module": "@jupyter-widgets/controls",
       "_view_module_version": "1.5.0",
       "_view_name": "HBoxView",
       "box_style": "",
       "children": [
        "IPY_MODEL_276ebca2fee04f9080c4ace2400ee3d5",
        "IPY_MODEL_9010c1f57b444a76b76373fe0e4d69d9",
        "IPY_MODEL_76d53442c4014857a63673da942ba94a"
       ],
       "layout": "IPY_MODEL_61f53480f6a74e5495711c655f0590a0"
      }
     },
     "d99938c106be417db48f458313ff818c": {
      "model_module": "@jupyter-widgets/controls",
      "model_module_version": "1.5.0",
      "model_name": "FloatProgressModel",
      "state": {
       "_dom_classes": [],
       "_model_module": "@jupyter-widgets/controls",
       "_model_module_version": "1.5.0",
       "_model_name": "FloatProgressModel",
       "_view_count": null,
       "_view_module": "@jupyter-widgets/controls",
       "_view_module_version": "1.5.0",
       "_view_name": "ProgressView",
       "bar_style": "success",
       "description": "",
       "description_tooltip": null,
       "layout": "IPY_MODEL_ab4ce5f8385540d188246909fff2ba74",
       "max": 440449768.0,
       "min": 0.0,
       "orientation": "horizontal",
       "style": "IPY_MODEL_876e61dbcd114c5eb4020dda93dfd662",
       "value": 440449768.0
      }
     },
     "dc2aef49b4d441119c9eeb487d11ffd7": {
      "model_module": "@jupyter-widgets/controls",
      "model_module_version": "1.5.0",
      "model_name": "HBoxModel",
      "state": {
       "_dom_classes": [],
       "_model_module": "@jupyter-widgets/controls",
       "_model_module_version": "1.5.0",
       "_model_name": "HBoxModel",
       "_view_count": null,
       "_view_module": "@jupyter-widgets/controls",
       "_view_module_version": "1.5.0",
       "_view_name": "HBoxView",
       "box_style": "",
       "children": [
        "IPY_MODEL_693d1af125444793964cbd18289724aa",
        "IPY_MODEL_48f0e69e345c442080f1eaec262c8f82",
        "IPY_MODEL_f94d7fe4c2af4470b73ffa03ac208409"
       ],
       "layout": "IPY_MODEL_73af7d74288f428d80f7da9d702286b0"
      }
     },
     "df78ab45519e4bb0b0d70d1604a46543": {
      "model_module": "@jupyter-widgets/controls",
      "model_module_version": "1.5.0",
      "model_name": "HBoxModel",
      "state": {
       "_dom_classes": [],
       "_model_module": "@jupyter-widgets/controls",
       "_model_module_version": "1.5.0",
       "_model_name": "HBoxModel",
       "_view_count": null,
       "_view_module": "@jupyter-widgets/controls",
       "_view_module_version": "1.5.0",
       "_view_name": "HBoxView",
       "box_style": "",
       "children": [
        "IPY_MODEL_5b5582025943442988660a3024e7c2df",
        "IPY_MODEL_80f17d1163ec441a8d5c98956d70ec0f",
        "IPY_MODEL_02085bb3e8334cf28a35fc0a6daa48ee"
       ],
       "layout": "IPY_MODEL_2809af0e2ae141df816a820559ae4132"
      }
     },
     "e3eb304b300042ea9560e9494007df23": {
      "model_module": "@jupyter-widgets/controls",
      "model_module_version": "1.5.0",
      "model_name": "DescriptionStyleModel",
      "state": {
       "_model_module": "@jupyter-widgets/controls",
       "_model_module_version": "1.5.0",
       "_model_name": "DescriptionStyleModel",
       "_view_count": null,
       "_view_module": "@jupyter-widgets/base",
       "_view_module_version": "1.2.0",
       "_view_name": "StyleView",
       "description_width": ""
      }
     },
     "e720eb17a8ae492d842a209083ac17c3": {
      "model_module": "@jupyter-widgets/base",
      "model_module_version": "1.2.0",
      "model_name": "LayoutModel",
      "state": {
       "_model_module": "@jupyter-widgets/base",
       "_model_module_version": "1.2.0",
       "_model_name": "LayoutModel",
       "_view_count": null,
       "_view_module": "@jupyter-widgets/base",
       "_view_module_version": "1.2.0",
       "_view_name": "LayoutView",
       "align_content": null,
       "align_items": null,
       "align_self": null,
       "border": null,
       "bottom": null,
       "display": null,
       "flex": null,
       "flex_flow": null,
       "grid_area": null,
       "grid_auto_columns": null,
       "grid_auto_flow": null,
       "grid_auto_rows": null,
       "grid_column": null,
       "grid_gap": null,
       "grid_row": null,
       "grid_template_areas": null,
       "grid_template_columns": null,
       "grid_template_rows": null,
       "height": null,
       "justify_content": null,
       "justify_items": null,
       "left": null,
       "margin": null,
       "max_height": null,
       "max_width": null,
       "min_height": null,
       "min_width": null,
       "object_fit": null,
       "object_position": null,
       "order": null,
       "overflow": null,
       "overflow_x": null,
       "overflow_y": null,
       "padding": null,
       "right": null,
       "top": null,
       "visibility": null,
       "width": null
      }
     },
     "e88da489e9ab4e4f96425bb58222c1b9": {
      "model_module": "@jupyter-widgets/controls",
      "model_module_version": "1.5.0",
      "model_name": "FloatProgressModel",
      "state": {
       "_dom_classes": [],
       "_model_module": "@jupyter-widgets/controls",
       "_model_module_version": "1.5.0",
       "_model_name": "FloatProgressModel",
       "_view_count": null,
       "_view_module": "@jupyter-widgets/controls",
       "_view_module_version": "1.5.0",
       "_view_name": "ProgressView",
       "bar_style": "success",
       "description": "",
       "description_tooltip": null,
       "layout": "IPY_MODEL_08ce678afd044980ab42ceeb9c397f19",
       "max": 481.0,
       "min": 0.0,
       "orientation": "horizontal",
       "style": "IPY_MODEL_5e875931f04648e7b6342af8ebd5967b",
       "value": 481.0
      }
     },
     "e93fe26976944589adf11a186c40b70a": {
      "model_module": "@jupyter-widgets/controls",
      "model_module_version": "1.5.0",
      "model_name": "ProgressStyleModel",
      "state": {
       "_model_module": "@jupyter-widgets/controls",
       "_model_module_version": "1.5.0",
       "_model_name": "ProgressStyleModel",
       "_view_count": null,
       "_view_module": "@jupyter-widgets/base",
       "_view_module_version": "1.2.0",
       "_view_name": "StyleView",
       "bar_color": null,
       "description_width": ""
      }
     },
     "ee3a11d9750f42b0b78d6b98bca8ebf9": {
      "model_module": "@jupyter-widgets/base",
      "model_module_version": "1.2.0",
      "model_name": "LayoutModel",
      "state": {
       "_model_module": "@jupyter-widgets/base",
       "_model_module_version": "1.2.0",
       "_model_name": "LayoutModel",
       "_view_count": null,
       "_view_module": "@jupyter-widgets/base",
       "_view_module_version": "1.2.0",
       "_view_name": "LayoutView",
       "align_content": null,
       "align_items": null,
       "align_self": null,
       "border": null,
       "bottom": null,
       "display": null,
       "flex": null,
       "flex_flow": null,
       "grid_area": null,
       "grid_auto_columns": null,
       "grid_auto_flow": null,
       "grid_auto_rows": null,
       "grid_column": null,
       "grid_gap": null,
       "grid_row": null,
       "grid_template_areas": null,
       "grid_template_columns": null,
       "grid_template_rows": null,
       "height": null,
       "justify_content": null,
       "justify_items": null,
       "left": null,
       "margin": null,
       "max_height": null,
       "max_width": null,
       "min_height": null,
       "min_width": null,
       "object_fit": null,
       "object_position": null,
       "order": null,
       "overflow": null,
       "overflow_x": null,
       "overflow_y": null,
       "padding": null,
       "right": null,
       "top": null,
       "visibility": null,
       "width": null
      }
     },
     "ef6713ef96b44e94b3efbe58b36dcfaf": {
      "model_module": "@jupyter-widgets/controls",
      "model_module_version": "1.5.0",
      "model_name": "HTMLModel",
      "state": {
       "_dom_classes": [],
       "_model_module": "@jupyter-widgets/controls",
       "_model_module_version": "1.5.0",
       "_model_name": "HTMLModel",
       "_view_count": null,
       "_view_module": "@jupyter-widgets/controls",
       "_view_module_version": "1.5.0",
       "_view_name": "HTMLView",
       "description": "",
       "description_tooltip": null,
       "layout": "IPY_MODEL_81c84118952b4f8c9a74315a2ac79dab",
       "placeholder": "​",
       "style": "IPY_MODEL_b9041e164cb24a80be2b3f89d1be3ae6",
       "value": " 456k/456k [00:00&lt;00:00, 7.40MB/s]"
      }
     },
     "f216f501752a404db1d9807a07bee2fa": {
      "model_module": "@jupyter-widgets/controls",
      "model_module_version": "1.5.0",
      "model_name": "HTMLModel",
      "state": {
       "_dom_classes": [],
       "_model_module": "@jupyter-widgets/controls",
       "_model_module_version": "1.5.0",
       "_model_name": "HTMLModel",
       "_view_count": null,
       "_view_module": "@jupyter-widgets/controls",
       "_view_module_version": "1.5.0",
       "_view_name": "HTMLView",
       "description": "",
       "description_tooltip": null,
       "layout": "IPY_MODEL_7a483b0f98974b40831748781699cda3",
       "placeholder": "​",
       "style": "IPY_MODEL_e3eb304b300042ea9560e9494007df23",
       "value": "Downloading (…)lve/main/config.json: 100%"
      }
     },
     "f660bd8373ad490f8510e138b9b1843a": {
      "model_module": "@jupyter-widgets/base",
      "model_module_version": "1.2.0",
      "model_name": "LayoutModel",
      "state": {
       "_model_module": "@jupyter-widgets/base",
       "_model_module_version": "1.2.0",
       "_model_name": "LayoutModel",
       "_view_count": null,
       "_view_module": "@jupyter-widgets/base",
       "_view_module_version": "1.2.0",
       "_view_name": "LayoutView",
       "align_content": null,
       "align_items": null,
       "align_self": null,
       "border": null,
       "bottom": null,
       "display": null,
       "flex": null,
       "flex_flow": null,
       "grid_area": null,
       "grid_auto_columns": null,
       "grid_auto_flow": null,
       "grid_auto_rows": null,
       "grid_column": null,
       "grid_gap": null,
       "grid_row": null,
       "grid_template_areas": null,
       "grid_template_columns": null,
       "grid_template_rows": null,
       "height": null,
       "justify_content": null,
       "justify_items": null,
       "left": null,
       "margin": null,
       "max_height": null,
       "max_width": null,
       "min_height": null,
       "min_width": null,
       "object_fit": null,
       "object_position": null,
       "order": null,
       "overflow": null,
       "overflow_x": null,
       "overflow_y": null,
       "padding": null,
       "right": null,
       "top": null,
       "visibility": null,
       "width": null
      }
     },
     "f70179e868904fb9b003f550b5057874": {
      "model_module": "@jupyter-widgets/controls",
      "model_module_version": "1.5.0",
      "model_name": "HBoxModel",
      "state": {
       "_dom_classes": [],
       "_model_module": "@jupyter-widgets/controls",
       "_model_module_version": "1.5.0",
       "_model_name": "HBoxModel",
       "_view_count": null,
       "_view_module": "@jupyter-widgets/controls",
       "_view_module_version": "1.5.0",
       "_view_name": "HBoxView",
       "box_style": "",
       "children": [
        "IPY_MODEL_93b67d69f05c4cdcb428a813dd8c9be1",
        "IPY_MODEL_c4d6fd8be4924ad0852a1f1fbf53bfeb",
        "IPY_MODEL_9d13a5b9bca2436f9984325e3fc79ce0"
       ],
       "layout": "IPY_MODEL_9cb97a75315d44339c2dd1db08b4d5b7"
      }
     },
     "f94d7fe4c2af4470b73ffa03ac208409": {
      "model_module": "@jupyter-widgets/controls",
      "model_module_version": "1.5.0",
      "model_name": "HTMLModel",
      "state": {
       "_dom_classes": [],
       "_model_module": "@jupyter-widgets/controls",
       "_model_module_version": "1.5.0",
       "_model_name": "HTMLModel",
       "_view_count": null,
       "_view_module": "@jupyter-widgets/controls",
       "_view_module_version": "1.5.0",
       "_view_name": "HTMLView",
       "description": "",
       "description_tooltip": null,
       "layout": "IPY_MODEL_00ac6bbb5f624cc5a2cfe125be8ff968",
       "placeholder": "​",
       "style": "IPY_MODEL_0a11bf9bba604b5c8a1808202f4930f5",
       "value": " 899k/899k [00:00&lt;00:00, 4.91MB/s]"
      }
     }
    },
    "version_major": 2,
    "version_minor": 0
   }
  }
 },
 "nbformat": 4,
 "nbformat_minor": 5
}
